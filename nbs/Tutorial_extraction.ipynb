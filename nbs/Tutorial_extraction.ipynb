{
 "cells": [
  {
   "cell_type": "markdown",
   "id": "800830d1-5134-427f-9f9c-751ff0bd6d7c",
   "metadata": {},
   "source": [
    "# Tutorial for term extraction\n",
    "This tutorial describes the main steps and options for the usage of the term extractors as part of the BioTermCategorizer library."
   ]
  },
  {
   "cell_type": "markdown",
   "id": "52f84a42-3a89-46c5-9e89-3422c434263d",
   "metadata": {},
   "source": [
    "### Importing the library\n",
    "In order to import the library and all its functions, the following code should be executed"
   ]
  },
  {
   "cell_type": "code",
   "execution_count": 1,
   "id": "80854963-a8c3-41e7-9dfa-23de8d6d9641",
   "metadata": {},
   "outputs": [
    {
     "data": {
      "text/plain": [
       "'/mnt/c/Users/Sergi/Documents/BioTermCategorizer/'"
      ]
     },
     "execution_count": 1,
     "metadata": {},
     "output_type": "execute_result"
    }
   ],
   "source": [
    "import sys, os, re\n",
    "\n",
    "#set the path to the library\n",
    "general_path = os.getcwd().split(\"BioTermCategorizer\")[0]+\"BioTermCategorizer/\"\n",
    "sys.path.append(general_path+'biotermcategorizer/')\n",
    "general_path"
   ]
  },
  {
   "cell_type": "markdown",
   "id": "65b6b244-1721-4e3d-8711-1a0893cb2b54",
   "metadata": {},
   "source": [
    "Additionally, the main class `TermExtractor` must be imported"
   ]
  },
  {
   "cell_type": "code",
   "execution_count": 2,
   "id": "e7edaa02-0c3e-46b3-9ecc-28b7d9075190",
   "metadata": {},
   "outputs": [
    {
     "name": "stderr",
     "output_type": "stream",
     "text": [
      "[nltk_data] Downloading package stopwords to /home/sergi/nltk_data...\n",
      "[nltk_data]   Package stopwords is already up-to-date!\n",
      "[nltk_data] Downloading package punkt to /home/sergi/nltk_data...\n",
      "[nltk_data]   Package punkt is already up-to-date!\n",
      "[nltk_data] Downloading package stopwords to /home/sergi/nltk_data...\n",
      "[nltk_data]   Package stopwords is already up-to-date!\n",
      "/mnt/c/Users/Sergi/Documents/BioTermCategorizer/.env_biotermcategorizer/lib/python3.10/site-packages/tqdm/auto.py:21: TqdmWarning: IProgress not found. Please update jupyter and ipywidgets. See https://ipywidgets.readthedocs.io/en/stable/user_install.html\n",
      "  from .autonotebook import tqdm as notebook_tqdm\n",
      "[nltk_data] Downloading package stopwords to /home/sergi/nltk_data...\n",
      "[nltk_data]   Package stopwords is already up-to-date!\n"
     ]
    }
   ],
   "source": [
    "from TermExtractor import TermExtractor"
   ]
  },
  {
   "cell_type": "markdown",
   "id": "ba8bf9d6-3922-4592-bbb7-0faa742260cc",
   "metadata": {},
   "source": [
    "### Using TermExtractor's basic functions\n",
    "#### The TermExtractor object\n",
    "A first instance of the class `TermExtractor` must be assigned to a variable, as shown below. The parameters that can be introduced are:\n",
    "- `extraction_methods` (list): List of keyword extraction methods. Use a list even if only one extraction method is provided. Default value: `[\"textrank\"]`.\n",
    "- `categorization_method` (str): Method for text categorization. Default value: `\"setfit\"`.\n",
    "- `language` (str): Language for text processing. Only implemented in Spanish. Default value: `\"spanish\"`.\n",
    "- `max_tokens` (int): Maximum number of tokens for keyword extraction. Default value: `3`.\n",
    "- `pos` (bool): Whether to use Part of Speech sequences in KeyBert. Default value: `False`.\n",
    "- `pos_pattern` (str): The Part of Speech regex pattern. Default value: `\"<NOUN.*>*<ADP.*>*<NOUN.*>*<ADJ.*>*|<PROPN.*>+|<VERB.*>+\"`.\n",
    "- `join` (bool): Whether to join keywords from different methods and remove overlaps among them. When `join=True`, only a list of keywords is provided for all the selected extraction methods, as opposed to when `join=False`. Default value: `False`.\n",
    "- `postprocess` (bool): Whether to postprocess the extracted terms to remove and modify the ones with little meaning. Default value: `True`.\n",
    "- `n` (int): Maximum number of labels for a single sample. Default value: `1`.\n",
    "- `thr_setfit` (float): Threshold for SetFit classification. Default value: `0.5`.\n",
    "- `thr_transformers` (float): Threshold for Transformers classification. Default value: `-1`.\n",
    "- `n_clusters` (int): Number of clusters for clustering. Default value: `None`.\n",
    "- `categorizer_model_path` (str): Path to the categorizer model. Default value: `None`.\n",
    "- `output_path` (str): Path to save the trained model. Default value: `\"./trained_model\"`.\n",
    "- `clustering_model` (str): Clustering model for keyword clustering. Default value: `\"cambridgeltl/SapBERT-from-PubMedBERT-fulltext\"`.\n",
    "- `classifier_model` (str): Classifier model for classification. Default value: `\"/mnt/c/Users/Sergi/Desktop/BSC/spanish_sapbert_models/sapbert_15_noparents_1epoch\"`.\n",
    "- `**kwargs` (dict): Additional keyword arguments. Default value: `None` (if not specified, otherwise, provide specific default values).ostprocess=True`\n",
    "\n",
    "An instance of the object TermExtractor with the default parameters is shown below:"
   ]
  },
  {
   "cell_type": "code",
   "execution_count": 3,
   "id": "54044095-ecca-4a13-b1a5-86ee27b45f68",
   "metadata": {},
   "outputs": [
    {
     "name": "stderr",
     "output_type": "stream",
     "text": [
      "/mnt/c/Users/Sergi/Documents/BioTermCategorizer/.env_biotermcategorizer/lib/python3.10/site-packages/sklearn/base.py:347: InconsistentVersionWarning: Trying to unpickle estimator LogisticRegression from version 1.2.2 when using version 1.3.0. This might lead to breaking code or invalid results. Use at your own risk. For more info please refer to:\n",
      "https://scikit-learn.org/stable/model_persistence.html#security-maintainability-limitations\n",
      "  warnings.warn(\n",
      "/mnt/c/Users/Sergi/Documents/BioTermCategorizer/.env_biotermcategorizer/lib/python3.10/site-packages/sklearn/base.py:347: InconsistentVersionWarning: Trying to unpickle estimator MultiOutputClassifier from version 1.2.2 when using version 1.3.0. This might lead to breaking code or invalid results. Use at your own risk. For more info please refer to:\n",
      "https://scikit-learn.org/stable/model_persistence.html#security-maintainability-limitations\n",
      "  warnings.warn(\n"
     ]
    }
   ],
   "source": [
    "extractor = TermExtractor()"
   ]
  },
  {
   "cell_type": "markdown",
   "id": "b4617684-6c26-4b2f-9f6b-727226d5fc90",
   "metadata": {},
   "source": [
    "Once the first instance of the extractor is created, some attributes of the `TermExtractor` object can already be presented. The following attributes can be extracted from the `TermExtractor` object through dot indexing:\n",
    "- `extraction_methods` (list): List of the selected extraction methods.\n",
    "- `extractors` (dict): dictionary of the Extractor() class type objects to be used.\n",
    "- `categorization_method` (str): Selected categorization method.\n",
    "- `categorizer`: instance of the SetFitClassifier, TransformersClassifier or Clustering class object.\n",
    "- `join`(bool): Provided value for join as a parameter.\n",
    "- `postprocess` (bool): Provided value for postprocess as a parameter.\n",
    "- `kwargs` (dict): Dictionary of introduced extra parameters.\n",
    "- `keywords`(list): List of Keyword() class objects including the extracted keywords. Since the extraction of the keywords has not yet been called, the attributes is `None`."
   ]
  },
  {
   "cell_type": "code",
   "execution_count": 7,
   "id": "e816ed8b-cb97-44b3-a145-80afe8a07f5b",
   "metadata": {},
   "outputs": [
    {
     "name": "stdout",
     "output_type": "stream",
     "text": [
      "The default settings use the extractor ['textrank'] and the categorizer setfit\n",
      "The selected extractors are {'textrank': <extractors.TextRankExtractor.TextRankExtractor object at 0x7f2ad1b547c0>}\n",
      "The selected categorizer is <categorizers.SetFitClassifier.SetFitClassifier object at 0x7f2aa7a55f60>\n",
      "The parameter join is False and the parameter postprocess is True\n",
      "The following extra parameters have been introduced: {}\n",
      "At this moment the extracted keywords are None\n"
     ]
    }
   ],
   "source": [
    "#attributes with the default settings\n",
    "print(\"The default settings use the extractor\", str(extractor.extraction_methods), \"and the categorizer\", str(extractor.categorization_method))\n",
    "print(\"The selected extractors are\", str(extractor.extractors))\n",
    "print(\"The selected categorizer is\", str(extractor.categorizer))\n",
    "print(\"The parameter join is\", str(extractor.join), \"and the parameter postprocess is\", str(extractor.postprocess))\n",
    "print(\"The following extra parameters have been introduced:\", str(extractor.kwargs))\n",
    "print(\"At this moment the extracted keywords are\", str(extractor.keywords))"
   ]
  },
  {
   "cell_type": "markdown",
   "id": "72a9867b-c190-49e5-8c2a-4e66c988d165",
   "metadata": {},
   "source": [
    "When the `TermExtractor` object is called on a string of text, it automatically extracts the keywords and classifies the according to the designated parameters. These keywords are stored in the attribute `TermExtractor.keywords`, which is a list of `Keyword` class objects."
   ]
  },
  {
   "cell_type": "code",
   "execution_count": 4,
   "id": "449e014a-39cf-4864-ba41-4c1939eedb72",
   "metadata": {},
   "outputs": [],
   "source": [
    "#shortened text for a smaller number of keywords\n",
    "text = \"\"\"Presentamos el caso de un recién nacido que acude a urgencias por descubrir un aumento del hemiescroto izquierdo, así como un color violáceo del mismo; [...] No presenta fiebre, ni otro dato clínico adicional. [...] En la ecografía escrotal encontramos un teste derecho de características normales; el teste izquierdo se encuentra aumentado de tamaño, con irregularidades en su interior, con una zona anecoica que puede sugerir necrosis, rodeado de una zona hiperecoica sugerente de calcificación ; todo ello compatible con torsión testicular evolucionada. [...]\"\"\"\n",
    "\n",
    "extractor(text)"
   ]
  },
  {
   "cell_type": "markdown",
   "id": "c63be7be-e3b7-451f-8da1-2e071fdcc103",
   "metadata": {},
   "source": [
    "#### The Keyword class\n",
    "The objects of type `Keyword` also have different attributes that can be called through dot indexing:\n",
    "- `text` (str): The extracted keyword text.\n",
    "- `extraction_method` (str): The extraction method used to find the keyword.\n",
    "- `score` (float): The relevance score of the keyword. This score varies in range depending on the used method.\n",
    "- `span` (list): list of two ints as [ini, fin] containing the starting and ending indexs of the keyword in the input text.\n",
    "- `categorization_method` (str): The categorization method used to categorize the keyword.\n",
    "- `label` (list): label or labels assigned to the keyword.\n",
    "\n",
    "The user can either access these attributes of each keyword individually or print the keyword directly, which returns all the attributes in a structured manner."
   ]
  },
  {
   "cell_type": "code",
   "execution_count": 5,
   "id": "f8f120ff-3d6f-40af-8b2c-8493a5961c5b",
   "metadata": {},
   "outputs": [
    {
     "name": "stdout",
     "output_type": "stream",
     "text": [
      "Printing the keywords directly:\n",
      " [<Keyword(text='torsión testicular', span='[524, 541]', extraction method='textrank', score='0.12600626989711727', categorization method='setfit', class='['ENFERMEDAD']')>, <Keyword(text='características normales', span='[273, 296]', extraction method='textrank', score='0.10035908282536155', categorization method='setfit', class='['SINTOMA']')>, <Keyword(text='fiebre', span='[170, 175]', extraction method='textrank', score='0.07631917863343891', categorization method='setfit', class='['SINTOMA']')>, <Keyword(text='tamaño', span='[344, 349]', extraction method='textrank', score='0.07574647594218213', categorization method='setfit', class='['NO_CATEGORY']')>, <Keyword(text='zona anecoica', span='[396, 408]', extraction method='textrank', score='0.07092914714476105', categorization method='setfit', class='['GEO_GEN']')>, <Keyword(text='teste izquierdo', span='[302, 316]', extraction method='textrank', score='0.0686690744025542', categorization method='setfit', class='['SINTOMA']')>, <Keyword(text='teste derecho', span='[256, 268]', extraction method='textrank', score='0.05917992932872722', categorization method='setfit', class='['SINTOMA']')>, <Keyword(text='ecografía escrotal', span='[222, 239]', extraction method='textrank', score='0.037711775296350704', categorization method='setfit', class='['PROCEDIMIENTO']')>, <Keyword(text='interior', span='[378, 385]', extraction method='textrank', score='0.037143837009303564', categorization method='setfit', class='['GEO_GEN']')>, <Keyword(text='con irregularidades', span='[352, 370]', extraction method='textrank', score='0.02591597378225176', categorization method='setfit', class='['SINTOMA']')>, <Keyword(text='No', span='[158, 159]', extraction method='textrank', score='0.0', categorization method='setfit', class='['NO_CATEGORY']')>, <Keyword(text='mismo', span='[145, 149]', extraction method='textrank', score='0.0', categorization method='setfit', class='['NO_CATEGORY']')>]\n",
      "\n",
      "Printing the keywords individually:\n",
      " [('torsión testicular', 'textrank', [524, 541], 0.12600626989711727, 'setfit', ['ENFERMEDAD']), ('características normales', 'textrank', [273, 296], 0.10035908282536155, 'setfit', ['SINTOMA']), ('fiebre', 'textrank', [170, 175], 0.07631917863343891, 'setfit', ['SINTOMA']), ('tamaño', 'textrank', [344, 349], 0.07574647594218213, 'setfit', ['NO_CATEGORY']), ('zona anecoica', 'textrank', [396, 408], 0.07092914714476105, 'setfit', ['GEO_GEN']), ('teste izquierdo', 'textrank', [302, 316], 0.0686690744025542, 'setfit', ['SINTOMA']), ('teste derecho', 'textrank', [256, 268], 0.05917992932872722, 'setfit', ['SINTOMA']), ('ecografía escrotal', 'textrank', [222, 239], 0.037711775296350704, 'setfit', ['PROCEDIMIENTO']), ('interior', 'textrank', [378, 385], 0.037143837009303564, 'setfit', ['GEO_GEN']), ('con irregularidades', 'textrank', [352, 370], 0.02591597378225176, 'setfit', ['SINTOMA']), ('No', 'textrank', [158, 159], 0.0, 'setfit', ['NO_CATEGORY']), ('mismo', 'textrank', [145, 149], 0.0, 'setfit', ['NO_CATEGORY'])]\n"
     ]
    }
   ],
   "source": [
    "#printing the words directly\n",
    "print(\"Printing the keywords directly:\\n\", extractor.keywords)\n",
    "\n",
    "#printing attributes individually\n",
    "words = [(kw.text,kw.extraction_method,kw.span,kw.score,kw.categorization_method,kw.label) for kw in extractor.keywords]\n",
    "print(\"\\nPrinting the keywords individually:\\n\", words)"
   ]
  },
  {
   "cell_type": "markdown",
   "id": "4c1a0771-c62e-46a0-adaf-be7b41d72777",
   "metadata": {},
   "source": [
    "### Use of different extractors\n",
    "The keyword extraction implemented in `TermExtractor` is performed in an unsupervised manner. The four extraction algorithms are RAKE, YAKE!, TextRank and KeyBERT; and they can be used individually or together. In addition to that, the parameters `max_tokens`, `join` and `postprocess` can be modified.\n",
    "\n",
    "Some examples showing these options are shown below:"
   ]
  },
  {
   "cell_type": "code",
   "execution_count": 7,
   "id": "95323d21-bc42-4244-99d1-beed24fef75d",
   "metadata": {},
   "outputs": [
    {
     "name": "stderr",
     "output_type": "stream",
     "text": [
      "/mnt/c/Users/Sergi/Documents/BioTermCategorizer/.env_biotermcategorizer/lib/python3.10/site-packages/sklearn/base.py:347: InconsistentVersionWarning: Trying to unpickle estimator LogisticRegression from version 1.2.2 when using version 1.3.0. This might lead to breaking code or invalid results. Use at your own risk. For more info please refer to:\n",
      "https://scikit-learn.org/stable/model_persistence.html#security-maintainability-limitations\n",
      "  warnings.warn(\n",
      "/mnt/c/Users/Sergi/Documents/BioTermCategorizer/.env_biotermcategorizer/lib/python3.10/site-packages/sklearn/base.py:347: InconsistentVersionWarning: Trying to unpickle estimator MultiOutputClassifier from version 1.2.2 when using version 1.3.0. This might lead to breaking code or invalid results. Use at your own risk. For more info please refer to:\n",
      "https://scikit-learn.org/stable/model_persistence.html#security-maintainability-limitations\n",
      "  warnings.warn(\n",
      "No sentence-transformers model found with name /mnt/c/Users/Sergi/Desktop/BSC/spanish_sapbert_models/sapbert_15_parents_1epoch. Creating a new one with MEAN pooling.\n"
     ]
    }
   ],
   "source": [
    "#extractor using Rake as extraction method and a maximum of 5 tokens and postprocessing\n",
    "extractor1 = TermExtractor(extraction_methods=[\"rake\"], max_tokens=5)\n",
    "\n",
    "#extractor using 3 extraction methods with join=True and no postprocessing\n",
    "extractor2 = TermExtractor(extraction_methods=[\"rake\",\"yake\"], join=True, postprocess=False)\n",
    "\n",
    "#extractor using 3 extraction methods with join=True and postprocessing\n",
    "extractor3 = TermExtractor(extraction_methods=[\"rake\",\"keybert\",\"textrank\"], join=True)"
   ]
  },
  {
   "cell_type": "markdown",
   "id": "4862d5d0-3b3f-4d8d-ab1a-9cacae410b11",
   "metadata": {},
   "source": [
    "The keywords extracted by each of these extractors are shown below:"
   ]
  },
  {
   "cell_type": "code",
   "execution_count": 8,
   "id": "91d0c477-33b1-439f-8850-6e655209d325",
   "metadata": {},
   "outputs": [
    {
     "name": "stdout",
     "output_type": "stream",
     "text": [
      "Using extractor1:\n",
      " [<Keyword(text='torsión testicular evolucionada', span='[524, 554]', extraction method='rake', score='9.0', categorization method='setfit', class='['ENFERMEDAD']')>, <Keyword(text='puede sugerir necrosis', span='[414, 435]', extraction method='rake', score='9.0', categorization method='setfit', class='['SINTOMA']')>, <Keyword(text='ecografía escrotal encontramos', span='[222, 251]', extraction method='rake', score='9.0', categorization method='setfit', class='['PROCEDIMIENTO']')>, <Keyword(text='dato clínico adicional', span='[186, 207]', extraction method='rake', score='9.0', categorization method='setfit', class='['SINTOMA']')>, <Keyword(text='zona hiperecoica sugerente', span='[453, 478]', extraction method='rake', score='8.5', categorization method='setfit', class='['SINTOMA']')>, <Keyword(text='zona anecoica', span='[396, 408]', extraction method='rake', score='4.5', categorization method='setfit', class='['GEO_GEN']')>, <Keyword(text='teste izquierdo', span='[302, 316]', extraction method='rake', score='4.0', categorization method='setfit', class='['SINTOMA']')>, <Keyword(text='teste derecho', span='[256, 268]', extraction method='rake', score='4.0', categorization method='setfit', class='['SINTOMA']')>, <Keyword(text='recién nacido', span='[26, 38]', extraction method='rake', score='4.0', categorization method='setfit', class='['HUMAN']')>, <Keyword(text='presenta fiebre', span='[161, 175]', extraction method='rake', score='4.0', categorization method='setfit', class='['SINTOMA']')>, <Keyword(text='hemiescroto izquierdo', span='[91, 111]', extraction method='rake', score='4.0', categorization method='setfit', class='['ENFERMEDAD']')>, <Keyword(text='encuentra aumentado', span='[321, 339]', extraction method='rake', score='4.0', categorization method='setfit', class='['SINTOMA']')>, <Keyword(text='ello compatible', span='[504, 518]', extraction method='rake', score='4.0', categorization method='setfit', class='['SINTOMA']')>, <Keyword(text='color violáceo', span='[126, 139]', extraction method='rake', score='4.0', categorization method='setfit', class='['SINTOMA']')>, <Keyword(text='características normales', span='[273, 296]', extraction method='rake', score='4.0', categorization method='setfit', class='['SINTOMA']')>, <Keyword(text='urgencias', span='[52, 60]', extraction method='rake', score='1.0', categorization method='setfit', class='['DEPARTAMENTO']')>, <Keyword(text='tamaño', span='[344, 349]', extraction method='rake', score='1.0', categorization method='setfit', class='['NO_CATEGORY']')>, <Keyword(text='rodeado', span='[438, 444]', extraction method='rake', score='1.0', categorization method='setfit', class='[]')>, <Keyword(text='presentamos', span='[0, 10]', extraction method='rake', score='1.0', categorization method='setfit', class='['NO_CATEGORY']')>, <Keyword(text='mismo', span='[145, 149]', extraction method='rake', score='1.0', categorization method='setfit', class='['NO_CATEGORY']')>, <Keyword(text='irregularidades', span='[356, 370]', extraction method='rake', score='1.0', categorization method='setfit', class='['SINTOMA']')>, <Keyword(text='interior', span='[378, 385]', extraction method='rake', score='1.0', categorization method='setfit', class='['GEO_GEN']')>, <Keyword(text='descubrir', span='[66, 74]', extraction method='rake', score='1.0', categorization method='setfit', class='['NO_CATEGORY']')>, <Keyword(text='caso', span='[15, 18]', extraction method='rake', score='1.0', categorization method='setfit', class='['NO_CATEGORY']')>, <Keyword(text='calcificación', span='[483, 495]', extraction method='rake', score='1.0', categorization method='setfit', class='['ENFERMEDAD']')>, <Keyword(text='aumento', span='[79, 85]', extraction method='rake', score='1.0', categorization method='setfit', class='['SINTOMA']')>, <Keyword(text='así', span='[114, 116]', extraction method='rake', score='1.0', categorization method='setfit', class='['NO_CATEGORY']')>, <Keyword(text='acude', span='[44, 48]', extraction method='rake', score='1.0', categorization method='setfit', class='['NO_CATEGORY']')>] \n",
      "\n",
      "Using extractor2:\n",
      " [<Keyword(text='torsión testicular evolucionada', span='[524, 554]', extraction method='rake', score='9.0', categorization method='setfit', class='['ENFERMEDAD']')>, <Keyword(text='puede sugerir necrosis', span='[414, 435]', extraction method='rake', score='9.0', categorization method='setfit', class='['SINTOMA']')>, <Keyword(text='ecografía escrotal encontramos', span='[222, 251]', extraction method='rake', score='9.0', categorization method='setfit', class='['PROCEDIMIENTO']')>, <Keyword(text='dato clínico adicional', span='[186, 207]', extraction method='rake', score='9.0', categorization method='setfit', class='['SINTOMA']')>, <Keyword(text='zona hiperecoica sugerente', span='[453, 478]', extraction method='rake', score='8.5', categorization method='setfit', class='['SINTOMA']')>, <Keyword(text='zona anecoica', span='[396, 408]', extraction method='rake', score='4.5', categorization method='setfit', class='['GEO_GEN']')>, <Keyword(text='teste izquierdo', span='[302, 316]', extraction method='rake', score='4.0', categorization method='setfit', class='['SINTOMA']')>, <Keyword(text='teste derecho', span='[256, 268]', extraction method='rake', score='4.0', categorization method='setfit', class='['SINTOMA']')>, <Keyword(text='recién nacido', span='[26, 38]', extraction method='rake', score='4.0', categorization method='setfit', class='['HUMAN']')>, <Keyword(text='presenta fiebre', span='[161, 175]', extraction method='rake', score='4.0', categorization method='setfit', class='['SINTOMA']')>, <Keyword(text='encuentra aumentado', span='[321, 339]', extraction method='rake', score='4.0', categorization method='setfit', class='['SINTOMA']')>, <Keyword(text='ello compatible', span='[504, 518]', extraction method='rake', score='4.0', categorization method='setfit', class='['SINTOMA']')>, <Keyword(text='características normales', span='[273, 296]', extraction method='rake', score='4.0', categorization method='setfit', class='['SINTOMA']')>, <Keyword(text='tamaño', span='[344, 349]', extraction method='rake', score='1.0', categorization method='setfit', class='['NO_CATEGORY']')>, <Keyword(text='rodeado', span='[438, 444]', extraction method='rake', score='1.0', categorization method='setfit', class='[]')>, <Keyword(text='irregularidades', span='[356, 370]', extraction method='rake', score='1.0', categorization method='setfit', class='['SINTOMA']')>, <Keyword(text='interior', span='[378, 385]', extraction method='rake', score='1.0', categorization method='setfit', class='['GEO_GEN']')>, <Keyword(text='calcificación', span='[483, 495]', extraction method='rake', score='1.0', categorization method='setfit', class='['ENFERMEDAD']')>, <Keyword(text='violáceo del mismo', span='[132, 149]', extraction method='yake', score='0.004382541040597745', categorization method='setfit', class='['SINTOMA']')>, <Keyword(text='aumento del hemiescroto', span='[79, 101]', extraction method='yake', score='0.005756088544220671', categorization method='setfit', class='['SINTOMA']')>, <Keyword(text='color violáceo del', span='[126, 143]', extraction method='yake', score='0.0057560885442206715', categorization method='setfit', class='['SINTOMA']')>, <Keyword(text='urgencias por descubrir', span='[52, 74]', extraction method='yake', score='0.0060975409393187775', categorization method='setfit', class='['SINTOMA']')>, <Keyword(text='del hemiescroto izquierdo', span='[87, 111]', extraction method='yake', score='0.015389379002285495', categorization method='setfit', class='['ENFERMEDAD']')>, <Keyword(text='Presentamos el caso', span='[0, 18]', extraction method='yake', score='0.024887428853219845', categorization method='setfit', class='['PROCEDIMIENTO']')>, <Keyword(text='así como', span='[114, 121]', extraction method='yake', score='0.024887428853219845', categorization method='setfit', class='['NO_CATEGORY']')>, <Keyword(text='nacido que acude', span='[33, 48]', extraction method='yake', score='0.03252000013399852', categorization method='setfit', class='[]')>, <Keyword(text='acude a urgencias', span='[44, 60]', extraction method='yake', score='0.03252000013399852', categorization method='setfit', class='['SITUACION_LABORAL']')>, <Keyword(text='descubrir un aumento', span='[66, 85]', extraction method='yake', score='0.03252000013399852', categorization method='setfit', class='['SINTOMA']')>, <Keyword(text='como un color', span='[118, 130]', extraction method='yake', score='0.03252000013399852', categorization method='setfit', class='['NO_CATEGORY']')>] \n",
      "\n",
      "Using extractor3:\n",
      " [<Keyword(text='torsión testicular evolucionada', span='[524, 554]', extraction method='rake', score='9.0', categorization method='setfit', class='['ENFERMEDAD']')>, <Keyword(text='puede sugerir necrosis', span='[414, 435]', extraction method='rake', score='9.0', categorization method='setfit', class='['SINTOMA']')>, <Keyword(text='ecografía escrotal encontramos', span='[222, 251]', extraction method='rake', score='9.0', categorization method='setfit', class='['PROCEDIMIENTO']')>, <Keyword(text='dato clínico adicional', span='[186, 207]', extraction method='rake', score='9.0', categorization method='setfit', class='['SINTOMA']')>, <Keyword(text='zona hiperecoica sugerente', span='[453, 478]', extraction method='rake', score='8.5', categorization method='setfit', class='['SINTOMA']')>, <Keyword(text='recién nacido', span='[26, 38]', extraction method='rake', score='4.0', categorization method='setfit', class='['HUMAN']')>, <Keyword(text='hemiescroto izquierdo', span='[91, 111]', extraction method='rake', score='4.0', categorization method='setfit', class='['ENFERMEDAD']')>, <Keyword(text='encuentra aumentado', span='[321, 339]', extraction method='rake', score='4.0', categorization method='setfit', class='['SINTOMA']')>, <Keyword(text='ello compatible', span='[504, 518]', extraction method='rake', score='4.0', categorization method='setfit', class='['SINTOMA']')>, <Keyword(text='color violáceo', span='[126, 139]', extraction method='rake', score='4.0', categorization method='setfit', class='['SINTOMA']')>, <Keyword(text='características normales', span='[273, 296]', extraction method='rake', score='4.0', categorization method='setfit', class='['SINTOMA']')>, <Keyword(text='urgencias', span='[52, 60]', extraction method='rake', score='1.0', categorization method='setfit', class='['DEPARTAMENTO']')>, <Keyword(text='tamaño', span='[344, 349]', extraction method='rake', score='1.0', categorization method='setfit', class='['NO_CATEGORY']')>, <Keyword(text='rodeado', span='[438, 444]', extraction method='rake', score='1.0', categorization method='setfit', class='[]')>, <Keyword(text='presentamos', span='[0, 10]', extraction method='rake', score='1.0', categorization method='setfit', class='['NO_CATEGORY']')>, <Keyword(text='descubrir', span='[66, 74]', extraction method='rake', score='1.0', categorization method='setfit', class='['NO_CATEGORY']')>, <Keyword(text='caso', span='[15, 18]', extraction method='rake', score='1.0', categorization method='setfit', class='['NO_CATEGORY']')>, <Keyword(text='calcificación', span='[483, 495]', extraction method='rake', score='1.0', categorization method='setfit', class='['ENFERMEDAD']')>, <Keyword(text='aumento', span='[79, 85]', extraction method='rake', score='1.0', categorization method='setfit', class='['SINTOMA']')>, <Keyword(text='así', span='[114, 116]', extraction method='rake', score='1.0', categorization method='setfit', class='['NO_CATEGORY']')>, <Keyword(text='acude', span='[44, 48]', extraction method='rake', score='1.0', categorization method='setfit', class='['NO_CATEGORY']')>, <Keyword(text='zona anecoica', span='[396, 408]', extraction method='textrank', score='0.07092914714476105', categorization method='setfit', class='['GEO_GEN']')>, <Keyword(text='teste izquierdo', span='[302, 316]', extraction method='textrank', score='0.0686690744025542', categorization method='setfit', class='['SINTOMA']')>, <Keyword(text='teste derecho', span='[256, 268]', extraction method='textrank', score='0.05917992932872722', categorization method='setfit', class='['SINTOMA']')>, <Keyword(text='interior', span='[378, 385]', extraction method='textrank', score='0.037143837009303564', categorization method='setfit', class='['GEO_GEN']')>, <Keyword(text='con irregularidades', span='[352, 370]', extraction method='textrank', score='0.02591597378225176', categorization method='setfit', class='['SINTOMA']')>, <Keyword(text='presenta fiebre', span='[161, 175]', extraction method='keybert', score='0.467', categorization method='setfit', class='['SINTOMA']')>, <Keyword(text='violáceo del mismo', span='[132, 149]', extraction method='keybert', score='0.4263', categorization method='setfit', class='['SINTOMA']')>] \n",
      "\n"
     ]
    }
   ],
   "source": [
    "#with Rake and 5 tokens at most and postprocessing\n",
    "extractor1(text)\n",
    "print(\"Using extractor1:\\n\", extractor1.keywords, \"\\n\")\n",
    "\n",
    "#extractor using 3 extraction methods with join=True and no postprocessing\n",
    "extractor2(text)\n",
    "print(\"Using extractor2:\\n\", extractor2.keywords, \"\\n\")\n",
    "\n",
    "#extractor using 3 extraction methods with join=True and postprocessing\n",
    "extractor3(text)\n",
    "print(\"Using extractor3:\\n\", extractor3.keywords, \"\\n\")"
   ]
  },
  {
   "cell_type": "markdown",
   "id": "0edc94f5-9185-4caa-af12-39a2da82cb79",
   "metadata": {},
   "source": [
    "#### Extraction based on Part of Speech tags with KeyBERT\n",
    "In addition to extracting keywords based on a maximum number of tokens, these can also be extracted using specific Part of Speech (PoS) patterns using the KeyBERT extractor. An example is shown below:"
   ]
  },
  {
   "cell_type": "code",
   "execution_count": 9,
   "id": "ba1b8c66-478a-4f16-8634-78ce4e6440b2",
   "metadata": {},
   "outputs": [
    {
     "name": "stderr",
     "output_type": "stream",
     "text": [
      "No sentence-transformers model found with name /mnt/c/Users/Sergi/Desktop/BSC/spanish_sapbert_models/sapbert_15_parents_1epoch. Creating a new one with MEAN pooling.\n",
      "/mnt/c/Users/Sergi/Documents/BioTermCategorizer/.env_biotermcategorizer/lib/python3.10/site-packages/sklearn/base.py:347: InconsistentVersionWarning: Trying to unpickle estimator LogisticRegression from version 1.2.2 when using version 1.3.0. This might lead to breaking code or invalid results. Use at your own risk. For more info please refer to:\n",
      "https://scikit-learn.org/stable/model_persistence.html#security-maintainability-limitations\n",
      "  warnings.warn(\n",
      "/mnt/c/Users/Sergi/Documents/BioTermCategorizer/.env_biotermcategorizer/lib/python3.10/site-packages/sklearn/base.py:347: InconsistentVersionWarning: Trying to unpickle estimator MultiOutputClassifier from version 1.2.2 when using version 1.3.0. This might lead to breaking code or invalid results. Use at your own risk. For more info please refer to:\n",
      "https://scikit-learn.org/stable/model_persistence.html#security-maintainability-limitations\n",
      "  warnings.warn(\n",
      "No sentence-transformers model found with name /mnt/c/Users/Sergi/Desktop/BSC/spanish_sapbert_models/sapbert_15_parents_1epoch. Creating a new one with MEAN pooling.\n"
     ]
    }
   ],
   "source": [
    "#extractor using KeyBERT as extraction method with the default PoS tag\n",
    "extractor4 = TermExtractor(extraction_methods=[\"keybert\"], pos=True)\n",
    "\n",
    "#extractor using KeyBERT as extraction method with a specified PoS tag\n",
    "extractor5 = TermExtractor(extraction_methods=[\"keybert\"], pos=True, pos_pattern=\"<NOUN.*>*<ADJ.*>*\")"
   ]
  },
  {
   "cell_type": "markdown",
   "id": "14bcf28d-417b-4167-9249-42a3fd02218d",
   "metadata": {},
   "source": [
    "The keywords extracted by each of these extractors are shown below:"
   ]
  },
  {
   "cell_type": "code",
   "execution_count": 10,
   "id": "e5766659-89e9-4ae8-b802-c47a9fbd85d7",
   "metadata": {},
   "outputs": [
    {
     "name": "stdout",
     "output_type": "stream",
     "text": [
      "Using extractor1:\n",
      " [<Keyword(text='teste derecho de características normales', span='[256, 296]', extraction method='keybert', score='0.6458', categorization method='setfit', class='['SINTOMA']')>, <Keyword(text='torsión testicular evolucionada', span='[524, 554]', extraction method='keybert', score='0.6277', categorization method='setfit', class='['ENFERMEDAD']')>, <Keyword(text='aumento del hemiescroto izquierdo', span='[79, 111]', extraction method='keybert', score='0.6274', categorization method='setfit', class='['SINTOMA']')>, <Keyword(text='ecografía escrotal', span='[222, 239]', extraction method='keybert', score='0.5957', categorization method='setfit', class='['PROCEDIMIENTO']')>, <Keyword(text='zona hiperecoica', span='[453, 468]', extraction method='keybert', score='0.5505', categorization method='setfit', class='['SINTOMA']')>] \n",
      "\n",
      "Using extractor2:\n",
      " [<Keyword(text='torsión testicular evolucionada', span='[524, 554]', extraction method='keybert', score='0.6039', categorization method='setfit', class='['ENFERMEDAD']')>, <Keyword(text='ecografía escrotal', span='[222, 239]', extraction method='keybert', score='0.5957', categorization method='setfit', class='['PROCEDIMIENTO']')>, <Keyword(text='zona hiperecoica', span='[453, 468]', extraction method='keybert', score='0.5505', categorization method='setfit', class='['SINTOMA']')>, <Keyword(text='características normales', span='[273, 296]', extraction method='keybert', score='0.5129', categorization method='setfit', class='['SINTOMA']')>, <Keyword(text='teste derecho', span='[256, 268]', extraction method='keybert', score='0.4695', categorization method='setfit', class='['SINTOMA']')>] \n",
      "\n"
     ]
    }
   ],
   "source": [
    "#extractor using KeyBERT as extraction method with the default PoS tag\n",
    "extractor4(text)\n",
    "print(\"Using extractor1:\\n\", extractor4.keywords, \"\\n\")\n",
    "\n",
    "#extractor using KeyBERT as extraction method with a specified PoS tag\n",
    "extractor5(text)\n",
    "print(\"Using extractor2:\\n\", extractor5.keywords, \"\\n\")"
   ]
  },
  {
   "cell_type": "markdown",
   "id": "0b83f3af-5166-4d29-ad37-5a830634c5c4",
   "metadata": {},
   "source": [
    "### Use of different categorizers\n",
    "The keyword multilabel classification included in `TermExtractor` has been implemented in both a supervised and unsupervised manner. The supervised classification is conducted with the SetFit classifier and the AutoModelForSequenceClassification, both from the SentenceTransformers library. The unsupervised categorization is conducted with a KMeans Clustering algorithm. \n",
    "#### Classification with SetFit\n",
    "The SetFit model of the Transformers library is selected by setting the parameter `categorization_method` to \"setfit\". The default model has been trained on a corpus with 22 classes, but another trained model can be specified in the parameter `categorizer_model_path`. The classification is performed in a multilabel manner, where each label is assigned a score between 0 and 1 during the prediction. The user can set a threshold for the labels to be considered using `thr_setift`(0.5 by default) and a maximum number of labels for each keyword using `n` (1 by default). Some examples are shown below:"
   ]
  },
  {
   "cell_type": "code",
   "execution_count": 11,
   "id": "268d619d-deaf-4281-8ce3-00004bb6645d",
   "metadata": {},
   "outputs": [
    {
     "name": "stderr",
     "output_type": "stream",
     "text": [
      "/mnt/c/Users/Sergi/Documents/BioTermCategorizer/.env_biotermcategorizer/lib/python3.10/site-packages/sklearn/base.py:347: InconsistentVersionWarning: Trying to unpickle estimator LogisticRegression from version 1.2.2 when using version 1.3.0. This might lead to breaking code or invalid results. Use at your own risk. For more info please refer to:\n",
      "https://scikit-learn.org/stable/model_persistence.html#security-maintainability-limitations\n",
      "  warnings.warn(\n",
      "/mnt/c/Users/Sergi/Documents/BioTermCategorizer/.env_biotermcategorizer/lib/python3.10/site-packages/sklearn/base.py:347: InconsistentVersionWarning: Trying to unpickle estimator MultiOutputClassifier from version 1.2.2 when using version 1.3.0. This might lead to breaking code or invalid results. Use at your own risk. For more info please refer to:\n",
      "https://scikit-learn.org/stable/model_persistence.html#security-maintainability-limitations\n",
      "  warnings.warn(\n"
     ]
    },
    {
     "name": "stdout",
     "output_type": "stream",
     "text": [
      "Using extractor6:\n",
      " [<Keyword(text='torsión testicular', span='[524, 541]', extraction method='textrank', score='0.12600626989711727', categorization method='setfit', class='['ENFERMEDAD']')>, <Keyword(text='características normales', span='[273, 296]', extraction method='textrank', score='0.10035908282536155', categorization method='setfit', class='['SINTOMA']')>, <Keyword(text='fiebre', span='[170, 175]', extraction method='textrank', score='0.07631917863343891', categorization method='setfit', class='['SINTOMA']')>, <Keyword(text='tamaño', span='[344, 349]', extraction method='textrank', score='0.07574647594218213', categorization method='setfit', class='['NO_CATEGORY']')>, <Keyword(text='zona anecoica', span='[396, 408]', extraction method='textrank', score='0.07092914714476105', categorization method='setfit', class='['GEO_GEN']')>, <Keyword(text='teste izquierdo', span='[302, 316]', extraction method='textrank', score='0.0686690744025542', categorization method='setfit', class='['SINTOMA']')>, <Keyword(text='teste derecho', span='[256, 268]', extraction method='textrank', score='0.05917992932872722', categorization method='setfit', class='['SINTOMA']')>, <Keyword(text='ecografía escrotal', span='[222, 239]', extraction method='textrank', score='0.037711775296350704', categorization method='setfit', class='['PROCEDIMIENTO']')>, <Keyword(text='interior', span='[378, 385]', extraction method='textrank', score='0.037143837009303564', categorization method='setfit', class='['GEO_GEN']')>, <Keyword(text='con irregularidades', span='[352, 370]', extraction method='textrank', score='0.02591597378225176', categorization method='setfit', class='['SINTOMA']')>, <Keyword(text='No', span='[158, 159]', extraction method='textrank', score='0.0', categorization method='setfit', class='['NO_CATEGORY']')>, <Keyword(text='mismo', span='[145, 149]', extraction method='textrank', score='0.0', categorization method='setfit', class='['NO_CATEGORY']')>]\n"
     ]
    }
   ],
   "source": [
    "#default settings and specifying a model path\n",
    "extractor6 = TermExtractor(categorization_method=\"setfit\", categorizer_model_path='/mnt/c/Users/Sergi/Desktop/BSC/modelos_entrenados/SetFit/noparents_sp')\n",
    "\n",
    "extractor6(text)\n",
    "print(\"Using extractor6:\\n\", extractor6.keywords)"
   ]
  },
  {
   "cell_type": "code",
   "execution_count": 12,
   "id": "f5aa2e81-581e-4089-9069-2af377d142b7",
   "metadata": {},
   "outputs": [
    {
     "name": "stderr",
     "output_type": "stream",
     "text": [
      "/mnt/c/Users/Sergi/Documents/BioTermCategorizer/.env_biotermcategorizer/lib/python3.10/site-packages/sklearn/base.py:347: InconsistentVersionWarning: Trying to unpickle estimator LogisticRegression from version 1.2.2 when using version 1.3.0. This might lead to breaking code or invalid results. Use at your own risk. For more info please refer to:\n",
      "https://scikit-learn.org/stable/model_persistence.html#security-maintainability-limitations\n",
      "  warnings.warn(\n",
      "/mnt/c/Users/Sergi/Documents/BioTermCategorizer/.env_biotermcategorizer/lib/python3.10/site-packages/sklearn/base.py:347: InconsistentVersionWarning: Trying to unpickle estimator MultiOutputClassifier from version 1.2.2 when using version 1.3.0. This might lead to breaking code or invalid results. Use at your own risk. For more info please refer to:\n",
      "https://scikit-learn.org/stable/model_persistence.html#security-maintainability-limitations\n",
      "  warnings.warn(\n"
     ]
    },
    {
     "name": "stdout",
     "output_type": "stream",
     "text": [
      "Using extractor7:\n",
      " [<Keyword(text='torsión testicular', span='[524, 541]', extraction method='textrank', score='0.12600626989711727', categorization method='setfit', class='['ENFERMEDAD']')>, <Keyword(text='características normales', span='[273, 296]', extraction method='textrank', score='0.10035908282536155', categorization method='setfit', class='['SINTOMA']')>, <Keyword(text='fiebre', span='[170, 175]', extraction method='textrank', score='0.07631917863343891', categorization method='setfit', class='['SINTOMA']')>, <Keyword(text='tamaño', span='[344, 349]', extraction method='textrank', score='0.07574647594218213', categorization method='setfit', class='['NO_CATEGORY']')>, <Keyword(text='zona anecoica', span='[396, 408]', extraction method='textrank', score='0.07092914714476105', categorization method='setfit', class='['GEO_GEN']')>, <Keyword(text='teste izquierdo', span='[302, 316]', extraction method='textrank', score='0.0686690744025542', categorization method='setfit', class='['SINTOMA', 'ENFERMEDAD']')>, <Keyword(text='teste derecho', span='[256, 268]', extraction method='textrank', score='0.05917992932872722', categorization method='setfit', class='['SINTOMA']')>, <Keyword(text='ecografía escrotal', span='[222, 239]', extraction method='textrank', score='0.037711775296350704', categorization method='setfit', class='['PROCEDIMIENTO']')>, <Keyword(text='interior', span='[378, 385]', extraction method='textrank', score='0.037143837009303564', categorization method='setfit', class='['GEO_GEN']')>, <Keyword(text='con irregularidades', span='[352, 370]', extraction method='textrank', score='0.02591597378225176', categorization method='setfit', class='['SINTOMA']')>, <Keyword(text='No', span='[158, 159]', extraction method='textrank', score='0.0', categorization method='setfit', class='['NO_CATEGORY']')>, <Keyword(text='mismo', span='[145, 149]', extraction method='textrank', score='0.0', categorization method='setfit', class='['NO_CATEGORY']')>]\n"
     ]
    }
   ],
   "source": [
    "#allowing a multilabel output (up to 3 labels over 0.2)\n",
    "extractor7 = TermExtractor(categorization_method=\"setfit\", thr_setfit=0.2, n=3)\n",
    "\n",
    "extractor7(text)\n",
    "print(\"Using extractor7:\\n\", extractor7.keywords)"
   ]
  },
  {
   "cell_type": "markdown",
   "id": "4a014f2b-5025-45ab-8a89-ce018bad202e",
   "metadata": {},
   "source": [
    "In this example, the mention \"teste izquierdo\" has been assigned two labels.\n",
    "#### Classification with AutoModelForSequenceClassification\n",
    "The AutoModelForSequenceClassification model of the Transformers library is selected by setting the parameter `categorization_method` to \"transformers\". The default model has been trained on the same corpus as the SetFit classifier, but another trained model can be specified in the parameter `categorizer_model_path`. The classification is performed in a multilabel manner, where each label is assigned a logit during the prediction. The user can set a threshold for the labels to be considered using `thr_transformers`(-1 by default) and a maximum number of labels for each keyword using `n` (1 by default). An example is shown below:"
   ]
  },
  {
   "cell_type": "code",
   "execution_count": 7,
   "id": "8aa0278e-d847-4620-b60f-783609a5295b",
   "metadata": {},
   "outputs": [
    {
     "name": "stderr",
     "output_type": "stream",
     "text": [
      "/mnt/c/Users/Sergi/Documents/BioTermCategorizer/.env_biotermcategorizer/lib/python3.10/site-packages/sklearn/base.py:347: InconsistentVersionWarning: Trying to unpickle estimator LogisticRegression from version 1.2.2 when using version 1.3.0. This might lead to breaking code or invalid results. Use at your own risk. For more info please refer to:\n",
      "https://scikit-learn.org/stable/model_persistence.html#security-maintainability-limitations\n",
      "  warnings.warn(\n",
      "/mnt/c/Users/Sergi/Documents/BioTermCategorizer/.env_biotermcategorizer/lib/python3.10/site-packages/sklearn/base.py:347: InconsistentVersionWarning: Trying to unpickle estimator MultiOutputClassifier from version 1.2.2 when using version 1.3.0. This might lead to breaking code or invalid results. Use at your own risk. For more info please refer to:\n",
      "https://scikit-learn.org/stable/model_persistence.html#security-maintainability-limitations\n",
      "  warnings.warn(\n"
     ]
    },
    {
     "name": "stdout",
     "output_type": "stream",
     "text": [
      "Using extractor8:\n",
      " [<Keyword(text='torsión testicular', span='[524, 541]', extraction method='textrank', score='0.12600626989711727', categorization method='setfit', class='['ENFERMEDAD']')>, <Keyword(text='características normales', span='[273, 296]', extraction method='textrank', score='0.10035908282536155', categorization method='setfit', class='['SINTOMA']')>, <Keyword(text='fiebre', span='[170, 175]', extraction method='textrank', score='0.07631917863343891', categorization method='setfit', class='['SINTOMA']')>, <Keyword(text='tamaño', span='[344, 349]', extraction method='textrank', score='0.07574647594218213', categorization method='setfit', class='['NO_CATEGORY']')>, <Keyword(text='zona anecoica', span='[396, 408]', extraction method='textrank', score='0.07092914714476105', categorization method='setfit', class='['GEO_GEN']')>, <Keyword(text='teste izquierdo', span='[302, 316]', extraction method='textrank', score='0.0686690744025542', categorization method='setfit', class='['SINTOMA']')>, <Keyword(text='teste derecho', span='[256, 268]', extraction method='textrank', score='0.05917992932872722', categorization method='setfit', class='['SINTOMA']')>, <Keyword(text='ecografía escrotal', span='[222, 239]', extraction method='textrank', score='0.037711775296350704', categorization method='setfit', class='['PROCEDIMIENTO']')>, <Keyword(text='interior', span='[378, 385]', extraction method='textrank', score='0.037143837009303564', categorization method='setfit', class='['GEO_GEN']')>, <Keyword(text='con irregularidades', span='[352, 370]', extraction method='textrank', score='0.02591597378225176', categorization method='setfit', class='['SINTOMA']')>, <Keyword(text='No', span='[158, 159]', extraction method='textrank', score='0.0', categorization method='setfit', class='['NO_CATEGORY']')>, <Keyword(text='mismo', span='[145, 149]', extraction method='textrank', score='0.0', categorization method='setfit', class='['NO_CATEGORY']')>]\n"
     ]
    }
   ],
   "source": [
    "#allowing a multilabel output (up to 2 labels over -2)\n",
    "extractor8 = TermExtractor(categorization_method=\"transformers\", thr_transformers=-2, n=2)\n",
    "\n",
    "extractor8(text)\n",
    "print(\"Using extractor8:\\n\", extractor8.keywords)"
   ]
  },
  {
   "cell_type": "markdown",
   "id": "6b1c9685-1ae7-4b06-8e4f-dd34102ca9e9",
   "metadata": {},
   "source": [
    "#### Clustering with KMeans\n",
    "The KMeans Clustering model of the Transformers library is selected by setting the parameter `categorization_method` to \"clustering\". The default pretrained model is obtained from \"cambridgeltl/SapBERT-from-PubMedBERT-fulltext\" and is later trained on the data that it is provided for prediction (generates the clusters directly from it). Another pretrained model can be specified in the parameter `clustering_model` and later trained on the given data. In both these cases the trained model is stored in a directory specified by the parameter `output_path`, which by default is \"./trained_model\". Additionally, any time a KMeans model is trained, up to  mentions of each cluster are printed to showcase the semantical meaning of each cluster.\n",
    "\n",
    "On the other hand, if the user has a completely trained model that they want to use it can be specified in the parameter `categorizer_model_path`, and no later training will be needed, so no example mentions of the clusters will be printed nor will the model be saved. \n",
    "\n",
    "The clustering only assigns one label to each mention, and the number of clusters to perform the clustering has to be specified in the variable `n_clusters`. Some examples are shown below:"
   ]
  },
  {
   "cell_type": "code",
   "execution_count": 9,
   "id": "be43ef84-edce-4b20-8e9a-8fd4994ad145",
   "metadata": {},
   "outputs": [
    {
     "name": "stderr",
     "output_type": "stream",
     "text": [
      "Asking to truncate to max_length but no maximum length is provided and the model has no predefined maximum length. Default to no truncation.\n"
     ]
    },
    {
     "name": "stdout",
     "output_type": "stream",
     "text": [
      "{'Class 0': ['torsión testicular', 'teste izquierdo', 'teste derecho'], 'Class 1': ['con irregularidades'], 'Class 2': ['zona anecoica', 'ecografía escrotal'], 'Class 3': ['fiebre', 'tamaño', 'mismo'], 'Class 4': ['características normales', 'interior', 'No']}\n",
      "Using extractor9:\n",
      " [<Keyword(text='torsión testicular', span='[524, 541]', extraction method='textrank', score='0.12600626989711727', categorization method='clustering', class='0')>, <Keyword(text='características normales', span='[273, 296]', extraction method='textrank', score='0.10035908282536155', categorization method='clustering', class='4')>, <Keyword(text='fiebre', span='[170, 175]', extraction method='textrank', score='0.07631917863343891', categorization method='clustering', class='3')>, <Keyword(text='tamaño', span='[344, 349]', extraction method='textrank', score='0.07574647594218213', categorization method='clustering', class='3')>, <Keyword(text='zona anecoica', span='[396, 408]', extraction method='textrank', score='0.07092914714476105', categorization method='clustering', class='2')>, <Keyword(text='teste izquierdo', span='[302, 316]', extraction method='textrank', score='0.0686690744025542', categorization method='clustering', class='0')>, <Keyword(text='teste derecho', span='[256, 268]', extraction method='textrank', score='0.05917992932872722', categorization method='clustering', class='0')>, <Keyword(text='ecografía escrotal', span='[222, 239]', extraction method='textrank', score='0.037711775296350704', categorization method='clustering', class='2')>, <Keyword(text='interior', span='[378, 385]', extraction method='textrank', score='0.037143837009303564', categorization method='clustering', class='4')>, <Keyword(text='con irregularidades', span='[352, 370]', extraction method='textrank', score='0.02591597378225176', categorization method='clustering', class='1')>, <Keyword(text='No', span='[158, 159]', extraction method='textrank', score='0.0', categorization method='clustering', class='4')>, <Keyword(text='mismo', span='[145, 149]', extraction method='textrank', score='0.0', categorization method='clustering', class='3')>]\n"
     ]
    }
   ],
   "source": [
    "#default parameters (default model trained on the text) and 5 clusters\n",
    "extractor9 = TermExtractor(categorization_method=\"clustering\", n_clusters=5)\n",
    "\n",
    "extractor9(text)\n",
    "print(\"Using extractor9:\\n\", extractor9.keywords)"
   ]
  },
  {
   "cell_type": "code",
   "execution_count": 10,
   "id": "310d1fb4-24a4-418b-a206-980bd44f08e8",
   "metadata": {},
   "outputs": [
    {
     "name": "stdout",
     "output_type": "stream",
     "text": [
      "{'Class 0': ['teste izquierdo', 'teste derecho'], 'Class 1': ['características normales', 'fiebre', 'tamaño', 'zona anecoica', 'interior'], 'Class 2': ['torsión testicular', 'ecografía escrotal']}\n",
      "Using extractor10:\n",
      " [<Keyword(text='torsión testicular', span='[524, 541]', extraction method='textrank', score='0.12600626989711727', categorization method='clustering', class='2')>, <Keyword(text='características normales', span='[273, 296]', extraction method='textrank', score='0.10035908282536155', categorization method='clustering', class='1')>, <Keyword(text='fiebre', span='[170, 175]', extraction method='textrank', score='0.07631917863343891', categorization method='clustering', class='1')>, <Keyword(text='tamaño', span='[344, 349]', extraction method='textrank', score='0.07574647594218213', categorization method='clustering', class='1')>, <Keyword(text='zona anecoica', span='[396, 408]', extraction method='textrank', score='0.07092914714476105', categorization method='clustering', class='1')>, <Keyword(text='teste izquierdo', span='[302, 316]', extraction method='textrank', score='0.0686690744025542', categorization method='clustering', class='0')>, <Keyword(text='teste derecho', span='[256, 268]', extraction method='textrank', score='0.05917992932872722', categorization method='clustering', class='0')>, <Keyword(text='ecografía escrotal', span='[222, 239]', extraction method='textrank', score='0.037711775296350704', categorization method='clustering', class='2')>, <Keyword(text='interior', span='[378, 385]', extraction method='textrank', score='0.037143837009303564', categorization method='clustering', class='1')>, <Keyword(text='con irregularidades', span='[352, 370]', extraction method='textrank', score='0.02591597378225176', categorization method='clustering', class='1')>, <Keyword(text='No', span='[158, 159]', extraction method='textrank', score='0.0', categorization method='clustering', class='1')>, <Keyword(text='mismo', span='[145, 149]', extraction method='textrank', score='0.0', categorization method='clustering', class='1')>]\n"
     ]
    }
   ],
   "source": [
    "#specified pretrained model trained on the text and 3 clusters\n",
    "extractor10 = TermExtractor(categorization_method=\"clustering\", clustering_model=\"/mnt/c/Users/Sergi/Desktop/BSC/spanish_sapbert_models/sapbert_15_noparents_1epoch\", n_clusters=3)\n",
    "\n",
    "extractor10(text)\n",
    "print(\"Using extractor10:\\n\", extractor10.keywords)"
   ]
  },
  {
   "cell_type": "code",
   "execution_count": 11,
   "id": "dda96bf7-5f03-4049-a14d-332cc0c5d982",
   "metadata": {},
   "outputs": [
    {
     "name": "stderr",
     "output_type": "stream",
     "text": [
      "Asking to truncate to max_length but no maximum length is provided and the model has no predefined maximum length. Default to no truncation.\n"
     ]
    },
    {
     "name": "stdout",
     "output_type": "stream",
     "text": [
      "Using extractor11:\n",
      " [<Keyword(text='torsión testicular', span='[524, 541]', extraction method='textrank', score='0.12600626989711727', categorization method='clustering', class='1')>, <Keyword(text='características normales', span='[273, 296]', extraction method='textrank', score='0.10035908282536155', categorization method='clustering', class='1')>, <Keyword(text='fiebre', span='[170, 175]', extraction method='textrank', score='0.07631917863343891', categorization method='clustering', class='1')>, <Keyword(text='tamaño', span='[344, 349]', extraction method='textrank', score='0.07574647594218213', categorization method='clustering', class='1')>, <Keyword(text='zona anecoica', span='[396, 408]', extraction method='textrank', score='0.07092914714476105', categorization method='clustering', class='1')>, <Keyword(text='teste izquierdo', span='[302, 316]', extraction method='textrank', score='0.0686690744025542', categorization method='clustering', class='1')>, <Keyword(text='teste derecho', span='[256, 268]', extraction method='textrank', score='0.05917992932872722', categorization method='clustering', class='1')>, <Keyword(text='ecografía escrotal', span='[222, 239]', extraction method='textrank', score='0.037711775296350704', categorization method='clustering', class='1')>, <Keyword(text='interior', span='[378, 385]', extraction method='textrank', score='0.037143837009303564', categorization method='clustering', class='1')>, <Keyword(text='con irregularidades', span='[352, 370]', extraction method='textrank', score='0.02591597378225176', categorization method='clustering', class='1')>, <Keyword(text='No', span='[158, 159]', extraction method='textrank', score='0.0', categorization method='clustering', class='1')>, <Keyword(text='mismo', span='[145, 149]', extraction method='textrank', score='0.0', categorization method='clustering', class='1')>]\n"
     ]
    }
   ],
   "source": [
    "#already trained model (trained in extractor10) and 3 clusters\n",
    "extractor11 = TermExtractor(categorization_method=\"clustering\", categorizer_model_path=\"./trained_model\", n_clusters=3)\n",
    "\n",
    "extractor11(text)\n",
    "print(\"Using extractor11:\\n\", extractor11.keywords)"
   ]
  },
  {
   "cell_type": "markdown",
   "id": "b157df2a-cba4-480a-a2f7-9babf6d83e1b",
   "metadata": {},
   "source": [
    "Extractors 10 and 11 yield exactly the same results, since both of them us exactly the same model. Whereas extractor10 trains the model and stores it a local directory, extractor11 retrieves it and predicts the clusters with it.\n",
    "#### Training the categorizers\n",
    "Up until now, the shown categorizers (both the classifiers and the clustering model) have used pretrained models. However, there is also the option to train these categorizers with the user's own data to achieve a more personalized result.\n",
    "\n",
    "For that purpose, some sample data is first imported:"
   ]
  },
  {
   "cell_type": "code",
   "execution_count": 6,
   "id": "b0244558-43d5-4057-a65b-b7c9222dff7a",
   "metadata": {},
   "outputs": [],
   "source": [
    "import pandas as pd\n",
    "\n",
    "file_path = '/mnt/c/Users/Sergi/Desktop/BSC/traindata_classification.tsv'\n",
    "traindata = pd.read_csv(file_path, sep='\\t')\n",
    "traindata = traindata.sample(frac=1, random_state=42)\n",
    "traindata_head = traindata.head(30)\n",
    "traindata_head = traindata_head[traindata_head[\"label\"].isin([\"SINTOMA\",\"ENFERMEDAD\",\"PROCEDIMIENTO\"])]\n",
    "\n",
    "file_path = '/mnt/c/Users/Sergi/Desktop/BSC/testdata_classification.tsv'\n",
    "testdata = pd.read_csv(file_path, sep='\\t')\n",
    "testdata = testdata.sample(frac=1, random_state=42)\n",
    "testdata_head = testdata.head(10)\n",
    "testdata_head = testdata_head[testdata_head[\"label\"].isin([\"SINTOMA\",\"ENFERMEDAD\",\"PROCEDIMIENTO\"])]\n",
    "\n",
    "trainX = traindata_head[\"text\"].values.tolist()\n",
    "trainY = traindata_head[\"label\"].values.tolist()\n",
    "testX = testdata_head[\"text\"].values.tolist()\n",
    "testY = testdata_head[\"label\"].values.tolist()"
   ]
  },
  {
   "cell_type": "markdown",
   "id": "21850143-b390-4592-9c71-562502db7970",
   "metadata": {},
   "source": [
    "##### Training the Classifiers\n",
    "Both SetFit and the AutoModelForSequenceClassification can be trained using the same commands. To do so, after the initialisation of the `TermExtractor` class object the function `train_classifier` can be called through dot indexing, which performs the training and evaluation of the model on the given data. This function accepts the following parameters:\n",
    "- `trainX` (list): List of training data (mentions).\n",
    "- `trainY` (list): List of training labels.\n",
    "- `testX` (list): List of test data (mentions).\n",
    "- `testY` (list): List of test labels.\n",
    "- `mcm` (bool): Whether to create a multi-label confusion matrix heatmap. Default value: `False`.\n",
    "- `classification_report` (bool): Whether to display a classification report. Default value: `False`.\n",
    "- `kwargs`: Additional keyword arguments.\n",
    "\n",
    "Of which `trainX`, `trainY`, `testX` and `testY` must be provided.\n",
    "\n",
    "Some examples are shown below:"
   ]
  },
  {
   "cell_type": "code",
   "execution_count": 8,
   "id": "f761e1eb-a39a-4f57-baf2-f4295f1087ab",
   "metadata": {},
   "outputs": [
    {
     "name": "stderr",
     "output_type": "stream",
     "text": [
      "Some weights of RobertaForSequenceClassification were not initialized from the model checkpoint at /mnt/c/Users/Sergi/Desktop/BSC/spanish_sapbert_models/sapbert_15_noparents_1epoch and are newly initialized: ['classifier.dense.weight', 'classifier.dense.bias', 'classifier.out_proj.bias', 'classifier.out_proj.weight']\n",
      "You should probably TRAIN this model on a down-stream task to be able to use it for predictions and inference.\n"
     ]
    },
    {
     "data": {
      "text/html": [
       "\n",
       "    <div>\n",
       "      \n",
       "      <progress value='3' max='3' style='width:300px; height:20px; vertical-align: middle;'></progress>\n",
       "      [3/3 00:04, Epoch 3/3]\n",
       "    </div>\n",
       "    <table border=\"1\" class=\"dataframe\">\n",
       "  <thead>\n",
       " <tr style=\"text-align: left;\">\n",
       "      <th>Step</th>\n",
       "      <th>Training Loss</th>\n",
       "      <th>Validation Loss</th>\n",
       "    </tr>\n",
       "  </thead>\n",
       "  <tbody>\n",
       "  </tbody>\n",
       "</table><p>"
      ],
      "text/plain": [
       "<IPython.core.display.HTML object>"
      ]
     },
     "metadata": {},
     "output_type": "display_data"
    },
    {
     "data": {
      "text/html": [],
      "text/plain": [
       "<IPython.core.display.HTML object>"
      ]
     },
     "metadata": {},
     "output_type": "display_data"
    },
    {
     "data": {
      "text/html": [
       "<pre style=\"white-space:pre;overflow-x:auto;line-height:normal;font-family:Menlo,'DejaVu Sans Mono',consolas,'Courier New',monospace\"><span style=\"color: #800000; text-decoration-color: #800000\">╭─────────────────────────────── </span><span style=\"color: #800000; text-decoration-color: #800000; font-weight: bold\">Traceback </span><span style=\"color: #bf7f7f; text-decoration-color: #bf7f7f; font-weight: bold\">(most recent call last)</span><span style=\"color: #800000; text-decoration-color: #800000\"> ────────────────────────────────╮</span>\n",
       "<span style=\"color: #800000; text-decoration-color: #800000\">│</span> in <span style=\"color: #00ff00; text-decoration-color: #00ff00\">&lt;module&gt;</span>:<span style=\"color: #0000ff; text-decoration-color: #0000ff\">3</span>                                                                                    <span style=\"color: #800000; text-decoration-color: #800000\">│</span>\n",
       "<span style=\"color: #800000; text-decoration-color: #800000\">│</span>                                                                                                  <span style=\"color: #800000; text-decoration-color: #800000\">│</span>\n",
       "<span style=\"color: #800000; text-decoration-color: #800000\">│</span>   <span style=\"color: #7f7f7f; text-decoration-color: #7f7f7f\">1 #training transformers classifier with default parameters and no mcm or classification_r</span>     <span style=\"color: #800000; text-decoration-color: #800000\">│</span>\n",
       "<span style=\"color: #800000; text-decoration-color: #800000\">│</span>   <span style=\"color: #7f7f7f; text-decoration-color: #7f7f7f\">2 </span>extractor12 = TermExtractor(extraction_methods=[<span style=\"color: #808000; text-decoration-color: #808000\">\"textrank\"</span>],categorization_method=<span style=\"color: #808000; text-decoration-color: #808000\">\"trans</span>     <span style=\"color: #800000; text-decoration-color: #800000\">│</span>\n",
       "<span style=\"color: #800000; text-decoration-color: #800000\">│</span> <span style=\"color: #800000; text-decoration-color: #800000\">❱ </span>3 extractor12.train_classifier(trainX,trainY,testX,testY)                                      <span style=\"color: #800000; text-decoration-color: #800000\">│</span>\n",
       "<span style=\"color: #800000; text-decoration-color: #800000\">│</span>   <span style=\"color: #7f7f7f; text-decoration-color: #7f7f7f\">4 </span>extractor12(text)                                                                            <span style=\"color: #800000; text-decoration-color: #800000\">│</span>\n",
       "<span style=\"color: #800000; text-decoration-color: #800000\">│</span>   <span style=\"color: #7f7f7f; text-decoration-color: #7f7f7f\">5 </span><span style=\"color: #00ffff; text-decoration-color: #00ffff\">print</span>(<span style=\"color: #808000; text-decoration-color: #808000\">\"Using extractor12:\\n\"</span>, extractor12.keywords)                                          <span style=\"color: #800000; text-decoration-color: #800000\">│</span>\n",
       "<span style=\"color: #800000; text-decoration-color: #800000\">│</span>   <span style=\"color: #7f7f7f; text-decoration-color: #7f7f7f\">6 </span>                                                                                             <span style=\"color: #800000; text-decoration-color: #800000\">│</span>\n",
       "<span style=\"color: #800000; text-decoration-color: #800000\">│</span>                                                                                                  <span style=\"color: #800000; text-decoration-color: #800000\">│</span>\n",
       "<span style=\"color: #800000; text-decoration-color: #800000\">│</span> <span style=\"color: #bfbf7f; text-decoration-color: #bfbf7f\">/mnt/c/Users/Sergi/Documents/BioTermCategorizer/biotermcategorizer/</span><span style=\"color: #808000; text-decoration-color: #808000; font-weight: bold\">TermExtractor.py</span>:<span style=\"color: #0000ff; text-decoration-color: #0000ff\">202</span> in       <span style=\"color: #800000; text-decoration-color: #800000\">│</span>\n",
       "<span style=\"color: #800000; text-decoration-color: #800000\">│</span> <span style=\"color: #00ff00; text-decoration-color: #00ff00\">train_classifier</span>                                                                                 <span style=\"color: #800000; text-decoration-color: #800000\">│</span>\n",
       "<span style=\"color: #800000; text-decoration-color: #800000\">│</span>                                                                                                  <span style=\"color: #800000; text-decoration-color: #800000\">│</span>\n",
       "<span style=\"color: #800000; text-decoration-color: #800000\">│</span>   <span style=\"color: #7f7f7f; text-decoration-color: #7f7f7f\">199 </span><span style=\"color: #bfbf7f; text-decoration-color: #bfbf7f\">│   │   </span><span style=\"color: #808000; text-decoration-color: #808000\">- String: Metrics to evaluate the performance of the catgorizer.</span>                   <span style=\"color: #800000; text-decoration-color: #800000\">│</span>\n",
       "<span style=\"color: #800000; text-decoration-color: #800000\">│</span>   <span style=\"color: #7f7f7f; text-decoration-color: #7f7f7f\">200 </span><span style=\"color: #bfbf7f; text-decoration-color: #bfbf7f\">│   │   </span><span style=\"color: #808000; text-decoration-color: #808000\">\"\"\"</span>                                                                                <span style=\"color: #800000; text-decoration-color: #800000\">│</span>\n",
       "<span style=\"color: #800000; text-decoration-color: #800000\">│</span>   <span style=\"color: #7f7f7f; text-decoration-color: #7f7f7f\">201 </span><span style=\"color: #7f7f7f; text-decoration-color: #7f7f7f\">│   │   </span><span style=\"color: #00ffff; text-decoration-color: #00ffff\">self</span>.categorizer.initialize_model_body(trainY)                                     <span style=\"color: #800000; text-decoration-color: #800000\">│</span>\n",
       "<span style=\"color: #800000; text-decoration-color: #800000\">│</span> <span style=\"color: #800000; text-decoration-color: #800000\">❱ </span>202 <span style=\"color: #7f7f7f; text-decoration-color: #7f7f7f\">│   │   </span>metrics = <span style=\"color: #00ffff; text-decoration-color: #00ffff\">self</span>.categorizer.train_evaluate(trainX, trainY, testX, testY, mcm, cla   <span style=\"color: #800000; text-decoration-color: #800000\">│</span>\n",
       "<span style=\"color: #800000; text-decoration-color: #800000\">│</span>   <span style=\"color: #7f7f7f; text-decoration-color: #7f7f7f\">203 </span><span style=\"color: #7f7f7f; text-decoration-color: #7f7f7f\">│   │   </span><span style=\"color: #00ffff; text-decoration-color: #00ffff\">print</span>(metrics)                                                                     <span style=\"color: #800000; text-decoration-color: #800000\">│</span>\n",
       "<span style=\"color: #800000; text-decoration-color: #800000\">│</span>   <span style=\"color: #7f7f7f; text-decoration-color: #7f7f7f\">204 </span><span style=\"color: #7f7f7f; text-decoration-color: #7f7f7f\">│   </span>                                                                                       <span style=\"color: #800000; text-decoration-color: #800000\">│</span>\n",
       "<span style=\"color: #800000; text-decoration-color: #800000\">│</span>   <span style=\"color: #7f7f7f; text-decoration-color: #7f7f7f\">205 </span><span style=\"color: #7f7f7f; text-decoration-color: #7f7f7f\">│   </span><span style=\"color: #0000ff; text-decoration-color: #0000ff\">def</span> <span style=\"color: #00ff00; text-decoration-color: #00ff00\">train_clustering</span>(<span style=\"color: #00ffff; text-decoration-color: #00ffff\">self</span>, trainX, **kwargs):                                          <span style=\"color: #800000; text-decoration-color: #800000\">│</span>\n",
       "<span style=\"color: #800000; text-decoration-color: #800000\">│</span>                                                                                                  <span style=\"color: #800000; text-decoration-color: #800000\">│</span>\n",
       "<span style=\"color: #800000; text-decoration-color: #800000\">│</span> <span style=\"color: #bfbf7f; text-decoration-color: #bfbf7f\">/mnt/c/Users/Sergi/Documents/BioTermCategorizer/biotermcategorizer/categorizers/</span><span style=\"color: #808000; text-decoration-color: #808000; font-weight: bold\">TransformersClas</span> <span style=\"color: #800000; text-decoration-color: #800000\">│</span>\n",
       "<span style=\"color: #800000; text-decoration-color: #800000\">│</span> <span style=\"color: #808000; text-decoration-color: #808000; font-weight: bold\">sifier.py</span>:<span style=\"color: #0000ff; text-decoration-color: #0000ff\">91</span> in <span style=\"color: #00ff00; text-decoration-color: #00ff00\">train_evaluate</span>                                                                   <span style=\"color: #800000; text-decoration-color: #800000\">│</span>\n",
       "<span style=\"color: #800000; text-decoration-color: #800000\">│</span>                                                                                                  <span style=\"color: #800000; text-decoration-color: #800000\">│</span>\n",
       "<span style=\"color: #800000; text-decoration-color: #800000\">│</span>   <span style=\"color: #7f7f7f; text-decoration-color: #7f7f7f\"> 88 </span><span style=\"color: #7f7f7f; text-decoration-color: #7f7f7f\">│   │   </span>train_dataset = <span style=\"color: #00ffff; text-decoration-color: #00ffff\">self</span>.prepare_data(trainX, trainY)                                  <span style=\"color: #800000; text-decoration-color: #800000\">│</span>\n",
       "<span style=\"color: #800000; text-decoration-color: #800000\">│</span>   <span style=\"color: #7f7f7f; text-decoration-color: #7f7f7f\"> 89 </span><span style=\"color: #7f7f7f; text-decoration-color: #7f7f7f\">│   │   </span><span style=\"color: #00ffff; text-decoration-color: #00ffff\">self</span>.train(train_dataset, **kwargs)                                                <span style=\"color: #800000; text-decoration-color: #800000\">│</span>\n",
       "<span style=\"color: #800000; text-decoration-color: #800000\">│</span>   <span style=\"color: #7f7f7f; text-decoration-color: #7f7f7f\"> 90 </span><span style=\"color: #7f7f7f; text-decoration-color: #7f7f7f\">│   │   </span>test_dataset = <span style=\"color: #00ffff; text-decoration-color: #00ffff\">self</span>.prepare_data(testX, testY)                                     <span style=\"color: #800000; text-decoration-color: #800000\">│</span>\n",
       "<span style=\"color: #800000; text-decoration-color: #800000\">│</span> <span style=\"color: #800000; text-decoration-color: #800000\">❱ </span> 91 <span style=\"color: #7f7f7f; text-decoration-color: #7f7f7f\">│   │   </span><span style=\"color: #00ffff; text-decoration-color: #00ffff\">self</span>.evaluate(test_dataset, mcm, classification_report)                            <span style=\"color: #800000; text-decoration-color: #800000\">│</span>\n",
       "<span style=\"color: #800000; text-decoration-color: #800000\">│</span>   <span style=\"color: #7f7f7f; text-decoration-color: #7f7f7f\"> 92 </span><span style=\"color: #7f7f7f; text-decoration-color: #7f7f7f\">│   │   </span><span style=\"color: #00ffff; text-decoration-color: #00ffff\">self</span>.model.save_pretrained(<span style=\"color: #00ffff; text-decoration-color: #00ffff\">self</span>.output_path)                                       <span style=\"color: #800000; text-decoration-color: #800000\">│</span>\n",
       "<span style=\"color: #800000; text-decoration-color: #800000\">│</span>   <span style=\"color: #7f7f7f; text-decoration-color: #7f7f7f\"> 93 </span><span style=\"color: #7f7f7f; text-decoration-color: #7f7f7f\">│   </span>                                                                                       <span style=\"color: #800000; text-decoration-color: #800000\">│</span>\n",
       "<span style=\"color: #800000; text-decoration-color: #800000\">│</span>   <span style=\"color: #7f7f7f; text-decoration-color: #7f7f7f\"> 94 </span><span style=\"color: #7f7f7f; text-decoration-color: #7f7f7f\">│   </span><span style=\"color: #0000ff; text-decoration-color: #0000ff\">def</span> <span style=\"color: #00ff00; text-decoration-color: #00ff00\">find_labels</span>(<span style=\"color: #00ffff; text-decoration-color: #00ffff\">self</span>, trainY):                                                         <span style=\"color: #800000; text-decoration-color: #800000\">│</span>\n",
       "<span style=\"color: #800000; text-decoration-color: #800000\">│</span>                                                                                                  <span style=\"color: #800000; text-decoration-color: #800000\">│</span>\n",
       "<span style=\"color: #800000; text-decoration-color: #800000\">│</span> <span style=\"color: #bfbf7f; text-decoration-color: #bfbf7f\">/mnt/c/Users/Sergi/Documents/BioTermCategorizer/biotermcategorizer/categorizers/</span><span style=\"color: #808000; text-decoration-color: #808000; font-weight: bold\">TransformersClas</span> <span style=\"color: #800000; text-decoration-color: #800000\">│</span>\n",
       "<span style=\"color: #800000; text-decoration-color: #800000\">│</span> <span style=\"color: #808000; text-decoration-color: #808000; font-weight: bold\">sifier.py</span>:<span style=\"color: #0000ff; text-decoration-color: #0000ff\">172</span> in <span style=\"color: #00ff00; text-decoration-color: #00ff00\">evaluate</span>                                                                        <span style=\"color: #800000; text-decoration-color: #800000\">│</span>\n",
       "<span style=\"color: #800000; text-decoration-color: #800000\">│</span>                                                                                                  <span style=\"color: #800000; text-decoration-color: #800000\">│</span>\n",
       "<span style=\"color: #800000; text-decoration-color: #800000\">│</span>   <span style=\"color: #7f7f7f; text-decoration-color: #7f7f7f\">169 </span><span style=\"color: #bfbf7f; text-decoration-color: #bfbf7f\">│   │   </span><span style=\"color: #808000; text-decoration-color: #808000\">- Evaluation metrics based on provided options.</span>                                    <span style=\"color: #800000; text-decoration-color: #800000\">│</span>\n",
       "<span style=\"color: #800000; text-decoration-color: #800000\">│</span>   <span style=\"color: #7f7f7f; text-decoration-color: #7f7f7f\">170 </span><span style=\"color: #bfbf7f; text-decoration-color: #bfbf7f\">│   │   </span><span style=\"color: #808000; text-decoration-color: #808000\">\"\"\"</span>                                                                                <span style=\"color: #800000; text-decoration-color: #800000\">│</span>\n",
       "<span style=\"color: #800000; text-decoration-color: #800000\">│</span>   <span style=\"color: #7f7f7f; text-decoration-color: #7f7f7f\">171 </span><span style=\"color: #7f7f7f; text-decoration-color: #7f7f7f\">│   │   </span>results = <span style=\"color: #00ffff; text-decoration-color: #00ffff\">self</span>.trainer.predict(testset)                                            <span style=\"color: #800000; text-decoration-color: #800000\">│</span>\n",
       "<span style=\"color: #800000; text-decoration-color: #800000\">│</span> <span style=\"color: #800000; text-decoration-color: #800000\">❱ </span>172 <span style=\"color: #7f7f7f; text-decoration-color: #7f7f7f\">│   │   </span>max_indices = np.argmax(results.predictions, axis=<span style=\"color: #0000ff; text-decoration-color: #0000ff\">1</span>)                               <span style=\"color: #800000; text-decoration-color: #800000\">│</span>\n",
       "<span style=\"color: #800000; text-decoration-color: #800000\">│</span>   <span style=\"color: #7f7f7f; text-decoration-color: #7f7f7f\">173 </span><span style=\"color: #7f7f7f; text-decoration-color: #7f7f7f\">│   │   </span>preds = np.zeros_like(results.predictions)                                         <span style=\"color: #800000; text-decoration-color: #800000\">│</span>\n",
       "<span style=\"color: #800000; text-decoration-color: #800000\">│</span>   <span style=\"color: #7f7f7f; text-decoration-color: #7f7f7f\">174 </span><span style=\"color: #7f7f7f; text-decoration-color: #7f7f7f\">│   │   </span>preds[np.arange(<span style=\"color: #00ffff; text-decoration-color: #00ffff\">len</span>(max_indices)), max_indices] = <span style=\"color: #0000ff; text-decoration-color: #0000ff\">1</span>                                <span style=\"color: #800000; text-decoration-color: #800000\">│</span>\n",
       "<span style=\"color: #800000; text-decoration-color: #800000\">│</span>   <span style=\"color: #7f7f7f; text-decoration-color: #7f7f7f\">175 </span><span style=\"color: #7f7f7f; text-decoration-color: #7f7f7f\">│   │   </span>metrics = <span style=\"color: #00ffff; text-decoration-color: #00ffff\">self</span>.evaluate_model(preds, results.label_ids, mcm, classification_repo   <span style=\"color: #800000; text-decoration-color: #800000\">│</span>\n",
       "<span style=\"color: #800000; text-decoration-color: #800000\">╰──────────────────────────────────────────────────────────────────────────────────────────────────╯</span>\n",
       "<span style=\"color: #ff0000; text-decoration-color: #ff0000; font-weight: bold\">NameError: </span>name <span style=\"color: #008000; text-decoration-color: #008000\">'np'</span> is not defined\n",
       "</pre>\n"
      ],
      "text/plain": [
       "\u001b[31m╭─\u001b[0m\u001b[31m──────────────────────────────\u001b[0m\u001b[31m \u001b[0m\u001b[1;31mTraceback \u001b[0m\u001b[1;2;31m(most recent call last)\u001b[0m\u001b[31m \u001b[0m\u001b[31m───────────────────────────────\u001b[0m\u001b[31m─╮\u001b[0m\n",
       "\u001b[31m│\u001b[0m in \u001b[92m<module>\u001b[0m:\u001b[94m3\u001b[0m                                                                                    \u001b[31m│\u001b[0m\n",
       "\u001b[31m│\u001b[0m                                                                                                  \u001b[31m│\u001b[0m\n",
       "\u001b[31m│\u001b[0m   \u001b[2m1 \u001b[0m\u001b[2m#training transformers classifier with default parameters and no mcm or classification_r\u001b[0m     \u001b[31m│\u001b[0m\n",
       "\u001b[31m│\u001b[0m   \u001b[2m2 \u001b[0mextractor12 = TermExtractor(extraction_methods=[\u001b[33m\"\u001b[0m\u001b[33mtextrank\u001b[0m\u001b[33m\"\u001b[0m],categorization_method=\u001b[33m\"\u001b[0m\u001b[33mtrans\u001b[0m     \u001b[31m│\u001b[0m\n",
       "\u001b[31m│\u001b[0m \u001b[31m❱ \u001b[0m3 extractor12.train_classifier(trainX,trainY,testX,testY)                                      \u001b[31m│\u001b[0m\n",
       "\u001b[31m│\u001b[0m   \u001b[2m4 \u001b[0mextractor12(text)                                                                            \u001b[31m│\u001b[0m\n",
       "\u001b[31m│\u001b[0m   \u001b[2m5 \u001b[0m\u001b[96mprint\u001b[0m(\u001b[33m\"\u001b[0m\u001b[33mUsing extractor12:\u001b[0m\u001b[33m\\n\u001b[0m\u001b[33m\"\u001b[0m, extractor12.keywords)                                          \u001b[31m│\u001b[0m\n",
       "\u001b[31m│\u001b[0m   \u001b[2m6 \u001b[0m                                                                                             \u001b[31m│\u001b[0m\n",
       "\u001b[31m│\u001b[0m                                                                                                  \u001b[31m│\u001b[0m\n",
       "\u001b[31m│\u001b[0m \u001b[2;33m/mnt/c/Users/Sergi/Documents/BioTermCategorizer/biotermcategorizer/\u001b[0m\u001b[1;33mTermExtractor.py\u001b[0m:\u001b[94m202\u001b[0m in       \u001b[31m│\u001b[0m\n",
       "\u001b[31m│\u001b[0m \u001b[92mtrain_classifier\u001b[0m                                                                                 \u001b[31m│\u001b[0m\n",
       "\u001b[31m│\u001b[0m                                                                                                  \u001b[31m│\u001b[0m\n",
       "\u001b[31m│\u001b[0m   \u001b[2m199 \u001b[0m\u001b[2;33m│   │   \u001b[0m\u001b[33m- String: Metrics to evaluate the performance of the catgorizer.\u001b[0m                   \u001b[31m│\u001b[0m\n",
       "\u001b[31m│\u001b[0m   \u001b[2m200 \u001b[0m\u001b[2;33m│   │   \u001b[0m\u001b[33m\"\"\"\u001b[0m                                                                                \u001b[31m│\u001b[0m\n",
       "\u001b[31m│\u001b[0m   \u001b[2m201 \u001b[0m\u001b[2m│   │   \u001b[0m\u001b[96mself\u001b[0m.categorizer.initialize_model_body(trainY)                                     \u001b[31m│\u001b[0m\n",
       "\u001b[31m│\u001b[0m \u001b[31m❱ \u001b[0m202 \u001b[2m│   │   \u001b[0mmetrics = \u001b[96mself\u001b[0m.categorizer.train_evaluate(trainX, trainY, testX, testY, mcm, cla   \u001b[31m│\u001b[0m\n",
       "\u001b[31m│\u001b[0m   \u001b[2m203 \u001b[0m\u001b[2m│   │   \u001b[0m\u001b[96mprint\u001b[0m(metrics)                                                                     \u001b[31m│\u001b[0m\n",
       "\u001b[31m│\u001b[0m   \u001b[2m204 \u001b[0m\u001b[2m│   \u001b[0m                                                                                       \u001b[31m│\u001b[0m\n",
       "\u001b[31m│\u001b[0m   \u001b[2m205 \u001b[0m\u001b[2m│   \u001b[0m\u001b[94mdef\u001b[0m \u001b[92mtrain_clustering\u001b[0m(\u001b[96mself\u001b[0m, trainX, **kwargs):                                          \u001b[31m│\u001b[0m\n",
       "\u001b[31m│\u001b[0m                                                                                                  \u001b[31m│\u001b[0m\n",
       "\u001b[31m│\u001b[0m \u001b[2;33m/mnt/c/Users/Sergi/Documents/BioTermCategorizer/biotermcategorizer/categorizers/\u001b[0m\u001b[1;33mTransformersClas\u001b[0m \u001b[31m│\u001b[0m\n",
       "\u001b[31m│\u001b[0m \u001b[1;33msifier.py\u001b[0m:\u001b[94m91\u001b[0m in \u001b[92mtrain_evaluate\u001b[0m                                                                   \u001b[31m│\u001b[0m\n",
       "\u001b[31m│\u001b[0m                                                                                                  \u001b[31m│\u001b[0m\n",
       "\u001b[31m│\u001b[0m   \u001b[2m 88 \u001b[0m\u001b[2m│   │   \u001b[0mtrain_dataset = \u001b[96mself\u001b[0m.prepare_data(trainX, trainY)                                  \u001b[31m│\u001b[0m\n",
       "\u001b[31m│\u001b[0m   \u001b[2m 89 \u001b[0m\u001b[2m│   │   \u001b[0m\u001b[96mself\u001b[0m.train(train_dataset, **kwargs)                                                \u001b[31m│\u001b[0m\n",
       "\u001b[31m│\u001b[0m   \u001b[2m 90 \u001b[0m\u001b[2m│   │   \u001b[0mtest_dataset = \u001b[96mself\u001b[0m.prepare_data(testX, testY)                                     \u001b[31m│\u001b[0m\n",
       "\u001b[31m│\u001b[0m \u001b[31m❱ \u001b[0m 91 \u001b[2m│   │   \u001b[0m\u001b[96mself\u001b[0m.evaluate(test_dataset, mcm, classification_report)                            \u001b[31m│\u001b[0m\n",
       "\u001b[31m│\u001b[0m   \u001b[2m 92 \u001b[0m\u001b[2m│   │   \u001b[0m\u001b[96mself\u001b[0m.model.save_pretrained(\u001b[96mself\u001b[0m.output_path)                                       \u001b[31m│\u001b[0m\n",
       "\u001b[31m│\u001b[0m   \u001b[2m 93 \u001b[0m\u001b[2m│   \u001b[0m                                                                                       \u001b[31m│\u001b[0m\n",
       "\u001b[31m│\u001b[0m   \u001b[2m 94 \u001b[0m\u001b[2m│   \u001b[0m\u001b[94mdef\u001b[0m \u001b[92mfind_labels\u001b[0m(\u001b[96mself\u001b[0m, trainY):                                                         \u001b[31m│\u001b[0m\n",
       "\u001b[31m│\u001b[0m                                                                                                  \u001b[31m│\u001b[0m\n",
       "\u001b[31m│\u001b[0m \u001b[2;33m/mnt/c/Users/Sergi/Documents/BioTermCategorizer/biotermcategorizer/categorizers/\u001b[0m\u001b[1;33mTransformersClas\u001b[0m \u001b[31m│\u001b[0m\n",
       "\u001b[31m│\u001b[0m \u001b[1;33msifier.py\u001b[0m:\u001b[94m172\u001b[0m in \u001b[92mevaluate\u001b[0m                                                                        \u001b[31m│\u001b[0m\n",
       "\u001b[31m│\u001b[0m                                                                                                  \u001b[31m│\u001b[0m\n",
       "\u001b[31m│\u001b[0m   \u001b[2m169 \u001b[0m\u001b[2;33m│   │   \u001b[0m\u001b[33m- Evaluation metrics based on provided options.\u001b[0m                                    \u001b[31m│\u001b[0m\n",
       "\u001b[31m│\u001b[0m   \u001b[2m170 \u001b[0m\u001b[2;33m│   │   \u001b[0m\u001b[33m\"\"\"\u001b[0m                                                                                \u001b[31m│\u001b[0m\n",
       "\u001b[31m│\u001b[0m   \u001b[2m171 \u001b[0m\u001b[2m│   │   \u001b[0mresults = \u001b[96mself\u001b[0m.trainer.predict(testset)                                            \u001b[31m│\u001b[0m\n",
       "\u001b[31m│\u001b[0m \u001b[31m❱ \u001b[0m172 \u001b[2m│   │   \u001b[0mmax_indices = np.argmax(results.predictions, axis=\u001b[94m1\u001b[0m)                               \u001b[31m│\u001b[0m\n",
       "\u001b[31m│\u001b[0m   \u001b[2m173 \u001b[0m\u001b[2m│   │   \u001b[0mpreds = np.zeros_like(results.predictions)                                         \u001b[31m│\u001b[0m\n",
       "\u001b[31m│\u001b[0m   \u001b[2m174 \u001b[0m\u001b[2m│   │   \u001b[0mpreds[np.arange(\u001b[96mlen\u001b[0m(max_indices)), max_indices] = \u001b[94m1\u001b[0m                                \u001b[31m│\u001b[0m\n",
       "\u001b[31m│\u001b[0m   \u001b[2m175 \u001b[0m\u001b[2m│   │   \u001b[0mmetrics = \u001b[96mself\u001b[0m.evaluate_model(preds, results.label_ids, mcm, classification_repo   \u001b[31m│\u001b[0m\n",
       "\u001b[31m╰──────────────────────────────────────────────────────────────────────────────────────────────────╯\u001b[0m\n",
       "\u001b[1;91mNameError: \u001b[0mname \u001b[32m'np'\u001b[0m is not defined\n"
      ]
     },
     "metadata": {},
     "output_type": "display_data"
    }
   ],
   "source": [
    "#training transformers classifier with default parameters and no mcm or classification_report\n",
    "extractor12 = TermExtractor(extraction_methods=[\"textrank\"],categorization_method=\"transformers\")\n",
    "extractor12.train_classifier(trainX,trainY,testX,testY)\n",
    "extractor12(text)\n",
    "print(\"Using extractor12:\\n\", extractor12.keywords)"
   ]
  },
  {
   "cell_type": "code",
   "execution_count": null,
   "id": "e9738202-43c5-4f16-9fee-2cf0ec5d5da7",
   "metadata": {},
   "outputs": [],
   "source": [
    "#training setfit classifier printing mcm and classification_report during evaluation\n",
    "extractor13 = TermExtractor(extraction_methods=[\"textrank\"],categorization_method=\"setfit\")\n",
    "extractor13.train_classifier(trainX,trainY,testX,testY, mcm=True, classification_report=True)\n",
    "extractor13(text)\n",
    "print(\"Using extractor12:\\n\", extractor13.keywords)"
   ]
  },
  {
   "cell_type": "markdown",
   "id": "9800aaee-4896-4fac-9931-15963aaef8ab",
   "metadata": {},
   "source": [
    "##### Training the Clustering model\n"
   ]
  },
  {
   "cell_type": "code",
   "execution_count": null,
   "id": "832ba0ec-757b-4d66-85dd-5bcc1cbf773b",
   "metadata": {},
   "outputs": [],
   "source": []
  },
  {
   "cell_type": "markdown",
   "id": "14c9e645-ec8c-457a-91d6-976d3acf0ae5",
   "metadata": {},
   "source": [
    "FALTA ACABAR ESTO Y PONER LINKS A SETFIT AUTOMODEL Y TAL PARA MAS INFO"
   ]
  }
 ],
 "metadata": {
  "kernelspec": {
   "display_name": "Python 3 (ipykernel)",
   "language": "python",
   "name": "python3"
  },
  "language_info": {
   "codemirror_mode": {
    "name": "ipython",
    "version": 3
   },
   "file_extension": ".py",
   "mimetype": "text/x-python",
   "name": "python",
   "nbconvert_exporter": "python",
   "pygments_lexer": "ipython3",
   "version": "3.10.12"
  }
 },
 "nbformat": 4,
 "nbformat_minor": 5
}
