{
 "cells": [
  {
   "cell_type": "markdown",
   "id": "800830d1-5134-427f-9f9c-751ff0bd6d7c",
   "metadata": {},
   "source": [
    "# Tutorial for term extraction\n",
    "This tutorial describes the main steps for the usage of the term extractors as part of the BioTermCategorizer library."
   ]
  },
  {
   "cell_type": "markdown",
   "id": "52f84a42-3a89-46c5-9e89-3422c434263d",
   "metadata": {},
   "source": [
    "### Importing the library\n",
    "In order to import the library and all its functions, the following code should be executed"
   ]
  },
  {
   "cell_type": "code",
   "execution_count": 3,
   "id": "80854963-a8c3-41e7-9dfa-23de8d6d9641",
   "metadata": {},
   "outputs": [
    {
     "data": {
      "text/plain": [
       "'/mnt/c/Users/Sergi/Documents/BioTermCategorizer/'"
      ]
     },
     "execution_count": 3,
     "metadata": {},
     "output_type": "execute_result"
    }
   ],
   "source": [
    "import sys, os, re\n",
    "\n",
    "#set the path to the library\n",
    "general_path = os.getcwd().split(\"BioTermCategorizer\")[0]+\"BioTermCategorizer/\"\n",
    "sys.path.append(general_path+'biotermcategorizer/')\n",
    "general_path"
   ]
  },
  {
   "cell_type": "markdown",
   "id": "65b6b244-1721-4e3d-8711-1a0893cb2b54",
   "metadata": {},
   "source": [
    "Additionally, the main class `TermExtractor` must be imported"
   ]
  },
  {
   "cell_type": "code",
   "execution_count": 4,
   "id": "c89c9e9e-2470-4598-9658-e066d4839e39",
   "metadata": {},
   "outputs": [
    {
     "ename": "SyntaxError",
     "evalue": "invalid syntax (Categorizer.py, line 80)",
     "output_type": "error",
     "traceback": [
      "Traceback \u001b[0;36m(most recent call last)\u001b[0m:\n",
      "\u001b[0m  File \u001b[1;32m/mnt/c/Users/Sergi/Documents/BioTermCategorizer/.env_biotermcategorizer/lib/python3.10/site-packages/IPython/core/interactiveshell.py:3508\u001b[0m in \u001b[1;35mrun_code\u001b[0m\n    exec(code_obj, self.user_global_ns, self.user_ns)\u001b[0m\n",
      "\u001b[0m  Cell \u001b[1;32mIn[4], line 1\u001b[0m\n    from TermExtractor import TermExtractor\u001b[0m\n",
      "\u001b[0m  File \u001b[1;32m/mnt/c/Users/Sergi/Documents/BioTermCategorizer/biotermcategorizer/TermExtractor.py:8\u001b[0m\n    from categorizers.Clustering import Clustering\u001b[0m\n",
      "\u001b[0;36m  File \u001b[0;32m/mnt/c/Users/Sergi/Documents/BioTermCategorizer/biotermcategorizer/categorizers/Clustering.py:6\u001b[0;36m\n\u001b[0;31m    from .Categorizer import Categorizer\u001b[0;36m\n",
      "\u001b[0;36m  File \u001b[0;32m/mnt/c/Users/Sergi/Documents/BioTermCategorizer/biotermcategorizer/categorizers/Categorizer.py:80\u001b[0;36m\u001b[0m\n\u001b[0;31m    true labels = [self.labels[i] for i, value in enumerate(y_test[idx]) if value == 1]\u001b[0m\n\u001b[0m         ^\u001b[0m\n\u001b[0;31mSyntaxError\u001b[0m\u001b[0;31m:\u001b[0m invalid syntax\n"
     ]
    }
   ],
   "source": [
    "from TermExtractor import TermExtractor"
   ]
  },
  {
   "cell_type": "markdown",
   "id": "ba8bf9d6-3922-4592-bbb7-0faa742260cc",
   "metadata": {},
   "source": [
    "### Using TermExtractor\n",
    "#### Instance of TermExtractor\n",
    "A first instance of the class `TermExtractor` must be assigned to a variable, as shown below. The parameters that can be introduced are:\n",
    "- `extraction_methods` (list): List of extraction methods to use. Use a list even if only one extraction method is provided.\n",
    "- `language`(str): Language for text processing. Only implemented in spanish.\n",
    "- `max_tokens` (int): Maximum number of tokens for extracted terms.\n",
    "- `join` (bool): Whether to join terms obtained with different methods and to remove overlaps among them. When `join=True`, only a list of keywords is provided for all the selected extraction methods, as opposed to when `join=False`.\n",
    "- `postprocess`(bool): Whether to postprocess the extracted terms to remove and modify the ones with little meaning.\n",
    "\n",
    "The default values for these 4 parameters are as follows:\n",
    "`extraction_methods=[\"textrank\"], language=\"spanish\", max_tokens=3, join=False, postprocess=True`\n",
    "\n",
    "Some examples for creating a first instance of the extractor are shown below."
   ]
  },
  {
   "cell_type": "code",
   "execution_count": 4,
   "id": "95323d21-bc42-4244-99d1-beed24fef75d",
   "metadata": {},
   "outputs": [],
   "source": [
    "#extractor with default parameters\n",
    "extractor1 = TermExtractor()\n",
    "\n",
    "#extractor using Rake as extraction method and a maximum of 5 tokens and postprocessing\n",
    "extractor2 = TermExtractor(extraction_methods=[\"rake\"], max_tokens=5)\n",
    "\n",
    "#extractor using all extraction methods separately and no postprocessing\n",
    "extractor3 = TermExtractor(extraction_methods=[\"rake\",\"yake\",\"textrank\"], postprocess=False)\n",
    "\n",
    "#extractor using all extraction methods with join=True and no postprocessing\n",
    "extractor4 = TermExtractor(extraction_methods=[\"rake\",\"yake\",\"textrank\"], join=True, postprocess=False)\n",
    "\n",
    "#extractor using all extraction methods with join=True and postprocessing\n",
    "extractor5 = TermExtractor(extraction_methods=[\"rake\",\"yake\",\"textrank\"], join=True)"
   ]
  },
  {
   "cell_type": "markdown",
   "id": "4862d5d0-3b3f-4d8d-ab1a-9cacae410b11",
   "metadata": {},
   "source": [
    "Once the first instance of the extractor is created, some attributes of the `TermExtractor` object can already be presented. The following attributes can be extracted from the `TermExtractor` object through dot indexing:\n",
    "- `extraction_methods` (list): List of the selected extraction methods.\n",
    "- `extractors` (dict): dictionary of the Extractor() class type objects to be used.\n",
    "- `join`(bool): Provided value for join as a parameter.\n",
    "- `postprocess` (bool): Provided value for postprocess as a parameter.\n",
    "- `keywords`(list): List of Keyword() class objects including the extracted keywords. Since the extraction of the keywords has not yet been called, the attributes is `None`."
   ]
  },
  {
   "cell_type": "code",
   "execution_count": 6,
   "id": "feac230a-0faf-4904-82c8-56d3fa6084ff",
   "metadata": {},
   "outputs": [
    {
     "name": "stdout",
     "output_type": "stream",
     "text": [
      "The default settings use the extractor ['textrank'] with the parameter join = False\n",
      "The selected extractor is {'textrank': <extractors.TextRankExtractor.TextRankExtractor object at 0x7f8cdddea170>}\n",
      "The extracted keywords are None\n",
      "\n",
      "Extractors ['rake', 'yake', 'textrank'] with the parameter join = True\n",
      "The selected extractors are {'rake': <extractors.RakeExtractor.RakeExtractor object at 0x7f8cdbe911b0>, 'yake': <extractors.YakeExtractor.YakeExtractor object at 0x7f8cdbe91240>, 'textrank': <extractors.TextRankExtractor.TextRankExtractor object at 0x7f8cdbe90c70>}\n",
      "The extracted keywords are None\n"
     ]
    }
   ],
   "source": [
    "#attributes with the default settings\n",
    "print(\"The default settings use the extractor\", str(extractor1.extraction_methods), \"with the parameter join =\", str(extractor1.join))\n",
    "print(\"The selected extractor is\", str(extractor1.extractors))\n",
    "print(\"The extracted keywords are\", str(extractor1.keywords))\n",
    "\n",
    "#attributes using all extraction methods with join=True and no postprocessing\n",
    "print(\"\\nExtractors\", str(extractor4.extraction_methods), \"with the parameter join =\", str(extractor4.join))\n",
    "print(\"The selected extractors are\", str(extractor4.extractors))\n",
    "print(\"The extracted keywords are\", str(extractor4.keywords))"
   ]
  },
  {
   "cell_type": "markdown",
   "id": "df480931-2978-4afb-8d79-a6ba72cb042e",
   "metadata": {},
   "source": [
    "#### Calling TermExtractor to extract keywords\n",
    "Once the instance of `TermExtractor` has been assigned to a variable, this variable can be called on a piece of text so that it finds its corresponding keywords. These keywords are stored in the attribute `keywords` of the object `TermExtractor` as objects of type `Keyword`. \n",
    "\n",
    "The objects of type `Keyword` also have different attributes that can be called through dot indexing:\n",
    "- `text` (str): The extracted keyword text.\n",
    "- `method` (str): The extraction method used to find the keyword.\n",
    "- `score` (float): The relevance score of the keyword. This score varies in range depending on the used method.\n",
    "- `span` (list): list of two ints as [ini, fin] containing the starting and ending indexs of the keyword in the input text.\n",
    "\n",
    "The user can either access these attributes of each keyword individually or print the keyword directly, which returns all the attributes in a structured manner."
   ]
  },
  {
   "cell_type": "code",
   "execution_count": 7,
   "id": "be4f57d5-bb3a-477c-89b2-e78788c7989a",
   "metadata": {},
   "outputs": [
    {
     "name": "stdout",
     "output_type": "stream",
     "text": [
      "Printing the keywords directly:\n",
      " [<Keyword(text='esterilización', method='textrank', score='0.24598459598535585', span='[106, 119]')>, <Keyword(text='desinfección total', method='textrank', score='0.09198286384736273', span='[3, 20]')>, <Keyword(text='cualquier microorganismo', method='textrank', score='0.09157193650587012', span='[37, 60]')>, <Keyword(text='menos las esporas', method='textrank', score='0.07212809468876731', span='[62, 78]')>]\n",
      "\n",
      "Printing the keywords individually:\n",
      " [('esterilización', 'textrank', [106, 119], 0.24598459598535585), ('desinfección total', 'textrank', [3, 20], 0.09198286384736273), ('cualquier microorganismo', 'textrank', [37, 60], 0.09157193650587012), ('menos las esporas', 'textrank', [62, 78], 0.07212809468876731)]\n"
     ]
    }
   ],
   "source": [
    "#sample text\n",
    "text = \"La desinfección total puede eliminar cualquier microorganismo menos las esporas, que solo se eliminan por esterilización.\"\n",
    "\n",
    "#with default parameters\n",
    "extractor1(text)\n",
    "\n",
    "#printing the words directly\n",
    "print(\"Printing the keywords directly:\\n\", extractor1.keywords)\n",
    "\n",
    "#printing attributes individually\n",
    "words = [(kw.text,kw.method,kw.span,kw.score) for kw in extractor1.keywords]\n",
    "print(\"\\nPrinting the keywords individually:\\n\", words)"
   ]
  },
  {
   "cell_type": "code",
   "execution_count": 8,
   "id": "d09c855f-b09a-40c3-aa06-0aac2eec26c4",
   "metadata": {},
   "outputs": [
    {
     "name": "stdout",
     "output_type": "stream",
     "text": [
      "[<Keyword(text='solo', method='rake', score='1.0', span='[85, 88]')>, <Keyword(text='esterilización', method='rake', score='1.0', span='[106, 119]')>, <Keyword(text='esporas', method='rake', score='1.0', span='[72, 78]')>, <Keyword(text='eliminan', method='rake', score='1.0', span='[93, 100]')>] \n",
      "\n",
      "[<Keyword(text='solo', method='rake', score='1.0', span='[85, 88]')>, <Keyword(text='esterilización', method='rake', score='1.0', span='[106, 119]')>, <Keyword(text='esporas', method='rake', score='1.0', span='[72, 78]')>, <Keyword(text='eliminan', method='rake', score='1.0', span='[93, 100]')>, <Keyword(text='menos las esporas', method='yake', score='0.016559150827736194', span='[62, 78]')>, <Keyword(text='eliminan por esterilización', method='yake', score='0.016559150827736194', span='[93, 119]')>, <Keyword(text='desinfección total puede', method='yake', score='0.03339840940482845', span='[3, 26]')>, <Keyword(text='total puede eliminar', method='yake', score='0.03339840940482845', span='[16, 35]')>, <Keyword(text='puede eliminar cualquier', method='yake', score='0.03339840940482845', span='[22, 45]')>, <Keyword(text='eliminar cualquier microorganismo', method='yake', score='0.03339840940482845', span='[28, 60]')>, <Keyword(text='cualquier microorganismo menos', method='yake', score='0.03339840940482845', span='[37, 66]')>, <Keyword(text='microorganismo menos las', method='yake', score='0.03339840940482845', span='[47, 70]')>, <Keyword(text='solo se eliminan', method='yake', score='0.09700399286574239', span='[85, 100]')>, <Keyword(text='esterilización', method='textrank', score='0.24598459598535585', span='[106, 119]')>, <Keyword(text='La desinfección total', method='textrank', score='0.09198286384736273', span='[0, 20]')>, <Keyword(text='cualquier microorganismo', method='textrank', score='0.09157193650587012', span='[37, 60]')>, <Keyword(text='menos las esporas', method='textrank', score='0.07212809468876731', span='[62, 78]')>, <Keyword(text='que', method='textrank', score='0.0', span='[81, 83]')>] \n",
      "\n",
      "[<Keyword(text='menos las esporas', method='yake', score='0.016559150827736194', span='[62, 78]')>, <Keyword(text='eliminan por esterilización', method='yake', score='0.016559150827736194', span='[93, 119]')>, <Keyword(text='desinfección total puede', method='yake', score='0.03339840940482845', span='[3, 26]')>, <Keyword(text='total puede eliminar', method='yake', score='0.03339840940482845', span='[16, 35]')>, <Keyword(text='puede eliminar cualquier', method='yake', score='0.03339840940482845', span='[22, 45]')>, <Keyword(text='eliminar cualquier microorganismo', method='yake', score='0.03339840940482845', span='[28, 60]')>, <Keyword(text='cualquier microorganismo menos', method='yake', score='0.03339840940482845', span='[37, 66]')>, <Keyword(text='microorganismo menos las', method='yake', score='0.03339840940482845', span='[47, 70]')>, <Keyword(text='solo se eliminan', method='yake', score='0.09700399286574239', span='[85, 100]')>, <Keyword(text='La desinfección total', method='textrank', score='0.09198286384736273', span='[0, 20]')>, <Keyword(text='que', method='textrank', score='0.0', span='[81, 83]')>] \n",
      "\n",
      "[<Keyword(text='menos las esporas', method='yake', score='0.016559150827736194', span='[62, 78]')>, <Keyword(text='eliminan por esterilización', method='yake', score='0.016559150827736194', span='[93, 119]')>, <Keyword(text='desinfección total puede', method='yake', score='0.03339840940482845', span='[3, 26]')>, <Keyword(text='total puede eliminar', method='yake', score='0.03339840940482845', span='[16, 35]')>, <Keyword(text='puede eliminar cualquier', method='yake', score='0.03339840940482845', span='[22, 45]')>, <Keyword(text='eliminar cualquier microorganismo', method='yake', score='0.03339840940482845', span='[28, 60]')>, <Keyword(text='cualquier microorganismo menos', method='yake', score='0.03339840940482845', span='[37, 66]')>, <Keyword(text='microorganismo menos', method='yake', score='0.03339840940482845', span='[47, 66]')>, <Keyword(text='solo se eliminan', method='yake', score='0.09700399286574239', span='[85, 100]')>, <Keyword(text='desinfección total', method='textrank', score='0.09198286384736273', span='[3, 20]')>]\n"
     ]
    }
   ],
   "source": [
    "#with Rake and 5 tokens at most and postprocessing\n",
    "extractor2(text)\n",
    "print(extractor2.keywords, \"\\n\")\n",
    "\n",
    "#with all algorithms and join=False and no postprocessing\n",
    "extractor3(text)\n",
    "print(extractor3.keywords, \"\\n\")\n",
    "\n",
    "#with all algorithms and join=True and no postprocessing\n",
    "extractor4(text)\n",
    "print(extractor4.keywords, \"\\n\")\n",
    "\n",
    "#with all algorithms, join=True and postprocessing\n",
    "extractor5(text)\n",
    "print(extractor5.keywords)"
   ]
  }
 ],
 "metadata": {
  "kernelspec": {
   "display_name": "Python 3 (ipykernel)",
   "language": "python",
   "name": "python3"
  },
  "language_info": {
   "codemirror_mode": {
    "name": "ipython",
    "version": 3
   },
   "file_extension": ".py",
   "mimetype": "text/x-python",
   "name": "python",
   "nbconvert_exporter": "python",
   "pygments_lexer": "ipython3",
   "version": "3.10.12"
  }
 },
 "nbformat": 4,
 "nbformat_minor": 5
}
