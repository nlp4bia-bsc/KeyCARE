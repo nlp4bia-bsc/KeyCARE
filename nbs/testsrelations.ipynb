{
 "cells": [
  {
   "cell_type": "code",
   "execution_count": 1,
   "id": "63f26bf9-0b76-47d1-972a-51a31f3ad127",
   "metadata": {},
   "outputs": [
    {
     "name": "stderr",
     "output_type": "stream",
     "text": [
      "/mnt/c/Users/Sergi/Documents/BioTermCategorizer/.env_biotermcategorizer/lib/python3.10/site-packages/tqdm/auto.py:21: TqdmWarning: IProgress not found. Please update jupyter and ipywidgets. See https://ipywidgets.readthedocs.io/en/stable/user_install.html\n",
      "  from .autonotebook import tqdm as notebook_tqdm\n"
     ]
    }
   ],
   "source": [
    "from transformers import AutoModelForSequenceClassification, AutoTokenizer\n",
    "\n",
    "model_dir = '/mnt/c/Users/Sergi/Desktop/BSC/modelos_entrenados/transformers_rel2'\n",
    "model = AutoModelForSequenceClassification.from_pretrained(model_dir)\n",
    "\n",
    "path = '/mnt/c/Users/Sergi/Desktop/BSC/spanish_sapbert_models/sapbert_15_noparents_1epoch'\n",
    "tokenizer = AutoTokenizer.from_pretrained(path)"
   ]
  },
  {
   "cell_type": "code",
   "execution_count": 2,
   "id": "047230d9-4da0-42b7-913e-d90bf5f953ab",
   "metadata": {},
   "outputs": [],
   "source": [
    "import torch"
   ]
  },
  {
   "cell_type": "code",
   "execution_count": 3,
   "id": "886efc77-4ebc-427f-b4d2-d39b008e29b9",
   "metadata": {},
   "outputs": [],
   "source": [
    "def compute_relation(source, target):\n",
    "    \"\"\"\n",
    "    Computes relations between source and target entities using Transformers model.\n",
    "\n",
    "    Parameters:\n",
    "    source (list): List of source entities.\n",
    "    target (list): List of target entities.\n",
    "\n",
    "    Returns:\n",
    "    list: List of labels representing computed relations.\n",
    "    \"\"\"\n",
    "    final_labels = list()\n",
    "    tokenized_mention = tokenizer(source, target, return_tensors='pt', padding=True, truncation=True)\n",
    "    with torch.no_grad():\n",
    "        output = model(**tokenized_mention)\n",
    "    logits = output.logits\n",
    "    for i in range(len(logits.tolist())):\n",
    "        predscores = {label: score for label, score in zip(all_labels, logits.tolist()[i])}\n",
    "        top_n_labels = sorted(predscores, key=predscores.get, reverse=True)[:1]\n",
    "        filtered_labels = [label for label in top_n_labels if predscores[label] > -1]\n",
    "        final_labels.append(filtered_labels)\n",
    "    return final_labels"
   ]
  },
  {
   "cell_type": "code",
   "execution_count": 23,
   "id": "fb37406d-b8fc-4f05-afda-4cbd87e9fb8f",
   "metadata": {},
   "outputs": [],
   "source": [
    "# import pandas as pd\n",
    "\n",
    "# # Read the TXT file into a list of lines\n",
    "# with open('/mnt/c/Users/Sergi/Desktop/BSC/Test_files/testset_rel_model2.txt') as f:\n",
    "#     lines = f.readlines()\n",
    "\n",
    "# # Split each line into a list of values\n",
    "# data = []\n",
    "# for line in lines:\n",
    "#     values = line.strip().split('\\t')\n",
    "#     data.append(values)\n",
    "\n",
    "# # Create a DataFrame from the list of data\n",
    "# df = pd.DataFrame(data[1:], columns=data[0])\n",
    "\n",
    "# # Save the DataFrame to a TSV file\n",
    "# df.to_csv('/mnt/c/Users/Sergi/Desktop/BSC/Test_files/testset_rel_model.tsv', index=False, sep='\\t')"
   ]
  },
  {
   "cell_type": "code",
   "execution_count": 4,
   "id": "77d21074-1545-472b-a995-6c8caeeee910",
   "metadata": {},
   "outputs": [],
   "source": [
    "import pandas as pd\n",
    "\n",
    "path = '/mnt/c/Users/Sergi/Desktop/BSC/Test_files/testset_rel_model.tsv'\n",
    "data = pd.read_csv(path, delimiter='\\t')\n",
    "source = data['source'].tolist()\n",
    "target = data['target'].tolist()"
   ]
  },
  {
   "cell_type": "code",
   "execution_count": null,
   "id": "68da3bfa-1b6c-4275-a730-a22a9727e5d3",
   "metadata": {},
   "outputs": [],
   "source": [
    "rels = compute_relation(source, target)"
   ]
  },
  {
   "cell_type": "code",
   "execution_count": null,
   "id": "48965fe5-9a98-444c-9475-8890c16839f4",
   "metadata": {},
   "outputs": [],
   "source": [
    "rels"
   ]
  },
  {
   "cell_type": "code",
   "execution_count": null,
   "id": "53abe6ac-b678-4d93-b170-9f6825742cef",
   "metadata": {},
   "outputs": [],
   "source": []
  }
 ],
 "metadata": {
  "kernelspec": {
   "display_name": "Python 3 (ipykernel)",
   "language": "python",
   "name": "python3"
  },
  "language_info": {
   "codemirror_mode": {
    "name": "ipython",
    "version": 3
   },
   "file_extension": ".py",
   "mimetype": "text/x-python",
   "name": "python",
   "nbconvert_exporter": "python",
   "pygments_lexer": "ipython3",
   "version": "3.10.12"
  }
 },
 "nbformat": 4,
 "nbformat_minor": 5
}
