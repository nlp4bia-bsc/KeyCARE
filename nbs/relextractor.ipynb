{
 "cells": [
  {
   "cell_type": "code",
   "execution_count": 61,
   "id": "5187e3cb-75a3-48ce-b067-c92619ff6967",
   "metadata": {},
   "outputs": [],
   "source": [
    "class RelExtractor:\n",
    "    def __init__(self, \n",
    "                 relation_method='transformers', \n",
    "                 language='spanish',\n",
    "                 n=1,\n",
    "                 thr_transformers=0,\n",
    "                 thr_setfit=0.5,\n",
    "                 model_path=None,\n",
    "                ):\n",
    "        self.relation_method=relation_method\n",
    "        self.rel_extractor = self.initialize_relation_method(language, n, thr_transformers, thr_setfit, model_path)\n",
    "        \n",
    "    def initialize_relation_method(self, language, n, thr_transformers, thr_setfit, model_path):\n",
    "        if 'transformers' == self.relation_method:\n",
    "            rel_extractor = TransformersRelator(n, thr_transformers, model_path)\n",
    "        elif 'setfit' == self.relation_method:\n",
    "            rel_extractor = SetFitRelator(n, thr_setfit, model_path)\n",
    "        else:\n",
    "            raise ValueError(\"No relation method called {}\".format(self.relation_method))\n",
    "        return rel_extractor\n",
    "    \n",
    "    def __call__(self, source, target):\n",
    "        if (type(source)==str and type(target)==str):\n",
    "            source = [source]\n",
    "            target = [target]\n",
    "        if (len(source) != len(target)):\n",
    "            raise TypeError('The same number of source and target mentions must be provided')\n",
    "        else:\n",
    "            self.relations = [Relation(source[i],target[i],self.rel_extractor.compute_relation(source[i], target[i])) for i in range(len(source))]"
   ]
  },
  {
   "cell_type": "code",
   "execution_count": 1,
   "id": "27729242-5a02-4357-a4eb-03aae3b55aab",
   "metadata": {},
   "outputs": [],
   "source": [
    "class Relation:\n",
    "    def __init__(self, source, target, rel_type):\n",
    "        self.source = source\n",
    "        self.target = target\n",
    "        self.rel_type = rel_type\n",
    "\n",
    "    def __repr__(self):\n",
    "        return f\"<Relation(source mention='{self.source}', target mention='{self.target}', relation type='{self.rel_type}')>\""
   ]
  },
  {
   "cell_type": "code",
   "execution_count": 3,
   "id": "b4bb10f2-8b57-4d26-af4c-7646d6de098d",
   "metadata": {},
   "outputs": [],
   "source": [
    "class Relator:\n",
    "    def __init__(self, n, threshold, model_path):\n",
    "        self.n = n\n",
    "        self.threshold = threshold\n",
    "        self.labels = ['BROAD','EXACT','NARROW']\n",
    "        self.model = self.initialize_pretrained_model(model_path)"
   ]
  },
  {
   "cell_type": "code",
   "execution_count": 4,
   "id": "d0abf60d-2bbe-471c-9511-8901798db536",
   "metadata": {},
   "outputs": [
    {
     "name": "stderr",
     "output_type": "stream",
     "text": [
      "/mnt/c/Users/Sergi/Documents/BioTermCategorizer/.env_biotermcategorizer/lib/python3.10/site-packages/tqdm/auto.py:21: TqdmWarning: IProgress not found. Please update jupyter and ipywidgets. See https://ipywidgets.readthedocs.io/en/stable/user_install.html\n",
      "  from .autonotebook import tqdm as notebook_tqdm\n"
     ]
    }
   ],
   "source": [
    "import pandas as pd\n",
    "import torch\n",
    "from torch.utils.data import TensorDataset\n",
    "from sklearn.preprocessing import MultiLabelBinarizer\n",
    "from transformers import AutoTokenizer, AutoModelForSequenceClassification, Trainer, TrainingArguments"
   ]
  },
  {
   "cell_type": "code",
   "execution_count": 43,
   "id": "bfc648db-33a4-4487-b759-4ab9e1fa3d9b",
   "metadata": {},
   "outputs": [],
   "source": [
    "class TransformersRelator(Relator):\n",
    "    def __init__(self, n, threshold, model_path):\n",
    "        super().__init__(n, threshold, model_path)\n",
    "        \n",
    "    def initialize_pretrained_model(self, model_path):\n",
    "        self.mlb = MultiLabelBinarizer()\n",
    "        self.mlb.fit([self.labels])\n",
    "        path = '/mnt/c/Users/Sergi/Desktop/BSC/spanish_sapbert_models/sapbert_15_noparents_1epoch'\n",
    "        self.tokenizer = AutoTokenizer.from_pretrained(path)\n",
    "        if model_path is None:\n",
    "            path = '/mnt/c/Users/Sergi/Desktop/BSC/modelos_entrenados/transformers_rel1'        \n",
    "            model = AutoModelForSequenceClassification.from_pretrained(path)\n",
    "        else:\n",
    "            model = AutoModelForSequenceClassification.from_pretrained(model_path)\n",
    "        return model\n",
    "\n",
    "    def compute_relation(self, source, target):\n",
    "        tokenized_mention = self.tokenizer(source, target, return_tensors='pt', padding=True, truncation=True)\n",
    "        with torch.no_grad():\n",
    "            output = self.model(**tokenized_mention)\n",
    "        logits = output.logits\n",
    "        predscores = {label: score for label, score in zip(self.labels, logits.tolist()[0])}\n",
    "        top_n_labels = sorted(predscores, key=predscores.get, reverse=True)[:self.n]\n",
    "        filtered_labels = [label for label in top_n_labels if predscores[label] > self.threshold]\n",
    "        return filtered_labels"
   ]
  },
  {
   "cell_type": "code",
   "execution_count": 6,
   "id": "24f34592-21f4-4362-82a2-adaed5626476",
   "metadata": {},
   "outputs": [],
   "source": [
    "from setfit import SetFitModel, SetFitTrainer\n",
    "import torch"
   ]
  },
  {
   "cell_type": "code",
   "execution_count": 59,
   "id": "fdc6e9b7-d8cc-4fc8-862a-e0409643f15a",
   "metadata": {},
   "outputs": [],
   "source": [
    "class SetFitRelator(Relator):\n",
    "    def __init__(self, n, threshold, model_path):\n",
    "        super().__init__(n, threshold, model_path)\n",
    "    \n",
    "    def initialize_pretrained_model(self, model_path):\n",
    "        if model_path is None:\n",
    "            path = '/mnt/c/Users/Sergi/Desktop/BSC/modelos_entrenados/setfit_rel1'\n",
    "            model = SetFitModel.from_pretrained(path)\n",
    "        else:\n",
    "            model = SetFitModel.from_pretrained(model_path)\n",
    "        return model\n",
    "\n",
    "    def compute_relation(self, source, target):\n",
    "        mention = source + \" </s> \" + target\n",
    "        embeddings = self.model.model_body.encode([mention], normalize_embeddings=self.model.normalize_embeddings, convert_to_tensor=True)\n",
    "        predicts = self.model.model_head.predict_proba(embeddings)\n",
    "        predscores = {self.labels[i]: arr[:,1].tolist()[0] for i, arr in enumerate(predicts)}\n",
    "        top_n_labels = sorted(predscores, key=predscores.get, reverse=True)[:self.n]\n",
    "        filtered_labels = [label for label in top_n_labels if predscores[label] > self.threshold]\n",
    "        return filtered_labels"
   ]
  },
  {
   "cell_type": "code",
   "execution_count": null,
   "id": "8802a5d1-b5e4-48b8-9f65-78c27d8524e9",
   "metadata": {},
   "outputs": [],
   "source": []
  },
  {
   "cell_type": "code",
   "execution_count": 56,
   "id": "11a081d7-efdf-4dd4-b82d-28ced8c7406e",
   "metadata": {},
   "outputs": [],
   "source": [
    "relator = RelExtractor(relation_method='transformers')"
   ]
  },
  {
   "cell_type": "code",
   "execution_count": 60,
   "id": "8fff00cc-66cc-4f96-8a91-6924ad84fbf1",
   "metadata": {},
   "outputs": [
    {
     "data": {
      "text/html": [
       "<pre style=\"white-space:pre;overflow-x:auto;line-height:normal;font-family:Menlo,'DejaVu Sans Mono',consolas,'Courier New',monospace\"><span style=\"color: #800000; text-decoration-color: #800000\">╭─────────────────────────────── </span><span style=\"color: #800000; text-decoration-color: #800000; font-weight: bold\">Traceback </span><span style=\"color: #bf7f7f; text-decoration-color: #bf7f7f; font-weight: bold\">(most recent call last)</span><span style=\"color: #800000; text-decoration-color: #800000\"> ────────────────────────────────╮</span>\n",
       "<span style=\"color: #800000; text-decoration-color: #800000\">│</span> in <span style=\"color: #00ff00; text-decoration-color: #00ff00\">&lt;module&gt;</span>:<span style=\"color: #0000ff; text-decoration-color: #0000ff\">1</span>                                                                                    <span style=\"color: #800000; text-decoration-color: #800000\">│</span>\n",
       "<span style=\"color: #800000; text-decoration-color: #800000\">│</span>                                                                                                  <span style=\"color: #800000; text-decoration-color: #800000\">│</span>\n",
       "<span style=\"color: #800000; text-decoration-color: #800000\">│</span> <span style=\"color: #800000; text-decoration-color: #800000\">❱ </span>1 relator([<span style=\"color: #808000; text-decoration-color: #808000\">\"cancer\"</span>,<span style=\"color: #808000; text-decoration-color: #808000\">\"gripe aviaria\"</span>],[<span style=\"color: #808000; text-decoration-color: #808000\">\"cancer de mama infiltrante\"</span>])                           <span style=\"color: #800000; text-decoration-color: #800000\">│</span>\n",
       "<span style=\"color: #800000; text-decoration-color: #800000\">│</span>   <span style=\"color: #7f7f7f; text-decoration-color: #7f7f7f\">2 </span>                                                                                             <span style=\"color: #800000; text-decoration-color: #800000\">│</span>\n",
       "<span style=\"color: #800000; text-decoration-color: #800000\">│</span>                                                                                                  <span style=\"color: #800000; text-decoration-color: #800000\">│</span>\n",
       "<span style=\"color: #800000; text-decoration-color: #800000\">│</span> in <span style=\"color: #00ff00; text-decoration-color: #00ff00\">__call__</span>:<span style=\"color: #0000ff; text-decoration-color: #0000ff\">27</span>                                                                                   <span style=\"color: #800000; text-decoration-color: #800000\">│</span>\n",
       "<span style=\"color: #800000; text-decoration-color: #800000\">│</span>                                                                                                  <span style=\"color: #800000; text-decoration-color: #800000\">│</span>\n",
       "<span style=\"color: #800000; text-decoration-color: #800000\">│</span>   <span style=\"color: #7f7f7f; text-decoration-color: #7f7f7f\">24 </span><span style=\"color: #7f7f7f; text-decoration-color: #7f7f7f\">│   │   │   </span>source = [source]                                                               <span style=\"color: #800000; text-decoration-color: #800000\">│</span>\n",
       "<span style=\"color: #800000; text-decoration-color: #800000\">│</span>   <span style=\"color: #7f7f7f; text-decoration-color: #7f7f7f\">25 </span><span style=\"color: #7f7f7f; text-decoration-color: #7f7f7f\">│   │   │   </span>target = [target]                                                               <span style=\"color: #800000; text-decoration-color: #800000\">│</span>\n",
       "<span style=\"color: #800000; text-decoration-color: #800000\">│</span>   <span style=\"color: #7f7f7f; text-decoration-color: #7f7f7f\">26 </span><span style=\"color: #7f7f7f; text-decoration-color: #7f7f7f\">│   │   </span><span style=\"color: #0000ff; text-decoration-color: #0000ff\">if</span> (<span style=\"color: #00ffff; text-decoration-color: #00ffff\">len</span>(source) != <span style=\"color: #00ffff; text-decoration-color: #00ffff\">len</span>(target)):                                                    <span style=\"color: #800000; text-decoration-color: #800000\">│</span>\n",
       "<span style=\"color: #800000; text-decoration-color: #800000\">│</span> <span style=\"color: #800000; text-decoration-color: #800000\">❱ </span>27 <span style=\"color: #7f7f7f; text-decoration-color: #7f7f7f\">│   │   │   </span><span style=\"color: #0000ff; text-decoration-color: #0000ff\">raise</span> InputError(<span style=\"color: #808000; text-decoration-color: #808000\">'The same number of source and target mentions must be prov</span>    <span style=\"color: #800000; text-decoration-color: #800000\">│</span>\n",
       "<span style=\"color: #800000; text-decoration-color: #800000\">│</span>   <span style=\"color: #7f7f7f; text-decoration-color: #7f7f7f\">28 </span><span style=\"color: #7f7f7f; text-decoration-color: #7f7f7f\">│   │   </span><span style=\"color: #0000ff; text-decoration-color: #0000ff\">else</span>:                                                                               <span style=\"color: #800000; text-decoration-color: #800000\">│</span>\n",
       "<span style=\"color: #800000; text-decoration-color: #800000\">│</span>   <span style=\"color: #7f7f7f; text-decoration-color: #7f7f7f\">29 </span><span style=\"color: #7f7f7f; text-decoration-color: #7f7f7f\">│   │   │   </span><span style=\"color: #00ffff; text-decoration-color: #00ffff\">self</span>.relations = [Relation(source[i],target[i],<span style=\"color: #00ffff; text-decoration-color: #00ffff\">self</span>.rel_extractor.compute_re    <span style=\"color: #800000; text-decoration-color: #800000\">│</span>\n",
       "<span style=\"color: #800000; text-decoration-color: #800000\">│</span>   <span style=\"color: #7f7f7f; text-decoration-color: #7f7f7f\">30 </span>                                                                                            <span style=\"color: #800000; text-decoration-color: #800000\">│</span>\n",
       "<span style=\"color: #800000; text-decoration-color: #800000\">╰──────────────────────────────────────────────────────────────────────────────────────────────────╯</span>\n",
       "<span style=\"color: #ff0000; text-decoration-color: #ff0000; font-weight: bold\">NameError: </span>name <span style=\"color: #008000; text-decoration-color: #008000\">'InputError'</span> is not defined\n",
       "</pre>\n"
      ],
      "text/plain": [
       "\u001b[31m╭─\u001b[0m\u001b[31m──────────────────────────────\u001b[0m\u001b[31m \u001b[0m\u001b[1;31mTraceback \u001b[0m\u001b[1;2;31m(most recent call last)\u001b[0m\u001b[31m \u001b[0m\u001b[31m───────────────────────────────\u001b[0m\u001b[31m─╮\u001b[0m\n",
       "\u001b[31m│\u001b[0m in \u001b[92m<module>\u001b[0m:\u001b[94m1\u001b[0m                                                                                    \u001b[31m│\u001b[0m\n",
       "\u001b[31m│\u001b[0m                                                                                                  \u001b[31m│\u001b[0m\n",
       "\u001b[31m│\u001b[0m \u001b[31m❱ \u001b[0m1 relator([\u001b[33m\"\u001b[0m\u001b[33mcancer\u001b[0m\u001b[33m\"\u001b[0m,\u001b[33m\"\u001b[0m\u001b[33mgripe aviaria\u001b[0m\u001b[33m\"\u001b[0m],[\u001b[33m\"\u001b[0m\u001b[33mcancer de mama infiltrante\u001b[0m\u001b[33m\"\u001b[0m])                           \u001b[31m│\u001b[0m\n",
       "\u001b[31m│\u001b[0m   \u001b[2m2 \u001b[0m                                                                                             \u001b[31m│\u001b[0m\n",
       "\u001b[31m│\u001b[0m                                                                                                  \u001b[31m│\u001b[0m\n",
       "\u001b[31m│\u001b[0m in \u001b[92m__call__\u001b[0m:\u001b[94m27\u001b[0m                                                                                   \u001b[31m│\u001b[0m\n",
       "\u001b[31m│\u001b[0m                                                                                                  \u001b[31m│\u001b[0m\n",
       "\u001b[31m│\u001b[0m   \u001b[2m24 \u001b[0m\u001b[2m│   │   │   \u001b[0msource = [source]                                                               \u001b[31m│\u001b[0m\n",
       "\u001b[31m│\u001b[0m   \u001b[2m25 \u001b[0m\u001b[2m│   │   │   \u001b[0mtarget = [target]                                                               \u001b[31m│\u001b[0m\n",
       "\u001b[31m│\u001b[0m   \u001b[2m26 \u001b[0m\u001b[2m│   │   \u001b[0m\u001b[94mif\u001b[0m (\u001b[96mlen\u001b[0m(source) != \u001b[96mlen\u001b[0m(target)):                                                    \u001b[31m│\u001b[0m\n",
       "\u001b[31m│\u001b[0m \u001b[31m❱ \u001b[0m27 \u001b[2m│   │   │   \u001b[0m\u001b[94mraise\u001b[0m InputError(\u001b[33m'\u001b[0m\u001b[33mThe same number of source and target mentions must be prov\u001b[0m    \u001b[31m│\u001b[0m\n",
       "\u001b[31m│\u001b[0m   \u001b[2m28 \u001b[0m\u001b[2m│   │   \u001b[0m\u001b[94melse\u001b[0m:                                                                               \u001b[31m│\u001b[0m\n",
       "\u001b[31m│\u001b[0m   \u001b[2m29 \u001b[0m\u001b[2m│   │   │   \u001b[0m\u001b[96mself\u001b[0m.relations = [Relation(source[i],target[i],\u001b[96mself\u001b[0m.rel_extractor.compute_re    \u001b[31m│\u001b[0m\n",
       "\u001b[31m│\u001b[0m   \u001b[2m30 \u001b[0m                                                                                            \u001b[31m│\u001b[0m\n",
       "\u001b[31m╰──────────────────────────────────────────────────────────────────────────────────────────────────╯\u001b[0m\n",
       "\u001b[1;91mNameError: \u001b[0mname \u001b[32m'InputError'\u001b[0m is not defined\n"
      ]
     },
     "metadata": {},
     "output_type": "display_data"
    }
   ],
   "source": [
    "relator([\"cancer\",\"gripe aviaria\"],[\"cancer de mama infiltrante\"])"
   ]
  },
  {
   "cell_type": "code",
   "execution_count": 58,
   "id": "dc7c40d5-2b51-4932-8f33-cefd8952f0ab",
   "metadata": {},
   "outputs": [
    {
     "data": {
      "text/plain": [
       "[<Relation(source mention='cancer', target mention='cancer de mama infiltrante', relation type='['BROAD']')>,\n",
       " <Relation(source mention='gripe aviaria', target mention='gripe', relation type='[]')>]"
      ]
     },
     "execution_count": 58,
     "metadata": {},
     "output_type": "execute_result"
    }
   ],
   "source": [
    "relator.relations"
   ]
  }
 ],
 "metadata": {
  "kernelspec": {
   "display_name": "Python 3 (ipykernel)",
   "language": "python",
   "name": "python3"
  },
  "language_info": {
   "codemirror_mode": {
    "name": "ipython",
    "version": 3
   },
   "file_extension": ".py",
   "mimetype": "text/x-python",
   "name": "python",
   "nbconvert_exporter": "python",
   "pygments_lexer": "ipython3",
   "version": "3.10.12"
  }
 },
 "nbformat": 4,
 "nbformat_minor": 5
}
