{
 "cells": [
  {
   "cell_type": "code",
   "execution_count": 1,
   "id": "c19ec7be-7a72-4d22-a746-783acf3c0458",
   "metadata": {},
   "outputs": [],
   "source": [
    "class Keyword:\n",
    "    def __init__(self, text, extraction_method=None, ini=None, fin=None, score=None):\n",
    "        self.text = text\n",
    "        self.extraction_method = extraction_method\n",
    "        self.score = score\n",
    "        self.span = [ini, fin]\n",
    "        self.categorization_method = None\n",
    "        self.label = None\n",
    "\n",
    "    def __repr__(self):\n",
    "        return f\"<Keyword(text='{self.text}', span='{self.span}', extraction method='{self.extraction_method}', score='{self.score}', categorization method='{self.categorization_method}', class='{self.label}')>\""
   ]
  },
  {
   "cell_type": "code",
   "execution_count": 26,
   "id": "5187e3cb-75a3-48ce-b067-c92619ff6967",
   "metadata": {},
   "outputs": [],
   "source": [
    "class RelExtractor:\n",
    "    def __init__(self, \n",
    "                 relation_method='transformers', \n",
    "                 language='spanish',\n",
    "                 n=1,\n",
    "                 thr_transformers=-1,\n",
    "                 thr_setfit=0.5,\n",
    "                 all_combinations=False,\n",
    "                 model_path=None,\n",
    "                ):\n",
    "        self.relation_method=relation_method\n",
    "        self.all_combinations = all_combinations\n",
    "        self.rel_extractor = self.initialize_relation_method(language, n, thr_transformers, thr_setfit, model_path)\n",
    "        \n",
    "    def initialize_relation_method(self, language, n, thr_transformers, thr_setfit, model_path):\n",
    "        if 'transformers' == self.relation_method:\n",
    "            rel_extractor = TransformersRelator(n, thr_transformers, model_path)\n",
    "        elif 'setfit' == self.relation_method:\n",
    "            rel_extractor = SetFitRelator(n, thr_setfit, model_path)\n",
    "        else:\n",
    "            raise ValueError(\"No relation method called {}\".format(self.relation_method))\n",
    "        return rel_extractor\n",
    "    \n",
    "    def __call__(self, source, target):\n",
    "        if (type(source)==Keyword):\n",
    "            source = [source]\n",
    "        elif (type(source)==str):\n",
    "            source = [Keyword(text=source)]\n",
    "        elif (type(source)==list):\n",
    "            if (all(isinstance(element, str) for element in source)):\n",
    "                source = [Keyword(text=i) for i in source]\n",
    "            elif not (all(isinstance(element, Keyword) for element in source)):\n",
    "                raise TypeError('Source contains elements other than strings or Keyword class objects')\n",
    "        else:\n",
    "            raise TypeError('Source must be a string, a Keyword class object, a list of strings or a list of Keyword class objects')\n",
    "\n",
    "        if (type(target)==Keyword):\n",
    "            target = [target]\n",
    "        elif (type(target)==str):\n",
    "            target = [Keyword(text=target)]\n",
    "        elif (type(target)==list):\n",
    "            if (all(isinstance(element, str) for element in target)):\n",
    "                target = [Keyword(text=i) for i in target]\n",
    "            elif not (all(isinstance(element, Keyword) for element in target)):\n",
    "                raise TypeError('Target contains elements other than strings or Keyword class objects')\n",
    "        else:\n",
    "            raise TypeError('Target must be a string, a Keyword class object, a list of strings or a list of Keyword class objects')\n",
    "\n",
    "        if self.all_combinations:\n",
    "            self.relations = []\n",
    "            for i in range(len(source)):\n",
    "                self.relations.extend([Relation(source[i],target[j],self.rel_extractor.compute_relation(source[i].text, target[j].text), self.relation_method) for j in range(len(target))])\n",
    "        else:\n",
    "            if (len(source) == len(target)):\n",
    "                self.relations = [Relation(source[i],target[i],self.rel_extractor.compute_relation(source[i].text, target[i].text), self.relation_method) for i in range(len(source))]\n",
    "            else:\n",
    "                raise TypeError('Source and target must be the same length when all_combinations=False.')"
   ]
  },
  {
   "cell_type": "code",
   "execution_count": null,
   "id": "8b10fe64-55b7-49e2-90cd-992114dd515e",
   "metadata": {},
   "outputs": [],
   "source": []
  },
  {
   "cell_type": "code",
   "execution_count": 27,
   "id": "27729242-5a02-4357-a4eb-03aae3b55aab",
   "metadata": {},
   "outputs": [],
   "source": [
    "class Relation:\n",
    "    def __init__(self, source, target, rel_type, relation_method):\n",
    "        self.source = source\n",
    "        self.target = target\n",
    "        self.rel_type = rel_type\n",
    "        self.relation_method = relation_method\n",
    "\n",
    "    def __repr__(self):\n",
    "        return f\"<Relation(source mention='{self.source.text}', target mention='{self.target.text}', relation type='{self.rel_type}', relation method='{self.relation_method}')>\""
   ]
  },
  {
   "cell_type": "code",
   "execution_count": 4,
   "id": "b4bb10f2-8b57-4d26-af4c-7646d6de098d",
   "metadata": {},
   "outputs": [],
   "source": [
    "class Relator:\n",
    "    def __init__(self, n, threshold, model_path):\n",
    "        self.n = n\n",
    "        self.threshold = threshold\n",
    "        self.labels = ['BROAD','EXACT','NARROW']\n",
    "        self.model = self.initialize_pretrained_model(model_path)"
   ]
  },
  {
   "cell_type": "code",
   "execution_count": null,
   "id": "8758c5ed-6630-43fb-bb32-b32260349e66",
   "metadata": {},
   "outputs": [],
   "source": []
  },
  {
   "cell_type": "code",
   "execution_count": 5,
   "id": "d0abf60d-2bbe-471c-9511-8901798db536",
   "metadata": {},
   "outputs": [
    {
     "name": "stderr",
     "output_type": "stream",
     "text": [
      "/mnt/c/Users/Sergi/Documents/BioTermCategorizer/.env_biotermcategorizer/lib/python3.10/site-packages/tqdm/auto.py:21: TqdmWarning: IProgress not found. Please update jupyter and ipywidgets. See https://ipywidgets.readthedocs.io/en/stable/user_install.html\n",
      "  from .autonotebook import tqdm as notebook_tqdm\n"
     ]
    }
   ],
   "source": [
    "import pandas as pd\n",
    "import torch\n",
    "from torch.utils.data import TensorDataset\n",
    "from sklearn.preprocessing import MultiLabelBinarizer\n",
    "from transformers import AutoTokenizer, AutoModelForSequenceClassification, Trainer, TrainingArguments"
   ]
  },
  {
   "cell_type": "code",
   "execution_count": 6,
   "id": "bfc648db-33a4-4487-b759-4ab9e1fa3d9b",
   "metadata": {},
   "outputs": [],
   "source": [
    "class TransformersRelator(Relator):\n",
    "    def __init__(self, n, threshold, model_path):\n",
    "        super().__init__(n, threshold, model_path)\n",
    "        \n",
    "    def initialize_pretrained_model(self, model_path):\n",
    "        self.mlb = MultiLabelBinarizer()\n",
    "        self.mlb.fit([self.labels])\n",
    "        path = '/mnt/c/Users/Sergi/Desktop/BSC/spanish_sapbert_models/sapbert_15_noparents_1epoch'\n",
    "        self.tokenizer = AutoTokenizer.from_pretrained(path)\n",
    "        if model_path is None:\n",
    "            path = '/mnt/c/Users/Sergi/Desktop/BSC/modelos_entrenados/transformers_rel1'        \n",
    "            model = AutoModelForSequenceClassification.from_pretrained(path)\n",
    "        else:\n",
    "            model = AutoModelForSequenceClassification.from_pretrained(model_path)\n",
    "        return model\n",
    "\n",
    "    def compute_relation(self, source, target):\n",
    "        tokenized_mention = self.tokenizer(source, target, return_tensors='pt', padding=True, truncation=True)\n",
    "        with torch.no_grad():\n",
    "            output = self.model(**tokenized_mention)\n",
    "        logits = output.logits\n",
    "        predscores = {label: score for label, score in zip(self.labels, logits.tolist()[0])}\n",
    "        top_n_labels = sorted(predscores, key=predscores.get, reverse=True)[:self.n]\n",
    "        filtered_labels = [label for label in top_n_labels if predscores[label] > self.threshold]\n",
    "        return filtered_labels"
   ]
  },
  {
   "cell_type": "code",
   "execution_count": 7,
   "id": "24f34592-21f4-4362-82a2-adaed5626476",
   "metadata": {},
   "outputs": [],
   "source": [
    "from setfit import SetFitModel, SetFitTrainer\n",
    "import torch"
   ]
  },
  {
   "cell_type": "code",
   "execution_count": 8,
   "id": "fdc6e9b7-d8cc-4fc8-862a-e0409643f15a",
   "metadata": {},
   "outputs": [],
   "source": [
    "class SetFitRelator(Relator):\n",
    "    def __init__(self, n, threshold, model_path):\n",
    "        super().__init__(n, threshold, model_path)\n",
    "    \n",
    "    def initialize_pretrained_model(self, model_path):\n",
    "        if model_path is None:\n",
    "            path = '/mnt/c/Users/Sergi/Desktop/BSC/modelos_entrenados/setfit_rel1'\n",
    "            model = SetFitModel.from_pretrained(path)\n",
    "        else:\n",
    "            model = SetFitModel.from_pretrained(model_path)\n",
    "        return model\n",
    "\n",
    "    def compute_relation(self, source, target):\n",
    "        mention = source + \" </s> \" + target\n",
    "        embeddings = self.model.model_body.encode([mention], normalize_embeddings=self.model.normalize_embeddings, convert_to_tensor=True)\n",
    "        predicts = self.model.model_head.predict_proba(embeddings)\n",
    "        predscores = {self.labels[i]: arr[:,1].tolist()[0] for i, arr in enumerate(predicts)}\n",
    "        top_n_labels = sorted(predscores, key=predscores.get, reverse=True)[:self.n]\n",
    "        filtered_labels = [label for label in top_n_labels if predscores[label] > self.threshold]\n",
    "        return filtered_labels"
   ]
  },
  {
   "cell_type": "code",
   "execution_count": null,
   "id": "8802a5d1-b5e4-48b8-9f65-78c27d8524e9",
   "metadata": {},
   "outputs": [],
   "source": []
  },
  {
   "cell_type": "code",
   "execution_count": 17,
   "id": "11a081d7-efdf-4dd4-b82d-28ced8c7406e",
   "metadata": {},
   "outputs": [],
   "source": [
    "relator = RelExtractor(relation_method='transformers', all_combinations=True)"
   ]
  },
  {
   "cell_type": "code",
   "execution_count": 18,
   "id": "8fff00cc-66cc-4f96-8a91-6924ad84fbf1",
   "metadata": {},
   "outputs": [],
   "source": [
    "relator([\"cancer\",\"gripe aviaria\"],[\"cancer de mama infiltrante\",\"gripe\"])"
   ]
  },
  {
   "cell_type": "code",
   "execution_count": 19,
   "id": "dc7c40d5-2b51-4932-8f33-cefd8952f0ab",
   "metadata": {},
   "outputs": [
    {
     "data": {
      "text/plain": [
       "[<Relation(source mention='cancer', target mention='cancer de mama infiltrante', relation type='['BROAD']')>,\n",
       " <Relation(source mention='cancer', target mention='gripe', relation type='['BROAD']')>,\n",
       " <Relation(source mention='gripe aviaria', target mention='cancer de mama infiltrante', relation type='[]')>,\n",
       " <Relation(source mention='gripe aviaria', target mention='gripe', relation type='[]')>]"
      ]
     },
     "execution_count": 19,
     "metadata": {},
     "output_type": "execute_result"
    }
   ],
   "source": [
    "relator.relations"
   ]
  },
  {
   "cell_type": "code",
   "execution_count": 20,
   "id": "67a94fe1-8f7a-4ed4-b0b7-41db17c5f18b",
   "metadata": {},
   "outputs": [
    {
     "data": {
      "text/plain": [
       "[<Relation(source mention='cancer', target mention='cancer de mama infiltrante', relation type='['BROAD']')>]"
      ]
     },
     "execution_count": 20,
     "metadata": {},
     "output_type": "execute_result"
    }
   ],
   "source": [
    "relator = RelExtractor(relation_method='transformers')\n",
    "relator(\"cancer\",\"cancer de mama infiltrante\")\n",
    "relator.relations"
   ]
  },
  {
   "cell_type": "code",
   "execution_count": 22,
   "id": "a794ee8d-0e1e-4065-8702-4622c92e5fb9",
   "metadata": {},
   "outputs": [],
   "source": [
    "a = Keyword(\"cancer\")\n",
    "b = Keyword(\"gripe aviaria\")\n",
    "c = Keyword(\"cancer de mama infiltrante\")\n",
    "d = Keyword(\"gripe\")"
   ]
  },
  {
   "cell_type": "code",
   "execution_count": 14,
   "id": "b1c39bd4-d873-435b-a4aa-352e9a0d5fe0",
   "metadata": {},
   "outputs": [
    {
     "data": {
      "text/plain": [
       "[<Relation(source mention='cancer', target mention='cancer de mama infiltrante', relation type='['BROAD']')>]"
      ]
     },
     "execution_count": 14,
     "metadata": {},
     "output_type": "execute_result"
    }
   ],
   "source": [
    "relator = RelExtractor(relation_method='transformers')\n",
    "relator(a,c)\n",
    "relator.relations"
   ]
  },
  {
   "cell_type": "code",
   "execution_count": 15,
   "id": "dcf52bc1-3ad2-4ff2-a2a1-51337b9f85c6",
   "metadata": {},
   "outputs": [
    {
     "data": {
      "text/plain": [
       "[<Relation(source mention='cancer', target mention='cancer de mama infiltrante', relation type='['BROAD']')>,\n",
       " <Relation(source mention='gripe aviaria', target mention='gripe', relation type='[]')>]"
      ]
     },
     "execution_count": 15,
     "metadata": {},
     "output_type": "execute_result"
    }
   ],
   "source": [
    "relator = RelExtractor(relation_method='transformers')\n",
    "relator([a,b],[c,d])\n",
    "relator.relations"
   ]
  },
  {
   "cell_type": "code",
   "execution_count": 23,
   "id": "b0f99d2a-4fc0-4bf9-97d2-104731b3467f",
   "metadata": {},
   "outputs": [
    {
     "data": {
      "text/plain": [
       "[<Relation(source mention='cancer', target mention='cancer de mama infiltrante', relation type='['BROAD']')>,\n",
       " <Relation(source mention='cancer', target mention='gripe', relation type='['BROAD']')>]"
      ]
     },
     "execution_count": 23,
     "metadata": {},
     "output_type": "execute_result"
    }
   ],
   "source": [
    "relator = RelExtractor(relation_method='transformers', all_combinations=True)\n",
    "relator(a,[c,d])\n",
    "relator.relations"
   ]
  },
  {
   "cell_type": "code",
   "execution_count": 17,
   "id": "4bfcb018-7939-43da-b732-27a863ad8ba4",
   "metadata": {},
   "outputs": [
    {
     "data": {
      "text/plain": [
       "[<Relation(source mention='cancer', target mention='gripe', relation type='['BROAD']')>,\n",
       " <Relation(source mention='gripe aviaria', target mention='gripe', relation type='[]')>]"
      ]
     },
     "execution_count": 17,
     "metadata": {},
     "output_type": "execute_result"
    }
   ],
   "source": [
    "relator = RelExtractor(relation_method='transformers')\n",
    "relator([\"cancer\",\"gripe aviaria\"],d)\n",
    "relator.relations"
   ]
  },
  {
   "cell_type": "code",
   "execution_count": 24,
   "id": "03865b08-c3a3-40e3-b6e6-4cea2d873431",
   "metadata": {},
   "outputs": [
    {
     "data": {
      "text/plain": [
       "[<Relation(source mention='cancer', target mention='cancer', relation type='['BROAD']')>,\n",
       " <Relation(source mention='cancer', target mention='gripe aviaria', relation type='[]')>,\n",
       " <Relation(source mention='cancer', target mention='gripe', relation type='['BROAD']')>,\n",
       " <Relation(source mention='gripe aviaria', target mention='cancer', relation type='[]')>,\n",
       " <Relation(source mention='gripe aviaria', target mention='gripe aviaria', relation type='[]')>,\n",
       " <Relation(source mention='gripe aviaria', target mention='gripe', relation type='[]')>]"
      ]
     },
     "execution_count": 24,
     "metadata": {},
     "output_type": "execute_result"
    }
   ],
   "source": [
    "relator = RelExtractor(relation_method='transformers', all_combinations=True)\n",
    "relator([\"cancer\",\"gripe aviaria\"],[a,b,d])\n",
    "relator.relations"
   ]
  }
 ],
 "metadata": {
  "kernelspec": {
   "display_name": "Python 3 (ipykernel)",
   "language": "python",
   "name": "python3"
  },
  "language_info": {
   "codemirror_mode": {
    "name": "ipython",
    "version": 3
   },
   "file_extension": ".py",
   "mimetype": "text/x-python",
   "name": "python",
   "nbconvert_exporter": "python",
   "pygments_lexer": "ipython3",
   "version": "3.10.12"
  }
 },
 "nbformat": 4,
 "nbformat_minor": 5
}
