{
 "cells": [
  {
   "cell_type": "code",
   "execution_count": 11,
   "id": "3a8c8bdb-5482-48d1-8d33-3710950e22d9",
   "metadata": {},
   "outputs": [],
   "source": [
    "import json\n",
    "import os\n",
    "\n",
    "json_files_path = '/mnt/c/Users/Sergi/Desktop/BSC/Test_files/Mesinesp/Subtrack1-Scientific_Literature/Subtrack1-Scientific_Literature/Train/training_set_subtrack1_only_articles.json'\n",
    "output_folder = '/mnt/c/Users/Sergi/Desktop/BSC/Test_files/Mesinesp_output/Subtrack1/Train_onlyarticles'\n",
    "\n",
    "# Read the JSON file\n",
    "with open(json_files_path, 'r', encoding='utf-8') as file:\n",
    "    data = json.load(file)\n",
    "\n",
    "# Process articles in the JSON and create text files\n",
    "for article in data['articles']:\n",
    "    article_id = article['id']\n",
    "    abstract_text = article['abstractText']\n",
    "    \n",
    "    # Create a text file with the id as the filename and write the abstractText\n",
    "    with open(os.path.join(output_folder, f'{article_id}.txt'), 'w', encoding='utf-8') as txt_file:\n",
    "        txt_file.write(abstract_text)\n"
   ]
  }
 ],
 "metadata": {
  "kernelspec": {
   "display_name": "Python 3 (ipykernel)",
   "language": "python",
   "name": "python3"
  },
  "language_info": {
   "codemirror_mode": {
    "name": "ipython",
    "version": 3
   },
   "file_extension": ".py",
   "mimetype": "text/x-python",
   "name": "python",
   "nbconvert_exporter": "python",
   "pygments_lexer": "ipython3",
   "version": "3.10.12"
  }
 },
 "nbformat": 4,
 "nbformat_minor": 5
}
