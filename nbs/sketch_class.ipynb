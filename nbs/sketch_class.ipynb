{
 "cells": [
  {
   "cell_type": "code",
   "execution_count": 3,
   "id": "07eaf5b1-9435-480f-b5c0-34c0a0f41f0c",
   "metadata": {},
   "outputs": [],
   "source": [
    "class TermCategorizer:\n",
    "    def __init__(self, categorizer_methods):\n",
    "        self.categorizer_methods = categorizer_methods\n",
    "        self.categorizers = self.initialize_categorizers()\n",
    "\n",
    "    def __call__(self, mentions):\n",
    "        classes = self.categorize(mentions)\n",
    "        return classes\n",
    "\n",
    "    def initialize_keyword_extractors(self):\n",
    "        categorizers = {}\n",
    "\n",
    "        if 'setfit-sapbert' in self.categorizer_methods:\n",
    "            categorizers[\"setfit-sapbert\"] = SetfitSapbertClassifier()\n",
    "\n",
    "        if 'cluster' in self.categorizer_methods:\n",
    "            categorizers[\"cluster\"] = Clustering()\n",
    "\n",
    "        if not categorizers:\n",
    "            raise ValueError(\"No categorizer method called {}\".format(self.categorizer_methods))\n",
    "\n",
    "        return categorizers\n",
    "\n",
    "    def categorize(self, mentions):\n",
    "        try:\n",
    "            all_terms = []\n",
    "            #for key, categorizer in self.categorizers.items():\n",
    "                #categorize (call functions of the class classifier and etc)\n",
    "\n",
    "        except:\n",
    "            raise AttributeError(\"A list of extractors must be provided\")    "
   ]
  },
  {
   "cell_type": "code",
   "execution_count": null,
   "id": "ffa88585-d0bd-4d89-9dd8-abb9ba79ff93",
   "metadata": {},
   "outputs": [],
   "source": [
    "class Classifier():\n",
    "    "
   ]
  },
  {
   "cell_type": "code",
   "execution_count": null,
   "id": "eec688f0-ab88-4c5c-82ef-1aeead3a3fa8",
   "metadata": {},
   "outputs": [],
   "source": [
    "class SetfitSapbertClassifier():\n",
    "    "
   ]
  },
  {
   "cell_type": "code",
   "execution_count": null,
   "id": "980ea135-1a6c-4e75-914a-a0974f992dc9",
   "metadata": {},
   "outputs": [],
   "source": [
    "#classes pels altres classifiers"
   ]
  },
  {
   "cell_type": "code",
   "execution_count": null,
   "id": "fefd7249-c7ee-466e-a489-276af14e62a0",
   "metadata": {},
   "outputs": [],
   "source": [
    "class Clustering():\n",
    "    "
   ]
  }
 ],
 "metadata": {
  "kernelspec": {
   "display_name": "Python 3 (ipykernel)",
   "language": "python",
   "name": "python3"
  },
  "language_info": {
   "codemirror_mode": {
    "name": "ipython",
    "version": 3
   },
   "file_extension": ".py",
   "mimetype": "text/x-python",
   "name": "python",
   "nbconvert_exporter": "python",
   "pygments_lexer": "ipython3",
   "version": "3.10.12"
  }
 },
 "nbformat": 4,
 "nbformat_minor": 5
}
