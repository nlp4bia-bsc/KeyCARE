{
 "cells": [
  {
   "cell_type": "code",
   "execution_count": 1,
   "id": "a6713207-7d7e-4b23-a66e-0bc2fdd31df6",
   "metadata": {},
   "outputs": [
    {
     "name": "stderr",
     "output_type": "stream",
     "text": [
      "/mnt/c/Users/Sergi/Documents/BioTermCategorizer/.env_biotermcategorizer/lib/python3.10/site-packages/tqdm/auto.py:21: TqdmWarning: IProgress not found. Please update jupyter and ipywidgets. See https://ipywidgets.readthedocs.io/en/stable/user_install.html\n",
      "  from .autonotebook import tqdm as notebook_tqdm\n"
     ]
    }
   ],
   "source": [
    "from transformers import AutoModelForSequenceClassification, AutoTokenizer\n",
    "\n",
    "model_dir = '/mnt/c/Users/Sergi/Desktop/BSC/modelos_entrenados/transformers_rel1_C'\n",
    "model = AutoModelForSequenceClassification.from_pretrained(model_dir)\n",
    "\n",
    "path = '/mnt/c/Users/Sergi/Desktop/BSC/spanish_sapbert_models/sapbert_15_noparents_1epoch'\n",
    "tokenizer = AutoTokenizer.from_pretrained(path)"
   ]
  },
  {
   "cell_type": "code",
   "execution_count": 2,
   "id": "fc00fcef-8213-4ff1-b327-222b1abc4fcb",
   "metadata": {},
   "outputs": [],
   "source": [
    "import torch\n",
    "def compute_relation(source, target):\n",
    "    \"\"\"\n",
    "    Computes relations between source and target entities using Transformers model.\n",
    "\n",
    "    Parameters:\n",
    "    source (list): List of source entities.\n",
    "    target (list): List of target entities.\n",
    "\n",
    "    Returns:\n",
    "    list: List of labels representing computed relations.\n",
    "    \"\"\"\n",
    "    all_labels = ['BROAD','EXACT','NARROW','NO_RELATION']\n",
    "    final_labels = list()\n",
    "    tokenized_mention = tokenizer(source, target, return_tensors='pt', padding=True, truncation=True)\n",
    "    with torch.no_grad():\n",
    "        output = model(**tokenized_mention)\n",
    "    logits = output.logits\n",
    "    for i in range(len(logits.tolist())):\n",
    "        predscores = {label: score for label, score in zip(all_labels, logits.tolist()[i])}\n",
    "        top_n_labels = sorted(predscores, key=predscores.get, reverse=True)[:1]\n",
    "        #print(predscores)\n",
    "        filtered_labels = [label for label in top_n_labels if predscores[label] > -8]\n",
    "        final_labels.append(filtered_labels)\n",
    "    return final_labels"
   ]
  },
  {
   "cell_type": "code",
   "execution_count": 3,
   "id": "1d419dc9-a594-45d2-821e-ed9586f78afd",
   "metadata": {},
   "outputs": [],
   "source": [
    "import pandas as pd\n",
    "\n",
    "path = '/mnt/c/Users/Sergi/Desktop/BSC/Test_files/testset_rel_model.tsv'\n",
    "data = pd.read_csv(path, delimiter='\\t')\n",
    "source = data['source'].tolist()\n",
    "target = data['target'].tolist()"
   ]
  },
  {
   "cell_type": "code",
   "execution_count": 4,
   "id": "493a0ca6-fab7-4930-ac1d-eb3d6798e44e",
   "metadata": {},
   "outputs": [],
   "source": [
    "rels = compute_relation(source, target)\n",
    "rels = [i[0] for i in rels]"
   ]
  },
  {
   "cell_type": "code",
   "execution_count": 5,
   "id": "99bd7619-b32a-4b29-92d8-0ea6205517e9",
   "metadata": {},
   "outputs": [
    {
     "data": {
      "text/plain": [
       "[['BROAD']]"
      ]
     },
     "execution_count": 5,
     "metadata": {},
     "output_type": "execute_result"
    }
   ],
   "source": [
    "compute_relation(\"cáncer de pulmón\",\"sospecha de cáncer de pulmón\")"
   ]
  },
  {
   "cell_type": "code",
   "execution_count": 6,
   "id": "287ebadb-9c9f-4fb9-ab30-e0dd3f8688ba",
   "metadata": {},
   "outputs": [],
   "source": [
    "data['predicted_rel'] = rels"
   ]
  },
  {
   "cell_type": "code",
   "execution_count": 7,
   "id": "e97e88e6-6e61-4d09-8747-25c2eed00165",
   "metadata": {},
   "outputs": [
    {
     "data": {
      "text/html": [
       "<div>\n",
       "<style scoped>\n",
       "    .dataframe tbody tr th:only-of-type {\n",
       "        vertical-align: middle;\n",
       "    }\n",
       "\n",
       "    .dataframe tbody tr th {\n",
       "        vertical-align: top;\n",
       "    }\n",
       "\n",
       "    .dataframe thead th {\n",
       "        text-align: right;\n",
       "    }\n",
       "</style>\n",
       "<table border=\"1\" class=\"dataframe\">\n",
       "  <thead>\n",
       "    <tr style=\"text-align: right;\">\n",
       "      <th></th>\n",
       "      <th>source</th>\n",
       "      <th>target</th>\n",
       "      <th>rel_type</th>\n",
       "      <th>predicted_rel</th>\n",
       "    </tr>\n",
       "  </thead>\n",
       "  <tbody>\n",
       "    <tr>\n",
       "      <th>0</th>\n",
       "      <td>5-fosfato</td>\n",
       "      <td>piridoxal 5-fosfato</td>\n",
       "      <td>NO_RELATION</td>\n",
       "      <td>BROAD</td>\n",
       "    </tr>\n",
       "    <tr>\n",
       "      <th>1</th>\n",
       "      <td>abdomen torax</td>\n",
       "      <td>abdomen</td>\n",
       "      <td>BROAD</td>\n",
       "      <td>NARROW</td>\n",
       "    </tr>\n",
       "    <tr>\n",
       "      <th>3</th>\n",
       "      <td>abordaje de articulacion de hombro</td>\n",
       "      <td>artrotomia de articulacion de hombro</td>\n",
       "      <td>NO_RELATION</td>\n",
       "      <td>BROAD</td>\n",
       "    </tr>\n",
       "    <tr>\n",
       "      <th>7</th>\n",
       "      <td>aborto ilegal con falla renal</td>\n",
       "      <td>aborto legal con falla renal aguda</td>\n",
       "      <td>NO_RELATION</td>\n",
       "      <td>BROAD</td>\n",
       "    </tr>\n",
       "    <tr>\n",
       "      <th>9</th>\n",
       "      <td>aborto legal con embolismo gaseoso</td>\n",
       "      <td>aborto con embolismo gaseoso</td>\n",
       "      <td>NARROW</td>\n",
       "      <td>EXACT</td>\n",
       "    </tr>\n",
       "    <tr>\n",
       "      <th>...</th>\n",
       "      <td>...</td>\n",
       "      <td>...</td>\n",
       "      <td>...</td>\n",
       "      <td>...</td>\n",
       "    </tr>\n",
       "    <tr>\n",
       "      <th>4991</th>\n",
       "      <td>vulvovaginitis gonococica neonatal</td>\n",
       "      <td>conjuntivitis neonatal gonococica</td>\n",
       "      <td>NO_RELATION</td>\n",
       "      <td>EXACT</td>\n",
       "    </tr>\n",
       "    <tr>\n",
       "      <th>4994</th>\n",
       "      <td>y factor de necrosis tumoral</td>\n",
       "      <td>necrosis tumoral</td>\n",
       "      <td>NO_RELATION</td>\n",
       "      <td>EXACT</td>\n",
       "    </tr>\n",
       "    <tr>\n",
       "      <th>4997</th>\n",
       "      <td>zona de hombro izquierdo</td>\n",
       "      <td>hombro izquierdo</td>\n",
       "      <td>NARROW</td>\n",
       "      <td>EXACT</td>\n",
       "    </tr>\n",
       "    <tr>\n",
       "      <th>4998</th>\n",
       "      <td>zona de un ganglio linfatico</td>\n",
       "      <td>ganglio linfatico regional</td>\n",
       "      <td>NO_RELATION</td>\n",
       "      <td>EXACT</td>\n",
       "    </tr>\n",
       "    <tr>\n",
       "      <th>4999</th>\n",
       "      <td>zorro plateado comun</td>\n",
       "      <td>zorro comun blanco plateado</td>\n",
       "      <td>NO_RELATION</td>\n",
       "      <td>EXACT</td>\n",
       "    </tr>\n",
       "  </tbody>\n",
       "</table>\n",
       "<p>1601 rows × 4 columns</p>\n",
       "</div>"
      ],
      "text/plain": [
       "                                  source  \\\n",
       "0                              5-fosfato   \n",
       "1                          abdomen torax   \n",
       "3     abordaje de articulacion de hombro   \n",
       "7          aborto ilegal con falla renal   \n",
       "9     aborto legal con embolismo gaseoso   \n",
       "...                                  ...   \n",
       "4991  vulvovaginitis gonococica neonatal   \n",
       "4994        y factor de necrosis tumoral   \n",
       "4997            zona de hombro izquierdo   \n",
       "4998        zona de un ganglio linfatico   \n",
       "4999                zorro plateado comun   \n",
       "\n",
       "                                    target     rel_type predicted_rel  \n",
       "0                      piridoxal 5-fosfato  NO_RELATION         BROAD  \n",
       "1                                  abdomen        BROAD        NARROW  \n",
       "3     artrotomia de articulacion de hombro  NO_RELATION         BROAD  \n",
       "7       aborto legal con falla renal aguda  NO_RELATION         BROAD  \n",
       "9             aborto con embolismo gaseoso       NARROW         EXACT  \n",
       "...                                    ...          ...           ...  \n",
       "4991     conjuntivitis neonatal gonococica  NO_RELATION         EXACT  \n",
       "4994                      necrosis tumoral  NO_RELATION         EXACT  \n",
       "4997                      hombro izquierdo       NARROW         EXACT  \n",
       "4998            ganglio linfatico regional  NO_RELATION         EXACT  \n",
       "4999           zorro comun blanco plateado  NO_RELATION         EXACT  \n",
       "\n",
       "[1601 rows x 4 columns]"
      ]
     },
     "execution_count": 7,
     "metadata": {},
     "output_type": "execute_result"
    }
   ],
   "source": [
    "data[data[\"rel_type\"]!=data[\"predicted_rel\"]]"
   ]
  },
  {
   "cell_type": "markdown",
   "id": "dc5e32ea-1940-4535-9a7f-31c473d2a4c9",
   "metadata": {},
   "source": [
    "### EVALUATION"
   ]
  },
  {
   "cell_type": "code",
   "execution_count": 8,
   "id": "cce6c33c-18c4-4acf-aea7-12d688b0ee67",
   "metadata": {},
   "outputs": [],
   "source": [
    "y_test = data['rel_type'].tolist()\n",
    "y_pred = data['predicted_rel'].tolist()"
   ]
  },
  {
   "cell_type": "code",
   "execution_count": 9,
   "id": "9663de09-f9ae-4a1a-af90-96701033f116",
   "metadata": {},
   "outputs": [
    {
     "name": "stdout",
     "output_type": "stream",
     "text": [
      "F1-score: 0.6798\n",
      "Accuracy: 0.6798\n"
     ]
    }
   ],
   "source": [
    "from sklearn.metrics import f1_score, accuracy_score\n",
    "import numpy as np\n",
    "\n",
    "# Calculate F1-score\n",
    "f1 = f1_score(y_pred, y_test, average=\"micro\")  # You can choose other average options as needed\n",
    "\n",
    "# Calculate accuracy\n",
    "accuracy = accuracy_score(y_pred, y_test)\n",
    "\n",
    "# Print the calculated metrics\n",
    "print(\"F1-score:\", f1)\n",
    "print(\"Accuracy:\", accuracy)"
   ]
  },
  {
   "cell_type": "code",
   "execution_count": 10,
   "id": "60e9e8b2-b883-481b-8bc0-9cedb46cba4e",
   "metadata": {},
   "outputs": [],
   "source": [
    "from sklearn.metrics import classification_report"
   ]
  },
  {
   "cell_type": "code",
   "execution_count": 11,
   "id": "4246b83c-c33e-4c99-a2ab-baf4c93eb103",
   "metadata": {},
   "outputs": [
    {
     "name": "stdout",
     "output_type": "stream",
     "text": [
      "              precision    recall  f1-score   support\n",
      "\n",
      "       BROAD       0.42      0.83      0.56       620\n",
      "       EXACT       0.35      0.92      0.50       367\n",
      "      NARROW       0.50      0.56      0.53       358\n",
      " NO_RELATION       0.97      0.64      0.77      3655\n",
      "\n",
      "    accuracy                           0.68      5000\n",
      "   macro avg       0.56      0.74      0.59      5000\n",
      "weighted avg       0.83      0.68      0.71      5000\n",
      "\n"
     ]
    }
   ],
   "source": [
    "print(classification_report(y_test, y_pred, target_names=['BROAD','EXACT','NARROW','NO_RELATION']))"
   ]
  }
 ],
 "metadata": {
  "kernelspec": {
   "display_name": "Python 3 (ipykernel)",
   "language": "python",
   "name": "python3"
  },
  "language_info": {
   "codemirror_mode": {
    "name": "ipython",
    "version": 3
   },
   "file_extension": ".py",
   "mimetype": "text/x-python",
   "name": "python",
   "nbconvert_exporter": "python",
   "pygments_lexer": "ipython3",
   "version": "3.10.12"
  }
 },
 "nbformat": 4,
 "nbformat_minor": 5
}
