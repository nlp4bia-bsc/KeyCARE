{
 "cells": [
  {
   "cell_type": "code",
   "execution_count": 4,
   "id": "80854963-a8c3-41e7-9dfa-23de8d6d9641",
   "metadata": {},
   "outputs": [],
   "source": [
    "import sys, os, re\n",
    "general_path = os.getcwd().split(\"BioTermCategorizer\")[0]+\"BioTermCategorizer/\"\n",
    "sys.path.append(general_path+'biotermcategorizer/')\n",
    "general_path\n",
    "from TermExtractor import TermExtractor"
   ]
  },
  {
   "cell_type": "code",
   "execution_count": 5,
   "id": "95323d21-bc42-4244-99d1-beed24fef75d",
   "metadata": {},
   "outputs": [
    {
     "ename": "AttributeError",
     "evalue": "A list of extractors must be provided",
     "output_type": "error",
     "traceback": [
      "\u001b[0;31m---------------------------------------------------------------------------\u001b[0m",
      "\u001b[0;31mNameError\u001b[0m                                 Traceback (most recent call last)",
      "File \u001b[0;32m/mnt/c/Users/Sergi/Documents/BioTermCategorizer/biotermcategorizer/TermExtractor.py:82\u001b[0m, in \u001b[0;36mTermExtractor.extract_terms\u001b[0;34m(self, text, join)\u001b[0m\n\u001b[1;32m     81\u001b[0m \u001b[38;5;28;01mfor\u001b[39;00m key, extractor \u001b[38;5;129;01min\u001b[39;00m \u001b[38;5;28mself\u001b[39m\u001b[38;5;241m.\u001b[39mextractors\u001b[38;5;241m.\u001b[39mitems():\n\u001b[0;32m---> 82\u001b[0m     terms \u001b[38;5;241m=\u001b[39m \u001b[43mextractor\u001b[49m\u001b[38;5;241;43m.\u001b[39;49m\u001b[43mextract_terms_without_overlaps\u001b[49m\u001b[43m(\u001b[49m\u001b[43mtext\u001b[49m\u001b[43m)\u001b[49m\n\u001b[1;32m     83\u001b[0m     terms \u001b[38;5;241m=\u001b[39m [term \u001b[38;5;241m+\u001b[39m (key,) \u001b[38;5;28;01mfor\u001b[39;00m term \u001b[38;5;129;01min\u001b[39;00m terms]\n",
      "File \u001b[0;32m/mnt/c/Users/Sergi/Documents/BioTermCategorizer/biotermcategorizer/extractors/Extractor.py:56\u001b[0m, in \u001b[0;36mExtractor.extract_terms_without_overlaps\u001b[0;34m(self, text)\u001b[0m\n\u001b[1;32m     47\u001b[0m \u001b[38;5;250m\u001b[39m\u001b[38;5;124;03m\"\"\"\u001b[39;00m\n\u001b[1;32m     48\u001b[0m \u001b[38;5;124;03mExtracts terms from the given text with their span and removing complete overlaps.\u001b[39;00m\n\u001b[1;32m     49\u001b[0m \n\u001b[0;32m   (...)\u001b[0m\n\u001b[1;32m     54\u001b[0m \u001b[38;5;124;03mlist: List of extracted terms without overlaps.\u001b[39;00m\n\u001b[1;32m     55\u001b[0m \u001b[38;5;124;03m\"\"\"\u001b[39;00m\n\u001b[0;32m---> 56\u001b[0m terms_with_span \u001b[38;5;241m=\u001b[39m \u001b[38;5;28;43mself\u001b[39;49m\u001b[38;5;241;43m.\u001b[39;49m\u001b[43mextract_terms_with_span\u001b[49m\u001b[43m(\u001b[49m\u001b[43mtext\u001b[49m\u001b[43m)\u001b[49m\n\u001b[1;32m     57\u001b[0m terms_without_overlaps \u001b[38;5;241m=\u001b[39m \u001b[38;5;28mself\u001b[39m\u001b[38;5;241m.\u001b[39mrmv_overlaps(terms_with_span)\n",
      "File \u001b[0;32m/mnt/c/Users/Sergi/Documents/BioTermCategorizer/biotermcategorizer/extractors/Extractor.py:42\u001b[0m, in \u001b[0;36mExtractor.extract_terms_with_span\u001b[0;34m(self, text)\u001b[0m\n\u001b[1;32m     33\u001b[0m \u001b[38;5;250m\u001b[39m\u001b[38;5;124;03m\"\"\"\u001b[39;00m\n\u001b[1;32m     34\u001b[0m \u001b[38;5;124;03mExtracts terms from the given text and associates them with their spans.\u001b[39;00m\n\u001b[1;32m     35\u001b[0m \n\u001b[0;32m   (...)\u001b[0m\n\u001b[1;32m     40\u001b[0m \u001b[38;5;124;03mlist: List of extracted terms with spans.\u001b[39;00m\n\u001b[1;32m     41\u001b[0m \u001b[38;5;124;03m\"\"\"\u001b[39;00m\n\u001b[0;32m---> 42\u001b[0m terms \u001b[38;5;241m=\u001b[39m \u001b[38;5;28;43mself\u001b[39;49m\u001b[38;5;241;43m.\u001b[39;49m\u001b[43mextract_terms\u001b[49m\u001b[43m(\u001b[49m\u001b[43mtext\u001b[49m\u001b[43m)\u001b[49m\n\u001b[1;32m     43\u001b[0m terms_with_span \u001b[38;5;241m=\u001b[39m \u001b[38;5;28mself\u001b[39m\u001b[38;5;241m.\u001b[39mfind_term_span(text, terms)\n",
      "File \u001b[0;32m/mnt/c/Users/Sergi/Documents/BioTermCategorizer/biotermcategorizer/extractors/RakeExtractor.py:35\u001b[0m, in \u001b[0;36mRakeExtractor.extract_terms\u001b[0;34m(self, text)\u001b[0m\n\u001b[1;32m     34\u001b[0m terms \u001b[38;5;241m=\u001b[39m \u001b[38;5;28mself\u001b[39m\u001b[38;5;241m.\u001b[39mextractor\u001b[38;5;241m.\u001b[39mget_ranked_phrases_with_scores()\n\u001b[0;32m---> 35\u001b[0m terms \u001b[38;5;241m=\u001b[39m [(kw, score) \u001b[38;5;28;01mfor\u001b[39;00m score, kw \u001b[38;5;129;01min\u001b[39;00m terms \u001b[38;5;28;01mif\u001b[39;00m (\u001b[38;5;28mlen\u001b[39m(word_tokenize(kw, language\u001b[38;5;241m=\u001b[39m\u001b[38;5;28mself\u001b[39m\u001b[38;5;241m.\u001b[39mlanguage)) \u001b[38;5;241m<\u001b[39m\u001b[38;5;241m=\u001b[39m \u001b[38;5;28mself\u001b[39m\u001b[38;5;241m.\u001b[39mmax_tokens)]\n\u001b[1;32m     36\u001b[0m \u001b[38;5;28;01mreturn\u001b[39;00m terms\n",
      "File \u001b[0;32m/mnt/c/Users/Sergi/Documents/BioTermCategorizer/biotermcategorizer/extractors/RakeExtractor.py:35\u001b[0m, in \u001b[0;36m<listcomp>\u001b[0;34m(.0)\u001b[0m\n\u001b[1;32m     34\u001b[0m terms \u001b[38;5;241m=\u001b[39m \u001b[38;5;28mself\u001b[39m\u001b[38;5;241m.\u001b[39mextractor\u001b[38;5;241m.\u001b[39mget_ranked_phrases_with_scores()\n\u001b[0;32m---> 35\u001b[0m terms \u001b[38;5;241m=\u001b[39m [(kw, score) \u001b[38;5;28;01mfor\u001b[39;00m score, kw \u001b[38;5;129;01min\u001b[39;00m terms \u001b[38;5;28;01mif\u001b[39;00m (\u001b[38;5;28mlen\u001b[39m(\u001b[43mword_tokenize\u001b[49m(kw, language\u001b[38;5;241m=\u001b[39m\u001b[38;5;28mself\u001b[39m\u001b[38;5;241m.\u001b[39mlanguage)) \u001b[38;5;241m<\u001b[39m\u001b[38;5;241m=\u001b[39m \u001b[38;5;28mself\u001b[39m\u001b[38;5;241m.\u001b[39mmax_tokens)]\n\u001b[1;32m     36\u001b[0m \u001b[38;5;28;01mreturn\u001b[39;00m terms\n",
      "\u001b[0;31mNameError\u001b[0m: name 'word_tokenize' is not defined",
      "\nDuring handling of the above exception, another exception occurred:\n",
      "\u001b[0;31mAttributeError\u001b[0m                            Traceback (most recent call last)",
      "Cell \u001b[0;32mIn[5], line 2\u001b[0m\n\u001b[1;32m      1\u001b[0m extractor \u001b[38;5;241m=\u001b[39m TermExtractor(extraction_methods\u001b[38;5;241m=\u001b[39m[\u001b[38;5;124m\"\u001b[39m\u001b[38;5;124mrake\u001b[39m\u001b[38;5;124m\"\u001b[39m])\n\u001b[0;32m----> 2\u001b[0m \u001b[43mextractor\u001b[49m\u001b[43m(\u001b[49m\u001b[38;5;124;43m\"\u001b[39;49m\u001b[38;5;124;43mLa importancia vital de lavarse con jabón las manos antes de operar es esencial\u001b[39;49m\u001b[38;5;124;43m\"\u001b[39;49m\u001b[43m)\u001b[49m\n",
      "File \u001b[0;32m/mnt/c/Users/Sergi/Documents/BioTermCategorizer/biotermcategorizer/TermExtractor.py:38\u001b[0m, in \u001b[0;36mTermExtractor.__call__\u001b[0;34m(self, text)\u001b[0m\n\u001b[1;32m     28\u001b[0m \u001b[38;5;28;01mdef\u001b[39;00m \u001b[38;5;21m__call__\u001b[39m(\u001b[38;5;28mself\u001b[39m, text):\n\u001b[1;32m     29\u001b[0m \u001b[38;5;250m    \u001b[39m\u001b[38;5;124;03m\"\"\"\u001b[39;00m\n\u001b[1;32m     30\u001b[0m \u001b[38;5;124;03m    Extracts terms from the given text using initialized extractors.\u001b[39;00m\n\u001b[1;32m     31\u001b[0m \n\u001b[0;32m   (...)\u001b[0m\n\u001b[1;32m     36\u001b[0m \u001b[38;5;124;03m    list: List of extracted terms.\u001b[39;00m\n\u001b[1;32m     37\u001b[0m \u001b[38;5;124;03m    \"\"\"\u001b[39;00m\n\u001b[0;32m---> 38\u001b[0m     terms \u001b[38;5;241m=\u001b[39m \u001b[38;5;28;43mself\u001b[39;49m\u001b[38;5;241;43m.\u001b[39;49m\u001b[43mextract_terms\u001b[49m\u001b[43m(\u001b[49m\u001b[43mtext\u001b[49m\u001b[43m,\u001b[49m\u001b[43m \u001b[49m\u001b[38;5;28;43mself\u001b[39;49m\u001b[38;5;241;43m.\u001b[39;49m\u001b[43mjoin\u001b[49m\u001b[43m)\u001b[49m\n\u001b[1;32m     39\u001b[0m     \u001b[38;5;28;01mreturn\u001b[39;00m terms\n",
      "File \u001b[0;32m/mnt/c/Users/Sergi/Documents/BioTermCategorizer/biotermcategorizer/TermExtractor.py:89\u001b[0m, in \u001b[0;36mTermExtractor.extract_terms\u001b[0;34m(self, text, join)\u001b[0m\n\u001b[1;32m     87\u001b[0m     \u001b[38;5;28mself\u001b[39m\u001b[38;5;241m.\u001b[39mkeywords \u001b[38;5;241m=\u001b[39m [Keyword(text\u001b[38;5;241m=\u001b[39mi[\u001b[38;5;241m0\u001b[39m], method\u001b[38;5;241m=\u001b[39mi[\u001b[38;5;241m4\u001b[39m], ini\u001b[38;5;241m=\u001b[39mi[\u001b[38;5;241m1\u001b[39m], fin\u001b[38;5;241m=\u001b[39mi[\u001b[38;5;241m2\u001b[39m], score\u001b[38;5;241m=\u001b[39mi[\u001b[38;5;241m3\u001b[39m]) \u001b[38;5;28;01mfor\u001b[39;00m i \u001b[38;5;129;01min\u001b[39;00m all_terms]\n\u001b[1;32m     88\u001b[0m \u001b[38;5;28;01mexcept\u001b[39;00m:\n\u001b[0;32m---> 89\u001b[0m     \u001b[38;5;28;01mraise\u001b[39;00m \u001b[38;5;167;01mAttributeError\u001b[39;00m(\u001b[38;5;124m\"\u001b[39m\u001b[38;5;124mA list of extractors must be provided\u001b[39m\u001b[38;5;124m\"\u001b[39m)\n",
      "\u001b[0;31mAttributeError\u001b[0m: A list of extractors must be provided"
     ]
    }
   ],
   "source": [
    "extractor = TermExtractor(extraction_methods=[\"rake\"])\n",
    "extractor(\"La importancia vital de lavarse con jabón las manos antes de operar es esencial\")"
   ]
  }
 ],
 "metadata": {
  "kernelspec": {
   "display_name": "Python 3 (ipykernel)",
   "language": "python",
   "name": "python3"
  },
  "language_info": {
   "codemirror_mode": {
    "name": "ipython",
    "version": 3
   },
   "file_extension": ".py",
   "mimetype": "text/x-python",
   "name": "python",
   "nbconvert_exporter": "python",
   "pygments_lexer": "ipython3",
   "version": "3.10.12"
  }
 },
 "nbformat": 4,
 "nbformat_minor": 5
}
