{
 "cells": [
  {
   "cell_type": "code",
   "execution_count": 1,
   "id": "245eab66-3007-4229-acbb-b59c68b9c194",
   "metadata": {},
   "outputs": [
    {
     "data": {
      "text/plain": [
       "'/mnt/c/Users/Sergi/Documents/BioTermCategorizer/'"
      ]
     },
     "execution_count": 1,
     "metadata": {},
     "output_type": "execute_result"
    }
   ],
   "source": [
    "import sys, os, re\n",
    "\n",
    "#set the path to the library\n",
    "general_path = os.getcwd().split(\"BioTermCategorizer\")[0]+\"BioTermCategorizer/\"\n",
    "sys.path.append(general_path+'biotermcategorizer/')\n",
    "general_path"
   ]
  },
  {
   "cell_type": "code",
   "execution_count": 2,
   "id": "41b4babc-c07f-4726-aa82-23e754032234",
   "metadata": {},
   "outputs": [
    {
     "name": "stderr",
     "output_type": "stream",
     "text": [
      "[nltk_data] Downloading package stopwords to /home/sergi/nltk_data...\n",
      "[nltk_data]   Package stopwords is already up-to-date!\n",
      "[nltk_data] Downloading package punkt to /home/sergi/nltk_data...\n",
      "[nltk_data]   Package punkt is already up-to-date!\n"
     ]
    },
    {
     "ename": "SyntaxError",
     "evalue": "expected 'else' after 'if' expression (Extractor.py, line 125)",
     "output_type": "error",
     "traceback": [
      "Traceback \u001b[0;36m(most recent call last)\u001b[0m:\n",
      "\u001b[0m  File \u001b[1;32m/mnt/c/Users/Sergi/Documents/BioTermCategorizer/.env_biotermcategorizer/lib/python3.10/site-packages/IPython/core/interactiveshell.py:3508\u001b[0m in \u001b[1;35mrun_code\u001b[0m\n    exec(code_obj, self.user_global_ns, self.user_ns)\u001b[0m\n",
      "\u001b[0m  Cell \u001b[1;32mIn[2], line 1\u001b[0m\n    from TermExtractor import TermExtractor\u001b[0m\n",
      "\u001b[0m  File \u001b[1;32m/mnt/c/Users/Sergi/Documents/BioTermCategorizer/biotermcategorizer/TermExtractor.py:4\u001b[0m\n    from extractors.RakeExtractor import RakeExtractor\u001b[0m\n",
      "\u001b[0;36m  File \u001b[0;32m/mnt/c/Users/Sergi/Documents/BioTermCategorizer/biotermcategorizer/extractors/RakeExtractor.py:6\u001b[0;36m\n\u001b[0;31m    from .Extractor import Extractor\u001b[0;36m\n",
      "\u001b[0;36m  File \u001b[0;32m/mnt/c/Users/Sergi/Documents/BioTermCategorizer/biotermcategorizer/extractors/Extractor.py:125\u001b[0;36m\u001b[0m\n\u001b[0;31m    new_terms = [t if t.isalnum() for t in terms]\u001b[0m\n\u001b[0m                 ^\u001b[0m\n\u001b[0;31mSyntaxError\u001b[0m\u001b[0;31m:\u001b[0m expected 'else' after 'if' expression\n"
     ]
    }
   ],
   "source": [
    "from TermExtractor import TermExtractor"
   ]
  },
  {
   "cell_type": "code",
   "execution_count": null,
   "id": "4f41bd95-3a23-4a2e-ba4a-9b4f1081e82e",
   "metadata": {},
   "outputs": [],
   "source": [
    "path_dir = '/mnt/c/Users/Sergi/Desktop/BSC/Corpus/distemist_zenodo/training/text_files2'\n",
    "\n",
    "keywords = []\n",
    "extractor = TermExtractor() #parametros como args de entrada\n",
    "\n",
    "docs = os.listdir(path_dir)\n",
    "for doc in docs:\n",
    "    if doc.endswith(\".txt\"):\n",
    "        with open(os.path.join(path_dir, doc), \"r\") as file:\n",
    "            text = file.read()\n",
    "        print(\"TO DO\")\n",
    "        extractor(text)\n",
    "        print(\"DONE\")\n",
    "        keywords.extend(extractor.keywords)\n",
    "\n",
    "print(keywords)"
   ]
  },
  {
   "cell_type": "code",
   "execution_count": 4,
   "id": "7cbb7e8b-1760-416a-9aac-b62bd32ae40c",
   "metadata": {},
   "outputs": [],
   "source": [
    "extractor(\"El cancer de pulmón tiene una prevalencia mayor en fumadores.\")"
   ]
  },
  {
   "cell_type": "code",
   "execution_count": 5,
   "id": "e21eaf75-79ea-4d49-bb94-6d1f6c4249ca",
   "metadata": {},
   "outputs": [
    {
     "data": {
      "text/plain": [
       "[<Keyword(text='fumadores', span='[51, 60]', extraction method='textrank', score='0.29499743629328806', categorization method='setfit', class='['ENFERMEDAD']')>,\n",
       " <Keyword(text='pulmón', span='[13, 19]', extraction method='textrank', score='0.1544094571426561', categorization method='setfit', class='['ENFERMEDAD']')>,\n",
       " <Keyword(text='prevalencia mayor', span='[30, 47]', extraction method='textrank', score='0.14996520887367523', categorization method='setfit', class='['SINTOMA']')>,\n",
       " <Keyword(text='cancer', span='[3, 9]', extraction method='textrank', score='0.0629554224898356', categorization method='setfit', class='['MORFOLOGIA_NEOPLASIA']')>]"
      ]
     },
     "execution_count": 5,
     "metadata": {},
     "output_type": "execute_result"
    }
   ],
   "source": [
    "extractor.keywords"
   ]
  },
  {
   "cell_type": "code",
   "execution_count": 7,
   "id": "a8dc7d07-f276-42f5-ad96-d6d07e5f8a97",
   "metadata": {
    "scrolled": true
   },
   "outputs": [
    {
     "data": {
      "text/plain": [
       "[<Keyword(text='crecimiento progresivo', span='[138, 160]', extraction method='textrank', score='0.10434888624227952', categorization method='setfit', class='['SINTOMA']')>,\n",
       " <Keyword(text='gran tamaño', span='[516, 527]', extraction method='textrank', score='0.09829389980918585', categorization method='setfit', class='['SINTOMA']')>,\n",
       " <Keyword(text='gran tamaño', span='[944, 955]', extraction method='textrank', score='0.09829389980918585', categorization method='setfit', class='['SINTOMA']')>,\n",
       " <Keyword(text='insuficiencia renal', span='[1016, 1035]', extraction method='textrank', score='0.0946960070181668', categorization method='setfit', class='['ENFERMEDAD']')>,\n",
       " <Keyword(text='diagnóstico', span='[1236, 1247]', extraction method='textrank', score='0.08484725193280314', categorization method='setfit', class='['PROCEDIMIENTO']')>,\n",
       " <Keyword(text='general', span='[1191, 1198]', extraction method='textrank', score='0.08199795637918385', categorization method='setfit', class='['PROFESION']')>,\n",
       " <Keyword(text='crecimiento', span='[958, 969]', extraction method='textrank', score='0.07926062213368033', categorization method='setfit', class='['SINTOMA']')>,\n",
       " <Keyword(text='meato', span='[282, 287]', extraction method='textrank', score='0.07880966284682908', categorization method='setfit', class='['SINTOMA']')>,\n",
       " <Keyword(text='meato', span='[1006, 1011]', extraction method='textrank', score='0.07880966284682908', categorization method='setfit', class='['SINTOMA']')>,\n",
       " <Keyword(text='penectomía parcial', span='[582, 600]', extraction method='textrank', score='0.07852904003370252', categorization method='setfit', class='['PROCEDIMIENTO']')>,\n",
       " <Keyword(text='fibrina', span='[322, 329]', extraction method='textrank', score='0.07710970438728806', categorization method='setfit', class='['ENFERMEDAD']')>,\n",
       " <Keyword(text='masa peneana', span='[122, 134]', extraction method='textrank', score='0.07198815842257596', categorization method='setfit', class='['SINTOMA']')>,\n",
       " <Keyword(text='pene', span='[564, 568]', extraction method='textrank', score='0.07049598090112957', categorization method='setfit', class='['SINTOMA']')>,\n",
       " <Keyword(text='pene', span='[702, 706]', extraction method='textrank', score='0.07049598090112957', categorization method='setfit', class='['SINTOMA']')>,\n",
       " <Keyword(text='obstrucción', span='[991, 1002]', extraction method='textrank', score='0.06413530841718225', categorization method='setfit', class='[]')>,\n",
       " <Keyword(text='respuesta', span='[884, 893]', extraction method='textrank', score='0.06403657201785042', categorization method='setfit', class='['NO_CATEGORY']')>,\n",
       " <Keyword(text='adenopatías pulmonares', span='[477, 499]', extraction method='textrank', score='0.06267667144976864', categorization method='setfit', class='['ENFERMEDAD']')>,\n",
       " <Keyword(text='margen de seguridad', span='[605, 624]', extraction method='textrank', score='0.05368475122691616', categorization method='setfit', class='['SINTOMA']')>,\n",
       " <Keyword(text='neoplasia', span='[551, 560]', extraction method='textrank', score='0.05235856562391338', categorization method='setfit', class='['MORFOLOGIA_NEOPLASIA']')>,\n",
       " <Keyword(text='aparición', span='[109, 118]', extraction method='textrank', score='0.05188204884049067', categorization method='setfit', class='['NO_CATEGORY']')>,\n",
       " <Keyword(text='ifosfamida', span='[860, 870]', extraction method='textrank', score='0.0494638670334096', categorization method='setfit', class='['FARMACO']')>,\n",
       " <Keyword(text='endocarditis', span='[79, 91]', extraction method='textrank', score='0.048410769341622126', categorization method='setfit', class='['ENFERMEDAD']')>,\n",
       " <Keyword(text='últimas semanas', span='[168, 183]', extraction method='textrank', score='0.047417049573061', categorization method='setfit', class='['NO_CATEGORY']')>,\n",
       " <Keyword(text='glande', span='[260, 266]', extraction method='textrank', score='0.046409297775474444', categorization method='setfit', class='['SINTOMA']')>,\n",
       " <Keyword(text='función renal', span='[1131, 1144]', extraction method='textrank', score='0.0448345518527685', categorization method='setfit', class='['PROCEDIMIENTO']')>,\n",
       " <Keyword(text='adriamicina', span='[846, 857]', extraction method='textrank', score='0.04415599020144042', categorization method='setfit', class='['FARMACO']')>,\n",
       " <Keyword(text='tratamiento', span='[787, 798]', extraction method='textrank', score='0.043641285503865444', categorization method='setfit', class='['PROCEDIMIENTO']')>,\n",
       " <Keyword(text='tratamiento', span='[1088, 1099]', extraction method='textrank', score='0.043641285503865444', categorization method='setfit', class='['PROCEDIMIENTO']')>,\n",
       " <Keyword(text='ambas regiones inguinales', span='[372, 397]', extraction method='textrank', score='0.04183422288982145', categorization method='setfit', class='['ENFERMEDAD']')>,\n",
       " <Keyword(text='sueroterapia', span='[1104, 1116]', extraction method='textrank', score='0.04147448015678323', categorization method='setfit', class='['PROCEDIMIENTO']')>,\n",
       " <Keyword(text='diagnóstico', span='[536, 547]', extraction method='textrank', score='0.03918926699472311', categorization method='setfit', class='['PROCEDIMIENTO']')>,\n",
       " <Keyword(text='quimioterapia', span='[817, 830]', extraction method='textrank', score='0.03876435864307185', categorization method='setfit', class='['PROCEDIMIENTO']')>,\n",
       " <Keyword(text='penicilina', span='[32, 42]', extraction method='textrank', score='0.03852333226452912', categorization method='setfit', class='['FARMACO']')>,\n",
       " <Keyword(text='cistostomía', span='[1062, 1073]', extraction method='textrank', score='0.03400559220631838', categorization method='setfit', class='['PROCEDIMIENTO']')>,\n",
       " <Keyword(text='sarcoma pleomórfico', span='[679, 698]', extraction method='textrank', score='0.030162935407726497', categorization method='setfit', class='['MORFOLOGIA_NEOPLASIA']')>,\n",
       " <Keyword(text='sonda', span='[1053, 1058]', extraction method='textrank', score='0.03001767953995455', categorization method='setfit', class='['PROCEDIMIENTO']')>,\n",
       " <Keyword(text='tórax', span='[417, 422]', extraction method='textrank', score='0.03001767953995455', categorization method='setfit', class='[]')>,\n",
       " <Keyword(text='Ingresó', span='[895, 902]', extraction method='textrank', score='0.026497460328708776', categorization method='setfit', class='[]')>,\n",
       " <Keyword(text='Paciente', span='[0, 8]', extraction method='textrank', score='0.026497460328708776', categorization method='setfit', class='['HUMAN']')>,\n",
       " <Keyword(text='6 meses', span='[1224, 1231]', extraction method='textrank', score='0.022462998687580255', categorization method='setfit', class='['NO_CATEGORY']')>,\n",
       " <Keyword(text='presencia', span='[464, 473]', extraction method='textrank', score='0.020310100319750862', categorization method='setfit', class='[]')>,\n",
       " <Keyword(text='anatomía patológica', span='[629, 648]', extraction method='textrank', score='0.020019843211392174', categorization method='setfit', class='['PROCEDIMIENTO']')>,\n",
       " <Keyword(text='exploración física', span='[190, 208]', extraction method='textrank', score='0.020019843211392174', categorization method='setfit', class='['PROCEDIMIENTO']')>,\n",
       " <Keyword(text='dos líneas', span='[803, 813]', extraction method='textrank', score='0.015804787030026683', categorization method='setfit', class='['NO_CATEGORY']')>,\n",
       " <Keyword(text='TAC', span='[428, 431]', extraction method='textrank', score='0.015706510251416447', categorization method='setfit', class='['PROCEDIMIENTO']')>,\n",
       " <Keyword(text='64 años', span='[12, 19]', extraction method='textrank', score='0.013864572290272546', categorization method='setfit', class='[]')>,\n",
       " <Keyword(text='radiografía', span='[402, 413]', extraction method='textrank', score='0.012238652682897153', categorization method='setfit', class='['PROCEDIMIENTO']')>]"
      ]
     },
     "execution_count": 7,
     "metadata": {},
     "output_type": "execute_result"
    }
   ],
   "source": [
    "extractor.keywords"
   ]
  },
  {
   "cell_type": "code",
   "execution_count": 9,
   "id": "30757afd-b102-41ad-93d9-2d23b8c0f2bd",
   "metadata": {
    "scrolled": true
   },
   "outputs": [
    {
     "data": {
      "text/plain": [
       "{'crecimiento progresivo': ['SINTOMA'],\n",
       " 'gran tamaño': ['SINTOMA'],\n",
       " 'insuficiencia renal': ['ENFERMEDAD'],\n",
       " 'diagnóstico': ['PROCEDIMIENTO'],\n",
       " 'general': ['PROFESION'],\n",
       " 'crecimiento': ['SINTOMA'],\n",
       " 'meato': ['SINTOMA'],\n",
       " 'penectomía parcial': ['PROCEDIMIENTO'],\n",
       " 'fibrina': ['ENFERMEDAD'],\n",
       " 'masa peneana': ['SINTOMA'],\n",
       " 'pene': ['SINTOMA'],\n",
       " 'obstrucción': [],\n",
       " 'respuesta': ['NO_CATEGORY'],\n",
       " 'adenopatías pulmonares': ['ENFERMEDAD'],\n",
       " 'margen de seguridad': ['SINTOMA'],\n",
       " 'neoplasia': ['MORFOLOGIA_NEOPLASIA'],\n",
       " 'aparición': ['NO_CATEGORY'],\n",
       " 'ifosfamida': ['FARMACO'],\n",
       " 'endocarditis': ['ENFERMEDAD'],\n",
       " 'últimas semanas': ['NO_CATEGORY'],\n",
       " 'glande': ['SINTOMA'],\n",
       " 'función renal': ['PROCEDIMIENTO'],\n",
       " 'adriamicina': ['FARMACO'],\n",
       " 'tratamiento': ['PROCEDIMIENTO'],\n",
       " 'ambas regiones inguinales': ['ENFERMEDAD'],\n",
       " 'sueroterapia': ['PROCEDIMIENTO'],\n",
       " 'quimioterapia': ['PROCEDIMIENTO'],\n",
       " 'penicilina': ['FARMACO'],\n",
       " 'cistostomía': ['PROCEDIMIENTO'],\n",
       " 'sarcoma pleomórfico': ['MORFOLOGIA_NEOPLASIA'],\n",
       " 'sonda': ['PROCEDIMIENTO'],\n",
       " 'tórax': [],\n",
       " 'Ingresó': [],\n",
       " 'Paciente': ['HUMAN'],\n",
       " '6 meses': ['NO_CATEGORY'],\n",
       " 'presencia': [],\n",
       " 'anatomía patológica': ['PROCEDIMIENTO'],\n",
       " 'exploración física': ['PROCEDIMIENTO'],\n",
       " 'dos líneas': ['NO_CATEGORY'],\n",
       " 'TAC': ['PROCEDIMIENTO'],\n",
       " '64 años': [],\n",
       " 'radiografía': ['PROCEDIMIENTO']}"
      ]
     },
     "execution_count": 9,
     "metadata": {},
     "output_type": "execute_result"
    }
   ],
   "source": [
    "keywords = {kw.text: kw.label for kw in extractor.keywords}\n",
    "keywords"
   ]
  }
 ],
 "metadata": {
  "kernelspec": {
   "display_name": "Python 3 (ipykernel)",
   "language": "python",
   "name": "python3"
  },
  "language_info": {
   "codemirror_mode": {
    "name": "ipython",
    "version": 3
   },
   "file_extension": ".py",
   "mimetype": "text/x-python",
   "name": "python",
   "nbconvert_exporter": "python",
   "pygments_lexer": "ipython3",
   "version": "3.10.12"
  }
 },
 "nbformat": 4,
 "nbformat_minor": 5
}
