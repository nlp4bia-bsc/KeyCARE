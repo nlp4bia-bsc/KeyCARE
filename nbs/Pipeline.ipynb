{
 "cells": [
  {
   "cell_type": "code",
   "execution_count": 1,
   "id": "245eab66-3007-4229-acbb-b59c68b9c194",
   "metadata": {},
   "outputs": [
    {
     "data": {
      "text/plain": [
       "'/mnt/c/Users/Sergi/Documents/BioTermCategorizer/'"
      ]
     },
     "execution_count": 1,
     "metadata": {},
     "output_type": "execute_result"
    }
   ],
   "source": [
    "import sys, os, re\n",
    "\n",
    "#set the path to the library\n",
    "general_path = os.getcwd().split(\"BioTermCategorizer\")[0]+\"BioTermCategorizer/\"\n",
    "sys.path.append(general_path+'biotermcategorizer/')\n",
    "general_path"
   ]
  },
  {
   "cell_type": "code",
   "execution_count": 2,
   "id": "41b4babc-c07f-4726-aa82-23e754032234",
   "metadata": {},
   "outputs": [
    {
     "name": "stderr",
     "output_type": "stream",
     "text": [
      "[nltk_data] Downloading package stopwords to /home/sergi/nltk_data...\n",
      "[nltk_data]   Package stopwords is already up-to-date!\n",
      "[nltk_data] Downloading package punkt to /home/sergi/nltk_data...\n",
      "[nltk_data]   Package punkt is already up-to-date!\n",
      "[nltk_data] Downloading package stopwords to /home/sergi/nltk_data...\n",
      "[nltk_data]   Package stopwords is already up-to-date!\n",
      "/mnt/c/Users/Sergi/Documents/BioTermCategorizer/.env_biotermcategorizer/lib/python3.10/site-packages/tqdm/auto.py:21: TqdmWarning: IProgress not found. Please update jupyter and ipywidgets. See https://ipywidgets.readthedocs.io/en/stable/user_install.html\n",
      "  from .autonotebook import tqdm as notebook_tqdm\n",
      "[nltk_data] Downloading package stopwords to /home/sergi/nltk_data...\n",
      "[nltk_data]   Package stopwords is already up-to-date!\n"
     ]
    }
   ],
   "source": [
    "from TermExtractor import TermExtractor"
   ]
  },
  {
   "cell_type": "code",
   "execution_count": 3,
   "id": "4f41bd95-3a23-4a2e-ba4a-9b4f1081e82e",
   "metadata": {},
   "outputs": [
    {
     "name": "stderr",
     "output_type": "stream",
     "text": [
      "/mnt/c/Users/Sergi/Documents/BioTermCategorizer/.env_biotermcategorizer/lib/python3.10/site-packages/sklearn/base.py:347: InconsistentVersionWarning: Trying to unpickle estimator LogisticRegression from version 1.2.2 when using version 1.3.0. This might lead to breaking code or invalid results. Use at your own risk. For more info please refer to:\n",
      "https://scikit-learn.org/stable/model_persistence.html#security-maintainability-limitations\n",
      "  warnings.warn(\n",
      "/mnt/c/Users/Sergi/Documents/BioTermCategorizer/.env_biotermcategorizer/lib/python3.10/site-packages/sklearn/base.py:347: InconsistentVersionWarning: Trying to unpickle estimator MultiOutputClassifier from version 1.2.2 when using version 1.3.0. This might lead to breaking code or invalid results. Use at your own risk. For more info please refer to:\n",
      "https://scikit-learn.org/stable/model_persistence.html#security-maintainability-limitations\n",
      "  warnings.warn(\n"
     ]
    },
    {
     "name": "stdout",
     "output_type": "stream",
     "text": [
      "TO DO\n"
     ]
    },
    {
     "data": {
      "text/html": [
       "<pre style=\"white-space:pre;overflow-x:auto;line-height:normal;font-family:Menlo,'DejaVu Sans Mono',consolas,'Courier New',monospace\"><span style=\"color: #800000; text-decoration-color: #800000\">╭─────────────────────────────── </span><span style=\"color: #800000; text-decoration-color: #800000; font-weight: bold\">Traceback </span><span style=\"color: #bf7f7f; text-decoration-color: #bf7f7f; font-weight: bold\">(most recent call last)</span><span style=\"color: #800000; text-decoration-color: #800000\"> ────────────────────────────────╮</span>\n",
       "<span style=\"color: #800000; text-decoration-color: #800000\">│</span> <span style=\"color: #bfbf7f; text-decoration-color: #bfbf7f\">/mnt/c/Users/Sergi/Documents/BioTermCategorizer/biotermcategorizer/</span><span style=\"color: #808000; text-decoration-color: #808000; font-weight: bold\">TermExtractor.py</span>:<span style=\"color: #0000ff; text-decoration-color: #0000ff\">130</span> in       <span style=\"color: #800000; text-decoration-color: #800000\">│</span>\n",
       "<span style=\"color: #800000; text-decoration-color: #800000\">│</span> <span style=\"color: #00ff00; text-decoration-color: #00ff00\">extract_terms</span>                                                                                    <span style=\"color: #800000; text-decoration-color: #800000\">│</span>\n",
       "<span style=\"color: #800000; text-decoration-color: #800000\">│</span>                                                                                                  <span style=\"color: #800000; text-decoration-color: #800000\">│</span>\n",
       "<span style=\"color: #800000; text-decoration-color: #800000\">│</span>   <span style=\"color: #7f7f7f; text-decoration-color: #7f7f7f\">127 </span><span style=\"color: #7f7f7f; text-decoration-color: #7f7f7f\">│   │   │   </span><span style=\"color: #0000ff; text-decoration-color: #0000ff\">if</span> join:                                                                       <span style=\"color: #800000; text-decoration-color: #800000\">│</span>\n",
       "<span style=\"color: #800000; text-decoration-color: #800000\">│</span>   <span style=\"color: #7f7f7f; text-decoration-color: #7f7f7f\">128 </span><span style=\"color: #7f7f7f; text-decoration-color: #7f7f7f\">│   │   │   │   </span>all_terms = <span style=\"color: #00ffff; text-decoration-color: #00ffff\">list</span>(<span style=\"color: #00ffff; text-decoration-color: #00ffff\">self</span>.extractors.values())[<span style=\"color: #0000ff; text-decoration-color: #0000ff\">0</span>].rmv_overlaps(all_terms)      <span style=\"color: #800000; text-decoration-color: #800000\">│</span>\n",
       "<span style=\"color: #800000; text-decoration-color: #800000\">│</span>   <span style=\"color: #7f7f7f; text-decoration-color: #7f7f7f\">129 </span><span style=\"color: #7f7f7f; text-decoration-color: #7f7f7f\">│   │   │   </span><span style=\"color: #0000ff; text-decoration-color: #0000ff\">if</span> postprocess:                                                                <span style=\"color: #800000; text-decoration-color: #800000\">│</span>\n",
       "<span style=\"color: #800000; text-decoration-color: #800000\">│</span> <span style=\"color: #800000; text-decoration-color: #800000\">❱ </span>130 <span style=\"color: #7f7f7f; text-decoration-color: #7f7f7f\">│   │   │   │   </span>all_terms = <span style=\"color: #00ffff; text-decoration-color: #00ffff\">list</span>(<span style=\"color: #00ffff; text-decoration-color: #00ffff\">self</span>.extractors.values())[<span style=\"color: #0000ff; text-decoration-color: #0000ff\">0</span>].postprocess_terms(all_term   <span style=\"color: #800000; text-decoration-color: #800000\">│</span>\n",
       "<span style=\"color: #800000; text-decoration-color: #800000\">│</span>   <span style=\"color: #7f7f7f; text-decoration-color: #7f7f7f\">131 </span><span style=\"color: #7f7f7f; text-decoration-color: #7f7f7f\">│   │   │   │   </span>all_terms = <span style=\"color: #00ffff; text-decoration-color: #00ffff\">list</span>(<span style=\"color: #00ffff; text-decoration-color: #00ffff\">self</span>.extractors.values())[<span style=\"color: #0000ff; text-decoration-color: #0000ff\">0</span>].rmv_overlaps(all_terms)      <span style=\"color: #800000; text-decoration-color: #800000\">│</span>\n",
       "<span style=\"color: #800000; text-decoration-color: #800000\">│</span>   <span style=\"color: #7f7f7f; text-decoration-color: #7f7f7f\">132 </span><span style=\"color: #7f7f7f; text-decoration-color: #7f7f7f\">│   │   │   </span><span style=\"color: #00ffff; text-decoration-color: #00ffff\">self</span>.keywords = [Keyword(text=i[<span style=\"color: #0000ff; text-decoration-color: #0000ff\">0</span>], extraction_method=i[<span style=\"color: #0000ff; text-decoration-color: #0000ff\">4</span>], ini=i[<span style=\"color: #0000ff; text-decoration-color: #0000ff\">1</span>], fin=i[   <span style=\"color: #800000; text-decoration-color: #800000\">│</span>\n",
       "<span style=\"color: #800000; text-decoration-color: #800000\">│</span>   <span style=\"color: #7f7f7f; text-decoration-color: #7f7f7f\">133 </span><span style=\"color: #7f7f7f; text-decoration-color: #7f7f7f\">│   │   </span><span style=\"color: #0000ff; text-decoration-color: #0000ff\">except</span>:                                                                            <span style=\"color: #800000; text-decoration-color: #800000\">│</span>\n",
       "<span style=\"color: #800000; text-decoration-color: #800000\">│</span>                                                                                                  <span style=\"color: #800000; text-decoration-color: #800000\">│</span>\n",
       "<span style=\"color: #800000; text-decoration-color: #800000\">│</span> <span style=\"color: #bfbf7f; text-decoration-color: #bfbf7f\">/mnt/c/Users/Sergi/Documents/BioTermCategorizer/biotermcategorizer/extractors/</span><span style=\"color: #808000; text-decoration-color: #808000; font-weight: bold\">Extractor.py</span>:<span style=\"color: #0000ff; text-decoration-color: #0000ff\">79</span> in <span style=\"color: #800000; text-decoration-color: #800000\">│</span>\n",
       "<span style=\"color: #800000; text-decoration-color: #800000\">│</span> <span style=\"color: #00ff00; text-decoration-color: #00ff00\">postprocess_terms</span>                                                                                <span style=\"color: #800000; text-decoration-color: #800000\">│</span>\n",
       "<span style=\"color: #800000; text-decoration-color: #800000\">│</span>                                                                                                  <span style=\"color: #800000; text-decoration-color: #800000\">│</span>\n",
       "<span style=\"color: #800000; text-decoration-color: #800000\">│</span>   <span style=\"color: #7f7f7f; text-decoration-color: #7f7f7f\"> 76 </span><span style=\"color: #7f7f7f; text-decoration-color: #7f7f7f\">│   │   </span>new_terms = <span style=\"color: #00ffff; text-decoration-color: #00ffff\">self</span>.rmv_meaningless(terms)                                            <span style=\"color: #800000; text-decoration-color: #800000\">│</span>\n",
       "<span style=\"color: #800000; text-decoration-color: #800000\">│</span>   <span style=\"color: #7f7f7f; text-decoration-color: #7f7f7f\"> 77 </span><span style=\"color: #7f7f7f; text-decoration-color: #7f7f7f\">│   │   </span>new_terms = <span style=\"color: #00ffff; text-decoration-color: #00ffff\">self</span>.rmv_stopwords(new_terms)                                          <span style=\"color: #800000; text-decoration-color: #800000\">│</span>\n",
       "<span style=\"color: #800000; text-decoration-color: #800000\">│</span>   <span style=\"color: #7f7f7f; text-decoration-color: #7f7f7f\"> 78 </span><span style=\"color: #7f7f7f; text-decoration-color: #7f7f7f\">│   │   </span>new_terms = <span style=\"color: #00ffff; text-decoration-color: #00ffff\">self</span>.rmv_stopwords(new_terms)                                          <span style=\"color: #800000; text-decoration-color: #800000\">│</span>\n",
       "<span style=\"color: #800000; text-decoration-color: #800000\">│</span> <span style=\"color: #800000; text-decoration-color: #800000\">❱ </span> 79 <span style=\"color: #7f7f7f; text-decoration-color: #7f7f7f\">│   │   </span>new_terms = <span style=\"color: #00ffff; text-decoration-color: #00ffff\">self</span>.rmv_nonalnum_characters(new_terms)                                <span style=\"color: #800000; text-decoration-color: #800000\">│</span>\n",
       "<span style=\"color: #800000; text-decoration-color: #800000\">│</span>   <span style=\"color: #7f7f7f; text-decoration-color: #7f7f7f\"> 80 </span><span style=\"color: #7f7f7f; text-decoration-color: #7f7f7f\">│   │   </span>new_terms = <span style=\"color: #00ffff; text-decoration-color: #00ffff\">self</span>.rmv_nonalnum_characters(new_terms)                                <span style=\"color: #800000; text-decoration-color: #800000\">│</span>\n",
       "<span style=\"color: #800000; text-decoration-color: #800000\">│</span>   <span style=\"color: #7f7f7f; text-decoration-color: #7f7f7f\"> 81 </span><span style=\"color: #7f7f7f; text-decoration-color: #7f7f7f\">│   │   </span>new_terms = <span style=\"color: #00ffff; text-decoration-color: #00ffff\">self</span>.rmv_meaningless(new_terms)                                        <span style=\"color: #800000; text-decoration-color: #800000\">│</span>\n",
       "<span style=\"color: #800000; text-decoration-color: #800000\">│</span>   <span style=\"color: #7f7f7f; text-decoration-color: #7f7f7f\"> 82 </span><span style=\"color: #7f7f7f; text-decoration-color: #7f7f7f\">│   │   </span><span style=\"color: #0000ff; text-decoration-color: #0000ff\">return</span> new_terms                                                                   <span style=\"color: #800000; text-decoration-color: #800000\">│</span>\n",
       "<span style=\"color: #800000; text-decoration-color: #800000\">│</span>                                                                                                  <span style=\"color: #800000; text-decoration-color: #800000\">│</span>\n",
       "<span style=\"color: #800000; text-decoration-color: #800000\">│</span> <span style=\"color: #bfbf7f; text-decoration-color: #bfbf7f\">/mnt/c/Users/Sergi/Documents/BioTermCategorizer/biotermcategorizer/extractors/</span><span style=\"color: #808000; text-decoration-color: #808000; font-weight: bold\">Extractor.py</span>:<span style=\"color: #0000ff; text-decoration-color: #0000ff\">125</span>   <span style=\"color: #800000; text-decoration-color: #800000\">│</span>\n",
       "<span style=\"color: #800000; text-decoration-color: #800000\">│</span> in <span style=\"color: #00ff00; text-decoration-color: #00ff00\">rmv_nonalnum_characters</span>                                                                       <span style=\"color: #800000; text-decoration-color: #800000\">│</span>\n",
       "<span style=\"color: #800000; text-decoration-color: #800000\">│</span>                                                                                                  <span style=\"color: #800000; text-decoration-color: #800000\">│</span>\n",
       "<span style=\"color: #800000; text-decoration-color: #800000\">│</span>   <span style=\"color: #7f7f7f; text-decoration-color: #7f7f7f\">122 </span><span style=\"color: #bfbf7f; text-decoration-color: #bfbf7f\">│   │   </span><span style=\"color: #808000; text-decoration-color: #808000\">Returns:</span>                                                                           <span style=\"color: #800000; text-decoration-color: #800000\">│</span>\n",
       "<span style=\"color: #800000; text-decoration-color: #800000\">│</span>   <span style=\"color: #7f7f7f; text-decoration-color: #7f7f7f\">123 </span><span style=\"color: #bfbf7f; text-decoration-color: #bfbf7f\">│   │   </span><span style=\"color: #808000; text-decoration-color: #808000\">list: List of terms with non-alphanumeric characters removed.</span>                      <span style=\"color: #800000; text-decoration-color: #800000\">│</span>\n",
       "<span style=\"color: #800000; text-decoration-color: #800000\">│</span>   <span style=\"color: #7f7f7f; text-decoration-color: #7f7f7f\">124 </span><span style=\"color: #bfbf7f; text-decoration-color: #bfbf7f\">│   │   </span><span style=\"color: #808000; text-decoration-color: #808000\">\"\"\"</span>                                                                                <span style=\"color: #800000; text-decoration-color: #800000\">│</span>\n",
       "<span style=\"color: #800000; text-decoration-color: #800000\">│</span> <span style=\"color: #800000; text-decoration-color: #800000\">❱ </span>125 <span style=\"color: #7f7f7f; text-decoration-color: #7f7f7f\">│   │   </span>new_terms = [t <span style=\"color: #0000ff; text-decoration-color: #0000ff\">for</span> t <span style=\"color: #ff00ff; text-decoration-color: #ff00ff\">in</span> terms <span style=\"color: #0000ff; text-decoration-color: #0000ff\">if</span> t.isalnum()]                                      <span style=\"color: #800000; text-decoration-color: #800000\">│</span>\n",
       "<span style=\"color: #800000; text-decoration-color: #800000\">│</span>   <span style=\"color: #7f7f7f; text-decoration-color: #7f7f7f\">126 </span><span style=\"color: #7f7f7f; text-decoration-color: #7f7f7f\">│   │   </span>new_terms = [(t[<span style=\"color: #0000ff; text-decoration-color: #0000ff\">0</span>][<span style=\"color: #0000ff; text-decoration-color: #0000ff\">1</span>:], t[<span style=\"color: #0000ff; text-decoration-color: #0000ff\">1</span>] + <span style=\"color: #0000ff; text-decoration-color: #0000ff\">1</span>, t[<span style=\"color: #0000ff; text-decoration-color: #0000ff\">2</span>], t[<span style=\"color: #0000ff; text-decoration-color: #0000ff\">3</span>], t[<span style=\"color: #0000ff; text-decoration-color: #0000ff\">4</span>]) <span style=\"color: #0000ff; text-decoration-color: #0000ff\">if</span> <span style=\"color: #ff00ff; text-decoration-color: #ff00ff\">not</span> t[<span style=\"color: #0000ff; text-decoration-color: #0000ff\">0</span>][<span style=\"color: #0000ff; text-decoration-color: #0000ff\">0</span>].isalnum() <span style=\"color: #0000ff; text-decoration-color: #0000ff\">els</span>   <span style=\"color: #800000; text-decoration-color: #800000\">│</span>\n",
       "<span style=\"color: #800000; text-decoration-color: #800000\">│</span>   <span style=\"color: #7f7f7f; text-decoration-color: #7f7f7f\">127 </span><span style=\"color: #7f7f7f; text-decoration-color: #7f7f7f\">│   │   </span>new_terms = [(t[<span style=\"color: #0000ff; text-decoration-color: #0000ff\">0</span>][:-<span style=\"color: #0000ff; text-decoration-color: #0000ff\">1</span>], t[<span style=\"color: #0000ff; text-decoration-color: #0000ff\">1</span>], t[<span style=\"color: #0000ff; text-decoration-color: #0000ff\">2</span>] - <span style=\"color: #0000ff; text-decoration-color: #0000ff\">1</span>, t[<span style=\"color: #0000ff; text-decoration-color: #0000ff\">3</span>], t[<span style=\"color: #0000ff; text-decoration-color: #0000ff\">4</span>]) <span style=\"color: #0000ff; text-decoration-color: #0000ff\">if</span> <span style=\"color: #ff00ff; text-decoration-color: #ff00ff\">not</span> t[<span style=\"color: #0000ff; text-decoration-color: #0000ff\">0</span>][-<span style=\"color: #0000ff; text-decoration-color: #0000ff\">1</span>].isalnum() <span style=\"color: #0000ff; text-decoration-color: #0000ff\">e</span>   <span style=\"color: #800000; text-decoration-color: #800000\">│</span>\n",
       "<span style=\"color: #800000; text-decoration-color: #800000\">│</span>   <span style=\"color: #7f7f7f; text-decoration-color: #7f7f7f\">128 </span><span style=\"color: #7f7f7f; text-decoration-color: #7f7f7f\">│   │   </span><span style=\"color: #0000ff; text-decoration-color: #0000ff\">return</span> new_terms                                                                   <span style=\"color: #800000; text-decoration-color: #800000\">│</span>\n",
       "<span style=\"color: #800000; text-decoration-color: #800000\">│</span>                                                                                                  <span style=\"color: #800000; text-decoration-color: #800000\">│</span>\n",
       "<span style=\"color: #800000; text-decoration-color: #800000\">│</span> <span style=\"color: #bfbf7f; text-decoration-color: #bfbf7f\">/mnt/c/Users/Sergi/Documents/BioTermCategorizer/biotermcategorizer/extractors/</span><span style=\"color: #808000; text-decoration-color: #808000; font-weight: bold\">Extractor.py</span>:<span style=\"color: #0000ff; text-decoration-color: #0000ff\">125</span>   <span style=\"color: #800000; text-decoration-color: #800000\">│</span>\n",
       "<span style=\"color: #800000; text-decoration-color: #800000\">│</span> in <span style=\"color: #00ff00; text-decoration-color: #00ff00\">&lt;listcomp&gt;</span>                                                                                    <span style=\"color: #800000; text-decoration-color: #800000\">│</span>\n",
       "<span style=\"color: #800000; text-decoration-color: #800000\">│</span>                                                                                                  <span style=\"color: #800000; text-decoration-color: #800000\">│</span>\n",
       "<span style=\"color: #800000; text-decoration-color: #800000\">│</span>   <span style=\"color: #7f7f7f; text-decoration-color: #7f7f7f\">122 </span><span style=\"color: #bfbf7f; text-decoration-color: #bfbf7f\">│   │   </span><span style=\"color: #808000; text-decoration-color: #808000\">Returns:</span>                                                                           <span style=\"color: #800000; text-decoration-color: #800000\">│</span>\n",
       "<span style=\"color: #800000; text-decoration-color: #800000\">│</span>   <span style=\"color: #7f7f7f; text-decoration-color: #7f7f7f\">123 </span><span style=\"color: #bfbf7f; text-decoration-color: #bfbf7f\">│   │   </span><span style=\"color: #808000; text-decoration-color: #808000\">list: List of terms with non-alphanumeric characters removed.</span>                      <span style=\"color: #800000; text-decoration-color: #800000\">│</span>\n",
       "<span style=\"color: #800000; text-decoration-color: #800000\">│</span>   <span style=\"color: #7f7f7f; text-decoration-color: #7f7f7f\">124 </span><span style=\"color: #bfbf7f; text-decoration-color: #bfbf7f\">│   │   </span><span style=\"color: #808000; text-decoration-color: #808000\">\"\"\"</span>                                                                                <span style=\"color: #800000; text-decoration-color: #800000\">│</span>\n",
       "<span style=\"color: #800000; text-decoration-color: #800000\">│</span> <span style=\"color: #800000; text-decoration-color: #800000\">❱ </span>125 <span style=\"color: #7f7f7f; text-decoration-color: #7f7f7f\">│   │   </span>new_terms = [t <span style=\"color: #0000ff; text-decoration-color: #0000ff\">for</span> t <span style=\"color: #ff00ff; text-decoration-color: #ff00ff\">in</span> terms <span style=\"color: #0000ff; text-decoration-color: #0000ff\">if</span> t.isalnum()]                                      <span style=\"color: #800000; text-decoration-color: #800000\">│</span>\n",
       "<span style=\"color: #800000; text-decoration-color: #800000\">│</span>   <span style=\"color: #7f7f7f; text-decoration-color: #7f7f7f\">126 </span><span style=\"color: #7f7f7f; text-decoration-color: #7f7f7f\">│   │   </span>new_terms = [(t[<span style=\"color: #0000ff; text-decoration-color: #0000ff\">0</span>][<span style=\"color: #0000ff; text-decoration-color: #0000ff\">1</span>:], t[<span style=\"color: #0000ff; text-decoration-color: #0000ff\">1</span>] + <span style=\"color: #0000ff; text-decoration-color: #0000ff\">1</span>, t[<span style=\"color: #0000ff; text-decoration-color: #0000ff\">2</span>], t[<span style=\"color: #0000ff; text-decoration-color: #0000ff\">3</span>], t[<span style=\"color: #0000ff; text-decoration-color: #0000ff\">4</span>]) <span style=\"color: #0000ff; text-decoration-color: #0000ff\">if</span> <span style=\"color: #ff00ff; text-decoration-color: #ff00ff\">not</span> t[<span style=\"color: #0000ff; text-decoration-color: #0000ff\">0</span>][<span style=\"color: #0000ff; text-decoration-color: #0000ff\">0</span>].isalnum() <span style=\"color: #0000ff; text-decoration-color: #0000ff\">els</span>   <span style=\"color: #800000; text-decoration-color: #800000\">│</span>\n",
       "<span style=\"color: #800000; text-decoration-color: #800000\">│</span>   <span style=\"color: #7f7f7f; text-decoration-color: #7f7f7f\">127 </span><span style=\"color: #7f7f7f; text-decoration-color: #7f7f7f\">│   │   </span>new_terms = [(t[<span style=\"color: #0000ff; text-decoration-color: #0000ff\">0</span>][:-<span style=\"color: #0000ff; text-decoration-color: #0000ff\">1</span>], t[<span style=\"color: #0000ff; text-decoration-color: #0000ff\">1</span>], t[<span style=\"color: #0000ff; text-decoration-color: #0000ff\">2</span>] - <span style=\"color: #0000ff; text-decoration-color: #0000ff\">1</span>, t[<span style=\"color: #0000ff; text-decoration-color: #0000ff\">3</span>], t[<span style=\"color: #0000ff; text-decoration-color: #0000ff\">4</span>]) <span style=\"color: #0000ff; text-decoration-color: #0000ff\">if</span> <span style=\"color: #ff00ff; text-decoration-color: #ff00ff\">not</span> t[<span style=\"color: #0000ff; text-decoration-color: #0000ff\">0</span>][-<span style=\"color: #0000ff; text-decoration-color: #0000ff\">1</span>].isalnum() <span style=\"color: #0000ff; text-decoration-color: #0000ff\">e</span>   <span style=\"color: #800000; text-decoration-color: #800000\">│</span>\n",
       "<span style=\"color: #800000; text-decoration-color: #800000\">│</span>   <span style=\"color: #7f7f7f; text-decoration-color: #7f7f7f\">128 </span><span style=\"color: #7f7f7f; text-decoration-color: #7f7f7f\">│   │   </span><span style=\"color: #0000ff; text-decoration-color: #0000ff\">return</span> new_terms                                                                   <span style=\"color: #800000; text-decoration-color: #800000\">│</span>\n",
       "<span style=\"color: #800000; text-decoration-color: #800000\">╰──────────────────────────────────────────────────────────────────────────────────────────────────╯</span>\n",
       "<span style=\"color: #ff0000; text-decoration-color: #ff0000; font-weight: bold\">AttributeError: </span><span style=\"color: #008000; text-decoration-color: #008000\">'tuple'</span> object has no attribute <span style=\"color: #008000; text-decoration-color: #008000\">'isalnum'</span>\n",
       "\n",
       "<span style=\"font-style: italic\">During handling of the above exception, another exception occurred:</span>\n",
       "\n",
       "<span style=\"color: #800000; text-decoration-color: #800000\">╭─────────────────────────────── </span><span style=\"color: #800000; text-decoration-color: #800000; font-weight: bold\">Traceback </span><span style=\"color: #bf7f7f; text-decoration-color: #bf7f7f; font-weight: bold\">(most recent call last)</span><span style=\"color: #800000; text-decoration-color: #800000\"> ────────────────────────────────╮</span>\n",
       "<span style=\"color: #800000; text-decoration-color: #800000\">│</span> in <span style=\"color: #00ff00; text-decoration-color: #00ff00\">&lt;module&gt;</span>:<span style=\"color: #0000ff; text-decoration-color: #0000ff\">12</span>                                                                                   <span style=\"color: #800000; text-decoration-color: #800000\">│</span>\n",
       "<span style=\"color: #800000; text-decoration-color: #800000\">│</span>                                                                                                  <span style=\"color: #800000; text-decoration-color: #800000\">│</span>\n",
       "<span style=\"color: #800000; text-decoration-color: #800000\">│</span>   <span style=\"color: #7f7f7f; text-decoration-color: #7f7f7f\"> 9 </span><span style=\"color: #7f7f7f; text-decoration-color: #7f7f7f\">│   │   </span><span style=\"color: #0000ff; text-decoration-color: #0000ff\">with</span> <span style=\"color: #00ffff; text-decoration-color: #00ffff\">open</span>(os.path.join(path_dir, doc), <span style=\"color: #808000; text-decoration-color: #808000\">\"r\"</span>) <span style=\"color: #0000ff; text-decoration-color: #0000ff\">as</span> file:                                <span style=\"color: #800000; text-decoration-color: #800000\">│</span>\n",
       "<span style=\"color: #800000; text-decoration-color: #800000\">│</span>   <span style=\"color: #7f7f7f; text-decoration-color: #7f7f7f\">10 </span><span style=\"color: #7f7f7f; text-decoration-color: #7f7f7f\">│   │   │   </span>text = file.read()                                                              <span style=\"color: #800000; text-decoration-color: #800000\">│</span>\n",
       "<span style=\"color: #800000; text-decoration-color: #800000\">│</span>   <span style=\"color: #7f7f7f; text-decoration-color: #7f7f7f\">11 </span><span style=\"color: #7f7f7f; text-decoration-color: #7f7f7f\">│   │   </span><span style=\"color: #00ffff; text-decoration-color: #00ffff\">print</span>(<span style=\"color: #808000; text-decoration-color: #808000\">\"TO DO\"</span>)                                                                      <span style=\"color: #800000; text-decoration-color: #800000\">│</span>\n",
       "<span style=\"color: #800000; text-decoration-color: #800000\">│</span> <span style=\"color: #800000; text-decoration-color: #800000\">❱ </span>12 <span style=\"color: #7f7f7f; text-decoration-color: #7f7f7f\">│   │   </span>extractor(text)                                                                     <span style=\"color: #800000; text-decoration-color: #800000\">│</span>\n",
       "<span style=\"color: #800000; text-decoration-color: #800000\">│</span>   <span style=\"color: #7f7f7f; text-decoration-color: #7f7f7f\">13 </span><span style=\"color: #7f7f7f; text-decoration-color: #7f7f7f\">│   │   </span><span style=\"color: #00ffff; text-decoration-color: #00ffff\">print</span>(<span style=\"color: #808000; text-decoration-color: #808000\">\"DONE\"</span>)                                                                       <span style=\"color: #800000; text-decoration-color: #800000\">│</span>\n",
       "<span style=\"color: #800000; text-decoration-color: #800000\">│</span>   <span style=\"color: #7f7f7f; text-decoration-color: #7f7f7f\">14 </span><span style=\"color: #7f7f7f; text-decoration-color: #7f7f7f\">│   │   </span>keywords.extend(extractor.keywords)                                                 <span style=\"color: #800000; text-decoration-color: #800000\">│</span>\n",
       "<span style=\"color: #800000; text-decoration-color: #800000\">│</span>   <span style=\"color: #7f7f7f; text-decoration-color: #7f7f7f\">15 </span>                                                                                            <span style=\"color: #800000; text-decoration-color: #800000\">│</span>\n",
       "<span style=\"color: #800000; text-decoration-color: #800000\">│</span>                                                                                                  <span style=\"color: #800000; text-decoration-color: #800000\">│</span>\n",
       "<span style=\"color: #800000; text-decoration-color: #800000\">│</span> <span style=\"color: #bfbf7f; text-decoration-color: #bfbf7f\">/mnt/c/Users/Sergi/Documents/BioTermCategorizer/biotermcategorizer/</span><span style=\"color: #808000; text-decoration-color: #808000; font-weight: bold\">TermExtractor.py</span>:<span style=\"color: #0000ff; text-decoration-color: #0000ff\">74</span> in        <span style=\"color: #800000; text-decoration-color: #800000\">│</span>\n",
       "<span style=\"color: #800000; text-decoration-color: #800000\">│</span> <span style=\"color: #00ff00; text-decoration-color: #00ff00\">__call__</span>                                                                                         <span style=\"color: #800000; text-decoration-color: #800000\">│</span>\n",
       "<span style=\"color: #800000; text-decoration-color: #800000\">│</span>                                                                                                  <span style=\"color: #800000; text-decoration-color: #800000\">│</span>\n",
       "<span style=\"color: #800000; text-decoration-color: #800000\">│</span>   <span style=\"color: #7f7f7f; text-decoration-color: #7f7f7f\"> 71 </span><span style=\"color: #bfbf7f; text-decoration-color: #bfbf7f\">│   │   </span><span style=\"color: #808000; text-decoration-color: #808000\">Returns:</span>                                                                           <span style=\"color: #800000; text-decoration-color: #800000\">│</span>\n",
       "<span style=\"color: #800000; text-decoration-color: #800000\">│</span>   <span style=\"color: #7f7f7f; text-decoration-color: #7f7f7f\"> 72 </span><span style=\"color: #bfbf7f; text-decoration-color: #bfbf7f\">│   │   </span><span style=\"color: #808000; text-decoration-color: #808000\">None</span>                                                                               <span style=\"color: #800000; text-decoration-color: #800000\">│</span>\n",
       "<span style=\"color: #800000; text-decoration-color: #800000\">│</span>   <span style=\"color: #7f7f7f; text-decoration-color: #7f7f7f\"> 73 </span><span style=\"color: #bfbf7f; text-decoration-color: #bfbf7f\">│   │   </span><span style=\"color: #808000; text-decoration-color: #808000\">\"\"\"</span>                                                                                <span style=\"color: #800000; text-decoration-color: #800000\">│</span>\n",
       "<span style=\"color: #800000; text-decoration-color: #800000\">│</span> <span style=\"color: #800000; text-decoration-color: #800000\">❱ </span> 74 <span style=\"color: #7f7f7f; text-decoration-color: #7f7f7f\">│   │   </span><span style=\"color: #00ffff; text-decoration-color: #00ffff\">self</span>.extract_terms(text, <span style=\"color: #00ffff; text-decoration-color: #00ffff\">self</span>.join, <span style=\"color: #00ffff; text-decoration-color: #00ffff\">self</span>.postprocess)                              <span style=\"color: #800000; text-decoration-color: #800000\">│</span>\n",
       "<span style=\"color: #800000; text-decoration-color: #800000\">│</span>   <span style=\"color: #7f7f7f; text-decoration-color: #7f7f7f\"> 75 </span><span style=\"color: #7f7f7f; text-decoration-color: #7f7f7f\">│   │   </span><span style=\"color: #00ffff; text-decoration-color: #00ffff\">self</span>.categorize_terms()                                                            <span style=\"color: #800000; text-decoration-color: #800000\">│</span>\n",
       "<span style=\"color: #800000; text-decoration-color: #800000\">│</span>   <span style=\"color: #7f7f7f; text-decoration-color: #7f7f7f\"> 76 </span><span style=\"color: #7f7f7f; text-decoration-color: #7f7f7f\">│   </span>                                                                                       <span style=\"color: #800000; text-decoration-color: #800000\">│</span>\n",
       "<span style=\"color: #800000; text-decoration-color: #800000\">│</span>   <span style=\"color: #7f7f7f; text-decoration-color: #7f7f7f\"> 77 </span><span style=\"color: #7f7f7f; text-decoration-color: #7f7f7f\">│   </span><span style=\"color: #0000ff; text-decoration-color: #0000ff\">def</span> <span style=\"color: #00ff00; text-decoration-color: #00ff00\">initialize_keyword_extractors</span>(<span style=\"color: #00ffff; text-decoration-color: #00ffff\">self</span>, language, max_tokens, pos, pos_pattern):       <span style=\"color: #800000; text-decoration-color: #800000\">│</span>\n",
       "<span style=\"color: #800000; text-decoration-color: #800000\">│</span>                                                                                                  <span style=\"color: #800000; text-decoration-color: #800000\">│</span>\n",
       "<span style=\"color: #800000; text-decoration-color: #800000\">│</span> <span style=\"color: #bfbf7f; text-decoration-color: #bfbf7f\">/mnt/c/Users/Sergi/Documents/BioTermCategorizer/biotermcategorizer/</span><span style=\"color: #808000; text-decoration-color: #808000; font-weight: bold\">TermExtractor.py</span>:<span style=\"color: #0000ff; text-decoration-color: #0000ff\">134</span> in       <span style=\"color: #800000; text-decoration-color: #800000\">│</span>\n",
       "<span style=\"color: #800000; text-decoration-color: #800000\">│</span> <span style=\"color: #00ff00; text-decoration-color: #00ff00\">extract_terms</span>                                                                                    <span style=\"color: #800000; text-decoration-color: #800000\">│</span>\n",
       "<span style=\"color: #800000; text-decoration-color: #800000\">│</span>                                                                                                  <span style=\"color: #800000; text-decoration-color: #800000\">│</span>\n",
       "<span style=\"color: #800000; text-decoration-color: #800000\">│</span>   <span style=\"color: #7f7f7f; text-decoration-color: #7f7f7f\">131 </span><span style=\"color: #7f7f7f; text-decoration-color: #7f7f7f\">│   │   │   │   </span>all_terms = <span style=\"color: #00ffff; text-decoration-color: #00ffff\">list</span>(<span style=\"color: #00ffff; text-decoration-color: #00ffff\">self</span>.extractors.values())[<span style=\"color: #0000ff; text-decoration-color: #0000ff\">0</span>].rmv_overlaps(all_terms)      <span style=\"color: #800000; text-decoration-color: #800000\">│</span>\n",
       "<span style=\"color: #800000; text-decoration-color: #800000\">│</span>   <span style=\"color: #7f7f7f; text-decoration-color: #7f7f7f\">132 </span><span style=\"color: #7f7f7f; text-decoration-color: #7f7f7f\">│   │   │   </span><span style=\"color: #00ffff; text-decoration-color: #00ffff\">self</span>.keywords = [Keyword(text=i[<span style=\"color: #0000ff; text-decoration-color: #0000ff\">0</span>], extraction_method=i[<span style=\"color: #0000ff; text-decoration-color: #0000ff\">4</span>], ini=i[<span style=\"color: #0000ff; text-decoration-color: #0000ff\">1</span>], fin=i[   <span style=\"color: #800000; text-decoration-color: #800000\">│</span>\n",
       "<span style=\"color: #800000; text-decoration-color: #800000\">│</span>   <span style=\"color: #7f7f7f; text-decoration-color: #7f7f7f\">133 </span><span style=\"color: #7f7f7f; text-decoration-color: #7f7f7f\">│   │   </span><span style=\"color: #0000ff; text-decoration-color: #0000ff\">except</span>:                                                                            <span style=\"color: #800000; text-decoration-color: #800000\">│</span>\n",
       "<span style=\"color: #800000; text-decoration-color: #800000\">│</span> <span style=\"color: #800000; text-decoration-color: #800000\">❱ </span>134 <span style=\"color: #7f7f7f; text-decoration-color: #7f7f7f\">│   │   │   </span><span style=\"color: #0000ff; text-decoration-color: #0000ff\">raise</span> <span style=\"color: #00ffff; text-decoration-color: #00ffff\">AttributeError</span>(<span style=\"color: #808000; text-decoration-color: #808000\">\"A list of extractors must be provided\"</span>)                  <span style=\"color: #800000; text-decoration-color: #800000\">│</span>\n",
       "<span style=\"color: #800000; text-decoration-color: #800000\">│</span>   <span style=\"color: #7f7f7f; text-decoration-color: #7f7f7f\">135 </span><span style=\"color: #7f7f7f; text-decoration-color: #7f7f7f\">│   </span>                                                                                       <span style=\"color: #800000; text-decoration-color: #800000\">│</span>\n",
       "<span style=\"color: #800000; text-decoration-color: #800000\">│</span>   <span style=\"color: #7f7f7f; text-decoration-color: #7f7f7f\">136 </span><span style=\"color: #7f7f7f; text-decoration-color: #7f7f7f\">│   </span><span style=\"color: #0000ff; text-decoration-color: #0000ff\">def</span> <span style=\"color: #00ff00; text-decoration-color: #00ff00\">initialize_categorizers</span>(<span style=\"color: #00ffff; text-decoration-color: #00ffff\">self</span>, n, thr_setfit, thr_transformers, n_clusters, model   <span style=\"color: #800000; text-decoration-color: #800000\">│</span>\n",
       "<span style=\"color: #800000; text-decoration-color: #800000\">│</span>   <span style=\"color: #7f7f7f; text-decoration-color: #7f7f7f\">137 </span><span style=\"color: #bfbfbf; text-decoration-color: #bfbfbf\">│   │   </span><span style=\"color: #808000; text-decoration-color: #808000\">\"\"\"</span>                                                                                <span style=\"color: #800000; text-decoration-color: #800000\">│</span>\n",
       "<span style=\"color: #800000; text-decoration-color: #800000\">╰──────────────────────────────────────────────────────────────────────────────────────────────────╯</span>\n",
       "<span style=\"color: #ff0000; text-decoration-color: #ff0000; font-weight: bold\">AttributeError: </span>A list of extractors must be provided\n",
       "</pre>\n"
      ],
      "text/plain": [
       "\u001b[31m╭─\u001b[0m\u001b[31m──────────────────────────────\u001b[0m\u001b[31m \u001b[0m\u001b[1;31mTraceback \u001b[0m\u001b[1;2;31m(most recent call last)\u001b[0m\u001b[31m \u001b[0m\u001b[31m───────────────────────────────\u001b[0m\u001b[31m─╮\u001b[0m\n",
       "\u001b[31m│\u001b[0m \u001b[2;33m/mnt/c/Users/Sergi/Documents/BioTermCategorizer/biotermcategorizer/\u001b[0m\u001b[1;33mTermExtractor.py\u001b[0m:\u001b[94m130\u001b[0m in       \u001b[31m│\u001b[0m\n",
       "\u001b[31m│\u001b[0m \u001b[92mextract_terms\u001b[0m                                                                                    \u001b[31m│\u001b[0m\n",
       "\u001b[31m│\u001b[0m                                                                                                  \u001b[31m│\u001b[0m\n",
       "\u001b[31m│\u001b[0m   \u001b[2m127 \u001b[0m\u001b[2m│   │   │   \u001b[0m\u001b[94mif\u001b[0m join:                                                                       \u001b[31m│\u001b[0m\n",
       "\u001b[31m│\u001b[0m   \u001b[2m128 \u001b[0m\u001b[2m│   │   │   │   \u001b[0mall_terms = \u001b[96mlist\u001b[0m(\u001b[96mself\u001b[0m.extractors.values())[\u001b[94m0\u001b[0m].rmv_overlaps(all_terms)      \u001b[31m│\u001b[0m\n",
       "\u001b[31m│\u001b[0m   \u001b[2m129 \u001b[0m\u001b[2m│   │   │   \u001b[0m\u001b[94mif\u001b[0m postprocess:                                                                \u001b[31m│\u001b[0m\n",
       "\u001b[31m│\u001b[0m \u001b[31m❱ \u001b[0m130 \u001b[2m│   │   │   │   \u001b[0mall_terms = \u001b[96mlist\u001b[0m(\u001b[96mself\u001b[0m.extractors.values())[\u001b[94m0\u001b[0m].postprocess_terms(all_term   \u001b[31m│\u001b[0m\n",
       "\u001b[31m│\u001b[0m   \u001b[2m131 \u001b[0m\u001b[2m│   │   │   │   \u001b[0mall_terms = \u001b[96mlist\u001b[0m(\u001b[96mself\u001b[0m.extractors.values())[\u001b[94m0\u001b[0m].rmv_overlaps(all_terms)      \u001b[31m│\u001b[0m\n",
       "\u001b[31m│\u001b[0m   \u001b[2m132 \u001b[0m\u001b[2m│   │   │   \u001b[0m\u001b[96mself\u001b[0m.keywords = [Keyword(text=i[\u001b[94m0\u001b[0m], extraction_method=i[\u001b[94m4\u001b[0m], ini=i[\u001b[94m1\u001b[0m], fin=i[   \u001b[31m│\u001b[0m\n",
       "\u001b[31m│\u001b[0m   \u001b[2m133 \u001b[0m\u001b[2m│   │   \u001b[0m\u001b[94mexcept\u001b[0m:                                                                            \u001b[31m│\u001b[0m\n",
       "\u001b[31m│\u001b[0m                                                                                                  \u001b[31m│\u001b[0m\n",
       "\u001b[31m│\u001b[0m \u001b[2;33m/mnt/c/Users/Sergi/Documents/BioTermCategorizer/biotermcategorizer/extractors/\u001b[0m\u001b[1;33mExtractor.py\u001b[0m:\u001b[94m79\u001b[0m in \u001b[31m│\u001b[0m\n",
       "\u001b[31m│\u001b[0m \u001b[92mpostprocess_terms\u001b[0m                                                                                \u001b[31m│\u001b[0m\n",
       "\u001b[31m│\u001b[0m                                                                                                  \u001b[31m│\u001b[0m\n",
       "\u001b[31m│\u001b[0m   \u001b[2m 76 \u001b[0m\u001b[2m│   │   \u001b[0mnew_terms = \u001b[96mself\u001b[0m.rmv_meaningless(terms)                                            \u001b[31m│\u001b[0m\n",
       "\u001b[31m│\u001b[0m   \u001b[2m 77 \u001b[0m\u001b[2m│   │   \u001b[0mnew_terms = \u001b[96mself\u001b[0m.rmv_stopwords(new_terms)                                          \u001b[31m│\u001b[0m\n",
       "\u001b[31m│\u001b[0m   \u001b[2m 78 \u001b[0m\u001b[2m│   │   \u001b[0mnew_terms = \u001b[96mself\u001b[0m.rmv_stopwords(new_terms)                                          \u001b[31m│\u001b[0m\n",
       "\u001b[31m│\u001b[0m \u001b[31m❱ \u001b[0m 79 \u001b[2m│   │   \u001b[0mnew_terms = \u001b[96mself\u001b[0m.rmv_nonalnum_characters(new_terms)                                \u001b[31m│\u001b[0m\n",
       "\u001b[31m│\u001b[0m   \u001b[2m 80 \u001b[0m\u001b[2m│   │   \u001b[0mnew_terms = \u001b[96mself\u001b[0m.rmv_nonalnum_characters(new_terms)                                \u001b[31m│\u001b[0m\n",
       "\u001b[31m│\u001b[0m   \u001b[2m 81 \u001b[0m\u001b[2m│   │   \u001b[0mnew_terms = \u001b[96mself\u001b[0m.rmv_meaningless(new_terms)                                        \u001b[31m│\u001b[0m\n",
       "\u001b[31m│\u001b[0m   \u001b[2m 82 \u001b[0m\u001b[2m│   │   \u001b[0m\u001b[94mreturn\u001b[0m new_terms                                                                   \u001b[31m│\u001b[0m\n",
       "\u001b[31m│\u001b[0m                                                                                                  \u001b[31m│\u001b[0m\n",
       "\u001b[31m│\u001b[0m \u001b[2;33m/mnt/c/Users/Sergi/Documents/BioTermCategorizer/biotermcategorizer/extractors/\u001b[0m\u001b[1;33mExtractor.py\u001b[0m:\u001b[94m125\u001b[0m   \u001b[31m│\u001b[0m\n",
       "\u001b[31m│\u001b[0m in \u001b[92mrmv_nonalnum_characters\u001b[0m                                                                       \u001b[31m│\u001b[0m\n",
       "\u001b[31m│\u001b[0m                                                                                                  \u001b[31m│\u001b[0m\n",
       "\u001b[31m│\u001b[0m   \u001b[2m122 \u001b[0m\u001b[2;33m│   │   \u001b[0m\u001b[33mReturns:\u001b[0m                                                                           \u001b[31m│\u001b[0m\n",
       "\u001b[31m│\u001b[0m   \u001b[2m123 \u001b[0m\u001b[2;33m│   │   \u001b[0m\u001b[33mlist: List of terms with non-alphanumeric characters removed.\u001b[0m                      \u001b[31m│\u001b[0m\n",
       "\u001b[31m│\u001b[0m   \u001b[2m124 \u001b[0m\u001b[2;33m│   │   \u001b[0m\u001b[33m\"\"\"\u001b[0m                                                                                \u001b[31m│\u001b[0m\n",
       "\u001b[31m│\u001b[0m \u001b[31m❱ \u001b[0m125 \u001b[2m│   │   \u001b[0mnew_terms = [t \u001b[94mfor\u001b[0m t \u001b[95min\u001b[0m terms \u001b[94mif\u001b[0m t.isalnum()]                                      \u001b[31m│\u001b[0m\n",
       "\u001b[31m│\u001b[0m   \u001b[2m126 \u001b[0m\u001b[2m│   │   \u001b[0mnew_terms = [(t[\u001b[94m0\u001b[0m][\u001b[94m1\u001b[0m:], t[\u001b[94m1\u001b[0m] + \u001b[94m1\u001b[0m, t[\u001b[94m2\u001b[0m], t[\u001b[94m3\u001b[0m], t[\u001b[94m4\u001b[0m]) \u001b[94mif\u001b[0m \u001b[95mnot\u001b[0m t[\u001b[94m0\u001b[0m][\u001b[94m0\u001b[0m].isalnum() \u001b[94mels\u001b[0m   \u001b[31m│\u001b[0m\n",
       "\u001b[31m│\u001b[0m   \u001b[2m127 \u001b[0m\u001b[2m│   │   \u001b[0mnew_terms = [(t[\u001b[94m0\u001b[0m][:-\u001b[94m1\u001b[0m], t[\u001b[94m1\u001b[0m], t[\u001b[94m2\u001b[0m] - \u001b[94m1\u001b[0m, t[\u001b[94m3\u001b[0m], t[\u001b[94m4\u001b[0m]) \u001b[94mif\u001b[0m \u001b[95mnot\u001b[0m t[\u001b[94m0\u001b[0m][-\u001b[94m1\u001b[0m].isalnum() \u001b[94me\u001b[0m   \u001b[31m│\u001b[0m\n",
       "\u001b[31m│\u001b[0m   \u001b[2m128 \u001b[0m\u001b[2m│   │   \u001b[0m\u001b[94mreturn\u001b[0m new_terms                                                                   \u001b[31m│\u001b[0m\n",
       "\u001b[31m│\u001b[0m                                                                                                  \u001b[31m│\u001b[0m\n",
       "\u001b[31m│\u001b[0m \u001b[2;33m/mnt/c/Users/Sergi/Documents/BioTermCategorizer/biotermcategorizer/extractors/\u001b[0m\u001b[1;33mExtractor.py\u001b[0m:\u001b[94m125\u001b[0m   \u001b[31m│\u001b[0m\n",
       "\u001b[31m│\u001b[0m in \u001b[92m<listcomp>\u001b[0m                                                                                    \u001b[31m│\u001b[0m\n",
       "\u001b[31m│\u001b[0m                                                                                                  \u001b[31m│\u001b[0m\n",
       "\u001b[31m│\u001b[0m   \u001b[2m122 \u001b[0m\u001b[2;33m│   │   \u001b[0m\u001b[33mReturns:\u001b[0m                                                                           \u001b[31m│\u001b[0m\n",
       "\u001b[31m│\u001b[0m   \u001b[2m123 \u001b[0m\u001b[2;33m│   │   \u001b[0m\u001b[33mlist: List of terms with non-alphanumeric characters removed.\u001b[0m                      \u001b[31m│\u001b[0m\n",
       "\u001b[31m│\u001b[0m   \u001b[2m124 \u001b[0m\u001b[2;33m│   │   \u001b[0m\u001b[33m\"\"\"\u001b[0m                                                                                \u001b[31m│\u001b[0m\n",
       "\u001b[31m│\u001b[0m \u001b[31m❱ \u001b[0m125 \u001b[2m│   │   \u001b[0mnew_terms = [t \u001b[94mfor\u001b[0m t \u001b[95min\u001b[0m terms \u001b[94mif\u001b[0m t.isalnum()]                                      \u001b[31m│\u001b[0m\n",
       "\u001b[31m│\u001b[0m   \u001b[2m126 \u001b[0m\u001b[2m│   │   \u001b[0mnew_terms = [(t[\u001b[94m0\u001b[0m][\u001b[94m1\u001b[0m:], t[\u001b[94m1\u001b[0m] + \u001b[94m1\u001b[0m, t[\u001b[94m2\u001b[0m], t[\u001b[94m3\u001b[0m], t[\u001b[94m4\u001b[0m]) \u001b[94mif\u001b[0m \u001b[95mnot\u001b[0m t[\u001b[94m0\u001b[0m][\u001b[94m0\u001b[0m].isalnum() \u001b[94mels\u001b[0m   \u001b[31m│\u001b[0m\n",
       "\u001b[31m│\u001b[0m   \u001b[2m127 \u001b[0m\u001b[2m│   │   \u001b[0mnew_terms = [(t[\u001b[94m0\u001b[0m][:-\u001b[94m1\u001b[0m], t[\u001b[94m1\u001b[0m], t[\u001b[94m2\u001b[0m] - \u001b[94m1\u001b[0m, t[\u001b[94m3\u001b[0m], t[\u001b[94m4\u001b[0m]) \u001b[94mif\u001b[0m \u001b[95mnot\u001b[0m t[\u001b[94m0\u001b[0m][-\u001b[94m1\u001b[0m].isalnum() \u001b[94me\u001b[0m   \u001b[31m│\u001b[0m\n",
       "\u001b[31m│\u001b[0m   \u001b[2m128 \u001b[0m\u001b[2m│   │   \u001b[0m\u001b[94mreturn\u001b[0m new_terms                                                                   \u001b[31m│\u001b[0m\n",
       "\u001b[31m╰──────────────────────────────────────────────────────────────────────────────────────────────────╯\u001b[0m\n",
       "\u001b[1;91mAttributeError: \u001b[0m\u001b[32m'tuple'\u001b[0m object has no attribute \u001b[32m'isalnum'\u001b[0m\n",
       "\n",
       "\u001b[3mDuring handling of the above exception, another exception occurred:\u001b[0m\n",
       "\n",
       "\u001b[31m╭─\u001b[0m\u001b[31m──────────────────────────────\u001b[0m\u001b[31m \u001b[0m\u001b[1;31mTraceback \u001b[0m\u001b[1;2;31m(most recent call last)\u001b[0m\u001b[31m \u001b[0m\u001b[31m───────────────────────────────\u001b[0m\u001b[31m─╮\u001b[0m\n",
       "\u001b[31m│\u001b[0m in \u001b[92m<module>\u001b[0m:\u001b[94m12\u001b[0m                                                                                   \u001b[31m│\u001b[0m\n",
       "\u001b[31m│\u001b[0m                                                                                                  \u001b[31m│\u001b[0m\n",
       "\u001b[31m│\u001b[0m   \u001b[2m 9 \u001b[0m\u001b[2m│   │   \u001b[0m\u001b[94mwith\u001b[0m \u001b[96mopen\u001b[0m(os.path.join(path_dir, doc), \u001b[33m\"\u001b[0m\u001b[33mr\u001b[0m\u001b[33m\"\u001b[0m) \u001b[94mas\u001b[0m file:                                \u001b[31m│\u001b[0m\n",
       "\u001b[31m│\u001b[0m   \u001b[2m10 \u001b[0m\u001b[2m│   │   │   \u001b[0mtext = file.read()                                                              \u001b[31m│\u001b[0m\n",
       "\u001b[31m│\u001b[0m   \u001b[2m11 \u001b[0m\u001b[2m│   │   \u001b[0m\u001b[96mprint\u001b[0m(\u001b[33m\"\u001b[0m\u001b[33mTO DO\u001b[0m\u001b[33m\"\u001b[0m)                                                                      \u001b[31m│\u001b[0m\n",
       "\u001b[31m│\u001b[0m \u001b[31m❱ \u001b[0m12 \u001b[2m│   │   \u001b[0mextractor(text)                                                                     \u001b[31m│\u001b[0m\n",
       "\u001b[31m│\u001b[0m   \u001b[2m13 \u001b[0m\u001b[2m│   │   \u001b[0m\u001b[96mprint\u001b[0m(\u001b[33m\"\u001b[0m\u001b[33mDONE\u001b[0m\u001b[33m\"\u001b[0m)                                                                       \u001b[31m│\u001b[0m\n",
       "\u001b[31m│\u001b[0m   \u001b[2m14 \u001b[0m\u001b[2m│   │   \u001b[0mkeywords.extend(extractor.keywords)                                                 \u001b[31m│\u001b[0m\n",
       "\u001b[31m│\u001b[0m   \u001b[2m15 \u001b[0m                                                                                            \u001b[31m│\u001b[0m\n",
       "\u001b[31m│\u001b[0m                                                                                                  \u001b[31m│\u001b[0m\n",
       "\u001b[31m│\u001b[0m \u001b[2;33m/mnt/c/Users/Sergi/Documents/BioTermCategorizer/biotermcategorizer/\u001b[0m\u001b[1;33mTermExtractor.py\u001b[0m:\u001b[94m74\u001b[0m in        \u001b[31m│\u001b[0m\n",
       "\u001b[31m│\u001b[0m \u001b[92m__call__\u001b[0m                                                                                         \u001b[31m│\u001b[0m\n",
       "\u001b[31m│\u001b[0m                                                                                                  \u001b[31m│\u001b[0m\n",
       "\u001b[31m│\u001b[0m   \u001b[2m 71 \u001b[0m\u001b[2;33m│   │   \u001b[0m\u001b[33mReturns:\u001b[0m                                                                           \u001b[31m│\u001b[0m\n",
       "\u001b[31m│\u001b[0m   \u001b[2m 72 \u001b[0m\u001b[2;33m│   │   \u001b[0m\u001b[33mNone\u001b[0m                                                                               \u001b[31m│\u001b[0m\n",
       "\u001b[31m│\u001b[0m   \u001b[2m 73 \u001b[0m\u001b[2;33m│   │   \u001b[0m\u001b[33m\"\"\"\u001b[0m                                                                                \u001b[31m│\u001b[0m\n",
       "\u001b[31m│\u001b[0m \u001b[31m❱ \u001b[0m 74 \u001b[2m│   │   \u001b[0m\u001b[96mself\u001b[0m.extract_terms(text, \u001b[96mself\u001b[0m.join, \u001b[96mself\u001b[0m.postprocess)                              \u001b[31m│\u001b[0m\n",
       "\u001b[31m│\u001b[0m   \u001b[2m 75 \u001b[0m\u001b[2m│   │   \u001b[0m\u001b[96mself\u001b[0m.categorize_terms()                                                            \u001b[31m│\u001b[0m\n",
       "\u001b[31m│\u001b[0m   \u001b[2m 76 \u001b[0m\u001b[2m│   \u001b[0m                                                                                       \u001b[31m│\u001b[0m\n",
       "\u001b[31m│\u001b[0m   \u001b[2m 77 \u001b[0m\u001b[2m│   \u001b[0m\u001b[94mdef\u001b[0m \u001b[92minitialize_keyword_extractors\u001b[0m(\u001b[96mself\u001b[0m, language, max_tokens, pos, pos_pattern):       \u001b[31m│\u001b[0m\n",
       "\u001b[31m│\u001b[0m                                                                                                  \u001b[31m│\u001b[0m\n",
       "\u001b[31m│\u001b[0m \u001b[2;33m/mnt/c/Users/Sergi/Documents/BioTermCategorizer/biotermcategorizer/\u001b[0m\u001b[1;33mTermExtractor.py\u001b[0m:\u001b[94m134\u001b[0m in       \u001b[31m│\u001b[0m\n",
       "\u001b[31m│\u001b[0m \u001b[92mextract_terms\u001b[0m                                                                                    \u001b[31m│\u001b[0m\n",
       "\u001b[31m│\u001b[0m                                                                                                  \u001b[31m│\u001b[0m\n",
       "\u001b[31m│\u001b[0m   \u001b[2m131 \u001b[0m\u001b[2m│   │   │   │   \u001b[0mall_terms = \u001b[96mlist\u001b[0m(\u001b[96mself\u001b[0m.extractors.values())[\u001b[94m0\u001b[0m].rmv_overlaps(all_terms)      \u001b[31m│\u001b[0m\n",
       "\u001b[31m│\u001b[0m   \u001b[2m132 \u001b[0m\u001b[2m│   │   │   \u001b[0m\u001b[96mself\u001b[0m.keywords = [Keyword(text=i[\u001b[94m0\u001b[0m], extraction_method=i[\u001b[94m4\u001b[0m], ini=i[\u001b[94m1\u001b[0m], fin=i[   \u001b[31m│\u001b[0m\n",
       "\u001b[31m│\u001b[0m   \u001b[2m133 \u001b[0m\u001b[2m│   │   \u001b[0m\u001b[94mexcept\u001b[0m:                                                                            \u001b[31m│\u001b[0m\n",
       "\u001b[31m│\u001b[0m \u001b[31m❱ \u001b[0m134 \u001b[2m│   │   │   \u001b[0m\u001b[94mraise\u001b[0m \u001b[96mAttributeError\u001b[0m(\u001b[33m\"\u001b[0m\u001b[33mA list of extractors must be provided\u001b[0m\u001b[33m\"\u001b[0m)                  \u001b[31m│\u001b[0m\n",
       "\u001b[31m│\u001b[0m   \u001b[2m135 \u001b[0m\u001b[2m│   \u001b[0m                                                                                       \u001b[31m│\u001b[0m\n",
       "\u001b[31m│\u001b[0m   \u001b[2m136 \u001b[0m\u001b[2m│   \u001b[0m\u001b[94mdef\u001b[0m \u001b[92minitialize_categorizers\u001b[0m(\u001b[96mself\u001b[0m, n, thr_setfit, thr_transformers, n_clusters, model   \u001b[31m│\u001b[0m\n",
       "\u001b[31m│\u001b[0m   \u001b[2m137 \u001b[0m\u001b[2;90m│   │   \u001b[0m\u001b[33m\"\"\"\u001b[0m                                                                                \u001b[31m│\u001b[0m\n",
       "\u001b[31m╰──────────────────────────────────────────────────────────────────────────────────────────────────╯\u001b[0m\n",
       "\u001b[1;91mAttributeError: \u001b[0mA list of extractors must be provided\n"
      ]
     },
     "metadata": {},
     "output_type": "display_data"
    }
   ],
   "source": [
    "path_dir = '/mnt/c/Users/Sergi/Desktop/BSC/Corpus/distemist_zenodo/training/text_files2'\n",
    "\n",
    "keywords = []\n",
    "extractor = TermExtractor() #parametros como args de entrada\n",
    "\n",
    "docs = os.listdir(path_dir)\n",
    "for doc in docs:\n",
    "    if doc.endswith(\".txt\"):\n",
    "        with open(os.path.join(path_dir, doc), \"r\") as file:\n",
    "            text = file.read()\n",
    "        print(\"TO DO\")\n",
    "        extractor(text)\n",
    "        print(\"DONE\")\n",
    "        keywords.extend(extractor.keywords)\n",
    "\n",
    "print(keywords)"
   ]
  },
  {
   "cell_type": "code",
   "execution_count": 6,
   "id": "0a46a731-9e5c-404c-9a4f-a8b2b9093117",
   "metadata": {},
   "outputs": [
    {
     "data": {
      "text/plain": [
       "True"
      ]
     },
     "execution_count": 6,
     "metadata": {},
     "output_type": "execute_result"
    }
   ],
   "source": [
    "t = \"hola,\"\n",
    "any(char.isalnum() for char in t)"
   ]
  },
  {
   "cell_type": "code",
   "execution_count": 8,
   "id": "8e3b7891-8a29-4a3b-bdfc-b0820de68956",
   "metadata": {},
   "outputs": [
    {
     "name": "stdout",
     "output_type": "stream",
     "text": [
      "['hola', 'feec,', '345', 'vf/vr']\n"
     ]
    }
   ],
   "source": [
    "new_terms = []\n",
    "terms=[\"hola\",'feec,','345','vf/vr',')',' ']\n",
    "for t in terms:\n",
    "    if (any(char.isalnum() for char in t)):\n",
    "        new_terms.append(t)\n",
    "\n",
    "print(new_terms)"
   ]
  },
  {
   "cell_type": "code",
   "execution_count": 4,
   "id": "7cbb7e8b-1760-416a-9aac-b62bd32ae40c",
   "metadata": {},
   "outputs": [],
   "source": [
    "extractor(\"El cancer de pulmón tiene una prevalencia mayor en fumadores.\")"
   ]
  },
  {
   "cell_type": "code",
   "execution_count": 5,
   "id": "e21eaf75-79ea-4d49-bb94-6d1f6c4249ca",
   "metadata": {},
   "outputs": [
    {
     "data": {
      "text/plain": [
       "[<Keyword(text='fumadores', span='[51, 60]', extraction method='textrank', score='0.29499743629328806', categorization method='setfit', class='['ENFERMEDAD']')>,\n",
       " <Keyword(text='pulmón', span='[13, 19]', extraction method='textrank', score='0.1544094571426561', categorization method='setfit', class='['ENFERMEDAD']')>,\n",
       " <Keyword(text='prevalencia mayor', span='[30, 47]', extraction method='textrank', score='0.14996520887367523', categorization method='setfit', class='['SINTOMA']')>,\n",
       " <Keyword(text='cancer', span='[3, 9]', extraction method='textrank', score='0.0629554224898356', categorization method='setfit', class='['MORFOLOGIA_NEOPLASIA']')>]"
      ]
     },
     "execution_count": 5,
     "metadata": {},
     "output_type": "execute_result"
    }
   ],
   "source": [
    "extractor.keywords"
   ]
  },
  {
   "cell_type": "code",
   "execution_count": 7,
   "id": "a8dc7d07-f276-42f5-ad96-d6d07e5f8a97",
   "metadata": {
    "scrolled": true
   },
   "outputs": [
    {
     "data": {
      "text/plain": [
       "[<Keyword(text='crecimiento progresivo', span='[138, 160]', extraction method='textrank', score='0.10434888624227952', categorization method='setfit', class='['SINTOMA']')>,\n",
       " <Keyword(text='gran tamaño', span='[516, 527]', extraction method='textrank', score='0.09829389980918585', categorization method='setfit', class='['SINTOMA']')>,\n",
       " <Keyword(text='gran tamaño', span='[944, 955]', extraction method='textrank', score='0.09829389980918585', categorization method='setfit', class='['SINTOMA']')>,\n",
       " <Keyword(text='insuficiencia renal', span='[1016, 1035]', extraction method='textrank', score='0.0946960070181668', categorization method='setfit', class='['ENFERMEDAD']')>,\n",
       " <Keyword(text='diagnóstico', span='[1236, 1247]', extraction method='textrank', score='0.08484725193280314', categorization method='setfit', class='['PROCEDIMIENTO']')>,\n",
       " <Keyword(text='general', span='[1191, 1198]', extraction method='textrank', score='0.08199795637918385', categorization method='setfit', class='['PROFESION']')>,\n",
       " <Keyword(text='crecimiento', span='[958, 969]', extraction method='textrank', score='0.07926062213368033', categorization method='setfit', class='['SINTOMA']')>,\n",
       " <Keyword(text='meato', span='[282, 287]', extraction method='textrank', score='0.07880966284682908', categorization method='setfit', class='['SINTOMA']')>,\n",
       " <Keyword(text='meato', span='[1006, 1011]', extraction method='textrank', score='0.07880966284682908', categorization method='setfit', class='['SINTOMA']')>,\n",
       " <Keyword(text='penectomía parcial', span='[582, 600]', extraction method='textrank', score='0.07852904003370252', categorization method='setfit', class='['PROCEDIMIENTO']')>,\n",
       " <Keyword(text='fibrina', span='[322, 329]', extraction method='textrank', score='0.07710970438728806', categorization method='setfit', class='['ENFERMEDAD']')>,\n",
       " <Keyword(text='masa peneana', span='[122, 134]', extraction method='textrank', score='0.07198815842257596', categorization method='setfit', class='['SINTOMA']')>,\n",
       " <Keyword(text='pene', span='[564, 568]', extraction method='textrank', score='0.07049598090112957', categorization method='setfit', class='['SINTOMA']')>,\n",
       " <Keyword(text='pene', span='[702, 706]', extraction method='textrank', score='0.07049598090112957', categorization method='setfit', class='['SINTOMA']')>,\n",
       " <Keyword(text='obstrucción', span='[991, 1002]', extraction method='textrank', score='0.06413530841718225', categorization method='setfit', class='[]')>,\n",
       " <Keyword(text='respuesta', span='[884, 893]', extraction method='textrank', score='0.06403657201785042', categorization method='setfit', class='['NO_CATEGORY']')>,\n",
       " <Keyword(text='adenopatías pulmonares', span='[477, 499]', extraction method='textrank', score='0.06267667144976864', categorization method='setfit', class='['ENFERMEDAD']')>,\n",
       " <Keyword(text='margen de seguridad', span='[605, 624]', extraction method='textrank', score='0.05368475122691616', categorization method='setfit', class='['SINTOMA']')>,\n",
       " <Keyword(text='neoplasia', span='[551, 560]', extraction method='textrank', score='0.05235856562391338', categorization method='setfit', class='['MORFOLOGIA_NEOPLASIA']')>,\n",
       " <Keyword(text='aparición', span='[109, 118]', extraction method='textrank', score='0.05188204884049067', categorization method='setfit', class='['NO_CATEGORY']')>,\n",
       " <Keyword(text='ifosfamida', span='[860, 870]', extraction method='textrank', score='0.0494638670334096', categorization method='setfit', class='['FARMACO']')>,\n",
       " <Keyword(text='endocarditis', span='[79, 91]', extraction method='textrank', score='0.048410769341622126', categorization method='setfit', class='['ENFERMEDAD']')>,\n",
       " <Keyword(text='últimas semanas', span='[168, 183]', extraction method='textrank', score='0.047417049573061', categorization method='setfit', class='['NO_CATEGORY']')>,\n",
       " <Keyword(text='glande', span='[260, 266]', extraction method='textrank', score='0.046409297775474444', categorization method='setfit', class='['SINTOMA']')>,\n",
       " <Keyword(text='función renal', span='[1131, 1144]', extraction method='textrank', score='0.0448345518527685', categorization method='setfit', class='['PROCEDIMIENTO']')>,\n",
       " <Keyword(text='adriamicina', span='[846, 857]', extraction method='textrank', score='0.04415599020144042', categorization method='setfit', class='['FARMACO']')>,\n",
       " <Keyword(text='tratamiento', span='[787, 798]', extraction method='textrank', score='0.043641285503865444', categorization method='setfit', class='['PROCEDIMIENTO']')>,\n",
       " <Keyword(text='tratamiento', span='[1088, 1099]', extraction method='textrank', score='0.043641285503865444', categorization method='setfit', class='['PROCEDIMIENTO']')>,\n",
       " <Keyword(text='ambas regiones inguinales', span='[372, 397]', extraction method='textrank', score='0.04183422288982145', categorization method='setfit', class='['ENFERMEDAD']')>,\n",
       " <Keyword(text='sueroterapia', span='[1104, 1116]', extraction method='textrank', score='0.04147448015678323', categorization method='setfit', class='['PROCEDIMIENTO']')>,\n",
       " <Keyword(text='diagnóstico', span='[536, 547]', extraction method='textrank', score='0.03918926699472311', categorization method='setfit', class='['PROCEDIMIENTO']')>,\n",
       " <Keyword(text='quimioterapia', span='[817, 830]', extraction method='textrank', score='0.03876435864307185', categorization method='setfit', class='['PROCEDIMIENTO']')>,\n",
       " <Keyword(text='penicilina', span='[32, 42]', extraction method='textrank', score='0.03852333226452912', categorization method='setfit', class='['FARMACO']')>,\n",
       " <Keyword(text='cistostomía', span='[1062, 1073]', extraction method='textrank', score='0.03400559220631838', categorization method='setfit', class='['PROCEDIMIENTO']')>,\n",
       " <Keyword(text='sarcoma pleomórfico', span='[679, 698]', extraction method='textrank', score='0.030162935407726497', categorization method='setfit', class='['MORFOLOGIA_NEOPLASIA']')>,\n",
       " <Keyword(text='sonda', span='[1053, 1058]', extraction method='textrank', score='0.03001767953995455', categorization method='setfit', class='['PROCEDIMIENTO']')>,\n",
       " <Keyword(text='tórax', span='[417, 422]', extraction method='textrank', score='0.03001767953995455', categorization method='setfit', class='[]')>,\n",
       " <Keyword(text='Ingresó', span='[895, 902]', extraction method='textrank', score='0.026497460328708776', categorization method='setfit', class='[]')>,\n",
       " <Keyword(text='Paciente', span='[0, 8]', extraction method='textrank', score='0.026497460328708776', categorization method='setfit', class='['HUMAN']')>,\n",
       " <Keyword(text='6 meses', span='[1224, 1231]', extraction method='textrank', score='0.022462998687580255', categorization method='setfit', class='['NO_CATEGORY']')>,\n",
       " <Keyword(text='presencia', span='[464, 473]', extraction method='textrank', score='0.020310100319750862', categorization method='setfit', class='[]')>,\n",
       " <Keyword(text='anatomía patológica', span='[629, 648]', extraction method='textrank', score='0.020019843211392174', categorization method='setfit', class='['PROCEDIMIENTO']')>,\n",
       " <Keyword(text='exploración física', span='[190, 208]', extraction method='textrank', score='0.020019843211392174', categorization method='setfit', class='['PROCEDIMIENTO']')>,\n",
       " <Keyword(text='dos líneas', span='[803, 813]', extraction method='textrank', score='0.015804787030026683', categorization method='setfit', class='['NO_CATEGORY']')>,\n",
       " <Keyword(text='TAC', span='[428, 431]', extraction method='textrank', score='0.015706510251416447', categorization method='setfit', class='['PROCEDIMIENTO']')>,\n",
       " <Keyword(text='64 años', span='[12, 19]', extraction method='textrank', score='0.013864572290272546', categorization method='setfit', class='[]')>,\n",
       " <Keyword(text='radiografía', span='[402, 413]', extraction method='textrank', score='0.012238652682897153', categorization method='setfit', class='['PROCEDIMIENTO']')>]"
      ]
     },
     "execution_count": 7,
     "metadata": {},
     "output_type": "execute_result"
    }
   ],
   "source": [
    "extractor.keywords"
   ]
  },
  {
   "cell_type": "code",
   "execution_count": 9,
   "id": "30757afd-b102-41ad-93d9-2d23b8c0f2bd",
   "metadata": {
    "scrolled": true
   },
   "outputs": [
    {
     "data": {
      "text/plain": [
       "{'crecimiento progresivo': ['SINTOMA'],\n",
       " 'gran tamaño': ['SINTOMA'],\n",
       " 'insuficiencia renal': ['ENFERMEDAD'],\n",
       " 'diagnóstico': ['PROCEDIMIENTO'],\n",
       " 'general': ['PROFESION'],\n",
       " 'crecimiento': ['SINTOMA'],\n",
       " 'meato': ['SINTOMA'],\n",
       " 'penectomía parcial': ['PROCEDIMIENTO'],\n",
       " 'fibrina': ['ENFERMEDAD'],\n",
       " 'masa peneana': ['SINTOMA'],\n",
       " 'pene': ['SINTOMA'],\n",
       " 'obstrucción': [],\n",
       " 'respuesta': ['NO_CATEGORY'],\n",
       " 'adenopatías pulmonares': ['ENFERMEDAD'],\n",
       " 'margen de seguridad': ['SINTOMA'],\n",
       " 'neoplasia': ['MORFOLOGIA_NEOPLASIA'],\n",
       " 'aparición': ['NO_CATEGORY'],\n",
       " 'ifosfamida': ['FARMACO'],\n",
       " 'endocarditis': ['ENFERMEDAD'],\n",
       " 'últimas semanas': ['NO_CATEGORY'],\n",
       " 'glande': ['SINTOMA'],\n",
       " 'función renal': ['PROCEDIMIENTO'],\n",
       " 'adriamicina': ['FARMACO'],\n",
       " 'tratamiento': ['PROCEDIMIENTO'],\n",
       " 'ambas regiones inguinales': ['ENFERMEDAD'],\n",
       " 'sueroterapia': ['PROCEDIMIENTO'],\n",
       " 'quimioterapia': ['PROCEDIMIENTO'],\n",
       " 'penicilina': ['FARMACO'],\n",
       " 'cistostomía': ['PROCEDIMIENTO'],\n",
       " 'sarcoma pleomórfico': ['MORFOLOGIA_NEOPLASIA'],\n",
       " 'sonda': ['PROCEDIMIENTO'],\n",
       " 'tórax': [],\n",
       " 'Ingresó': [],\n",
       " 'Paciente': ['HUMAN'],\n",
       " '6 meses': ['NO_CATEGORY'],\n",
       " 'presencia': [],\n",
       " 'anatomía patológica': ['PROCEDIMIENTO'],\n",
       " 'exploración física': ['PROCEDIMIENTO'],\n",
       " 'dos líneas': ['NO_CATEGORY'],\n",
       " 'TAC': ['PROCEDIMIENTO'],\n",
       " '64 años': [],\n",
       " 'radiografía': ['PROCEDIMIENTO']}"
      ]
     },
     "execution_count": 9,
     "metadata": {},
     "output_type": "execute_result"
    }
   ],
   "source": [
    "keywords = {kw.text: kw.label for kw in extractor.keywords}\n",
    "keywords"
   ]
  }
 ],
 "metadata": {
  "kernelspec": {
   "display_name": "Python 3 (ipykernel)",
   "language": "python",
   "name": "python3"
  },
  "language_info": {
   "codemirror_mode": {
    "name": "ipython",
    "version": 3
   },
   "file_extension": ".py",
   "mimetype": "text/x-python",
   "name": "python",
   "nbconvert_exporter": "python",
   "pygments_lexer": "ipython3",
   "version": "3.10.12"
  }
 },
 "nbformat": 4,
 "nbformat_minor": 5
}
