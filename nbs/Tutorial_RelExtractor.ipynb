{
 "cells": [
  {
   "cell_type": "markdown",
   "id": "1de1121a-5050-4de9-abbc-182304432a3f",
   "metadata": {},
   "source": [
    "# Tutorial for RelExtractor\n",
    "This tutorial describes the main steps and options for the usage of RelExtractor as part of the KeyCARE library."
   ]
  },
  {
   "cell_type": "markdown",
   "id": "cb33d095-954f-40c9-9415-eed76133cc1c",
   "metadata": {},
   "source": [
    "### Importing the library\n",
    "First, make sure you have installed the KeyCARE library in your device:"
   ]
  },
  {
   "cell_type": "code",
   "execution_count": null,
   "id": "770a3147-0a6c-4ad5-8a26-c1780d146b86",
   "metadata": {},
   "outputs": [],
   "source": [
    "pip install keycare"
   ]
  },
  {
   "cell_type": "markdown",
   "id": "5ecc7755-3845-4d9c-9901-2080f0cd43a2",
   "metadata": {},
   "source": [
    "Then, you can already start importing the main classes from the KeyCARE library! In this tutorial, we will be focusing on the use of the `RelExtractor` class:"
   ]
  },
  {
   "cell_type": "code",
   "execution_count": 1,
   "id": "aa8bd154-f11e-461e-a41f-54bf00caaa71",
   "metadata": {},
   "outputs": [],
   "source": [
    "from keycare.RelExtractor import RelExtractor"
   ]
  },
  {
   "cell_type": "markdown",
   "id": "fd94cdd9-8958-4122-90d6-b7f9248bb430",
   "metadata": {},
   "source": [
    "### Using RelExtractor's basic functions\n",
    "#### The RelExtractor object\n",
    "A first instance of the class `RelExtractor` must be assigned to a variable, as shown below. The parameters that can be introduced are:\n",
    "- `relation_method` (str): Method for mentions relation. Default value: `\"transformers\"`.\n",
    "- `language` (str): Language for text processing. Only implemented in Spanish. Default value: `\"spanish\"`.\n",
    "- `n` (int): Maximum number of labels for a single relation. Default value: `1`.\n",
    "- `thr_setfit` (float): Threshold for SetFit terms relation. Default value: `0.5`.\n",
    "- `thr_transformers` (float): Threshold for Transformers terms relation. Default value: `-1`.\n",
    "- `all_combinations` (bool): Whether to compute the relations of all the mentions in source with all the mentions in target. Default value: `False`.\n",
    "- `model_path` (str): Path to the relator model. Default value: `None`.\n",
    "- `**kwargs` (dict): Additional keyword arguments. Default value: `None`.\n",
    "\n",
    "An instance of the object TermExtractor with the default parameters is shown below:"
   ]
  },
  {
   "cell_type": "code",
   "execution_count": 2,
   "id": "02801ccd-d356-46c3-b0e5-623256ae3f0e",
   "metadata": {
    "scrolled": true
   },
   "outputs": [],
   "source": [
    "relextractor = RelExtractor()"
   ]
  },
  {
   "cell_type": "markdown",
   "id": "09eff638-1bbd-41f2-9624-3b08b36e1b0c",
   "metadata": {},
   "source": [
    "Once the first instance of the extractor is created, some attributes of the `RelExtractor` object can already be presented. The following attributes can be extracted from the `RelExtractor` object through dot indexing:\n",
    "- `relation_method` (str): Selected relation method.\n",
    "- `rel_extractor` (Relator): Relator() class type object to be used.\n",
    "- `all_combinations` (bool): Provided value for all_combinations as a parameter."
   ]
  },
  {
   "cell_type": "code",
   "execution_count": 3,
   "id": "6f8cb291-34ae-475c-9892-460526e7309f",
   "metadata": {},
   "outputs": [
    {
     "name": "stdout",
     "output_type": "stream",
     "text": [
      "The default settings use the relation extractor: transformers\n",
      "The selected relator is <keycare.relators.TransformersRelator.TransformersRelator object at 0x7fa65059b070>\n",
      "The parameter all_combinations is False\n"
     ]
    }
   ],
   "source": [
    "#attributes with the default settings\n",
    "print(\"The default settings use the relation extractor:\", str(relextractor.relation_method))\n",
    "print(\"The selected relator is\", str(relextractor.rel_extractor))\n",
    "print(\"The parameter all_combinations is\", str(relextractor.all_combinations))"
   ]
  },
  {
   "cell_type": "markdown",
   "id": "221b1444-dc1b-4d25-8ee6-51708c4f4a56",
   "metadata": {},
   "source": [
    "When the RelExtractor object is called on two mentions or lists of mentions, it automatically extracts their relations and stores them in the attribute RelExtractor.relations, which is a list of Relation class objects. The mentions given in target and source can consist of either a string, a Keyword class object or a list of any of those classes. For further information on the Keyword class object refer to the Tutorial on the use of TermExtractor."
   ]
  },
  {
   "cell_type": "code",
   "execution_count": 4,
   "id": "492e35c5-5352-415f-9d12-d7f080d6c41b",
   "metadata": {},
   "outputs": [],
   "source": [
    "source = [\"cáncer\", \"enfermedad de pulmón\", \"mastectomía radical izquierda\", \"laparoscopia\"]\n",
    "target = [\"cáncer de mama\", \"enfermedad pulmonar\", \"mastectomía\", \"Streptococus pneumoniae\"]\n",
    "\n",
    "relextractor(source, target)"
   ]
  },
  {
   "cell_type": "markdown",
   "id": "70a16277-4bf4-4e69-92d1-e470d5b2b63e",
   "metadata": {},
   "source": [
    "#### The Relation class\n",
    "The objects of type `Relation` also have different attributes that can be called through dot indexing:\n",
    "- `source` (str, list or Keyword): The input source mention(s).\n",
    "- `target` (str, list or Keyword): The input target mention(s).\n",
    "- `rel_type` (list): Label or labels assigned to the relation between mentions.\n",
    "- `relation_method`(str): The relation classification method used to find the relation between mentions.\n",
    "\n",
    "The user can either access these attributes of each keyword individually or print the keyword directly, which returns all the attributes in a structured manner."
   ]
  },
  {
   "cell_type": "code",
   "execution_count": 5,
   "id": "003d2507-a8af-4e6e-b6ec-d613c4e0eece",
   "metadata": {},
   "outputs": [
    {
     "name": "stdout",
     "output_type": "stream",
     "text": [
      "Printing the relations directly:\n",
      " [<Relation(source mention='cáncer', target mention='cáncer de mama', relation type='['BROAD']', relation method='transformers')>, <Relation(source mention='enfermedad de pulmón', target mention='enfermedad pulmonar', relation type='['EXACT']', relation method='transformers')>, <Relation(source mention='mastectomía radical izquierda', target mention='mastectomía', relation type='['NARROW']', relation method='transformers')>, <Relation(source mention='laparoscopia', target mention='Streptococus pneumoniae', relation type='['NO_RELATION']', relation method='transformers')>]\n",
      "\n",
      "Printing the relations individually:\n",
      " [('cáncer', 'cáncer de mama', ['BROAD'], 'transformers'), ('enfermedad de pulmón', 'enfermedad pulmonar', ['EXACT'], 'transformers'), ('mastectomía radical izquierda', 'mastectomía', ['NARROW'], 'transformers'), ('laparoscopia', 'Streptococus pneumoniae', ['NO_RELATION'], 'transformers')]\n"
     ]
    }
   ],
   "source": [
    "#printing the relations directly\n",
    "print(\"Printing the relations directly:\\n\", relextractor.relations)\n",
    "\n",
    "#printing attributes individually\n",
    "relations = [(rel.source.text,rel.target.text,rel.rel_type,rel.relation_method) for rel in relextractor.relations]\n",
    "print(\"\\nPrinting the relations individually:\\n\", relations)"
   ]
  },
  {
   "cell_type": "markdown",
   "id": "5d4a28b9-724f-4053-aff4-1c4c2ca1fd80",
   "metadata": {},
   "source": [
    "### Use of different relators\n",
    "The mention relation implemented in `RelExtractor` is performed in an supervised manner. The two relation classification models are SetFit and AutoModelForSequenceClassification, both of the Sentence Transformers library. In addition to that, the parameters `n`, `thr_setfit`, `thr_transformers` and `all_combinations` can be modified.\n",
    "\n",
    "Some examples showing these options  and the extracted relations are shown below:"
   ]
  },
  {
   "cell_type": "code",
   "execution_count": 6,
   "id": "8298b842-e52f-4690-a0b5-ae4221296574",
   "metadata": {},
   "outputs": [
    {
     "name": "stdout",
     "output_type": "stream",
     "text": [
      "Relations:\n",
      " [<Relation(source mention='cáncer', target mention='cáncer de mama', relation type='['BROAD']', relation method='transformers')>, <Relation(source mention='enfermedad de pulmón', target mention='enfermedad pulmonar', relation type='['EXACT']', relation method='transformers')>, <Relation(source mention='mastectomía radical izquierda', target mention='mastectomía', relation type='['NARROW']', relation method='transformers')>, <Relation(source mention='laparoscopia', target mention='Streptococus pneumoniae', relation type='['NO_RELATION']', relation method='transformers')>] \n",
      "\n"
     ]
    }
   ],
   "source": [
    "#relextractor using default values (transformers model, with n=1 and thr=-1) and all_combinations=False\n",
    "relextractor = RelExtractor()\n",
    "relextractor(source, target)\n",
    "print(\"Relations:\\n\", relextractor.relations, \"\\n\")"
   ]
  },
  {
   "cell_type": "code",
   "execution_count": 7,
   "id": "2197a90f-7756-4d61-a129-5a28959bd099",
   "metadata": {},
   "outputs": [
    {
     "data": {
      "application/vnd.jupyter.widget-view+json": {
       "model_id": "750174b59f69458da20bbb7fe1831f52",
       "version_major": 2,
       "version_minor": 0
      },
      "text/plain": [
       "Downloading config.json:   0%|          | 0.00/763 [00:00<?, ?B/s]"
      ]
     },
     "metadata": {},
     "output_type": "display_data"
    },
    {
     "data": {
      "application/vnd.jupyter.widget-view+json": {
       "model_id": "010e08f919ff4e23aad0c9d3bfc55d5b",
       "version_major": 2,
       "version_minor": 0
      },
      "text/plain": [
       "Downloading .gitattributes:   0%|          | 0.00/1.52k [00:00<?, ?B/s]"
      ]
     },
     "metadata": {},
     "output_type": "display_data"
    },
    {
     "data": {
      "application/vnd.jupyter.widget-view+json": {
       "model_id": "63079cdafa024506bf93722184673f01",
       "version_major": 2,
       "version_minor": 0
      },
      "text/plain": [
       "Downloading 1_Pooling/config.json:   0%|          | 0.00/190 [00:00<?, ?B/s]"
      ]
     },
     "metadata": {},
     "output_type": "display_data"
    },
    {
     "data": {
      "application/vnd.jupyter.widget-view+json": {
       "model_id": "368aaef8d11243bab842a8bb75999804",
       "version_major": 2,
       "version_minor": 0
      },
      "text/plain": [
       "Downloading README.md:   0%|          | 0.00/3.32k [00:00<?, ?B/s]"
      ]
     },
     "metadata": {},
     "output_type": "display_data"
    },
    {
     "data": {
      "application/vnd.jupyter.widget-view+json": {
       "model_id": "6abe3ba6dadc4276bcd5f04799c505fb",
       "version_major": 2,
       "version_minor": 0
      },
      "text/plain": [
       "Downloading config.json:   0%|          | 0.00/763 [00:00<?, ?B/s]"
      ]
     },
     "metadata": {},
     "output_type": "display_data"
    },
    {
     "data": {
      "application/vnd.jupyter.widget-view+json": {
       "model_id": "3ac62a008e2a40bd89416e11f0a65f4c",
       "version_major": 2,
       "version_minor": 0
      },
      "text/plain": [
       "Downloading (…)ce_transformers.json:   0%|          | 0.00/128 [00:00<?, ?B/s]"
      ]
     },
     "metadata": {},
     "output_type": "display_data"
    },
    {
     "data": {
      "application/vnd.jupyter.widget-view+json": {
       "model_id": "bb22af1c76a84f05b4741b2c0435c537",
       "version_major": 2,
       "version_minor": 0
      },
      "text/plain": [
       "Downloading merges.txt:   0%|          | 0.00/540k [00:00<?, ?B/s]"
      ]
     },
     "metadata": {},
     "output_type": "display_data"
    },
    {
     "data": {
      "application/vnd.jupyter.widget-view+json": {
       "model_id": "ceb2ada6c9d74c6295145fc94ff2e5e5",
       "version_major": 2,
       "version_minor": 0
      },
      "text/plain": [
       "Downloading model_head.pkl:   0%|          | 0.00/26.8k [00:00<?, ?B/s]"
      ]
     },
     "metadata": {},
     "output_type": "display_data"
    },
    {
     "data": {
      "application/vnd.jupyter.widget-view+json": {
       "model_id": "8d4c7921de294c4d809503f209b96648",
       "version_major": 2,
       "version_minor": 0
      },
      "text/plain": [
       "Downloading pytorch_model.bin:   0%|          | 0.00/504M [00:00<?, ?B/s]"
      ]
     },
     "metadata": {},
     "output_type": "display_data"
    },
    {
     "data": {
      "application/vnd.jupyter.widget-view+json": {
       "model_id": "3bb15a603a4441f9ae1ce34ab9676154",
       "version_major": 2,
       "version_minor": 0
      },
      "text/plain": [
       "Downloading (…)nce_bert_config.json:   0%|          | 0.00/53.0 [00:00<?, ?B/s]"
      ]
     },
     "metadata": {},
     "output_type": "display_data"
    },
    {
     "data": {
      "application/vnd.jupyter.widget-view+json": {
       "model_id": "a461dfa7a66e4626a1b62617a2b53521",
       "version_major": 2,
       "version_minor": 0
      },
      "text/plain": [
       "Downloading (…)cial_tokens_map.json:   0%|          | 0.00/957 [00:00<?, ?B/s]"
      ]
     },
     "metadata": {},
     "output_type": "display_data"
    },
    {
     "data": {
      "application/vnd.jupyter.widget-view+json": {
       "model_id": "b082719e9c664869ae96d6303b1a6d68",
       "version_major": 2,
       "version_minor": 0
      },
      "text/plain": [
       "Downloading tokenizer.json:   0%|          | 0.00/2.32M [00:00<?, ?B/s]"
      ]
     },
     "metadata": {},
     "output_type": "display_data"
    },
    {
     "data": {
      "application/vnd.jupyter.widget-view+json": {
       "model_id": "a4fd51c465944bc883038c365eca21a8",
       "version_major": 2,
       "version_minor": 0
      },
      "text/plain": [
       "Downloading tokenizer_config.json:   0%|          | 0.00/1.38k [00:00<?, ?B/s]"
      ]
     },
     "metadata": {},
     "output_type": "display_data"
    },
    {
     "data": {
      "application/vnd.jupyter.widget-view+json": {
       "model_id": "a1c1257cb6df4c02afe3c85e5a73b49e",
       "version_major": 2,
       "version_minor": 0
      },
      "text/plain": [
       "Downloading vocab.json:   0%|          | 0.00/894k [00:00<?, ?B/s]"
      ]
     },
     "metadata": {},
     "output_type": "display_data"
    },
    {
     "data": {
      "application/vnd.jupyter.widget-view+json": {
       "model_id": "ccb5155191a648c28b1239989bb8c02a",
       "version_major": 2,
       "version_minor": 0
      },
      "text/plain": [
       "Downloading modules.json:   0%|          | 0.00/229 [00:00<?, ?B/s]"
      ]
     },
     "metadata": {},
     "output_type": "display_data"
    },
    {
     "data": {
      "application/vnd.jupyter.widget-view+json": {
       "model_id": "483bdddaf7f24ce99a35f6f328ce0103",
       "version_major": 2,
       "version_minor": 0
      },
      "text/plain": [
       "Downloading model_head.pkl:   0%|          | 0.00/26.8k [00:00<?, ?B/s]"
      ]
     },
     "metadata": {},
     "output_type": "display_data"
    },
    {
     "name": "stdout",
     "output_type": "stream",
     "text": [
      "Relations:\n",
      " [<Relation(source mention='cáncer', target mention='cáncer de mama', relation type='['BROAD']', relation method='setfit')>, <Relation(source mention='enfermedad de pulmón', target mention='enfermedad pulmonar', relation type='['EXACT']', relation method='setfit')>, <Relation(source mention='mastectomía radical izquierda', target mention='mastectomía', relation type='['NARROW']', relation method='setfit')>, <Relation(source mention='laparoscopia', target mention='Streptococus pneumoniae', relation type='['NO_RELATION']', relation method='setfit')>] \n",
      "\n"
     ]
    }
   ],
   "source": [
    "#relextractor using the setfit model, with n=2 and thr=0.05 and all_combinations=False\n",
    "relextractor = RelExtractor(relation_method=\"setfit\", n=2, thr_setfit=0.05)\n",
    "relextractor(source, target)\n",
    "print(\"Relations:\\n\", relextractor.relations, \"\\n\")"
   ]
  },
  {
   "cell_type": "code",
   "execution_count": 8,
   "id": "26316f96-6c5d-4856-900f-b6275ac965bd",
   "metadata": {},
   "outputs": [
    {
     "name": "stdout",
     "output_type": "stream",
     "text": [
      "Relations:\n",
      " [<Relation(source mention='cáncer', target mention='cáncer de mama', relation type='['BROAD']', relation method='transformers')>, <Relation(source mention='cáncer', target mention='enfermedad pulmonar', relation type='['NO_RELATION']', relation method='transformers')>, <Relation(source mention='cáncer', target mention='mastectomía', relation type='['BROAD']', relation method='transformers')>, <Relation(source mention='cáncer', target mention='Streptococus pneumoniae', relation type='['NO_RELATION']', relation method='transformers')>, <Relation(source mention='enfermedad de pulmón', target mention='cáncer de mama', relation type='['NO_RELATION']', relation method='transformers')>, <Relation(source mention='enfermedad de pulmón', target mention='enfermedad pulmonar', relation type='['EXACT']', relation method='transformers')>, <Relation(source mention='enfermedad de pulmón', target mention='mastectomía', relation type='['NO_RELATION']', relation method='transformers')>, <Relation(source mention='enfermedad de pulmón', target mention='Streptococus pneumoniae', relation type='['NO_RELATION']', relation method='transformers')>, <Relation(source mention='mastectomía radical izquierda', target mention='cáncer de mama', relation type='['NARROW']', relation method='transformers')>, <Relation(source mention='mastectomía radical izquierda', target mention='enfermedad pulmonar', relation type='['NO_RELATION']', relation method='transformers')>, <Relation(source mention='mastectomía radical izquierda', target mention='mastectomía', relation type='['NARROW']', relation method='transformers')>, <Relation(source mention='mastectomía radical izquierda', target mention='Streptococus pneumoniae', relation type='['NO_RELATION']', relation method='transformers')>, <Relation(source mention='laparoscopia', target mention='cáncer de mama', relation type='['NO_RELATION']', relation method='transformers')>, <Relation(source mention='laparoscopia', target mention='enfermedad pulmonar', relation type='['NO_RELATION']', relation method='transformers')>, <Relation(source mention='laparoscopia', target mention='mastectomía', relation type='['NO_RELATION']', relation method='transformers')>, <Relation(source mention='laparoscopia', target mention='Streptococus pneumoniae', relation type='['NO_RELATION']', relation method='transformers')>] \n",
      "\n"
     ]
    }
   ],
   "source": [
    "#relextractor using default values (transformers model, with n=1 and thr=-1) and all_combinations=True\n",
    "relextractor = RelExtractor(all_combinations=True)\n",
    "relextractor(source, target)\n",
    "print(\"Relations:\\n\", relextractor.relations, \"\\n\")"
   ]
  },
  {
   "cell_type": "markdown",
   "id": "7bf616de-9486-494e-a704-2d91c4dde6f4",
   "metadata": {},
   "source": [
    "Already trained models can also be imported from a defined path:"
   ]
  },
  {
   "cell_type": "code",
   "execution_count": 9,
   "id": "fc3b7ce2-90d1-4c25-a96c-8ba763173e47",
   "metadata": {},
   "outputs": [
    {
     "name": "stdout",
     "output_type": "stream",
     "text": [
      "Relations:\n",
      " [<Relation(source mention='cáncer', target mention='cáncer de mama', relation type='['BROAD']', relation method='transformers')>, <Relation(source mention='enfermedad de pulmón', target mention='enfermedad pulmonar', relation type='['EXACT']', relation method='transformers')>, <Relation(source mention='mastectomía radical izquierda', target mention='mastectomía', relation type='['NARROW']', relation method='transformers')>, <Relation(source mention='laparoscopia', target mention='Streptococus pneumoniae', relation type='['NO_RELATION']', relation method='transformers')>] \n",
      "\n"
     ]
    }
   ],
   "source": [
    "relextractor = RelExtractor(model_path='BSC-NLP4BIA/biomedical-semantic-relation-classifier')\n",
    "relextractor(source, target)\n",
    "print(\"Relations:\\n\", relextractor.relations, \"\\n\")"
   ]
  }
 ],
 "metadata": {
  "kernelspec": {
   "display_name": "Python 3 (ipykernel)",
   "language": "python",
   "name": "python3"
  },
  "language_info": {
   "codemirror_mode": {
    "name": "ipython",
    "version": 3
   },
   "file_extension": ".py",
   "mimetype": "text/x-python",
   "name": "python",
   "nbconvert_exporter": "python",
   "pygments_lexer": "ipython3",
   "version": "3.10.12"
  }
 },
 "nbformat": 4,
 "nbformat_minor": 5
}
