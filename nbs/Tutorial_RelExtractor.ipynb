{
 "cells": [
  {
   "cell_type": "markdown",
   "id": "1de1121a-5050-4de9-abbc-182304432a3f",
   "metadata": {},
   "source": [
    "# Tutorial for RelExtractor\n",
    "This tutorial describes the main steps and options for the usage of RelExtractor as part of the BioTermCategorizer library."
   ]
  },
  {
   "cell_type": "markdown",
   "id": "cb33d095-954f-40c9-9415-eed76133cc1c",
   "metadata": {},
   "source": [
    "### Importing the library\n",
    "In order to import the library and all its functions, the following code should be executed"
   ]
  },
  {
   "cell_type": "code",
   "execution_count": 1,
   "id": "770a3147-0a6c-4ad5-8a26-c1780d146b86",
   "metadata": {},
   "outputs": [
    {
     "data": {
      "text/plain": [
       "'/mnt/c/Users/Sergi/Documents/BioTermCategorizer/'"
      ]
     },
     "execution_count": 1,
     "metadata": {},
     "output_type": "execute_result"
    }
   ],
   "source": [
    "import sys, os, re\n",
    "\n",
    "#set the path to the library\n",
    "general_path = os.getcwd().split(\"BioTermCategorizer\")[0]+\"BioTermCategorizer/\"\n",
    "sys.path.append(general_path+'biotermcategorizer/')\n",
    "general_path"
   ]
  },
  {
   "cell_type": "markdown",
   "id": "5ecc7755-3845-4d9c-9901-2080f0cd43a2",
   "metadata": {},
   "source": [
    "Additionally, the main class `RelExtractor` must be imported"
   ]
  },
  {
   "cell_type": "code",
   "execution_count": null,
   "id": "aa8bd154-f11e-461e-a41f-54bf00caaa71",
   "metadata": {},
   "outputs": [],
   "source": [
    "from RelExtractor import RelExtractor"
   ]
  }
 ],
 "metadata": {
  "kernelspec": {
   "display_name": "Python 3 (ipykernel)",
   "language": "python",
   "name": "python3"
  },
  "language_info": {
   "codemirror_mode": {
    "name": "ipython",
    "version": 3
   },
   "file_extension": ".py",
   "mimetype": "text/x-python",
   "name": "python",
   "nbconvert_exporter": "python",
   "pygments_lexer": "ipython3",
   "version": "3.10.12"
  }
 },
 "nbformat": 4,
 "nbformat_minor": 5
}
