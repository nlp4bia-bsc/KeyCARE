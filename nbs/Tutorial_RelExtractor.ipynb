{
 "cells": [
  {
   "cell_type": "markdown",
   "id": "1de1121a-5050-4de9-abbc-182304432a3f",
   "metadata": {},
   "source": [
    "# Tutorial for RelExtractor\n",
    "This tutorial describes the main steps and options for the usage of RelExtractor as part of the BioTermCategorizer library."
   ]
  },
  {
   "cell_type": "markdown",
   "id": "cb33d095-954f-40c9-9415-eed76133cc1c",
   "metadata": {},
   "source": [
    "### Importing the library\n",
    "In order to import the library and all its functions, the following code should be executed"
   ]
  },
  {
   "cell_type": "code",
   "execution_count": 1,
   "id": "770a3147-0a6c-4ad5-8a26-c1780d146b86",
   "metadata": {},
   "outputs": [
    {
     "data": {
      "text/plain": [
       "'/mnt/c/Users/Sergi/Documents/BioTermCategorizer/'"
      ]
     },
     "execution_count": 1,
     "metadata": {},
     "output_type": "execute_result"
    }
   ],
   "source": [
    "import sys, os, re\n",
    "\n",
    "#set the path to the library\n",
    "general_path = os.getcwd().split(\"BioTermCategorizer\")[0]+\"BioTermCategorizer/\"\n",
    "sys.path.append(general_path+'biotermcategorizer/')\n",
    "general_path"
   ]
  },
  {
   "cell_type": "markdown",
   "id": "5ecc7755-3845-4d9c-9901-2080f0cd43a2",
   "metadata": {},
   "source": [
    "Additionally, the main class `RelExtractor` must be imported"
   ]
  },
  {
   "cell_type": "code",
   "execution_count": 2,
   "id": "aa8bd154-f11e-461e-a41f-54bf00caaa71",
   "metadata": {},
   "outputs": [
    {
     "name": "stderr",
     "output_type": "stream",
     "text": [
      "/mnt/c/Users/Sergi/Documents/BioTermCategorizer/.env_biotermcategorizer/lib/python3.10/site-packages/tqdm/auto.py:21: TqdmWarning: IProgress not found. Please update jupyter and ipywidgets. See https://ipywidgets.readthedocs.io/en/stable/user_install.html\n",
      "  from .autonotebook import tqdm as notebook_tqdm\n"
     ]
    }
   ],
   "source": [
    "from RelExtractor import RelExtractor"
   ]
  },
  {
   "cell_type": "markdown",
   "id": "fd94cdd9-8958-4122-90d6-b7f9248bb430",
   "metadata": {},
   "source": [
    "### Using RelExtractor's basic functions\n",
    "#### The RelExtractor object\n",
    "A first instance of the class `RelExtractor` must be assigned to a variable, as shown below. The parameters that can be introduced are:\n",
    "- `relation_method` (str): Method for mentions relation. Default value: `\"transformers\"`.\n",
    "- `language` (str): Language for text processing. Only implemented in Spanish. Default value: `\"spanish\"`.\n",
    "- `n` (int): Maximum number of labels for a single relation. Default value: `1`.\n",
    "- `thr_setfit` (float): Threshold for SetFit terms relation. Default value: `0.5`.\n",
    "- `thr_transformers` (float): Threshold for Transformers terms relation. Default value: `-1`.\n",
    "- `all_combinations` (bool): Whether to compute the relations of all the mentions in source with all the mentions in target. Default value: `False`.\n",
    "- `model_path` (str): Path to the relator model. Default value: `None`.\n",
    "- `**kwargs` (dict): Additional keyword arguments. Default value: `None`.\n",
    "\n",
    "An instance of the object TermExtractor with the default parameters is shown below:"
   ]
  },
  {
   "cell_type": "code",
   "execution_count": 3,
   "id": "02801ccd-d356-46c3-b0e5-623256ae3f0e",
   "metadata": {},
   "outputs": [],
   "source": [
    "relextractor = RelExtractor()"
   ]
  },
  {
   "cell_type": "markdown",
   "id": "09eff638-1bbd-41f2-9624-3b08b36e1b0c",
   "metadata": {},
   "source": [
    "Once the first instance of the extractor is created, some attributes of the `RelExtractor` object can already be presented. The following attributes can be extracted from the `RelExtractor` object through dot indexing:\n",
    "- `relation_method` (str): Selected relation method.\n",
    "- `rel_extractor` (Relator): Relator() class type object to be used.\n",
    "- `all_combinations` (bool): Provided value for all_combinations as a parameter."
   ]
  },
  {
   "cell_type": "code",
   "execution_count": 4,
   "id": "6f8cb291-34ae-475c-9892-460526e7309f",
   "metadata": {},
   "outputs": [
    {
     "name": "stdout",
     "output_type": "stream",
     "text": [
      "The default settings use the relation extractor: transformers\n",
      "The selected relator is <relators.TransformersRelator.TransformersRelator object at 0x7f231912ed70>\n",
      "The parameter all_combinations is False\n"
     ]
    }
   ],
   "source": [
    "#attributes with the default settings\n",
    "print(\"The default settings use the relation extractor:\", str(relextractor.relation_method))\n",
    "print(\"The selected relator is\", str(relextractor.rel_extractor))\n",
    "print(\"The parameter all_combinations is\", str(relextractor.all_combinations))"
   ]
  },
  {
   "cell_type": "markdown",
   "id": "221b1444-dc1b-4d25-8ee6-51708c4f4a56",
   "metadata": {},
   "source": [
    "When the RelExtractor object is called on two mentions or lists of mentions, it automatically extracts their relations and stores them in the attribute RelExtractor.relations, which is a list of Relation class objects. The mentions given in target and source can consist of either a string, a Keyword class object or a list of any of those classes. For further information on the Keyword class object refer to the Tutorial on the use of TermExtractor."
   ]
  },
  {
   "cell_type": "code",
   "execution_count": 5,
   "id": "492e35c5-5352-415f-9d12-d7f080d6c41b",
   "metadata": {},
   "outputs": [],
   "source": [
    "source = [\"cancer\", \"enfermedad de pulmón\", \"mastectomía radical izquierda\"]\n",
    "target = [\"cancer de mama\", \"enfermedad pulmonar\", \"mastectomía\"]\n",
    "\n",
    "relextractor(source, target)"
   ]
  },
  {
   "cell_type": "markdown",
   "id": "70a16277-4bf4-4e69-92d1-e470d5b2b63e",
   "metadata": {},
   "source": [
    "#### The Relation class\n",
    "The objects of type `Relation` also have different attributes that can be called through dot indexing:\n",
    "- `source` (str, list or Keyword): The input source mention(s).\n",
    "- `target` (str, list or Keyword): The input target mention(s).\n",
    "- `rel_type` (list): Label or labels assigned to the relation between mentions.\n",
    "- `relation_method`(str): The relation classification method used to find the relation between mentions.\n",
    "\n",
    "The user can either access these attributes of each keyword individually or print the keyword directly, which returns all the attributes in a structured manner."
   ]
  },
  {
   "cell_type": "code",
   "execution_count": 6,
   "id": "003d2507-a8af-4e6e-b6ec-d613c4e0eece",
   "metadata": {},
   "outputs": [
    {
     "name": "stdout",
     "output_type": "stream",
     "text": [
      "Printing the relations directly:\n",
      " [<Relation(source mention='cancer', target mention='cancer de mama', relation type='['BROAD']', relation method='transformers')>, <Relation(source mention='enfermedad de pulmón', target mention='enfermedad pulmonar', relation type='['EXACT']', relation method='transformers')>, <Relation(source mention='mastectomía radical izquierda', target mention='mastectomía', relation type='['NARROW']', relation method='transformers')>]\n",
      "\n",
      "Printing the relations individually:\n",
      " [('cancer', 'cancer de mama', ['BROAD'], 'transformers'), ('enfermedad de pulmón', 'enfermedad pulmonar', ['EXACT'], 'transformers'), ('mastectomía radical izquierda', 'mastectomía', ['NARROW'], 'transformers')]\n"
     ]
    }
   ],
   "source": [
    "#printing the relations directly\n",
    "print(\"Printing the relations directly:\\n\", relextractor.relations)\n",
    "\n",
    "#printing attributes individually\n",
    "relations = [(rel.source.text,rel.target.text,rel.rel_type,rel.relation_method) for rel in relextractor.relations]\n",
    "print(\"\\nPrinting the relations individually:\\n\", relations)"
   ]
  },
  {
   "cell_type": "markdown",
   "id": "5d4a28b9-724f-4053-aff4-1c4c2ca1fd80",
   "metadata": {},
   "source": [
    "### Use of different relators\n",
    "The mention relation implemented in `RelExtractor` is performed in an supervised manner. The two relation classification models are SetFit and AutoModelForSequenceClassification, both of the Sentence Transformers library. In addition to that, the parameters `n`, `thr_setfit`, `thr_transformers` and `all_combinations` can be modified.\n",
    "\n",
    "Some examples showing these options are shown below:"
   ]
  },
  {
   "cell_type": "code",
   "execution_count": 7,
   "id": "8298b842-e52f-4690-a0b5-ae4221296574",
   "metadata": {},
   "outputs": [
    {
     "name": "stderr",
     "output_type": "stream",
     "text": [
      "/mnt/c/Users/Sergi/Documents/BioTermCategorizer/.env_biotermcategorizer/lib/python3.10/site-packages/sklearn/base.py:347: InconsistentVersionWarning: Trying to unpickle estimator LogisticRegression from version 1.2.2 when using version 1.3.0. This might lead to breaking code or invalid results. Use at your own risk. For more info please refer to:\n",
      "https://scikit-learn.org/stable/model_persistence.html#security-maintainability-limitations\n",
      "  warnings.warn(\n",
      "/mnt/c/Users/Sergi/Documents/BioTermCategorizer/.env_biotermcategorizer/lib/python3.10/site-packages/sklearn/base.py:347: InconsistentVersionWarning: Trying to unpickle estimator MultiOutputClassifier from version 1.2.2 when using version 1.3.0. This might lead to breaking code or invalid results. Use at your own risk. For more info please refer to:\n",
      "https://scikit-learn.org/stable/model_persistence.html#security-maintainability-limitations\n",
      "  warnings.warn(\n"
     ]
    }
   ],
   "source": [
    "#relextractor using default values (transformers model, with n=1 and thr=-1) and all_combinations=False\n",
    "relextractor1 = RelExtractor()\n",
    "\n",
    "#relextractor using the setfit model, with n=2 and thr=0.05 and all_combinations=False\n",
    "relextractor2 = RelExtractor(relation_method=\"setfit\", n=2, thr_setfit=0.05)\n",
    "\n",
    "#relextractor using default values (transformers model, with n=1 and thr=-1) and all_combinations=True\n",
    "relextractor3 = RelExtractor(all_combinations=True)"
   ]
  },
  {
   "cell_type": "markdown",
   "id": "587f04c8-c941-4ae5-977e-071b41b72303",
   "metadata": {},
   "source": [
    "The relations extracted by each of these relextractor instances are shown below:"
   ]
  },
  {
   "cell_type": "code",
   "execution_count": 8,
   "id": "d43849b6-450d-42e1-acc6-44eac23e0fd5",
   "metadata": {},
   "outputs": [
    {
     "name": "stdout",
     "output_type": "stream",
     "text": [
      "Using relextractor1:\n",
      " [<Relation(source mention='cancer', target mention='cancer de mama', relation type='['BROAD']', relation method='transformers')>, <Relation(source mention='enfermedad de pulmón', target mention='enfermedad pulmonar', relation type='['EXACT']', relation method='transformers')>, <Relation(source mention='mastectomía radical izquierda', target mention='mastectomía', relation type='['NARROW']', relation method='transformers')>] \n",
      "\n",
      "Using relextractor2:\n",
      " [<Relation(source mention='cancer', target mention='cancer de mama', relation type='['NARROW']', relation method='setfit')>, <Relation(source mention='enfermedad de pulmón', target mention='enfermedad pulmonar', relation type='['NARROW']', relation method='setfit')>, <Relation(source mention='mastectomía radical izquierda', target mention='mastectomía', relation type='['NARROW']', relation method='setfit')>] \n",
      "\n",
      "Using relextractor3:\n",
      " [<Relation(source mention='cancer', target mention='cancer de mama', relation type='['BROAD']', relation method='transformers')>, <Relation(source mention='cancer', target mention='enfermedad pulmonar', relation type='['BROAD']', relation method='transformers')>, <Relation(source mention='cancer', target mention='mastectomía', relation type='['BROAD']', relation method='transformers')>, <Relation(source mention='enfermedad de pulmón', target mention='cancer de mama', relation type='['BROAD']', relation method='transformers')>, <Relation(source mention='enfermedad de pulmón', target mention='enfermedad pulmonar', relation type='['EXACT']', relation method='transformers')>, <Relation(source mention='enfermedad de pulmón', target mention='mastectomía', relation type='[]', relation method='transformers')>, <Relation(source mention='mastectomía radical izquierda', target mention='cancer de mama', relation type='['NARROW']', relation method='transformers')>, <Relation(source mention='mastectomía radical izquierda', target mention='enfermedad pulmonar', relation type='[]', relation method='transformers')>, <Relation(source mention='mastectomía radical izquierda', target mention='mastectomía', relation type='['NARROW']', relation method='transformers')>] \n",
      "\n"
     ]
    }
   ],
   "source": [
    "#with transformers model and default values\n",
    "relextractor1(source, target)\n",
    "print(\"Using relextractor1:\\n\", relextractor1.relations, \"\\n\")\n",
    "\n",
    "#with setfit model, n=2 and thr=0.05\n",
    "relextractor2(source, target)\n",
    "print(\"Using relextractor2:\\n\", relextractor2.relations, \"\\n\")\n",
    "\n",
    "#with default values and all_combinations=True\n",
    "relextractor3(source, target)\n",
    "print(\"Using relextractor3:\\n\", relextractor3.relations, \"\\n\")"
   ]
  },
  {
   "cell_type": "code",
   "execution_count": 10,
   "id": "fc3b7ce2-90d1-4c25-a96c-8ba763173e47",
   "metadata": {},
   "outputs": [],
   "source": [
    "relextractor1 = RelExtractor(model_path='/mnt/c/Users/Sergi/Desktop/BSC/modelos_entrenados/transformers_rel1')\n",
    "\n",
    "relextractor2 = RelExtractor(model_path='/mnt/c/Users/Sergi/Desktop/BSC/modelos_entrenados/transformers_rel2')\n",
    "\n",
    "relextractor3 = RelExtractor(model_path='/mnt/c/Users/Sergi/Desktop/BSC/modelos_entrenados/transformers_rel3')"
   ]
  },
  {
   "cell_type": "code",
   "execution_count": 12,
   "id": "035ce709-ca71-4d08-bdf9-ab687d13334e",
   "metadata": {},
   "outputs": [
    {
     "name": "stdout",
     "output_type": "stream",
     "text": [
      "Using relextractor1:\n",
      " [<Relation(source mention='laparoscopia', target mention='mastectomía radical izquierda', relation type='[]', relation method='transformers')>, <Relation(source mention='enfermedad pulmonar obstructiva crónica', target mention='colonoscopia', relation type='[]', relation method='transformers')>, <Relation(source mention='enfermedad pulmonar obstructiva crónica', target mention='pneumonía bilateral', relation type='['BROAD']', relation method='transformers')>, <Relation(source mention='neoplasia globular de mama triple negativo', target mention='endoscopia', relation type='[]', relation method='transformers')>, <Relation(source mention='anestesia general', target mention='anestesia local', relation type='['EXACT']', relation method='transformers')>, <Relation(source mention='pneumonía unilateral', target mention='pneumonía bilateral', relation type='['EXACT']', relation method='transformers')>, <Relation(source mention='cirurgía torácica', target mention='angiografía biplanar', relation type='['BROAD']', relation method='transformers')>] \n",
      "\n",
      "Using relextractor2:\n",
      " [<Relation(source mention='laparoscopia', target mention='mastectomía radical izquierda', relation type='[]', relation method='transformers')>, <Relation(source mention='enfermedad pulmonar obstructiva crónica', target mention='colonoscopia', relation type='[]', relation method='transformers')>, <Relation(source mention='enfermedad pulmonar obstructiva crónica', target mention='pneumonía bilateral', relation type='['BROAD']', relation method='transformers')>, <Relation(source mention='neoplasia globular de mama triple negativo', target mention='endoscopia', relation type='[]', relation method='transformers')>, <Relation(source mention='anestesia general', target mention='anestesia local', relation type='['EXACT']', relation method='transformers')>, <Relation(source mention='pneumonía unilateral', target mention='pneumonía bilateral', relation type='['EXACT']', relation method='transformers')>, <Relation(source mention='cirurgía torácica', target mention='angiografía biplanar', relation type='[]', relation method='transformers')>] \n",
      "\n",
      "Using relextractor3:\n",
      " [<Relation(source mention='laparoscopia', target mention='mastectomía radical izquierda', relation type='[]', relation method='transformers')>, <Relation(source mention='enfermedad pulmonar obstructiva crónica', target mention='colonoscopia', relation type='[]', relation method='transformers')>, <Relation(source mention='enfermedad pulmonar obstructiva crónica', target mention='pneumonía bilateral', relation type='['BROAD']', relation method='transformers')>, <Relation(source mention='neoplasia globular de mama triple negativo', target mention='endoscopia', relation type='[]', relation method='transformers')>, <Relation(source mention='anestesia general', target mention='anestesia local', relation type='['EXACT']', relation method='transformers')>, <Relation(source mention='pneumonía unilateral', target mention='pneumonía bilateral', relation type='['EXACT']', relation method='transformers')>, <Relation(source mention='cirurgía torácica', target mention='angiografía biplanar', relation type='['BROAD']', relation method='transformers')>] \n",
      "\n"
     ]
    }
   ],
   "source": [
    "source = ['laparoscopia','enfermedad pulmonar obstructiva crónica','enfermedad pulmonar obstructiva crónica','neoplasia globular de mama triple negativo','anestesia general', 'pneumonía unilateral','cirurgía torácica']\n",
    "target = ['mastectomía radical izquierda','colonoscopia','pneumonía bilateral','endoscopia','anestesia local','pneumonía bilateral','angiografía biplanar']\n",
    "\n",
    "#with transformers model and default values\n",
    "relextractor1(source, target)\n",
    "print(\"Using relextractor1:\\n\", relextractor1.relations, \"\\n\")\n",
    "\n",
    "#with setfit model, n=2 and thr=0.05\n",
    "relextractor2(source, target)\n",
    "print(\"Using relextractor2:\\n\", relextractor2.relations, \"\\n\")\n",
    "\n",
    "#with default values and all_combinations=True\n",
    "relextractor3(source, target)\n",
    "print(\"Using relextractor3:\\n\", relextractor3.relations, \"\\n\")"
   ]
  }
 ],
 "metadata": {
  "kernelspec": {
   "display_name": "Python 3 (ipykernel)",
   "language": "python",
   "name": "python3"
  },
  "language_info": {
   "codemirror_mode": {
    "name": "ipython",
    "version": 3
   },
   "file_extension": ".py",
   "mimetype": "text/x-python",
   "name": "python",
   "nbconvert_exporter": "python",
   "pygments_lexer": "ipython3",
   "version": "3.10.12"
  }
 },
 "nbformat": 4,
 "nbformat_minor": 5
}
