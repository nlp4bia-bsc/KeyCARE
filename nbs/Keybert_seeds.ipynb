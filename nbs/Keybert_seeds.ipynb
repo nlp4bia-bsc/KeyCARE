{
 "cells": [
  {
   "cell_type": "code",
   "execution_count": 1,
   "id": "06f8b9b0-fea4-46e7-b41f-c6b3ab121b12",
   "metadata": {},
   "outputs": [
    {
     "name": "stderr",
     "output_type": "stream",
     "text": [
      "/mnt/c/Users/Sergi/Documents/BioTermCategorizer/.env_biotermcategorizer/lib/python3.10/site-packages/tqdm/auto.py:21: TqdmWarning: IProgress not found. Please update jupyter and ipywidgets. See https://ipywidgets.readthedocs.io/en/stable/user_install.html\n",
      "  from .autonotebook import tqdm as notebook_tqdm\n"
     ]
    }
   ],
   "source": [
    "from keybert import KeyBERT\n",
    "from sentence_transformers import SentenceTransformer"
   ]
  },
  {
   "cell_type": "code",
   "execution_count": 2,
   "id": "1d99580a-f99b-4dc8-8649-e5cb0cdd319f",
   "metadata": {},
   "outputs": [
    {
     "name": "stderr",
     "output_type": "stream",
     "text": [
      "No sentence-transformers model found with name /mnt/c/Users/Sergi/Desktop/BSC/spanish_sapbert_models/sapbert_15_noparents_1epoch. Creating a new one with MEAN pooling.\n"
     ]
    },
    {
     "name": "stdout",
     "output_type": "stream",
     "text": [
      "[('taxotero adriamicina ciclofosfamida hormonoterapia', 0.5547), ('en estadio avanzado t4n3m1', 0.5465), ('mama en la joven', 0.4615), ('presentamos un caso raro', 0.4324), ('sin antecedentes familiares con', 0.3376)]\n"
     ]
    }
   ],
   "source": [
    "import os\n",
    "path = '/mnt/c/Users/Sergi/Desktop/BSC/spanish_sapbert_models/sapbert_15_noparents_1epoch'\n",
    "\n",
    "sentence_model = SentenceTransformer(path)\n",
    "kw_model = KeyBERT(model=sentence_model)\n",
    "\n",
    "texto = \"\"\"Presentamos un caso, raro, de cáncer de mama en una mujer de 25 años. Sin antecedentes familiares, con un retraso al diagnóstico de un año, y entonces ya en estadio avanzado (T4N3M1). Se practicó una mastectomía radical modificada y recibió radioterapia (RT), quimioterapia (QT) (6 ciclos de taxotero-adriamicina-ciclofosfamida) y hormonoterapia (tamoxifeno). A los 2 años permanece asintomática. Se revisa el tema: incidencia, evolución, mortalidad, recurrencias con el tratamiento conservador, RT, QT, calidad de vida y otros factores, como toma de contraceptivos orales y cáncer de mama en la joven tras la enfermedad de Hodgkin.\"\"\"\n",
    "\n",
    "keywords4 = kw_model.extract_keywords(texto, keyphrase_ngram_range=(1, 4), stop_words=None, use_mmr=True, top_n=5) #diversity=0.4, nr_candidates=15, top_n=5)\n",
    "keywords = keywords4\n",
    "keywords = sorted(keywords, key=lambda x: x[1], reverse=True)\n",
    "\n",
    "print(keywords)"
   ]
  },
  {
   "cell_type": "code",
   "execution_count": 3,
   "id": "9fffc539-44af-4535-9f7f-e434639eb7cd",
   "metadata": {},
   "outputs": [
    {
     "name": "stdout",
     "output_type": "stream",
     "text": [
      "[('con el tratamiento conservador', 0.5921), ('quimioterapia qt ciclos de', 0.5717), ('en estadio avanzado t4n3m1', 0.5417), ('presentamos un caso', 0.4678), ('mama en una mujer', 0.4147)]\n"
     ]
    }
   ],
   "source": [
    "keywords4 = kw_model.extract_keywords(texto, keyphrase_ngram_range=(1, 4), stop_words=None, use_mmr=True, top_n=5, seed_keywords=[\"terapia\"]) #diversity=0.4, nr_candidates=15, top_n=5)\n",
    "keywords = keywords4\n",
    "keywords = sorted(keywords, key=lambda x: x[1], reverse=True)\n",
    "\n",
    "print(keywords)"
   ]
  },
  {
   "cell_type": "code",
   "execution_count": 5,
   "id": "3b9e1bec-189a-4bae-b458-ffd2dae04652",
   "metadata": {},
   "outputs": [
    {
     "name": "stdout",
     "output_type": "stream",
     "text": [
      "[('el corazón estas afecciones', 0.7726), ('pecho son dos condiciones', 0.5226), ('obstructiva crónica copd la', 0.5152), ('persistente fatiga además de', 0.5057), ('apendicitis es una emergencia', 0.4702)]\n"
     ]
    }
   ],
   "source": [
    "texto=\"\"\"El infarto de miocardio y la angina de pecho son dos condiciones cardíacas graves que pueden surgir debido a la obstrucción del flujo sanguíneo hacia el corazón. Estas afecciones suelen manifestarse con síntomas como dolor en el pecho, dificultad para respirar y malestar general.\n",
    "Por otro lado, la enfermedad pulmonar obstructiva crónica (COPD) y la enfermedad respiratoria pueden afectar significativamente la función pulmonar, provocando dificultad para respirar, tos persistente y fatiga.\n",
    "Además de las afecciones cardíacas y respiratorias, la disfunción de la válvula mitral puede conducir a problemas en la circulación sanguínea, resultando en síntomas como fatiga, dificultad para respirar y edema en las extremidades.\n",
    "Aunque no relacionada con el corazón o los pulmones, la apendicitis es una emergencia médica en la que el apéndice se inflama y requiere cirugía de emergencia para evitar complicaciones graves.\"\"\"\n",
    "\n",
    "keywords4 = kw_model.extract_keywords(texto, keyphrase_ngram_range=(1, 4), stop_words=None, use_mmr=True, top_n=5, seed_keywords=[\"enfermedad cardíaca\"]) #diversity=0.4, nr_candidates=15, top_n=5)\n",
    "keywords = keywords4\n",
    "keywords = sorted(keywords, key=lambda x: x[1], reverse=True)\n",
    "\n",
    "print(keywords)"
   ]
  }
 ],
 "metadata": {
  "kernelspec": {
   "display_name": "Python 3 (ipykernel)",
   "language": "python",
   "name": "python3"
  },
  "language_info": {
   "codemirror_mode": {
    "name": "ipython",
    "version": 3
   },
   "file_extension": ".py",
   "mimetype": "text/x-python",
   "name": "python",
   "nbconvert_exporter": "python",
   "pygments_lexer": "ipython3",
   "version": "3.10.12"
  }
 },
 "nbformat": 4,
 "nbformat_minor": 5
}
