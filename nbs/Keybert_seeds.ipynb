{
 "cells": [
  {
   "cell_type": "code",
   "execution_count": 14,
   "id": "06f8b9b0-fea4-46e7-b41f-c6b3ab121b12",
   "metadata": {},
   "outputs": [],
   "source": [
    "from keybert import KeyBERT\n",
    "from sentence_transformers import SentenceTransformer\n",
    "from keyphrase_vectorizers import KeyphraseCountVectorizer"
   ]
  },
  {
   "cell_type": "code",
   "execution_count": 2,
   "id": "1d99580a-f99b-4dc8-8649-e5cb0cdd319f",
   "metadata": {},
   "outputs": [
    {
     "name": "stderr",
     "output_type": "stream",
     "text": [
      "No sentence-transformers model found with name /mnt/c/Users/Sergi/Desktop/BSC/spanish_sapbert_models/sapbert_15_noparents_1epoch. Creating a new one with MEAN pooling.\n"
     ]
    },
    {
     "name": "stdout",
     "output_type": "stream",
     "text": [
      "[('taxotero adriamicina ciclofosfamida hormonoterapia', 0.5547), ('en estadio avanzado t4n3m1', 0.5465), ('mama en la joven', 0.4615), ('presentamos un caso raro', 0.4324), ('sin antecedentes familiares con', 0.3376)]\n"
     ]
    }
   ],
   "source": [
    "import os\n",
    "path = '/mnt/c/Users/Sergi/Desktop/BSC/spanish_sapbert_models/sapbert_15_noparents_1epoch'\n",
    "\n",
    "sentence_model = SentenceTransformer(path)\n",
    "kw_model = KeyBERT(model=sentence_model)\n",
    "\n",
    "texto = \"\"\"Presentamos un caso, raro, de cáncer de mama en una mujer de 25 años. Sin antecedentes familiares, con un retraso al diagnóstico de un año, y entonces ya en estadio avanzado (T4N3M1). Se practicó una mastectomía radical modificada y recibió radioterapia (RT), quimioterapia (QT) (6 ciclos de taxotero-adriamicina-ciclofosfamida) y hormonoterapia (tamoxifeno). A los 2 años permanece asintomática. Se revisa el tema: incidencia, evolución, mortalidad, recurrencias con el tratamiento conservador, RT, QT, calidad de vida y otros factores, como toma de contraceptivos orales y cáncer de mama en la joven tras la enfermedad de Hodgkin.\"\"\"\n",
    "\n",
    "keywords4 = kw_model.extract_keywords(texto, keyphrase_ngram_range=(1, 4), stop_words=None, use_mmr=True, top_n=5) #diversity=0.4, nr_candidates=15, top_n=5)\n",
    "keywords = keywords4\n",
    "keywords = sorted(keywords, key=lambda x: x[1], reverse=True)\n",
    "\n",
    "print(keywords)"
   ]
  },
  {
   "cell_type": "markdown",
   "id": "21455af4-8a96-4529-8704-f2f6b495ca5d",
   "metadata": {},
   "source": [
    "#### Con PoS tags"
   ]
  },
  {
   "cell_type": "code",
   "execution_count": 22,
   "id": "b553af99-6627-40d9-9e3e-d56a7e970f88",
   "metadata": {},
   "outputs": [
    {
     "name": "stdout",
     "output_type": "stream",
     "text": [
      "Texto con relacion con cancer \n",
      "Default: \n",
      " [('vena renal trombosada', 0.484), ('t3bn0m0', 0.4228), ('nefrectomía radical izquierda', 0.3262), ('auriculotomía derecha', 0.311), ('anatomía patológica', 0.2107)]\n",
      "\n",
      "Una seed con Diversity 0.5: \n",
      " [('trombo tumoral', 0.5286), ('t3bn0m0', 0.509), ('oncología médica', 0.4917), ('nefrectomía radical izquierda', 0.3464), ('control fluoroscópico', 0.29)]\n",
      "\n",
      "Varias seeds con Diversity 0.5: \n",
      " [('t3bn0m0', 0.5104), ('adenocarcinoma renal', 0.4577), ('oncología médica', 0.4392), ('vena renal trombosada', 0.4362), ('sospecha', 0.2975)]\n",
      "\n",
      "Varias seeds con Diversity 0.1: \n",
      " [('t3bn0m0', 0.5104), ('trombo tumoral', 0.4601), ('adenocarcinoma renal', 0.4577), ('oncología médica', 0.4392), ('vena renal trombosada', 0.4362)]\n",
      "\n",
      "Texto sin relacion con cancer\n",
      "Varias seeds con diversity 0.1:\n",
      " [('extremos bacilares abultados', 0.5081), ('corynebacterium thomsseni', 0.437), ('neiserias', 0.4344), ('16srrna', 0.4224), ('resto normal', 0.4133)]\n"
     ]
    }
   ],
   "source": [
    "texto1=\"\"\"Paciente de 56 años remitido a nuestro servicio por hallazgo incidental de masa renal de 5 cm de diámetro máximo, mesorrenal izquierda en la ecografía durante el estudio de cuadro de crisis renoureteral del mismo lado. Como único antecedente el paciente padece hiperuricemia, y no refiere haber presentado episodios de hematuria. En el centro donde se diagnosticó se realizó estudio de extensión con radiografía de tórax, hemograma, bioquímica y tomografía computerizada abdomino-pélvica, donde se evidenció trombo tumoral que se extendía por la vena renal hasta la vena cava retrohepática. Ante este caso se decidió en el centro emisor, colocar filtro en vena cava inferior para evitar la progresión y la embolización de dicho trombo. Posteriormente el paciente fue remitido a nuestro centro para valorar tratamiento quirúrgico, ya que el centro emisor carecía de servicio de cirugía cardiaca.\n",
    "Para completar estudio realizamos urografías por resonancia magnética (Uro-RNM), y estudio angiográfico mediante tomografia computerizada (angio-TC) con cavografía para valorar con la máxima precisión posible el alcance del trombo y la posible infiltración vascular tumoral. En ambas exploraciones se informa de la extensión retrohepática del trombo, la aparente ausencia de infiltración vascular y de adenopatías, así como la presencia de filtro metálico inmediatamente por encima del trombo, responsable de la artefactación de las imágenes.\n",
    "Con el diagnóstico de neoformación renal estadio T3bN0M0 con trombo tumoral nivel II, se decide intervenir, conjuntamente con el servicio de cirugía cardiaca de nuestro centro, realizando esternotomía y laparotomía subcostal izquierda y, previa liberación del ángulo esplénico del colon mediante apertura del retroperitoneo a nivel del mesenterio, nefrectomía radical izquierda permaneciendo la pieza de nefrectomía anclada por la vena renal trombosada. Posteriormente, y bajo circulación extracorpórea con hipotermia profunda y retroperfusión cerebral, se procede a la retirada del filtro por cierre del mismo y tracción bajo control fluoroscópico desde su punto de inserción a nivel yugular, con control por auriculotomía derecha de la posible diseminación a pulmón de pequeños trombos durante la maniobra de retirada, para realizar acto seguido la resección de la vena renal y su ostium por sospecha de infiltración de los mismos y trombectomía por tracción para reparar posteriormente el defecto con un parche de Goretex®, precisando por este motivo el paciente anticoagulación con dicumarínicos durante 3 meses, hasta la endotelización del injerto sintético.\n",
    "La anatomía patológica revela la existencia de adenocarcinoma renal, grado III de Furhman que infiltra la cápsula renal sin sobrepasarla así como la vena renal, no encontrándose infiltrada la vena cava (pT3bNoMo) con trombo de origen exclusivamente tumoral.\n",
    "El paciente sigue en revisiones en nuestras consultas hasta que, en el TC de control a los 12 meses se evidencia lesión lítica en lámina posterior de la vértebra L2, tras estudio de extensión con gammagrafía y TC total-body que confirman que se trata de una lesión única, es remitido al servicio de neurocirugía donde es intervenido realizándose resección de dicha lesión. Actualmente, han transcurrido 20 meses de seguimiento tras la nefretomía, el paciente se encuentra en revisiones por nuestro servicio y el servicio de oncología médica, encontrándose asintomático y sin signos de recidiva.\n",
    "\"\"\"\n",
    "\n",
    "texto2=\"\"\"Varón de 48 años natural de Argentina sin antecedentes personales de interés con aumento y dolor progresivo del testículo izquierdo de 2 meses de evolución; no refiere sintomatología urinaria, no fiebre. Tratado con distintas pautas antibióticas sin mejoría.\n",
    "En la exploración física, se aprecia tumoración dura en teste izquierdo no dolorosa y sin signos de fluctuación. Pruebas complementarias: Hemograma: Destaca linfocitosis, resto normal. Sedimento de orina: Piuria. Cultivo de orina: estéril. Cultivos de semen: E. coli (1o), S. Sprophiticus (2o), P. Mirabilis(3o). Marcadores tumorales: CEA, alfa feto y BHCG normales. Ecografía urinaria: normal. Ecografía testicular : Tumoración testicular izquierda heterogénea sin áreas liquidas en su interior. Mantoux positivo con ulceracion. Ante la ausencia de mejoría clínico radiológica se realiza orquiectomía radical siendo informado el estudio patológico de orquitis inespecífica.\n",
    "Se remite muestra a microbiología, constituida por exudado purulento obtenido intraoperatoriamente del tejido testicular. La tinción de auramina para micobacterias fue negativa. En la tinción de Gram se observaron leucocitos polimorfonucleares y escasos bacilos Gram(+), alguno de ellos filamentosos, con tinción irregular y con extremos bacilares abultados en forma de mazas. La amplificación genómica (PCR) para M.tuberculosis fue negativa. La detección del antígeno de Chlamydia fue también negativa. El cultivo para bacterias habituales, incluidas Neiserias y Haemophilus, fueron negativos a las 72 horas de incubación.\n",
    "A las 96 horas, se detectó en el cultivo el crecimiento, de un microorganismo muy adherente al medio, difícil de emulsionar que a la tinción de Gram presentaba una morfología de bacilo Gram(+) de aspecto coryneforme, a veces con tinción irregular y algunos con terminaciones en forma de maza La tinción de Ziehl Neelsen modificada fue negativa.\n",
    "La identificación fenotípica no aportaba datos significativos por los que se procedió al estudio genético mediante secuenciación del 16SrRNA, identificándose la cepa como Corynebacterium thomsseni. Los cultivos para Nocardias, Micobacterias y hongos fueron negativos. La cepa aislada era muy sensible a Penicilina, Ampicilina,Amoxicilina con clavulánico, Cefotaxima, Gentamicina, Amikacina, Eritromicina,Tetraciclina, Trimetroprim sullfametoxazol, Rifampicina e Imipenem.\n",
    "\"\"\"\n",
    "\n",
    "posF = \"(<NOUN.*>(<ADJ.*>|<ADP.*><NOUN.>)*)|(<PROPN.*>+)\"\n",
    "seeds = [\"cancer\",\"neoplasia\",\"maligna\",\"tumor\",\"carcinoma\",\"oncologico\"]\n",
    "\n",
    "keywords = kw_model.extract_keywords(texto1, vectorizer=KeyphraseCountVectorizer(spacy_pipeline = \"es_core_news_sm\", stop_words='spanish', pos_pattern=posF), stop_words=None, use_mmr=True, diversity=0.5)\n",
    "keywords1 = sorted(keywords, key=lambda x: x[1], reverse=True)\n",
    "print('Texto con relacion con cancer \\nDefault: \\n', keywords1)\n",
    "\n",
    "keywords = kw_model.extract_keywords(texto1, vectorizer=KeyphraseCountVectorizer(spacy_pipeline = \"es_core_news_sm\", stop_words='spanish', pos_pattern=posF), stop_words=None, use_mmr=True, seed_keywords=[\"cancer\"], diversity=0.5)\n",
    "keywords2 = sorted(keywords, key=lambda x: x[1], reverse=True)\n",
    "print('\\nUna seed con Diversity 0.5: \\n', keywords2)\n",
    "\n",
    "keywords = kw_model.extract_keywords(texto1, vectorizer=KeyphraseCountVectorizer(spacy_pipeline = \"es_core_news_sm\", stop_words='spanish', pos_pattern=posF), stop_words=None, use_mmr=True, seed_keywords=seeds, diversity=0.5)\n",
    "keywords3 = sorted(keywords, key=lambda x: x[1], reverse=True)\n",
    "print('\\nVarias seeds con Diversity 0.5: \\n', keywords3)\n",
    "\n",
    "keywords = kw_model.extract_keywords(texto1, vectorizer=KeyphraseCountVectorizer(spacy_pipeline = \"es_core_news_sm\", stop_words='spanish', pos_pattern=posF), stop_words=None, use_mmr=True, seed_keywords=seeds, diversity=0.1)\n",
    "keywords4 = sorted(keywords, key=lambda x: x[1], reverse=True)\n",
    "print('\\nVarias seeds con Diversity 0.1: \\n', keywords4)\n",
    "\n",
    "keywords = kw_model.extract_keywords(texto2, vectorizer=KeyphraseCountVectorizer(spacy_pipeline = \"es_core_news_sm\", stop_words='spanish', pos_pattern=posF), stop_words=None, use_mmr=True, seed_keywords=seeds, diversity=0.5)\n",
    "keywords5 = sorted(keywords, key=lambda x: x[1], reverse=True)\n",
    "print('\\nTexto sin relacion con cancer\\nVarias seeds con diversity 0.1:\\n', keywords5)"
   ]
  },
  {
   "cell_type": "markdown",
   "id": "dd54a7dc-bb91-4290-84c8-279bb821d3b0",
   "metadata": {},
   "source": [
    "#### Con ngram range"
   ]
  },
  {
   "cell_type": "code",
   "execution_count": 23,
   "id": "afe8305b-2476-4cfe-b593-1983c39163df",
   "metadata": {},
   "outputs": [
    {
     "name": "stdout",
     "output_type": "stream",
     "text": [
      "Texto con relacion con cancer \n",
      "Default: \n",
      " [('cava pt3bnomo con trombo', 0.5631), ('de nefrectomía anclada por', 0.5158), ('control por auriculotomía derecha', 0.4456), ('tumoral en ambas exploraciones', 0.423), ('diámetro máximo mesorrenal izquierda', 0.3943)]\n",
      "\n",
      "Una seed con Diversity 0.5: \n",
      " [('tumoral el', 0.6555), ('estadio t3bn0m0 con trombo', 0.5718), ('vena renal trombosada posteriormente', 0.5146), ('mesenterio nefrectomía radical izquierda', 0.493), ('cirugía cardiaca para completar', 0.4236)]\n",
      "\n",
      "Varias seeds con Diversity 0.5: \n",
      " [('neoformación renal estadio t3bn0m0', 0.6038), ('infiltración vascular tumoral en', 0.5595), ('retrohepática del trombo la', 0.5071), ('el servicio de oncología', 0.4965), ('cardiaca para completar estudio', 0.4199)]\n",
      "\n",
      "Varias seeds con Diversity 0.1: \n",
      " [('neoformación renal estadio t3bn0m0', 0.6038), ('tumoral el', 0.5936), ('t3bn0m0 con trombo tumoral', 0.5851), ('cava pt3bnomo con trombo', 0.5788), ('vascular tumoral en ambas', 0.5658)]\n",
      "\n",
      "Texto sin relacion con cancer\n",
      "Varias seeds con diversity 0.1:\n",
      " [('negativos la cepa aislada', 0.6065), ('tumorales cea', 0.5895), ('maza la tinción de', 0.563), ('con clavulánico cefotaxima gentamicina', 0.4967), ('estudio patológico de orquitis', 0.443)]\n"
     ]
    }
   ],
   "source": [
    "keywords = kw_model.extract_keywords(texto1, keyphrase_ngram_range=(1, 4), stop_words=None, use_mmr=True, diversity=0.5)\n",
    "keywords1 = sorted(keywords, key=lambda x: x[1], reverse=True)\n",
    "print('Texto con relacion con cancer \\nDefault: \\n', keywords1)\n",
    "\n",
    "keywords = kw_model.extract_keywords(texto1, keyphrase_ngram_range=(1, 4), stop_words=None, use_mmr=True, seed_keywords=[\"cancer\"], diversity=0.5)\n",
    "keywords2 = sorted(keywords, key=lambda x: x[1], reverse=True)\n",
    "print('\\nUna seed con Diversity 0.5: \\n', keywords2)\n",
    "\n",
    "keywords = kw_model.extract_keywords(texto1, keyphrase_ngram_range=(1, 4), stop_words=None, use_mmr=True, seed_keywords=seeds, diversity=0.5)\n",
    "keywords3 = sorted(keywords, key=lambda x: x[1], reverse=True)\n",
    "print('\\nVarias seeds con Diversity 0.5: \\n', keywords3)\n",
    "\n",
    "keywords = kw_model.extract_keywords(texto1, keyphrase_ngram_range=(1, 4), stop_words=None, use_mmr=True, seed_keywords=seeds, diversity=0.1)\n",
    "keywords4 = sorted(keywords, key=lambda x: x[1], reverse=True)\n",
    "print('\\nVarias seeds con Diversity 0.1: \\n', keywords4)\n",
    "\n",
    "keywords = kw_model.extract_keywords(texto2, keyphrase_ngram_range=(1, 4), stop_words=None, use_mmr=True, seed_keywords=seeds, diversity=0.5)\n",
    "keywords5 = sorted(keywords, key=lambda x: x[1], reverse=True)\n",
    "print('\\nTexto sin relacion con cancer\\nVarias seeds con diversity 0.1:\\n', keywords5)"
   ]
  }
 ],
 "metadata": {
  "kernelspec": {
   "display_name": "Python 3 (ipykernel)",
   "language": "python",
   "name": "python3"
  },
  "language_info": {
   "codemirror_mode": {
    "name": "ipython",
    "version": 3
   },
   "file_extension": ".py",
   "mimetype": "text/x-python",
   "name": "python",
   "nbconvert_exporter": "python",
   "pygments_lexer": "ipython3",
   "version": "3.10.12"
  }
 },
 "nbformat": 4,
 "nbformat_minor": 5
}
