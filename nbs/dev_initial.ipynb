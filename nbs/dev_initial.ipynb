{
 "cells": [
  {
   "cell_type": "code",
   "execution_count": 27,
   "id": "0653ba11-2b67-463b-a73d-8efa4c69b5f4",
   "metadata": {},
   "outputs": [],
   "source": [
    "\n",
    "\n",
    "class TermExtractor:\n",
    "    def __init__(self, extraction_methods):\n",
    "        self.extraction_methods = extraction_methods\n",
    "        self.extractors = self.initialize_keyword_extractors()\n",
    "\n",
    "    def __call__(self, text):\n",
    "        self.extract_terms(text)\n",
    "        \n",
    "    def initialize_keyword_extractors(self):\n",
    "        keyword_extractors = {}\n",
    "\n",
    "        if 'rake' in self.extraction_methods:\n",
    "            keyword_extractors[\"rake\"] = \"OBJETO YAKE EXTRACTOR\" #YakeExtractor()\n",
    "            \n",
    "        if 'textrank' in self.extraction_methods:\n",
    "            keyword_extractors[\"textrank\"] = \"OBJETO TEXTRANK EXTRACTOR\"\n",
    "        \n",
    "        return keyword_extractors\n",
    "\n",
    "    def extract_terms(self, text):\n",
    "        print(self.extractors)\n",
    "        print(text)\n",
    "    "
   ]
  },
  {
   "cell_type": "code",
   "execution_count": 28,
   "id": "90cd4fc0-a22b-4af1-a3c4-28366c48f84c",
   "metadata": {},
   "outputs": [],
   "source": [
    "extractor = TermExtractor(extraction_methods=[\"textrank\",\"rake\"])"
   ]
  },
  {
   "cell_type": "code",
   "execution_count": 29,
   "id": "69df16e5-01d6-48fb-9e79-7446c051ee3c",
   "metadata": {},
   "outputs": [
    {
     "name": "stdout",
     "output_type": "stream",
     "text": [
      "{'rake': 'OBJETO YAKE EXTRACTOR', 'textrank': 'OBJETO TEXTRANK EXTRACTOR'}\n",
      "texto de prueba\n"
     ]
    }
   ],
   "source": [
    "extractor(\"texto de prueba\")"
   ]
  },
  {
   "cell_type": "code",
   "execution_count": 15,
   "id": "0b02f74d-aa21-468f-bf80-a2ba888154da",
   "metadata": {},
   "outputs": [
    {
     "data": {
      "text/plain": [
       "{'yake': 'OBJETO YAKE EXTRACTOR'}"
      ]
     },
     "execution_count": 15,
     "metadata": {},
     "output_type": "execute_result"
    }
   ],
   "source": [
    "extractor.extractors"
   ]
  },
  {
   "cell_type": "code",
   "execution_count": null,
   "id": "167c4e94-b6d8-4b86-9c60-2fb1f3382f87",
   "metadata": {},
   "outputs": [],
   "source": [
    "extractor_terminos = TermExtractor(sadasdasdsa)"
   ]
  },
  {
   "cell_type": "code",
   "execution_count": null,
   "id": "cae4f1f2-3605-4daa-8e94-8c8859cd6e36",
   "metadata": {},
   "outputs": [],
   "source": [
    "doc1_terms = extractor_terminos(\"textoasdasdasdsa\")"
   ]
  },
  {
   "cell_type": "code",
   "execution_count": null,
   "id": "9f4089de-7798-443f-a475-fd0f37b6a503",
   "metadata": {},
   "outputs": [],
   "source": [
    "doc1_terms.zº"
   ]
  },
  {
   "cell_type": "code",
   "execution_count": null,
   "id": "15e55727-798b-49f2-ac81-b7730c683287",
   "metadata": {},
   "outputs": [],
   "source": []
  },
  {
   "cell_type": "code",
   "execution_count": null,
   "id": "c33845a0-6647-4236-b667-89b62d67c91f",
   "metadata": {},
   "outputs": [],
   "source": []
  },
  {
   "cell_type": "code",
   "execution_count": 31,
   "id": "44e722f2-66b9-4577-adda-5910044dcb09",
   "metadata": {},
   "outputs": [],
   "source": [
    "import sys, os, re\n",
    "general_path = os.getcwd().split(\"BioTermCategorizer\")[0]+\"BioTermCategorizer/\"\n",
    "sys.path.append(general_path+'biotermcategorizer/')\n"
   ]
  },
  {
   "cell_type": "code",
   "execution_count": 36,
   "id": "d679dac1-4248-4c69-9fd4-af97d84e9ac2",
   "metadata": {},
   "outputs": [],
   "source": [
    "from TermExtractor import TermExtractor"
   ]
  },
  {
   "cell_type": "code",
   "execution_count": 37,
   "id": "a8d9605d-1c9b-44db-b767-5c67541f37d4",
   "metadata": {},
   "outputs": [],
   "source": [
    "extractor = TermExtractor(extraction_methods=[\"textrank\",\"rake\"])"
   ]
  },
  {
   "cell_type": "code",
   "execution_count": 39,
   "id": "aa02ced0-1024-418e-9191-3933998c585e",
   "metadata": {},
   "outputs": [
    {
     "name": "stdout",
     "output_type": "stream",
     "text": [
      "{'rake': 'OBJETO YAKE EXTRACTOR', 'textrank': 'OBJETO TEXTRANK EXTRACTOR'}\n",
      "texto de prueba\n"
     ]
    }
   ],
   "source": [
    "extractor(\"texto de prueba\")"
   ]
  },
  {
   "cell_type": "code",
   "execution_count": null,
   "id": "53702ec3-6063-4897-a4cb-e16c88da3067",
   "metadata": {},
   "outputs": [],
   "source": []
  },
  {
   "cell_type": "code",
   "execution_count": null,
   "id": "f00dff96-03fd-4195-902f-cdaec9d63a54",
   "metadata": {},
   "outputs": [],
   "source": []
  },
  {
   "cell_type": "code",
   "execution_count": 52,
   "id": "199201ba-58db-4dd2-85f2-7da7fbc1ede2",
   "metadata": {},
   "outputs": [],
   "source": [
    "class Extractor:\n",
    "    def __init__(self):\n",
    "        pass\n",
    "\n",
    "    def extract_terms(self, text):\n",
    "        raise NotImplementedError(\"extract_terms method must be implemented in subclass\")\n",
    "\n"
   ]
  },
  {
   "cell_type": "code",
   "execution_count": 53,
   "id": "a2656ba7-6002-4586-9dec-622fc334dc01",
   "metadata": {},
   "outputs": [],
   "source": [
    "\n",
    "\n",
    "class RakeExtractor(Extractor):\n",
    "    def __init__(self, stopwords, language):\n",
    "        super().__init__()\n",
    "        self.stopwords = stopwords\n",
    "        self.language = language\n",
    "\n",
    "    def extract_terms(self, text):\n",
    "        # Lógica para la extracción de términos mediante string matching\n",
    "        terms = []  # Ejemplo de términos encontrados\n",
    "        return terms\n"
   ]
  },
  {
   "cell_type": "code",
   "execution_count": 54,
   "id": "bd43326b-ab12-4653-910b-e133865de1c8",
   "metadata": {},
   "outputs": [],
   "source": [
    "rake_extractor = RakeExtractor(stopwords=[\"a\",\"b\",\"c\"], language = \"spanish\")"
   ]
  },
  {
   "cell_type": "code",
   "execution_count": 55,
   "id": "bd109708-b6c2-43f8-9d5e-1c81ac43bf92",
   "metadata": {},
   "outputs": [
    {
     "ename": "NotImplementedError",
     "evalue": "extract_terms method must be implemented in subclass",
     "output_type": "error",
     "traceback": [
      "\u001b[0;31m---------------------------------------------------------------------------\u001b[0m",
      "\u001b[0;31mNotImplementedError\u001b[0m                       Traceback (most recent call last)",
      "Cell \u001b[0;32mIn[55], line 1\u001b[0m\n\u001b[0;32m----> 1\u001b[0m \u001b[43mrake_extractor\u001b[49m\u001b[38;5;241;43m.\u001b[39;49m\u001b[43mextract_terms\u001b[49m\u001b[43m(\u001b[49m\u001b[38;5;124;43m\"\u001b[39;49m\u001b[38;5;124;43mhola que tal\u001b[39;49m\u001b[38;5;124;43m\"\u001b[39;49m\u001b[43m)\u001b[49m\n",
      "Cell \u001b[0;32mIn[52], line 6\u001b[0m, in \u001b[0;36mExtractor.extract_terms\u001b[0;34m(self, text)\u001b[0m\n\u001b[1;32m      5\u001b[0m \u001b[38;5;28;01mdef\u001b[39;00m \u001b[38;5;21mextract_terms\u001b[39m(\u001b[38;5;28mself\u001b[39m, text):\n\u001b[0;32m----> 6\u001b[0m     \u001b[38;5;28;01mraise\u001b[39;00m \u001b[38;5;167;01mNotImplementedError\u001b[39;00m(\u001b[38;5;124m\"\u001b[39m\u001b[38;5;124mextract_terms method must be implemented in subclass\u001b[39m\u001b[38;5;124m\"\u001b[39m)\n",
      "\u001b[0;31mNotImplementedError\u001b[0m: extract_terms method must be implemented in subclass"
     ]
    }
   ],
   "source": [
    "rake_extractor.extract_terms(\"hola que tal\")"
   ]
  },
  {
   "cell_type": "code",
   "execution_count": null,
   "id": "e47ebf00-f778-4157-8a13-0729c269cb35",
   "metadata": {},
   "outputs": [],
   "source": []
  }
 ],
 "metadata": {
  "kernelspec": {
   "display_name": "Python 3 (ipykernel)",
   "language": "python",
   "name": "python3"
  },
  "language_info": {
   "codemirror_mode": {
    "name": "ipython",
    "version": 3
   },
   "file_extension": ".py",
   "mimetype": "text/x-python",
   "name": "python",
   "nbconvert_exporter": "python",
   "pygments_lexer": "ipython3",
   "version": "3.8.2"
  }
 },
 "nbformat": 4,
 "nbformat_minor": 5
}
