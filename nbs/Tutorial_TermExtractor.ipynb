{
 "cells": [
  {
   "cell_type": "markdown",
   "id": "800830d1-5134-427f-9f9c-751ff0bd6d7c",
   "metadata": {},
   "source": [
    "# Tutorial for TermExtractor\n",
    "This tutorial describes the main steps and options for the usage of TermExtractor as part of the KeyCARE library."
   ]
  },
  {
   "cell_type": "markdown",
   "id": "52f84a42-3a89-46c5-9e89-3422c434263d",
   "metadata": {},
   "source": [
    "### Importing the library\n",
    "First, make sure you have installed the KeyCARE library in your device:"
   ]
  },
  {
   "cell_type": "code",
   "execution_count": null,
   "id": "80854963-a8c3-41e7-9dfa-23de8d6d9641",
   "metadata": {
    "scrolled": true
   },
   "outputs": [],
   "source": [
    "pip install keycare"
   ]
  },
  {
   "cell_type": "markdown",
   "id": "65b6b244-1721-4e3d-8711-1a0893cb2b54",
   "metadata": {},
   "source": [
    "Then, you can already start importing the main classes from the KeyCARE library! In this tutorial, we will be focusing on the use of the `TermExtractor` class:"
   ]
  },
  {
   "cell_type": "code",
   "execution_count": 1,
   "id": "e7edaa02-0c3e-46b3-9ecc-28b7d9075190",
   "metadata": {},
   "outputs": [
    {
     "name": "stderr",
     "output_type": "stream",
     "text": [
      "[nltk_data] Downloading package stopwords to /home/sergi/nltk_data...\n",
      "[nltk_data]   Package stopwords is already up-to-date!\n",
      "[nltk_data] Downloading package punkt to /home/sergi/nltk_data...\n",
      "[nltk_data]   Package punkt is already up-to-date!\n",
      "[nltk_data] Downloading package stopwords to /home/sergi/nltk_data...\n",
      "[nltk_data]   Package stopwords is already up-to-date!\n",
      "[nltk_data] Downloading package stopwords to /home/sergi/nltk_data...\n",
      "[nltk_data]   Package stopwords is already up-to-date!\n"
     ]
    }
   ],
   "source": [
    "from keycare.TermExtractor import TermExtractor"
   ]
  },
  {
   "cell_type": "markdown",
   "id": "ba8bf9d6-3922-4592-bbb7-0faa742260cc",
   "metadata": {},
   "source": [
    "### Using TermExtractor's basic functions\n",
    "#### The TermExtractor object\n",
    "A first instance of the class `TermExtractor` must be assigned to a variable, as shown below. The parameters that can be introduced are:\n",
    "- `extraction_methods` (list): List of keyword extraction methods. Use a list even if only one extraction method is provided. Default value: `[\"textrank\"]`.\n",
    "- `categorization_method` (str): Method for text categorization. Default value: `\"setfit\"`.\n",
    "- `language` (str): Language for text processing. Only implemented in Spanish. Default value: `\"spanish\"`.\n",
    "- `max_tokens` (int): Maximum number of tokens for keyword extraction. Default value: `4`.\n",
    "- `pos` (bool): Whether to use Part of Speech sequences in KeyBert. Default value: `False`.\n",
    "- `pos_pattern` (str): The Part of Speech regex pattern. Default value: `\"<NOUN.*>*<ADP.*>*<NOUN.*>*<ADJ.*>*|<PROPN.*>+|<VERB.*>+\"`.\n",
    "- `top_n` (int): The number of keywords to extract from each document. Default value: `None`, where a keyword is extracted for every 10 words.\n",
    "- `join` (bool): Whether to join keywords from different methods and remove overlaps among them. When `join=True`, only a list of keywords is provided for all the selected extraction methods, as opposed to when `join=False`. Default value: `False`.\n",
    "- `postprocess` (bool): Whether to postprocess the extracted terms to remove and modify the ones with little meaning. Default value: `True`.\n",
    "- `n` (int): Maximum number of labels for a single sample. Default value: `1`.\n",
    "- `thr_setfit` (float): Threshold for SetFit classification. Default value: `0.5`.\n",
    "- `thr_transformers` (float): Threshold for Transformers classification. Default value: `-1`.\n",
    "- `n_clusters` (int): Number of clusters for clustering. It is required when `categorization_method=\"clustering\"`. Default value: `None`.\n",
    "- `categorizer_model_path` (str): Path to the base categorizer model. Default value: `\"BSC-NLP4BIA/SapBERT-parents-from-roberta-base-biomedical-clinical-es\"`.\n",
    "- `output_path` (str): Path to save the trained model. Default value: `\"./trained_model\"`.\n",
    "- `clustering_model` (str): Clustering model for keyword clustering. Default value: `None`.\n",
    "- `classifier_model` (str): Classifier model for classification. Default value: `None`.\n",
    "- `**kwargs` (dict): Additional keyword arguments. Default value: `None`.\n",
    "\n",
    "An instance of the object TermExtractor with the default parameters is shown below:"
   ]
  },
  {
   "cell_type": "code",
   "execution_count": 2,
   "id": "54044095-ecca-4a13-b1a5-86ee27b45f68",
   "metadata": {},
   "outputs": [],
   "source": [
    "extractor = TermExtractor()"
   ]
  },
  {
   "cell_type": "markdown",
   "id": "b4617684-6c26-4b2f-9f6b-727226d5fc90",
   "metadata": {},
   "source": [
    "Once the first instance of the extractor is created, some attributes of the `TermExtractor` object can already be presented. The following attributes can be extracted from the `TermExtractor` object through dot indexing:\n",
    "- `extraction_methods` (list): List of the selected extraction methods.\n",
    "- `extractors` (dict): Dictionary of the Extractor() class type objects to be used.\n",
    "- `categorization_method` (str): Selected categorization method.\n",
    "- `categorizer`: Instance of the SetFitClassifier, TransformersClassifier or Clustering class object.\n",
    "- `join`(bool): Provided value for join as a parameter.\n",
    "- `postprocess` (bool): Provided value for postprocess as a parameter.\n",
    "- `kwargs` (dict): Dictionary of introduced extra parameters.\n",
    "- `keywords`(list): List of Keyword() class objects including the extracted keywords. Since the extraction of the keywords has not yet been called, the attributes is `None`."
   ]
  },
  {
   "cell_type": "code",
   "execution_count": 3,
   "id": "e816ed8b-cb97-44b3-a145-80afe8a07f5b",
   "metadata": {},
   "outputs": [
    {
     "name": "stdout",
     "output_type": "stream",
     "text": [
      "The default settings use the extractor ['textrank'] and the categorizer setfit\n",
      "The selected extractors are {'textrank': <keycare.extractors.TextRankExtractor.TextRankExtractor object at 0x7fa85b764b20>}\n",
      "The selected categorizer is <keycare.categorizers.SetFitClassifier.SetFitClassifier object at 0x7fa9488e6dd0>\n",
      "The parameter join is False and the parameter postprocess is True\n",
      "The following extra parameters have been introduced: {}\n",
      "At this moment the extracted keywords are None\n"
     ]
    }
   ],
   "source": [
    "#attributes with the default settings\n",
    "print(\"The default settings use the extractor\", str(extractor.extraction_methods), \"and the categorizer\", str(extractor.categorization_method))\n",
    "print(\"The selected extractors are\", str(extractor.extractors))\n",
    "print(\"The selected categorizer is\", str(extractor.categorizer))\n",
    "print(\"The parameter join is\", str(extractor.join), \"and the parameter postprocess is\", str(extractor.postprocess))\n",
    "print(\"The following extra parameters have been introduced:\", str(extractor.kwargs))\n",
    "print(\"At this moment the extracted keywords are\", str(extractor.keywords))"
   ]
  },
  {
   "cell_type": "markdown",
   "id": "72a9867b-c190-49e5-8c2a-4e66c988d165",
   "metadata": {},
   "source": [
    "When the `TermExtractor` object is called on a string of text, it automatically extracts the keywords and classifies the according to the designated parameters. These keywords are stored in the attribute `TermExtractor.keywords`, which is a list of `Keyword` class objects."
   ]
  },
  {
   "cell_type": "code",
   "execution_count": 4,
   "id": "449e014a-39cf-4864-ba41-4c1939eedb72",
   "metadata": {},
   "outputs": [],
   "source": [
    "text = \"\"\"Acude al Servicio de Urgencias por cefalea frontoparietal derecha. [...]\n",
    "Mediante biopsia se diagnostica adenocarcinoma de próstata Gleason 4+4=8 con metástasis óseas múltiples. [...]\n",
    "Se trata con Ácido Zoledrónico 4 mg iv/4 semanas.\n",
    "\"\"\"\n",
    "\n",
    "extractor(text)"
   ]
  },
  {
   "cell_type": "markdown",
   "id": "c63be7be-e3b7-451f-8da1-2e071fdcc103",
   "metadata": {},
   "source": [
    "#### The Keyword class\n",
    "The objects of type `Keyword` also have different attributes that can be called through dot indexing:\n",
    "- `text` (str): The extracted keyword text.\n",
    "- `extraction_method` (str): The extraction method used to find the keyword.\n",
    "- `score` (float): The relevance score of the keyword. This score varies in range depending on the used method.\n",
    "- `span` (list): List of two ints as [ini, fin] containing the starting and ending indexs of the keyword in the input text.\n",
    "- `categorization_method` (str): The categorization method used to categorize the keyword.\n",
    "- `label` (list): Label or labels assigned to the keyword.\n",
    "\n",
    "The user can either access these attributes of each keyword individually or print the keyword directly, which returns all the attributes in a structured manner."
   ]
  },
  {
   "cell_type": "code",
   "execution_count": 5,
   "id": "f8f120ff-3d6f-40af-8b2c-8493a5961c5b",
   "metadata": {},
   "outputs": [
    {
     "name": "stdout",
     "output_type": "stream",
     "text": [
      "Printing the keywords directly:\n",
      " [<Keyword(text='metástasis óseas múltiples', span='[150, 176]', extraction method='textrank', score='0.21697438688437998', categorization method='setfit', class='['ENFERMEDAD']')>, <Keyword(text='iv/4 semanas', span='[220, 232]', extraction method='textrank', score='0.17096491712197776', categorization method='setfit', class='['PROCEDIMIENTO']')>]\n",
      "\n",
      "Printing the keywords individually:\n",
      " [('metástasis óseas múltiples', 'textrank', [150, 176], 0.21697438688437998, 'setfit', ['ENFERMEDAD']), ('iv/4 semanas', 'textrank', [220, 232], 0.17096491712197776, 'setfit', ['PROCEDIMIENTO'])]\n"
     ]
    }
   ],
   "source": [
    "#printing the words directly\n",
    "print(\"Printing the keywords directly:\\n\", extractor.keywords)\n",
    "\n",
    "#printing attributes individually\n",
    "words = [(kw.text,kw.extraction_method,kw.span,kw.score,kw.categorization_method,kw.label) for kw in extractor.keywords]\n",
    "print(\"\\nPrinting the keywords individually:\\n\", words)"
   ]
  },
  {
   "cell_type": "markdown",
   "id": "4c1a0771-c62e-46a0-adaf-be7b41d72777",
   "metadata": {},
   "source": [
    "### Use of different extractors\n",
    "The keyword extraction implemented in `TermExtractor` is performed in an unsupervised manner. The four extraction algorithms are RAKE, YAKE!, TextRank and KeyBERT; and they can be used individually or together. In addition to that, the parameters `max_tokens`, `top_n`, `join` and `postprocess` can be modified.\n",
    "\n",
    "Some examples showing these options with their corresponding keywords are shown below:"
   ]
  },
  {
   "cell_type": "code",
   "execution_count": 6,
   "id": "95323d21-bc42-4244-99d1-beed24fef75d",
   "metadata": {},
   "outputs": [
    {
     "name": "stdout",
     "output_type": "stream",
     "text": [
      "Keywords:\n",
      " [<Keyword(text='ácido zoledrónico 4 mg iv', span='[197, 222]', extraction method='rake', score='22.75', categorization method='setfit', class='['PROCEDIMIENTO']')>, <Keyword(text='metástasis óseas múltiples', span='[150, 176]', extraction method='rake', score='9.0', categorization method='setfit', class='['ENFERMEDAD']')>, <Keyword(text='cefalea frontoparietal derecha', span='[35, 65]', extraction method='rake', score='9.0', categorization method='setfit', class='['SINTOMA']')>] \n",
      "\n"
     ]
    }
   ],
   "source": [
    "#extractor using Rake as extraction method and a maximum of 5 tokens and postprocessing\n",
    "extractor = TermExtractor(extraction_methods=[\"rake\"], max_tokens=5)\n",
    "extractor(text)\n",
    "print(\"Keywords:\\n\", extractor.keywords, \"\\n\")"
   ]
  },
  {
   "cell_type": "code",
   "execution_count": 7,
   "id": "97084110-a684-4027-9e24-88afe73e0d35",
   "metadata": {},
   "outputs": [
    {
     "name": "stdout",
     "output_type": "stream",
     "text": [
      "Keywords:\n",
      " [<Keyword(text='metástasis óseas múltiples', span='[150, 176]', extraction method='rake', score='9.0', categorization method='setfit', class='['ENFERMEDAD']')>, <Keyword(text='cefalea frontoparietal derecha', span='[35, 65]', extraction method='rake', score='9.0', categorization method='setfit', class='['SINTOMA']')>, <Keyword(text='próstata gleason 4', span='[123, 141]', extraction method='rake', score='8.75', categorization method='setfit', class='['MORFOLOGIA_NEOPLASIA']')>, <Keyword(text='4 semanas', span='[223, 232]', extraction method='rake', score='4.75', categorization method='setfit', class='['NO_CATEGORY']')>, <Keyword(text='diagnostica adenocarcinoma', span='[93, 119]', extraction method='rake', score='4.0', categorization method='setfit', class='['ENFERMEDAD']')>, <Keyword(text='por', span='[31, 34]', extraction method='yake', score='0.17562334392752144', categorization method='setfit', class='['NO_CATEGORY']')>] \n",
      "\n"
     ]
    }
   ],
   "source": [
    "#extractor using 3 extraction methods with join=True and no postprocessing, but keeping only 5 keywords per extractor\n",
    "extractor = TermExtractor(extraction_methods=[\"rake\",\"yake\"], top_n=5, join=True, postprocess=False)\n",
    "extractor(text)\n",
    "print(\"Keywords:\\n\", extractor.keywords, \"\\n\")"
   ]
  },
  {
   "cell_type": "code",
   "execution_count": 8,
   "id": "bb3e8745-3c12-4154-bd9d-78dd81af4f18",
   "metadata": {},
   "outputs": [
    {
     "name": "stderr",
     "output_type": "stream",
     "text": [
      "No sentence-transformers model found with name /home/sergi/.cache/torch/sentence_transformers/BSC-NLP4BIA_SapBERT-parents-from-roberta-base-biomedical-clinical-es. Creating a new one with MEAN pooling.\n"
     ]
    },
    {
     "name": "stdout",
     "output_type": "stream",
     "text": [
      "Keywords:\n",
      " [<Keyword(text='metástasis óseas múltiples', span='[150, 176]', extraction method='rake', score='9.0', categorization method='setfit', class='['ENFERMEDAD']')>, <Keyword(text='cefalea frontoparietal derecha', span='[35, 65]', extraction method='rake', score='9.0', categorization method='setfit', class='['SINTOMA']')>, <Keyword(text='próstata gleason 4', span='[123, 141]', extraction method='rake', score='8.75', categorization method='setfit', class='['MORFOLOGIA_NEOPLASIA']')>, <Keyword(text='iv/4 semanas', span='[220, 232]', extraction method='textrank', score='0.17096491712197776', categorization method='setfit', class='['PROCEDIMIENTO']')>, <Keyword(text='diagnostica adenocarcinoma', span='[93, 119]', extraction method='keybert', score='0.5205', categorization method='setfit', class='['ENFERMEDAD']')>, <Keyword(text='trata', span='[187, 192]', extraction method='keybert', score='0.4967', categorization method='setfit', class='['NO_CATEGORY']')>, <Keyword(text='adenocarcinoma de próstata', span='[105, 131]', extraction method='keybert', score='0.4843', categorization method='setfit', class='['ENFERMEDAD']')>] \n",
      "\n"
     ]
    }
   ],
   "source": [
    "#extractor using 3 extraction methods with join=True and postprocessing\n",
    "extractor = TermExtractor(extraction_methods=[\"rake\",\"keybert\",\"textrank\"], join=True)\n",
    "extractor(text)\n",
    "print(\"Keywords:\\n\", extractor.keywords, \"\\n\")"
   ]
  },
  {
   "cell_type": "markdown",
   "id": "9234102c-e790-44ab-b6d7-f850eb5aac2e",
   "metadata": {},
   "source": [
    "Observe that roughly one keyword is extracted for every 10 words of the provided text with each extractor, when the parameter `top_n` is not specified."
   ]
  },
  {
   "cell_type": "markdown",
   "id": "0edc94f5-9185-4caa-af12-39a2da82cb79",
   "metadata": {},
   "source": [
    "#### Extraction based on Part of Speech tags with KeyBERT\n",
    "In addition to extracting keywords based on a maximum number of tokens, these can also be extracted using specific Part of Speech (PoS) patterns using the KeyBERT extractor. An example is shown below:"
   ]
  },
  {
   "cell_type": "code",
   "execution_count": 9,
   "id": "ba1b8c66-478a-4f16-8634-78ce4e6440b2",
   "metadata": {},
   "outputs": [
    {
     "name": "stderr",
     "output_type": "stream",
     "text": [
      "No sentence-transformers model found with name /home/sergi/.cache/torch/sentence_transformers/BSC-NLP4BIA_SapBERT-parents-from-roberta-base-biomedical-clinical-es. Creating a new one with MEAN pooling.\n"
     ]
    },
    {
     "name": "stdout",
     "output_type": "stream",
     "text": [
      "Keywords:\n",
      " [<Keyword(text='cefalea frontoparietal derecha', span='[35, 65]', extraction method='keybert', score='0.6264', categorization method='setfit', class='['SINTOMA']')>, <Keyword(text='metástasis óseas múltiples', span='[150, 176]', extraction method='keybert', score='0.5249', categorization method='setfit', class='['ENFERMEDAD']')>, <Keyword(text='trata', span='[187, 192]', extraction method='keybert', score='0.4967', categorization method='setfit', class='['NO_CATEGORY']')>] \n",
      "\n"
     ]
    }
   ],
   "source": [
    "#extractor using KeyBERT as extraction method with the default PoS tag\n",
    "extractor = TermExtractor(extraction_methods=[\"keybert\"], pos=True)\n",
    "extractor(text)\n",
    "print(\"Keywords:\\n\", extractor.keywords, \"\\n\")"
   ]
  },
  {
   "cell_type": "code",
   "execution_count": 10,
   "id": "e5766659-89e9-4ae8-b802-c47a9fbd85d7",
   "metadata": {},
   "outputs": [
    {
     "name": "stderr",
     "output_type": "stream",
     "text": [
      "No sentence-transformers model found with name /home/sergi/.cache/torch/sentence_transformers/BSC-NLP4BIA_SapBERT-parents-from-roberta-base-biomedical-clinical-es. Creating a new one with MEAN pooling.\n"
     ]
    },
    {
     "name": "stdout",
     "output_type": "stream",
     "text": [
      "Keywords:\n",
      " [<Keyword(text='cefalea frontoparietal derecha', span='[35, 65]', extraction method='keybert', score='0.5829', categorization method='setfit', class='['SINTOMA']')>, <Keyword(text='metástasis óseas múltiples', span='[150, 176]', extraction method='keybert', score='0.4658', categorization method='setfit', class='['ENFERMEDAD']')>, <Keyword(text='adenocarcinoma', span='[105, 119]', extraction method='keybert', score='0.4224', categorization method='setfit', class='['MORFOLOGIA_NEOPLASIA']')>] \n",
      "\n"
     ]
    }
   ],
   "source": [
    "#extractor using KeyBERT as extraction method with a specified PoS tag (only nouns followed by adjectives) and a top_n\n",
    "extractor = TermExtractor(extraction_methods=[\"keybert\"], pos=True, pos_pattern=\"<NOUN.*>*<ADJ.*>*\", top_n=3)\n",
    "extractor(text)\n",
    "print(\"Keywords:\\n\", extractor.keywords, \"\\n\")"
   ]
  },
  {
   "cell_type": "markdown",
   "id": "0b83f3af-5166-4d29-ad37-5a830634c5c4",
   "metadata": {},
   "source": [
    "### Use of different categorizers\n",
    "The keyword multilabel classification included in `TermExtractor` has been implemented in both a supervised and unsupervised manner. The supervised classification is conducted with the SetFit classifier and the AutoModelForSequenceClassification, both from the SentenceTransformers library. The unsupervised categorization is conducted with a KMeans Clustering algorithm. \n",
    "#### Classification with SetFit\n",
    "The SetFit model of the Transformers library is selected by setting the parameter `categorization_method` to \"setfit\". The default model has been trained on a corpus with 22 classes, but another trained model can be specified in the parameter `classifier_model`. The classification is performed in a multilabel manner, where each label is assigned a score between 0 and 1 during the prediction. The user can set a threshold for the labels to be considered using `thr_setift`(0.5 by default) and a maximum number of labels for each keyword using `n` (1 by default). Some examples are shown below:"
   ]
  },
  {
   "cell_type": "code",
   "execution_count": 11,
   "id": "268d619d-deaf-4281-8ce3-00004bb6645d",
   "metadata": {
    "scrolled": true
   },
   "outputs": [
    {
     "name": "stdout",
     "output_type": "stream",
     "text": [
      "Keywords:\n",
      " [<Keyword(text='metástasis óseas múltiples', span='[150, 176]', extraction method='textrank', score='0.21697438688437998', categorization method='setfit', class='['ENFERMEDAD']')>, <Keyword(text='iv/4 semanas', span='[220, 232]', extraction method='textrank', score='0.17096491712197776', categorization method='setfit', class='['PROCEDIMIENTO']')>, <Keyword(text='Ácido Zoledrónico', span='[197, 214]', extraction method='textrank', score='0.10749078811981905', categorization method='setfit', class='['FARMACO']')>, <Keyword(text='próstata', span='[123, 131]', extraction method='textrank', score='0.09682836223406643', categorization method='setfit', class='['SINTOMA']')>, <Keyword(text='adenocarcinoma', span='[105, 119]', extraction method='textrank', score='0.08547370793936683', categorization method='setfit', class='['MORFOLOGIA_NEOPLASIA']')>, <Keyword(text='Gleason 4', span='[132, 141]', extraction method='textrank', score='0.07581375157774115', categorization method='setfit', class='['MORFOLOGIA_NEOPLASIA']')>] \n",
      "\n"
     ]
    }
   ],
   "source": [
    "#default settings and specifying a model path\n",
    "extractor = TermExtractor(top_n=7, categorization_method=\"setfit\", categorizer_model_path='BSC-NLP4BIA/SapBERT-parents-from-roberta-base-biomedical-clinical-es')\n",
    "extractor(text)\n",
    "print(\"Keywords:\\n\", extractor.keywords, \"\\n\")"
   ]
  },
  {
   "cell_type": "code",
   "execution_count": 12,
   "id": "f5aa2e81-581e-4089-9069-2af377d142b7",
   "metadata": {},
   "outputs": [
    {
     "name": "stdout",
     "output_type": "stream",
     "text": [
      "Keywords:\n",
      " [<Keyword(text='metástasis óseas múltiples', span='[150, 176]', extraction method='textrank', score='0.21697438688437998', categorization method='setfit', class='['ENFERMEDAD']')>, <Keyword(text='iv/4 semanas', span='[220, 232]', extraction method='textrank', score='0.17096491712197776', categorization method='setfit', class='['PROCEDIMIENTO']')>, <Keyword(text='Ácido Zoledrónico', span='[197, 214]', extraction method='textrank', score='0.10749078811981905', categorization method='setfit', class='['FARMACO']')>, <Keyword(text='próstata', span='[123, 131]', extraction method='textrank', score='0.09682836223406643', categorization method='setfit', class='['SINTOMA']')>, <Keyword(text='adenocarcinoma', span='[105, 119]', extraction method='textrank', score='0.08547370793936683', categorization method='setfit', class='['MORFOLOGIA_NEOPLASIA']')>, <Keyword(text='Gleason 4', span='[132, 141]', extraction method='textrank', score='0.07581375157774115', categorization method='setfit', class='['MORFOLOGIA_NEOPLASIA', 'SINTOMA']')>] \n",
      "\n"
     ]
    }
   ],
   "source": [
    "#allowing a multilabel output (up to 3 labels over 0.1)\n",
    "extractor = TermExtractor(top_n=7, categorization_method=\"setfit\", thr_setfit=0.05, n=3)\n",
    "extractor(text)\n",
    "print(\"Keywords:\\n\", extractor.keywords, \"\\n\")"
   ]
  },
  {
   "cell_type": "markdown",
   "id": "4a014f2b-5025-45ab-8a89-ce018bad202e",
   "metadata": {},
   "source": [
    "In this case, for example, \"Gleason 4\" is classified as both \"MORFOLOGIA_NEOPLASIA\" and \"SINTOMA\".\n",
    "#### Classification with AutoModelForSequenceClassification\n",
    "The AutoModelForSequenceClassification model of the Transformers library is selected by setting the parameter `categorization_method` to \"transformers\". The default model has been trained on the same corpus as the SetFit classifier, but another trained model can be specified in the parameter `categorizer_model_path`. The classification is performed in a multilabel manner, where each label is assigned a logit during the prediction. The user can set a threshold for the labels to be considered using `thr_transformers`(-1 by default) and a maximum number of labels for each keyword using `n` (1 by default). An example is shown below:"
   ]
  },
  {
   "cell_type": "code",
   "execution_count": 13,
   "id": "8aa0278e-d847-4620-b60f-783609a5295b",
   "metadata": {},
   "outputs": [
    {
     "name": "stdout",
     "output_type": "stream",
     "text": [
      "Keywords:\n",
      " [<Keyword(text='metástasis óseas múltiples', span='[150, 176]', extraction method='textrank', score='0.21697438688437998', categorization method='transformers', class='['ENFERMEDAD']')>, <Keyword(text='iv/4 semanas', span='[220, 232]', extraction method='textrank', score='0.17096491712197776', categorization method='transformers', class='['PROCEDIMIENTO']')>, <Keyword(text='Ácido Zoledrónico', span='[197, 214]', extraction method='textrank', score='0.10749078811981905', categorization method='transformers', class='['FARMACO']')>, <Keyword(text='próstata', span='[123, 131]', extraction method='textrank', score='0.09682836223406643', categorization method='transformers', class='['SINTOMA', 'ENFERMEDAD']')>, <Keyword(text='adenocarcinoma', span='[105, 119]', extraction method='textrank', score='0.08547370793936683', categorization method='transformers', class='['MORFOLOGIA_NEOPLASIA']')>, <Keyword(text='Gleason 4', span='[132, 141]', extraction method='textrank', score='0.07581375157774115', categorization method='transformers', class='['MORFOLOGIA_NEOPLASIA']')>] \n",
      "\n"
     ]
    }
   ],
   "source": [
    "#allowing a multilabel output (up to 2 labels over -2)\n",
    "extractor = TermExtractor(top_n=7, categorization_method=\"transformers\", thr_transformers=-2, n=2)\n",
    "extractor(text)\n",
    "print(\"Keywords:\\n\", extractor.keywords, \"\\n\")"
   ]
  },
  {
   "cell_type": "markdown",
   "id": "6b1c9685-1ae7-4b06-8e4f-dd34102ca9e9",
   "metadata": {},
   "source": [
    "#### Clustering with KMeans\n",
    "The KMeans Clustering model of the Transformers library is selected by setting the parameter `categorization_method` to \"clustering\". The default pretrained model is obtained from \"BSC-NLP4BIA/SapBERT-parents-from-roberta-base-biomedical-clinical-es\" and is later trained on the data that it is provided for prediction (generates the clusters directly from it). Another pretrained model can be specified in the parameter `clustering_model` and later trained on the given data. In both these cases the trained model is stored in a directory specified by the parameter `output_path`, which by default is \"./trained_model\". Additionally, any time a KMeans model is trained, up to 5 mentions of each cluster are printed to showcase the semantical meaning of each cluster.\n",
    "\n",
    "On the other hand, if the user has a completely trained model that they want to use it can be specified in the parameter `categorizer_model_path`, and no later training will be needed, so no example mentions of the clusters will be printed nor will the model be saved. \n",
    "\n",
    "The clustering only assigns one label to each mention, and the number of clusters to perform the clustering has to be specified in the variable `n_clusters`. Some examples are shown below:"
   ]
  },
  {
   "cell_type": "code",
   "execution_count": 14,
   "id": "be43ef84-edce-4b20-8e9a-8fd4994ad145",
   "metadata": {},
   "outputs": [
    {
     "name": "stdout",
     "output_type": "stream",
     "text": [
      "{'Class 0': ['metástasis óseas múltiples', 'próstata', 'adenocarcinoma'], 'Class 1': ['iv/4 semanas', 'Gleason 4'], 'Class 2': ['Ácido Zoledrónico']}\n",
      "Keywords:\n",
      " [<Keyword(text='metástasis óseas múltiples', span='[150, 176]', extraction method='textrank', score='0.21697438688437998', categorization method='clustering', class='0')>, <Keyword(text='iv/4 semanas', span='[220, 232]', extraction method='textrank', score='0.17096491712197776', categorization method='clustering', class='1')>, <Keyword(text='Ácido Zoledrónico', span='[197, 214]', extraction method='textrank', score='0.10749078811981905', categorization method='clustering', class='2')>, <Keyword(text='próstata', span='[123, 131]', extraction method='textrank', score='0.09682836223406643', categorization method='clustering', class='0')>, <Keyword(text='adenocarcinoma', span='[105, 119]', extraction method='textrank', score='0.08547370793936683', categorization method='clustering', class='0')>, <Keyword(text='Gleason 4', span='[132, 141]', extraction method='textrank', score='0.07581375157774115', categorization method='clustering', class='1')>] \n",
      "\n"
     ]
    }
   ],
   "source": [
    "#default parameters (default model trained on the text) and  clusters\n",
    "extractor = TermExtractor(categorization_method=\"clustering\", top_n=7, n_clusters=3)\n",
    "extractor(text)\n",
    "print(\"Keywords:\\n\", extractor.keywords, \"\\n\")"
   ]
  },
  {
   "cell_type": "code",
   "execution_count": 15,
   "id": "310d1fb4-24a4-418b-a206-980bd44f08e8",
   "metadata": {},
   "outputs": [
    {
     "name": "stdout",
     "output_type": "stream",
     "text": [
      "{'Class 0': ['metástasis óseas múltiples', 'adenocarcinoma'], 'Class 1': ['Ácido Zoledrónico', 'próstata', 'Gleason 4'], 'Class 2': ['iv/4 semanas']}\n",
      "Keywords:\n",
      " [<Keyword(text='metástasis óseas múltiples', span='[150, 176]', extraction method='textrank', score='0.21697438688437998', categorization method='clustering', class='0')>, <Keyword(text='iv/4 semanas', span='[220, 232]', extraction method='textrank', score='0.17096491712197776', categorization method='clustering', class='2')>, <Keyword(text='Ácido Zoledrónico', span='[197, 214]', extraction method='textrank', score='0.10749078811981905', categorization method='clustering', class='1')>, <Keyword(text='próstata', span='[123, 131]', extraction method='textrank', score='0.09682836223406643', categorization method='clustering', class='1')>, <Keyword(text='adenocarcinoma', span='[105, 119]', extraction method='textrank', score='0.08547370793936683', categorization method='clustering', class='0')>, <Keyword(text='Gleason 4', span='[132, 141]', extraction method='textrank', score='0.07581375157774115', categorization method='clustering', class='1')>] \n",
      "\n"
     ]
    }
   ],
   "source": [
    "#specified pretrained model trained on the text and 3 clusters\n",
    "extractor = TermExtractor(categorization_method=\"clustering\", top_n=7, categorizer_model_path=\"BSC-NLP4BIA/SapBERT-parents-from-roberta-base-biomedical-clinical-es\", n_clusters=3, output_path=\"./trained_clustering_model\")\n",
    "extractor(text)\n",
    "print(\"Keywords:\\n\", extractor.keywords, \"\\n\")"
   ]
  },
  {
   "cell_type": "code",
   "execution_count": 16,
   "id": "dda96bf7-5f03-4049-a14d-332cc0c5d982",
   "metadata": {},
   "outputs": [
    {
     "name": "stdout",
     "output_type": "stream",
     "text": [
      "Keywords:\n",
      " [<Keyword(text='metástasis óseas múltiples', span='[150, 176]', extraction method='textrank', score='0.21697438688437998', categorization method='clustering', class='0')>, <Keyword(text='iv/4 semanas', span='[220, 232]', extraction method='textrank', score='0.17096491712197776', categorization method='clustering', class='2')>, <Keyword(text='Ácido Zoledrónico', span='[197, 214]', extraction method='textrank', score='0.10749078811981905', categorization method='clustering', class='1')>, <Keyword(text='próstata', span='[123, 131]', extraction method='textrank', score='0.09682836223406643', categorization method='clustering', class='1')>, <Keyword(text='adenocarcinoma', span='[105, 119]', extraction method='textrank', score='0.08547370793936683', categorization method='clustering', class='0')>, <Keyword(text='Gleason 4', span='[132, 141]', extraction method='textrank', score='0.07581375157774115', categorization method='clustering', class='1')>] \n",
      "\n"
     ]
    }
   ],
   "source": [
    "#already trained model (trained in the last cell and stored as ./trained_model) and 3 clusters\n",
    "extractor = TermExtractor(categorization_method=\"clustering\", top_n=7, clustering_model=\"./trained_clustering_model\", n_clusters=3)\n",
    "extractor(text)\n",
    "print(\"Keywords:\\n\", extractor.keywords, \"\\n\")"
   ]
  },
  {
   "cell_type": "markdown",
   "id": "2ff66b2e-941e-4a47-98ce-9f65c7f64fa8",
   "metadata": {},
   "source": [
    "Note that the second to last cell trains a clustering model and stores it in `./trained_clustering_model` and the last cell imports that same model, so their results are the same."
   ]
  },
  {
   "cell_type": "markdown",
   "id": "b157df2a-cba4-480a-a2f7-9babf6d83e1b",
   "metadata": {},
   "source": [
    "#### Training the categorizers\n",
    "Up until now, the shown categorizers (both the classifiers and the clustering model) have used pretrained models. However, there is also the option to train these categorizers with the user's own data to achieve a more personalized result.\n",
    "\n",
    "For that purpose, some sample data is first imported:"
   ]
  },
  {
   "cell_type": "code",
   "execution_count": 17,
   "id": "b0244558-43d5-4057-a65b-b7c9222dff7a",
   "metadata": {},
   "outputs": [],
   "source": [
    "import pandas as pd\n",
    "\n",
    "traindata = pd.read_csv('../data/toy_data/traindata.tsv', sep='\\t') \n",
    "testdata = pd.read_csv('../data/toy_data/testdata.tsv', sep='\\t')\n",
    "trainX = traindata[\"text\"].values.tolist()\n",
    "trainY = traindata[\"label\"].values.tolist()\n",
    "testX = testdata[\"text\"].values.tolist()\n",
    "testY = testdata[\"label\"].values.tolist()"
   ]
  },
  {
   "cell_type": "code",
   "execution_count": 18,
   "id": "c97da5e8-bd8f-4eab-9181-b1193617bc77",
   "metadata": {},
   "outputs": [
    {
     "data": {
      "text/plain": [
       "['parotidectomía',\n",
       " 'ecografía',\n",
       " 'microhemorragias',\n",
       " 'parálisis del nervio motor ocular común izquierdo',\n",
       " 'mucosa bucal derecha se observa una lesión tumoral',\n",
       " 'asintomático',\n",
       " 'estudio de colon por enema opaco',\n",
       " 'retracción palpebral superior de 3 mm en ambos ojos',\n",
       " 'test de sangre oculta en heces',\n",
       " 'imágenes polipoideas parietales menores de 2-3 cm tanto en vejiga como en divertículo',\n",
       " 'cefalea',\n",
       " 'cuadrantanopsia homónima inferior derecha',\n",
       " 'hipertenso',\n",
       " 'toracocentesis evacuadoras',\n",
       " 'PCR de las muestras de colon',\n",
       " 'parotidectomía total',\n",
       " 'ERCA',\n",
       " 'antibiótico',\n",
       " 'palidez de piel y mucosas',\n",
       " 'fibroma traumático',\n",
       " 'pruebas de función renal y hepática',\n",
       " 'estudio cistoscópico']"
      ]
     },
     "execution_count": 18,
     "metadata": {},
     "output_type": "execute_result"
    }
   ],
   "source": [
    "testX"
   ]
  },
  {
   "cell_type": "markdown",
   "id": "21850143-b390-4592-9c71-562502db7970",
   "metadata": {},
   "source": [
    "##### Training the Classifiers\n",
    "Both SetFit and the AutoModelForSequenceClassification can be trained using the same commands. To do so, after the initialisation of the `TermExtractor` class object the `train_classifier` function can be called through dot indexing, which performs the training and evaluation of the model on the given data. This function accepts the following parameters:\n",
    "- `trainX` (list): List of training data (mentions).\n",
    "- `trainY` (list): List of training labels.\n",
    "- `testX` (list): List of test data (mentions).\n",
    "- `testY` (list): List of test labels.\n",
    "- `mcm` (bool): Whether to create a multi-label confusion matrix heatmap. Default value: `False`.\n",
    "- `classification_report` (bool): Whether to display a classification report. Default value: `False`.\n",
    "- `kwargs`: Additional keyword arguments.\n",
    "\n",
    "Of which `trainX`, `trainY`, `testX` and `testY` must be provided. In the case of training a classifier, the trained model will be saved to \"./trained_model\" unless otherwise specified in the paramter `output_path`,  as in this case.\n",
    "\n",
    "Some examples are shown below:"
   ]
  },
  {
   "cell_type": "code",
   "execution_count": 19,
   "id": "f761e1eb-a39a-4f57-baf2-f4295f1087ab",
   "metadata": {},
   "outputs": [
    {
     "name": "stderr",
     "output_type": "stream",
     "text": [
      "Some weights of RobertaForSequenceClassification were not initialized from the model checkpoint at BSC-NLP4BIA/SapBERT-from-roberta-base-biomedical-clinical-es and are newly initialized: ['classifier.out_proj.bias', 'classifier.out_proj.weight', 'classifier.dense.weight', 'classifier.dense.bias']\n",
      "You should probably TRAIN this model on a down-stream task to be able to use it for predictions and inference.\n"
     ]
    },
    {
     "data": {
      "text/html": [
       "\n",
       "    <div>\n",
       "      \n",
       "      <progress value='6' max='6' style='width:300px; height:20px; vertical-align: middle;'></progress>\n",
       "      [6/6 00:11, Epoch 3/3]\n",
       "    </div>\n",
       "    <table border=\"1\" class=\"dataframe\">\n",
       "  <thead>\n",
       " <tr style=\"text-align: left;\">\n",
       "      <th>Step</th>\n",
       "      <th>Training Loss</th>\n",
       "      <th>Validation Loss</th>\n",
       "    </tr>\n",
       "  </thead>\n",
       "  <tbody>\n",
       "  </tbody>\n",
       "</table><p>"
      ],
      "text/plain": [
       "<IPython.core.display.HTML object>"
      ]
     },
     "metadata": {},
     "output_type": "display_data"
    },
    {
     "data": {
      "text/html": [],
      "text/plain": [
       "<IPython.core.display.HTML object>"
      ]
     },
     "metadata": {},
     "output_type": "display_data"
    },
    {
     "name": "stdout",
     "output_type": "stream",
     "text": [
      "{'f1': 0.9090909090909091, 'accuracy': 0.9090909090909091, 'Classes with no given label': {}}\n",
      "None\n",
      "Keywords:\n",
      " [<Keyword(text='metástasis óseas múltiples', span='[150, 176]', extraction method='textrank', score='0.21697438688437998', categorization method='transformers', class='['ENFERMEDAD']')>, <Keyword(text='iv/4 semanas', span='[220, 232]', extraction method='textrank', score='0.17096491712197776', categorization method='transformers', class='['PROCEDIMIENTO']')>, <Keyword(text='Ácido Zoledrónico', span='[197, 214]', extraction method='textrank', score='0.10749078811981905', categorization method='transformers', class='['PROCEDIMIENTO']')>, <Keyword(text='próstata', span='[123, 131]', extraction method='textrank', score='0.09682836223406643', categorization method='transformers', class='['PROCEDIMIENTO']')>, <Keyword(text='adenocarcinoma', span='[105, 119]', extraction method='textrank', score='0.08547370793936683', categorization method='transformers', class='['PROCEDIMIENTO']')>, <Keyword(text='Gleason 4', span='[132, 141]', extraction method='textrank', score='0.07581375157774115', categorization method='transformers', class='['SINTOMA']')>] \n",
      "\n"
     ]
    }
   ],
   "source": [
    "#training transformers classifier with default parameters and no mcm or classification_report\n",
    "extractor = TermExtractor(extraction_methods=[\"textrank\"], top_n=7, categorization_method=\"transformers\", output_path=\"./trained_transformers_model\")\n",
    "extractor.train_classifier(trainX,trainY,testX,testY)\n",
    "extractor(text)\n",
    "print(\"Keywords:\\n\", extractor.keywords, \"\\n\")"
   ]
  },
  {
   "cell_type": "code",
   "execution_count": 20,
   "id": "e9738202-43c5-4f16-9fee-2cf0ec5d5da7",
   "metadata": {},
   "outputs": [
    {
     "name": "stderr",
     "output_type": "stream",
     "text": [
      "No sentence-transformers model found with name /home/sergi/.cache/torch/sentence_transformers/BSC-NLP4BIA_SapBERT-from-roberta-base-biomedical-clinical-es. Creating a new one with MEAN pooling.\n",
      "model_head.pkl not found on HuggingFace Hub, initialising classification head with random weights. You should TRAIN this model on a downstream task to use it for predictions and inference.\n"
     ]
    },
    {
     "data": {
      "application/vnd.jupyter.widget-view+json": {
       "model_id": "da5f3cb7d0c84561b3b409f1e578b718",
       "version_major": 2,
       "version_minor": 0
      },
      "text/plain": [
       "Generating Training Pairs:   0%|          | 0/5 [00:00<?, ?it/s]"
      ]
     },
     "metadata": {},
     "output_type": "display_data"
    },
    {
     "name": "stderr",
     "output_type": "stream",
     "text": [
      "***** Running training *****\n",
      "  Num examples = 420\n",
      "  Num epochs = 1\n",
      "  Total optimization steps = 27\n",
      "  Total train batch size = 16\n"
     ]
    },
    {
     "data": {
      "application/vnd.jupyter.widget-view+json": {
       "model_id": "b59c3508b70e475b9e238e632adb74f6",
       "version_major": 2,
       "version_minor": 0
      },
      "text/plain": [
       "Epoch:   0%|          | 0/1 [00:00<?, ?it/s]"
      ]
     },
     "metadata": {},
     "output_type": "display_data"
    },
    {
     "data": {
      "application/vnd.jupyter.widget-view+json": {
       "model_id": "d02756bea25844dc8c410e5ad2f6c7b5",
       "version_major": 2,
       "version_minor": 0
      },
      "text/plain": [
       "Iteration:   0%|          | 0/27 [00:00<?, ?it/s]"
      ]
     },
     "metadata": {},
     "output_type": "display_data"
    },
    {
     "name": "stderr",
     "output_type": "stream",
     "text": [
      "***** Running evaluation *****\n",
      "/home/sergi/.local/lib/python3.10/site-packages/sklearn/metrics/_classification.py:1344: UndefinedMetricWarning: Precision and F-score are ill-defined and being set to 0.0 in samples with no predicted labels. Use `zero_division` parameter to control this behavior.\n",
      "  _warn_prf(average, modifier, msg_start, len(result))\n"
     ]
    },
    {
     "name": "stdout",
     "output_type": "stream",
     "text": [
      "               precision    recall  f1-score   support\n",
      "\n",
      "   ENFERMEDAD       0.67      0.40      0.50         5\n",
      "PROCEDIMIENTO       1.00      1.00      1.00        10\n",
      "      SINTOMA       0.86      0.86      0.86         7\n",
      "\n",
      "    micro avg       0.90      0.82      0.86        22\n",
      "    macro avg       0.84      0.75      0.79        22\n",
      " weighted avg       0.88      0.82      0.84        22\n",
      "  samples avg       0.80      0.82      0.80        22\n",
      "\n"
     ]
    },
    {
     "data": {
      "image/png": "[encoded data removed]",
      "text/plain": [
       "<Figure size 1000x700 with 2 Axes>"
      ]
     },
     "metadata": {},
     "output_type": "display_data"
    },
    {
     "name": "stdout",
     "output_type": "stream",
     "text": [
      "{'f1': 0.8571428571428572, 'accuracy': 0.7727272727272727, 'Classes with no given label': {'ENFERMEDAD': 2, 'SINTOMA': 1}}\n",
      "Keywords:\n",
      " [<Keyword(text='metástasis óseas múltiples', span='[150, 176]', extraction method='textrank', score='0.21697438688437998', categorization method='setfit', class='['ENFERMEDAD']')>, <Keyword(text='iv/4 semanas', span='[220, 232]', extraction method='textrank', score='0.17096491712197776', categorization method='setfit', class='['PROCEDIMIENTO']')>, <Keyword(text='Ácido Zoledrónico', span='[197, 214]', extraction method='textrank', score='0.10749078811981905', categorization method='setfit', class='[]')>, <Keyword(text='próstata', span='[123, 131]', extraction method='textrank', score='0.09682836223406643', categorization method='setfit', class='[]')>, <Keyword(text='adenocarcinoma', span='[105, 119]', extraction method='textrank', score='0.08547370793936683', categorization method='setfit', class='['ENFERMEDAD']')>, <Keyword(text='Gleason 4', span='[132, 141]', extraction method='textrank', score='0.07581375157774115', categorization method='setfit', class='['SINTOMA']')>] \n",
      "\n"
     ]
    }
   ],
   "source": [
    "#training setfit classifier printing mcm and classification_report during evaluation\n",
    "extractor = TermExtractor(extraction_methods=[\"textrank\"], top_n=7, categorization_method=\"setfit\", output_path=\"./trained_setfit_model\")\n",
    "extractor.train_classifier(trainX,trainY,testX,testY, mcm=True, classification_report=True)\n",
    "extractor(text)\n",
    "print(\"Keywords:\\n\", extractor.keywords, \"\\n\")"
   ]
  },
  {
   "cell_type": "markdown",
   "id": "88fee5d4-830a-4464-bb95-376cc612f1e3",
   "metadata": {},
   "source": [
    "If your Kernel dies while executing this cell, please restart your Kernel, run the importation of TermExtractor and then directly run this cell."
   ]
  },
  {
   "cell_type": "markdown",
   "id": "7370f06d-5eae-4a05-8817-21b45a1e46f7",
   "metadata": {},
   "source": [
    "##### Training the Clustering model\n",
    "As explained before, the clustering model is automatically trained with the data intended for prediction. However, the clustering model can also be trained with another set of data by calling the `train_clustering` function, which can be accessed by dot indexing after the initialization of the `TermExtractor` object. This function accepts the following parameters:\n",
    "- `trainX` (list): List of training data (mentions).\n",
    "- `kwargs`: Additional keyword arguments.\n",
    "\n",
    "Of which `trainX` must always be provided. In this case the trained model will also be saved to \"./trained_model\" (or the specified `output_path`) and up to 5 mentions of each clusters will be printed as examples.\n",
    "\n",
    "An example is shown below:"
   ]
  },
  {
   "cell_type": "code",
   "execution_count": 21,
   "id": "604ac0a5-b4bf-4313-afdc-75a6a480402c",
   "metadata": {},
   "outputs": [
    {
     "name": "stdout",
     "output_type": "stream",
     "text": [
      "{'Class 0': ['retinotoxicidad por vigabatrina', 'Doppler de arterias renales y el ecocardiograma no mostraron alteraciones', 'engrosamiento de la unión esófago-gástrica', 'miopización e hipertensión ocular por cierre angular agudo secundarios al tratamiento con topiramato', 'estenosis parcial de la luz esofágica,'], 'Class 1': ['metástasis ganglionares retroperitoneales', 'MAVD', 'ferritina y saturación de transferan normales', 'ganglios linfáticos, siendo los 25 negativos para células tumorales', 'sangrado'], 'Class 2': ['RM craneal', 'exploración física', 'biopsia de médula ósea', 'ecografía parotídea', 'broncoscopia rígida']}\n",
      "Keywords:\n",
      " [<Keyword(text='metástasis óseas múltiples', span='[150, 176]', extraction method='textrank', score='0.21697438688437998', categorization method='clustering', class='1')>, <Keyword(text='iv/4 semanas', span='[220, 232]', extraction method='textrank', score='0.17096491712197776', categorization method='clustering', class='1')>, <Keyword(text='Ácido Zoledrónico', span='[197, 214]', extraction method='textrank', score='0.10749078811981905', categorization method='clustering', class='0')>, <Keyword(text='próstata', span='[123, 131]', extraction method='textrank', score='0.09682836223406643', categorization method='clustering', class='1')>, <Keyword(text='adenocarcinoma', span='[105, 119]', extraction method='textrank', score='0.08547370793936683', categorization method='clustering', class='1')>, <Keyword(text='Gleason 4', span='[132, 141]', extraction method='textrank', score='0.07581375157774115', categorization method='clustering', class='1')>] \n",
      "\n"
     ]
    }
   ],
   "source": [
    "#training clustering with default parameters and 4 clusters\n",
    "extractor = TermExtractor(extraction_methods=[\"textrank\"], top_n=7, categorization_method=\"clustering\", n_clusters=3, output_path='./trained_clustering_model2')\n",
    "extractor.train_clustering(trainX)\n",
    "extractor(text)\n",
    "print(\"Keywords:\\n\", extractor.keywords, \"\\n\")"
   ]
  }
 ],
 "metadata": {
  "kernelspec": {
   "display_name": "Python 3 (ipykernel)",
   "language": "python",
   "name": "python3"
  },
  "language_info": {
   "codemirror_mode": {
    "name": "ipython",
    "version": 3
   },
   "file_extension": ".py",
   "mimetype": "text/x-python",
   "name": "python",
   "nbconvert_exporter": "python",
   "pygments_lexer": "ipython3",
   "version": "3.10.12"
  }
 },
 "nbformat": 4,
 "nbformat_minor": 5
}
