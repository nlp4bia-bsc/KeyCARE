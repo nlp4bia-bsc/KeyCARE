{
 "cells": [
  {
   "cell_type": "markdown",
   "id": "800830d1-5134-427f-9f9c-751ff0bd6d7c",
   "metadata": {},
   "source": [
    "# Tutorial for TermExtractor\n",
    "This tutorial describes the main steps and options for the usage of TermExtractor as part of the BioTermCategorizer library."
   ]
  },
  {
   "cell_type": "markdown",
   "id": "52f84a42-3a89-46c5-9e89-3422c434263d",
   "metadata": {},
   "source": [
    "### Importing the library\n",
    "In order to import the library and all its functions, the following code should be executed"
   ]
  },
  {
   "cell_type": "code",
   "execution_count": 1,
   "id": "80854963-a8c3-41e7-9dfa-23de8d6d9641",
   "metadata": {},
   "outputs": [
    {
     "data": {
      "text/plain": [
       "'/mnt/c/Users/Sergi/Documents/BioTermCategorizer/'"
      ]
     },
     "execution_count": 1,
     "metadata": {},
     "output_type": "execute_result"
    }
   ],
   "source": [
    "import sys, os, re\n",
    "\n",
    "#set the path to the library\n",
    "general_path = os.getcwd().split(\"BioTermCategorizer\")[0]+\"BioTermCategorizer/\"\n",
    "sys.path.append(general_path+'biotermcategorizer/')\n",
    "general_path"
   ]
  },
  {
   "cell_type": "markdown",
   "id": "65b6b244-1721-4e3d-8711-1a0893cb2b54",
   "metadata": {},
   "source": [
    "Additionally, the main class `TermExtractor` must be imported"
   ]
  },
  {
   "cell_type": "code",
   "execution_count": 2,
   "id": "e7edaa02-0c3e-46b3-9ecc-28b7d9075190",
   "metadata": {},
   "outputs": [
    {
     "name": "stderr",
     "output_type": "stream",
     "text": [
      "[nltk_data] Downloading package stopwords to /home/sergi/nltk_data...\n",
      "[nltk_data]   Package stopwords is already up-to-date!\n",
      "[nltk_data] Downloading package punkt to /home/sergi/nltk_data...\n",
      "[nltk_data]   Package punkt is already up-to-date!\n",
      "[nltk_data] Downloading package stopwords to /home/sergi/nltk_data...\n",
      "[nltk_data]   Package stopwords is already up-to-date!\n",
      "/mnt/c/Users/Sergi/Documents/BioTermCategorizer/.env_biotermcategorizer/lib/python3.10/site-packages/tqdm/auto.py:21: TqdmWarning: IProgress not found. Please update jupyter and ipywidgets. See https://ipywidgets.readthedocs.io/en/stable/user_install.html\n",
      "  from .autonotebook import tqdm as notebook_tqdm\n",
      "[nltk_data] Downloading package stopwords to /home/sergi/nltk_data...\n",
      "[nltk_data]   Package stopwords is already up-to-date!\n"
     ]
    }
   ],
   "source": [
    "from TermExtractor import TermExtractor"
   ]
  },
  {
   "cell_type": "markdown",
   "id": "ba8bf9d6-3922-4592-bbb7-0faa742260cc",
   "metadata": {},
   "source": [
    "### Using TermExtractor's basic functions\n",
    "#### The TermExtractor object\n",
    "A first instance of the class `TermExtractor` must be assigned to a variable, as shown below. The parameters that can be introduced are:\n",
    "- `extraction_methods` (list): List of keyword extraction methods. Use a list even if only one extraction method is provided. Default value: `[\"textrank\"]`.\n",
    "- `categorization_method` (str): Method for text categorization. Default value: `\"setfit\"`.\n",
    "- `language` (str): Language for text processing. Only implemented in Spanish. Default value: `\"spanish\"`.\n",
    "- `max_tokens` (int): Maximum number of tokens for keyword extraction. Default value: `3`.\n",
    "- `pos` (bool): Whether to use Part of Speech sequences in KeyBert. Default value: `False`.\n",
    "- `pos_pattern` (str): The Part of Speech regex pattern. Default value: `\"<NOUN.*>*<ADP.*>*<NOUN.*>*<ADJ.*>*|<PROPN.*>+|<VERB.*>+\"`.\n",
    "- `join` (bool): Whether to join keywords from different methods and remove overlaps among them. When `join=True`, only a list of keywords is provided for all the selected extraction methods, as opposed to when `join=False`. Default value: `False`.\n",
    "- `postprocess` (bool): Whether to postprocess the extracted terms to remove and modify the ones with little meaning. Default value: `True`.\n",
    "- `n` (int): Maximum number of labels for a single sample. Default value: `1`.\n",
    "- `thr_setfit` (float): Threshold for SetFit classification. Default value: `0.5`.\n",
    "- `thr_transformers` (float): Threshold for Transformers classification. Default value: `-1`.\n",
    "- `n_clusters` (int): Number of clusters for clustering. It is required when `categorization_method=\"clustering\"`. Default value: `None`.\n",
    "- `categorizer_model_path` (str): Path to the categorizer model. Default value: `None`.\n",
    "- `output_path` (str): Path to save the trained model. Default value: `\"./trained_model\"`.\n",
    "- `clustering_model` (str): Clustering model for keyword clustering. Default value: `\"cambridgeltl/SapBERT-from-PubMedBERT-fulltext\"`.\n",
    "- `classifier_model` (str): Classifier model for classification. Default value: `\"/mnt/c/Users/Sergi/Desktop/BSC/spanish_sapbert_models/sapbert_15_noparents_1epoch\"`.\n",
    "- `**kwargs` (dict): Additional keyword arguments. Default value: `None`.\n",
    "\n",
    "An instance of the object TermExtractor with the default parameters is shown below:"
   ]
  },
  {
   "cell_type": "code",
   "execution_count": 3,
   "id": "54044095-ecca-4a13-b1a5-86ee27b45f68",
   "metadata": {},
   "outputs": [
    {
     "name": "stderr",
     "output_type": "stream",
     "text": [
      "/mnt/c/Users/Sergi/Documents/BioTermCategorizer/.env_biotermcategorizer/lib/python3.10/site-packages/sklearn/base.py:347: InconsistentVersionWarning: Trying to unpickle estimator LogisticRegression from version 1.2.2 when using version 1.3.0. This might lead to breaking code or invalid results. Use at your own risk. For more info please refer to:\n",
      "https://scikit-learn.org/stable/model_persistence.html#security-maintainability-limitations\n",
      "  warnings.warn(\n",
      "/mnt/c/Users/Sergi/Documents/BioTermCategorizer/.env_biotermcategorizer/lib/python3.10/site-packages/sklearn/base.py:347: InconsistentVersionWarning: Trying to unpickle estimator MultiOutputClassifier from version 1.2.2 when using version 1.3.0. This might lead to breaking code or invalid results. Use at your own risk. For more info please refer to:\n",
      "https://scikit-learn.org/stable/model_persistence.html#security-maintainability-limitations\n",
      "  warnings.warn(\n"
     ]
    }
   ],
   "source": [
    "extractor = TermExtractor()"
   ]
  },
  {
   "cell_type": "markdown",
   "id": "b4617684-6c26-4b2f-9f6b-727226d5fc90",
   "metadata": {},
   "source": [
    "Once the first instance of the extractor is created, some attributes of the `TermExtractor` object can already be presented. The following attributes can be extracted from the `TermExtractor` object through dot indexing:\n",
    "- `extraction_methods` (list): List of the selected extraction methods.\n",
    "- `extractors` (dict): Dictionary of the Extractor() class type objects to be used.\n",
    "- `categorization_method` (str): Selected categorization method.\n",
    "- `categorizer`: Instance of the SetFitClassifier, TransformersClassifier or Clustering class object.\n",
    "- `join`(bool): Provided value for join as a parameter.\n",
    "- `postprocess` (bool): Provided value for postprocess as a parameter.\n",
    "- `kwargs` (dict): Dictionary of introduced extra parameters.\n",
    "- `keywords`(list): List of Keyword() class objects including the extracted keywords. Since the extraction of the keywords has not yet been called, the attributes is `None`."
   ]
  },
  {
   "cell_type": "code",
   "execution_count": 4,
   "id": "e816ed8b-cb97-44b3-a145-80afe8a07f5b",
   "metadata": {},
   "outputs": [
    {
     "name": "stdout",
     "output_type": "stream",
     "text": [
      "The default settings use the extractor ['textrank'] and the categorizer setfit\n",
      "The selected extractors are {'textrank': <extractors.TextRankExtractor.TextRankExtractor object at 0x7fc7dd9049a0>}\n",
      "The selected categorizer is <categorizers.SetFitClassifier.SetFitClassifier object at 0x7fc8c80fffa0>\n",
      "The parameter join is False and the parameter postprocess is True\n",
      "The following extra parameters have been introduced: {}\n",
      "At this moment the extracted keywords are None\n"
     ]
    }
   ],
   "source": [
    "#attributes with the default settings\n",
    "print(\"The default settings use the extractor\", str(extractor.extraction_methods), \"and the categorizer\", str(extractor.categorization_method))\n",
    "print(\"The selected extractors are\", str(extractor.extractors))\n",
    "print(\"The selected categorizer is\", str(extractor.categorizer))\n",
    "print(\"The parameter join is\", str(extractor.join), \"and the parameter postprocess is\", str(extractor.postprocess))\n",
    "print(\"The following extra parameters have been introduced:\", str(extractor.kwargs))\n",
    "print(\"At this moment the extracted keywords are\", str(extractor.keywords))"
   ]
  },
  {
   "cell_type": "markdown",
   "id": "72a9867b-c190-49e5-8c2a-4e66c988d165",
   "metadata": {},
   "source": [
    "When the `TermExtractor` object is called on a string of text, it automatically extracts the keywords and classifies the according to the designated parameters. These keywords are stored in the attribute `TermExtractor.keywords`, which is a list of `Keyword` class objects."
   ]
  },
  {
   "cell_type": "code",
   "execution_count": 5,
   "id": "449e014a-39cf-4864-ba41-4c1939eedb72",
   "metadata": {},
   "outputs": [],
   "source": [
    "text = \"[...] Se solicitó TAC orbitario objetivándose aumento de tamaño del hueso esfenoides con patrón permeativo e hiperostosis de cara orbitaria [...] Biopsia de próstata transrrectal: adenocarcinoma prostático Gleason 4+4=8 que afecta extensamente a ambos lóbulos.\"\n",
    "extractor(text)"
   ]
  },
  {
   "cell_type": "markdown",
   "id": "c63be7be-e3b7-451f-8da1-2e071fdcc103",
   "metadata": {},
   "source": [
    "#### The Keyword class\n",
    "The objects of type `Keyword` also have different attributes that can be called through dot indexing:\n",
    "- `text` (str): The extracted keyword text.\n",
    "- `extraction_method` (str): The extraction method used to find the keyword.\n",
    "- `score` (float): The relevance score of the keyword. This score varies in range depending on the used method.\n",
    "- `span` (list): List of two ints as [ini, fin] containing the starting and ending indexs of the keyword in the input text.\n",
    "- `categorization_method` (str): The categorization method used to categorize the keyword.\n",
    "- `label` (list): Label or labels assigned to the keyword.\n",
    "\n",
    "The user can either access these attributes of each keyword individually or print the keyword directly, which returns all the attributes in a structured manner."
   ]
  },
  {
   "cell_type": "code",
   "execution_count": 19,
   "id": "f8f120ff-3d6f-40af-8b2c-8493a5961c5b",
   "metadata": {},
   "outputs": [
    {
     "name": "stdout",
     "output_type": "stream",
     "text": [
      "Printing the keywords directly:\n",
      " [<Keyword(text='patrón permeativo', span='[89, 105]', extraction method='textrank', score='0.14330738384796365', categorization method='setfit', class='['SINTOMA']')>, <Keyword(text='hueso esfenoides', span='[68, 83]', extraction method='textrank', score='0.133069733141935', categorization method='setfit', class='['ENFERMEDAD']')>, <Keyword(text='cara', span='[125, 128]', extraction method='textrank', score='0.11500542137973947', categorization method='setfit', class='[]')>, <Keyword(text='hiperostosis', span='[109, 120]', extraction method='textrank', score='0.11224054915569068', categorization method='setfit', class='['ENFERMEDAD']')>, <Keyword(text='próstata transrrectal', span='[157, 177]', extraction method='textrank', score='0.1019655834216719', categorization method='setfit', class='['PROCEDIMIENTO']')>, <Keyword(text='tamaño', span='[57, 62]', extraction method='textrank', score='0.09254697360809935', categorization method='setfit', class='['NO_CATEGORY']')>, <Keyword(text='TAC orbitario', span='[18, 30]', extraction method='textrank', score='0.09000887138639452', categorization method='setfit', class='['PROCEDIMIENTO']')>, <Keyword(text='aumento', span='[46, 52]', extraction method='textrank', score='0.08692114268225452', categorization method='setfit', class='['SINTOMA']')>, <Keyword(text='Gleason 4', span='[206, 214]', extraction method='textrank', score='0.07057088300650986', categorization method='setfit', class='['MORFOLOGIA_NEOPLASIA']')>, <Keyword(text='ambos lóbulos', span='[246, 258]', extraction method='textrank', score='0.06895010182737314', categorization method='setfit', class='['ENFERMEDAD']')>, <Keyword(text='adenocarcinoma prostático', span='[180, 204]', extraction method='textrank', score='0.06348272869294272', categorization method='setfit', class='['ENFERMEDAD']')>, <Keyword(text='Biopsia', span='[146, 152]', extraction method='textrank', score='0.06317971624653136', categorization method='setfit', class='['PROCEDIMIENTO']')>]\n",
      "\n",
      "Printing the keywords individually:\n",
      " [('patrón permeativo', 'textrank', [89, 105], 0.14330738384796365, 'setfit', ['SINTOMA']), ('hueso esfenoides', 'textrank', [68, 83], 0.133069733141935, 'setfit', ['ENFERMEDAD']), ('cara', 'textrank', [125, 128], 0.11500542137973947, 'setfit', []), ('hiperostosis', 'textrank', [109, 120], 0.11224054915569068, 'setfit', ['ENFERMEDAD']), ('próstata transrrectal', 'textrank', [157, 177], 0.1019655834216719, 'setfit', ['PROCEDIMIENTO']), ('tamaño', 'textrank', [57, 62], 0.09254697360809935, 'setfit', ['NO_CATEGORY']), ('TAC orbitario', 'textrank', [18, 30], 0.09000887138639452, 'setfit', ['PROCEDIMIENTO']), ('aumento', 'textrank', [46, 52], 0.08692114268225452, 'setfit', ['SINTOMA']), ('Gleason 4', 'textrank', [206, 214], 0.07057088300650986, 'setfit', ['MORFOLOGIA_NEOPLASIA']), ('ambos lóbulos', 'textrank', [246, 258], 0.06895010182737314, 'setfit', ['ENFERMEDAD']), ('adenocarcinoma prostático', 'textrank', [180, 204], 0.06348272869294272, 'setfit', ['ENFERMEDAD']), ('Biopsia', 'textrank', [146, 152], 0.06317971624653136, 'setfit', ['PROCEDIMIENTO'])]\n"
     ]
    }
   ],
   "source": [
    "#printing the words directly\n",
    "print(\"Printing the keywords directly:\\n\", extractor.keywords)\n",
    "\n",
    "#printing attributes individually\n",
    "words = [(kw.text,kw.extraction_method,kw.span,kw.score,kw.categorization_method,kw.label) for kw in extractor.keywords]\n",
    "print(\"\\nPrinting the keywords individually:\\n\", words)"
   ]
  },
  {
   "cell_type": "markdown",
   "id": "4c1a0771-c62e-46a0-adaf-be7b41d72777",
   "metadata": {},
   "source": [
    "### Use of different extractors\n",
    "The keyword extraction implemented in `TermExtractor` is performed in an unsupervised manner. The four extraction algorithms are RAKE, YAKE!, TextRank and KeyBERT; and they can be used individually or together. In addition to that, the parameters `max_tokens`, `join` and `postprocess` can be modified.\n",
    "\n",
    "Some examples showing these options are shown below:"
   ]
  },
  {
   "cell_type": "code",
   "execution_count": 20,
   "id": "95323d21-bc42-4244-99d1-beed24fef75d",
   "metadata": {},
   "outputs": [
    {
     "name": "stderr",
     "output_type": "stream",
     "text": [
      "/mnt/c/Users/Sergi/Documents/BioTermCategorizer/.env_biotermcategorizer/lib/python3.10/site-packages/sklearn/base.py:347: InconsistentVersionWarning: Trying to unpickle estimator LogisticRegression from version 1.2.2 when using version 1.3.0. This might lead to breaking code or invalid results. Use at your own risk. For more info please refer to:\n",
      "https://scikit-learn.org/stable/model_persistence.html#security-maintainability-limitations\n",
      "  warnings.warn(\n",
      "/mnt/c/Users/Sergi/Documents/BioTermCategorizer/.env_biotermcategorizer/lib/python3.10/site-packages/sklearn/base.py:347: InconsistentVersionWarning: Trying to unpickle estimator MultiOutputClassifier from version 1.2.2 when using version 1.3.0. This might lead to breaking code or invalid results. Use at your own risk. For more info please refer to:\n",
      "https://scikit-learn.org/stable/model_persistence.html#security-maintainability-limitations\n",
      "  warnings.warn(\n",
      "No sentence-transformers model found with name /mnt/c/Users/Sergi/Desktop/BSC/spanish_sapbert_models/sapbert_15_parents_1epoch. Creating a new one with MEAN pooling.\n"
     ]
    }
   ],
   "source": [
    "#extractor using Rake as extraction method and a maximum of 5 tokens and postprocessing\n",
    "extractor1 = TermExtractor(extraction_methods=[\"rake\"], max_tokens=5)\n",
    "\n",
    "#extractor using 3 extraction methods with join=True and no postprocessing\n",
    "extractor2 = TermExtractor(extraction_methods=[\"rake\",\"yake\"], join=True, postprocess=False)\n",
    "\n",
    "#extractor using 3 extraction methods with join=True and postprocessing\n",
    "extractor3 = TermExtractor(extraction_methods=[\"rake\",\"keybert\",\"textrank\"], join=True)"
   ]
  },
  {
   "cell_type": "markdown",
   "id": "4862d5d0-3b3f-4d8d-ab1a-9cacae410b11",
   "metadata": {},
   "source": [
    "The keywords extracted by each of these extractors are shown below:"
   ]
  },
  {
   "cell_type": "code",
   "execution_count": 21,
   "id": "91d0c477-33b1-439f-8850-6e655209d325",
   "metadata": {},
   "outputs": [
    {
     "name": "stdout",
     "output_type": "stream",
     "text": [
      "Using extractor1:\n",
      " [<Keyword(text='solicitó tac orbitario objetivándose aumento', span='[9, 52]', extraction method='rake', score='25.0', categorization method='setfit', class='['SINTOMA']')>, <Keyword(text='adenocarcinoma prostático gleason 4', span='[180, 214]', extraction method='rake', score='14.5', categorization method='setfit', class='['MORFOLOGIA_NEOPLASIA']')>, <Keyword(text='próstata transrrectal', span='[157, 177]', extraction method='rake', score='4.0', categorization method='setfit', class='['PROCEDIMIENTO']')>, <Keyword(text='patrón permeativo', span='[89, 105]', extraction method='rake', score='4.0', categorization method='setfit', class='['SINTOMA']')>, <Keyword(text='hueso esfenoides', span='[68, 83]', extraction method='rake', score='4.0', categorization method='setfit', class='['ENFERMEDAD']')>, <Keyword(text='ambos lóbulos', span='[246, 258]', extraction method='rake', score='4.0', categorization method='setfit', class='['ENFERMEDAD']')>, <Keyword(text='afecta extensamente', span='[224, 242]', extraction method='rake', score='4.0', categorization method='setfit', class='['NO_CATEGORY']')>, <Keyword(text='tamaño', span='[57, 62]', extraction method='rake', score='1.0', categorization method='setfit', class='['NO_CATEGORY']')>, <Keyword(text='hiperostosis', span='[109, 120]', extraction method='rake', score='1.0', categorization method='setfit', class='['ENFERMEDAD']')>] \n",
      "\n",
      "Using extractor2:\n",
      " [<Keyword(text='próstata transrrectal', span='[157, 177]', extraction method='rake', score='4.0', categorization method='setfit', class='['PROCEDIMIENTO']')>, <Keyword(text='ambos lóbulos', span='[246, 258]', extraction method='rake', score='4.0', categorization method='setfit', class='['ENFERMEDAD']')>, <Keyword(text='afecta extensamente', span='[224, 242]', extraction method='rake', score='4.0', categorization method='setfit', class='['NO_CATEGORY']')>, <Keyword(text='4', span='[214, 214]', extraction method='rake', score='2.5', categorization method='setfit', class='['NO_CATEGORY']')>, <Keyword(text='4', span='[216, 216]', extraction method='rake', score='2.5', categorization method='setfit', class='['NO_CATEGORY']')>, <Keyword(text='hiperostosis', span='[109, 120]', extraction method='rake', score='1.0', categorization method='setfit', class='['ENFERMEDAD']')>, <Keyword(text='8', span='[218, 218]', extraction method='rake', score='1.0', categorization method='setfit', class='['NO_CATEGORY']')>, <Keyword(text='solicitó TAC orbitario', span='[9, 30]', extraction method='yake', score='0.052582362980105456', categorization method='setfit', class='['PROCEDIMIENTO']')>, <Keyword(text='TAC orbitario objetivándose', span='[18, 44]', extraction method='yake', score='0.052582362980105456', categorization method='setfit', class='['PROCEDIMIENTO']')>, <Keyword(text='adenocarcinoma prostático Gleason', span='[180, 212]', extraction method='yake', score='0.06780987341081551', categorization method='setfit', class='['MORFOLOGIA_NEOPLASIA']')>, <Keyword(text='orbitario objetivándose aumento', span='[22, 52]', extraction method='yake', score='0.10360454189614123', categorization method='setfit', class='['SINTOMA']')>, <Keyword(text='tamaño del hueso', span='[57, 72]', extraction method='yake', score='0.10360454189614123', categorization method='setfit', class='['SINTOMA']')>, <Keyword(text='del hueso esfenoides', span='[64, 83]', extraction method='yake', score='0.10360454189614123', categorization method='setfit', class='['ENFERMEDAD']')>, <Keyword(text='hueso esfenoides con', span='[68, 87]', extraction method='yake', score='0.10360454189614123', categorization method='setfit', class='['ENFERMEDAD']')>, <Keyword(text='esfenoides con patrón', span='[74, 94]', extraction method='yake', score='0.10360454189614123', categorization method='setfit', class='['ENFERMEDAD']')>, <Keyword(text='con patrón permeativo', span='[85, 105]', extraction method='yake', score='0.10360454189614123', categorization method='setfit', class='[]')>, <Keyword(text='cara orbitaria', span='[125, 138]', extraction method='yake', score='0.14005713113751553', categorization method='setfit', class='['ENFERMEDAD']')>, <Keyword(text='aumento de tamaño', span='[46, 62]', extraction method='yake', score='0.19613242932716538', categorization method='setfit', class='['SINTOMA']')>] \n",
      "\n",
      "Using extractor3:\n",
      " [<Keyword(text='próstata transrrectal', span='[157, 177]', extraction method='rake', score='4.0', categorization method='setfit', class='['PROCEDIMIENTO']')>, <Keyword(text='patrón permeativo', span='[89, 105]', extraction method='rake', score='4.0', categorization method='setfit', class='['SINTOMA']')>, <Keyword(text='hueso esfenoides', span='[68, 83]', extraction method='rake', score='4.0', categorization method='setfit', class='['ENFERMEDAD']')>, <Keyword(text='ambos lóbulos', span='[246, 258]', extraction method='rake', score='4.0', categorization method='setfit', class='['ENFERMEDAD']')>, <Keyword(text='afecta extensamente', span='[224, 242]', extraction method='rake', score='4.0', categorization method='setfit', class='['NO_CATEGORY']')>, <Keyword(text='tamaño', span='[57, 62]', extraction method='rake', score='1.0', categorization method='setfit', class='['NO_CATEGORY']')>, <Keyword(text='cara', span='[125, 128]', extraction method='textrank', score='0.11500542137973947', categorization method='setfit', class='[]')>, <Keyword(text='aumento', span='[46, 52]', extraction method='textrank', score='0.08692114268225452', categorization method='setfit', class='['SINTOMA']')>, <Keyword(text='Gleason 4', span='[206, 214]', extraction method='textrank', score='0.07057088300650986', categorization method='setfit', class='['MORFOLOGIA_NEOPLASIA']')>, <Keyword(text='tac orbitario objetivándose', span='[18, 44]', extraction method='keybert', score='0.6789', categorization method='setfit', class='['PROCEDIMIENTO']')>, <Keyword(text='adenocarcinoma prostático gleason', span='[180, 212]', extraction method='keybert', score='0.5267', categorization method='setfit', class='['MORFOLOGIA_NEOPLASIA']')>, <Keyword(text='hiperostosis', span='[109, 120]', extraction method='keybert', score='0.4721', categorization method='setfit', class='['ENFERMEDAD']')>, <Keyword(text='biopsia', span='[146, 152]', extraction method='keybert', score='0.4272', categorization method='setfit', class='['PROCEDIMIENTO']')>, <Keyword(text='solicitó', span='[9, 16]', extraction method='keybert', score='0.382', categorization method='setfit', class='['NO_CATEGORY']')>] \n",
      "\n"
     ]
    }
   ],
   "source": [
    "#with Rake and 5 tokens at most and postprocessing\n",
    "extractor1(text)\n",
    "print(\"Using extractor1:\\n\", extractor1.keywords, \"\\n\")\n",
    "\n",
    "#extractor using 3 extraction methods with join=True and no postprocessing\n",
    "extractor2(text)\n",
    "print(\"Using extractor2:\\n\", extractor2.keywords, \"\\n\")\n",
    "\n",
    "#extractor using 3 extraction methods with join=True and postprocessing\n",
    "extractor3(text)\n",
    "print(\"Using extractor3:\\n\", extractor3.keywords, \"\\n\")"
   ]
  },
  {
   "cell_type": "markdown",
   "id": "0edc94f5-9185-4caa-af12-39a2da82cb79",
   "metadata": {},
   "source": [
    "#### Extraction based on Part of Speech tags with KeyBERT\n",
    "In addition to extracting keywords based on a maximum number of tokens, these can also be extracted using specific Part of Speech (PoS) patterns using the KeyBERT extractor. An example is shown below:"
   ]
  },
  {
   "cell_type": "code",
   "execution_count": 5,
   "id": "ba1b8c66-478a-4f16-8634-78ce4e6440b2",
   "metadata": {},
   "outputs": [
    {
     "name": "stderr",
     "output_type": "stream",
     "text": [
      "No sentence-transformers model found with name /mnt/c/Users/Sergi/Desktop/BSC/spanish_sapbert_models/sapbert_15_parents_1epoch. Creating a new one with MEAN pooling.\n",
      "/mnt/c/Users/Sergi/Documents/BioTermCategorizer/.env_biotermcategorizer/lib/python3.10/site-packages/sklearn/base.py:347: InconsistentVersionWarning: Trying to unpickle estimator LogisticRegression from version 1.2.2 when using version 1.3.0. This might lead to breaking code or invalid results. Use at your own risk. For more info please refer to:\n",
      "https://scikit-learn.org/stable/model_persistence.html#security-maintainability-limitations\n",
      "  warnings.warn(\n",
      "/mnt/c/Users/Sergi/Documents/BioTermCategorizer/.env_biotermcategorizer/lib/python3.10/site-packages/sklearn/base.py:347: InconsistentVersionWarning: Trying to unpickle estimator MultiOutputClassifier from version 1.2.2 when using version 1.3.0. This might lead to breaking code or invalid results. Use at your own risk. For more info please refer to:\n",
      "https://scikit-learn.org/stable/model_persistence.html#security-maintainability-limitations\n",
      "  warnings.warn(\n",
      "No sentence-transformers model found with name /mnt/c/Users/Sergi/Desktop/BSC/spanish_sapbert_models/sapbert_15_parents_1epoch. Creating a new one with MEAN pooling.\n"
     ]
    }
   ],
   "source": [
    "#extractor using KeyBERT as extraction method with the default PoS tag\n",
    "extractor4 = TermExtractor(extraction_methods=[\"keybert\"], pos=True)\n",
    "\n",
    "#extractor using KeyBERT as extraction method with a specified PoS tag\n",
    "extractor5 = TermExtractor(extraction_methods=[\"keybert\"], pos=True, pos_pattern=\"<NOUN.*>*<ADJ.*>*\")"
   ]
  },
  {
   "cell_type": "markdown",
   "id": "14bcf28d-417b-4167-9249-42a3fd02218d",
   "metadata": {},
   "source": [
    "The keywords extracted by each of these extractors are shown below:"
   ]
  },
  {
   "cell_type": "code",
   "execution_count": 6,
   "id": "e5766659-89e9-4ae8-b802-c47a9fbd85d7",
   "metadata": {},
   "outputs": [
    {
     "name": "stdout",
     "output_type": "stream",
     "text": [
      "Using extractor4:\n",
      " [<Keyword(text='gleason', span='[206, 212]', extraction method='keybert', score='0.4954', categorization method='setfit', class='['MORFOLOGIA_NEOPLASIA']')>, <Keyword(text='tac', span='[18, 20]', extraction method='keybert', score='0.48', categorization method='setfit', class='['PROCEDIMIENTO']')>, <Keyword(text='adenocarcinoma prostático', span='[180, 204]', extraction method='keybert', score='0.4602', categorization method='setfit', class='['ENFERMEDAD']')>, <Keyword(text='aumento de tamaño', span='[46, 62]', extraction method='keybert', score='0.4559', categorization method='setfit', class='['SINTOMA']')>, <Keyword(text='hiperostosis de cara', span='[109, 128]', extraction method='keybert', score='0.4522', categorization method='setfit', class='['ENFERMEDAD']')>] \n",
      "\n",
      "Using extractor5:\n",
      " [<Keyword(text='adenocarcinoma prostático', span='[180, 204]', extraction method='keybert', score='0.4602', categorization method='setfit', class='['ENFERMEDAD']')>, <Keyword(text='hiperostosis', span='[109, 120]', extraction method='keybert', score='0.446', categorization method='setfit', class='['ENFERMEDAD']')>, <Keyword(text='aumento', span='[46, 52]', extraction method='keybert', score='0.4346', categorization method='setfit', class='['SINTOMA']')>, <Keyword(text='tamaño', span='[57, 62]', extraction method='keybert', score='0.4277', categorization method='setfit', class='['NO_CATEGORY']')>, <Keyword(text='próstata transrrectal', span='[157, 177]', extraction method='keybert', score='0.3901', categorization method='setfit', class='['PROCEDIMIENTO']')>] \n",
      "\n"
     ]
    }
   ],
   "source": [
    "#extractor using KeyBERT as extraction method with the default PoS tag\n",
    "extractor4(text)\n",
    "print(\"Using extractor4:\\n\", extractor4.keywords, \"\\n\")\n",
    "\n",
    "#extractor using KeyBERT as extraction method with a specified PoS tag\n",
    "extractor5(text)\n",
    "print(\"Using extractor5:\\n\", extractor5.keywords, \"\\n\")"
   ]
  },
  {
   "cell_type": "markdown",
   "id": "0b83f3af-5166-4d29-ad37-5a830634c5c4",
   "metadata": {},
   "source": [
    "### Use of different categorizers\n",
    "The keyword multilabel classification included in `TermExtractor` has been implemented in both a supervised and unsupervised manner. The supervised classification is conducted with the SetFit classifier and the AutoModelForSequenceClassification, both from the SentenceTransformers library. The unsupervised categorization is conducted with a KMeans Clustering algorithm. \n",
    "#### Classification with SetFit\n",
    "The SetFit model of the Transformers library is selected by setting the parameter `categorization_method` to \"setfit\". The default model has been trained on a corpus with 22 classes, but another trained model can be specified in the parameter `categorizer_model_path`. The classification is performed in a multilabel manner, where each label is assigned a score between 0 and 1 during the prediction. The user can set a threshold for the labels to be considered using `thr_setift`(0.5 by default) and a maximum number of labels for each keyword using `n` (1 by default). Some examples are shown below:"
   ]
  },
  {
   "cell_type": "code",
   "execution_count": 7,
   "id": "268d619d-deaf-4281-8ce3-00004bb6645d",
   "metadata": {},
   "outputs": [
    {
     "name": "stderr",
     "output_type": "stream",
     "text": [
      "/mnt/c/Users/Sergi/Documents/BioTermCategorizer/.env_biotermcategorizer/lib/python3.10/site-packages/sklearn/base.py:347: InconsistentVersionWarning: Trying to unpickle estimator LogisticRegression from version 1.2.2 when using version 1.3.0. This might lead to breaking code or invalid results. Use at your own risk. For more info please refer to:\n",
      "https://scikit-learn.org/stable/model_persistence.html#security-maintainability-limitations\n",
      "  warnings.warn(\n",
      "/mnt/c/Users/Sergi/Documents/BioTermCategorizer/.env_biotermcategorizer/lib/python3.10/site-packages/sklearn/base.py:347: InconsistentVersionWarning: Trying to unpickle estimator MultiOutputClassifier from version 1.2.2 when using version 1.3.0. This might lead to breaking code or invalid results. Use at your own risk. For more info please refer to:\n",
      "https://scikit-learn.org/stable/model_persistence.html#security-maintainability-limitations\n",
      "  warnings.warn(\n"
     ]
    },
    {
     "name": "stdout",
     "output_type": "stream",
     "text": [
      "Using extractor6:\n",
      " [<Keyword(text='patrón permeativo', span='[89, 105]', extraction method='textrank', score='0.14330738384796365', categorization method='setfit', class='['SINTOMA']')>, <Keyword(text='hueso esfenoides', span='[68, 83]', extraction method='textrank', score='0.133069733141935', categorization method='setfit', class='['ENFERMEDAD']')>, <Keyword(text='cara', span='[125, 128]', extraction method='textrank', score='0.11500542137973947', categorization method='setfit', class='[]')>, <Keyword(text='hiperostosis', span='[109, 120]', extraction method='textrank', score='0.11224054915569068', categorization method='setfit', class='['ENFERMEDAD']')>, <Keyword(text='próstata transrrectal', span='[157, 177]', extraction method='textrank', score='0.1019655834216719', categorization method='setfit', class='['PROCEDIMIENTO']')>, <Keyword(text='tamaño', span='[57, 62]', extraction method='textrank', score='0.09254697360809935', categorization method='setfit', class='['NO_CATEGORY']')>, <Keyword(text='TAC orbitario', span='[18, 30]', extraction method='textrank', score='0.09000887138639452', categorization method='setfit', class='['PROCEDIMIENTO']')>, <Keyword(text='aumento', span='[46, 52]', extraction method='textrank', score='0.08692114268225452', categorization method='setfit', class='['SINTOMA']')>, <Keyword(text='Gleason 4', span='[206, 214]', extraction method='textrank', score='0.07057088300650986', categorization method='setfit', class='['MORFOLOGIA_NEOPLASIA']')>, <Keyword(text='ambos lóbulos', span='[246, 258]', extraction method='textrank', score='0.06895010182737314', categorization method='setfit', class='['ENFERMEDAD']')>, <Keyword(text='adenocarcinoma prostático', span='[180, 204]', extraction method='textrank', score='0.06348272869294272', categorization method='setfit', class='['ENFERMEDAD']')>, <Keyword(text='Biopsia', span='[146, 152]', extraction method='textrank', score='0.06317971624653136', categorization method='setfit', class='['PROCEDIMIENTO']')>]\n"
     ]
    }
   ],
   "source": [
    "#default settings and specifying a model path\n",
    "extractor6 = TermExtractor(categorization_method=\"setfit\", categorizer_model_path='/mnt/c/Users/Sergi/Desktop/BSC/modelos_entrenados/SetFit/noparents_sp')\n",
    "\n",
    "extractor6(text)\n",
    "print(\"Using extractor6:\\n\", extractor6.keywords)"
   ]
  },
  {
   "cell_type": "code",
   "execution_count": 12,
   "id": "f5aa2e81-581e-4089-9069-2af377d142b7",
   "metadata": {},
   "outputs": [
    {
     "name": "stderr",
     "output_type": "stream",
     "text": [
      "/mnt/c/Users/Sergi/Documents/BioTermCategorizer/.env_biotermcategorizer/lib/python3.10/site-packages/sklearn/base.py:347: InconsistentVersionWarning: Trying to unpickle estimator LogisticRegression from version 1.2.2 when using version 1.3.0. This might lead to breaking code or invalid results. Use at your own risk. For more info please refer to:\n",
      "https://scikit-learn.org/stable/model_persistence.html#security-maintainability-limitations\n",
      "  warnings.warn(\n",
      "/mnt/c/Users/Sergi/Documents/BioTermCategorizer/.env_biotermcategorizer/lib/python3.10/site-packages/sklearn/base.py:347: InconsistentVersionWarning: Trying to unpickle estimator MultiOutputClassifier from version 1.2.2 when using version 1.3.0. This might lead to breaking code or invalid results. Use at your own risk. For more info please refer to:\n",
      "https://scikit-learn.org/stable/model_persistence.html#security-maintainability-limitations\n",
      "  warnings.warn(\n"
     ]
    },
    {
     "name": "stdout",
     "output_type": "stream",
     "text": [
      "Using extractor7:\n",
      " [<Keyword(text='patrón permeativo', span='[89, 105]', extraction method='textrank', score='0.14330738384796365', categorization method='setfit', class='['SINTOMA']')>, <Keyword(text='hueso esfenoides', span='[68, 83]', extraction method='textrank', score='0.133069733141935', categorization method='setfit', class='['ENFERMEDAD']')>, <Keyword(text='cara', span='[125, 128]', extraction method='textrank', score='0.11500542137973947', categorization method='setfit', class='['SINTOMA']')>, <Keyword(text='hiperostosis', span='[109, 120]', extraction method='textrank', score='0.11224054915569068', categorization method='setfit', class='['ENFERMEDAD']')>, <Keyword(text='próstata transrrectal', span='[157, 177]', extraction method='textrank', score='0.1019655834216719', categorization method='setfit', class='['PROCEDIMIENTO']')>, <Keyword(text='tamaño', span='[57, 62]', extraction method='textrank', score='0.09254697360809935', categorization method='setfit', class='['NO_CATEGORY']')>, <Keyword(text='TAC orbitario', span='[18, 30]', extraction method='textrank', score='0.09000887138639452', categorization method='setfit', class='['PROCEDIMIENTO']')>, <Keyword(text='aumento', span='[46, 52]', extraction method='textrank', score='0.08692114268225452', categorization method='setfit', class='['SINTOMA']')>, <Keyword(text='Gleason 4', span='[206, 214]', extraction method='textrank', score='0.07057088300650986', categorization method='setfit', class='['MORFOLOGIA_NEOPLASIA', 'SINTOMA']')>, <Keyword(text='ambos lóbulos', span='[246, 258]', extraction method='textrank', score='0.06895010182737314', categorization method='setfit', class='['ENFERMEDAD', 'SINTOMA']')>, <Keyword(text='adenocarcinoma prostático', span='[180, 204]', extraction method='textrank', score='0.06348272869294272', categorization method='setfit', class='['ENFERMEDAD']')>, <Keyword(text='Biopsia', span='[146, 152]', extraction method='textrank', score='0.06317971624653136', categorization method='setfit', class='['PROCEDIMIENTO']')>]\n"
     ]
    }
   ],
   "source": [
    "#allowing a multilabel output (up to 3 labels over 0.1)\n",
    "extractor7 = TermExtractor(categorization_method=\"setfit\", thr_setfit=0.1, n=3)\n",
    "\n",
    "extractor7(text)\n",
    "print(\"Using extractor7:\\n\", extractor7.keywords)"
   ]
  },
  {
   "cell_type": "markdown",
   "id": "4a014f2b-5025-45ab-8a89-ce018bad202e",
   "metadata": {},
   "source": [
    "In this case, for example, \"Gleason 4\" is classified as both \"MORFOLOGIA_NEOPLASIA\" and \"SINTOMA\".\n",
    "#### Classification with AutoModelForSequenceClassification\n",
    "The AutoModelForSequenceClassification model of the Transformers library is selected by setting the parameter `categorization_method` to \"transformers\". The default model has been trained on the same corpus as the SetFit classifier, but another trained model can be specified in the parameter `categorizer_model_path`. The classification is performed in a multilabel manner, where each label is assigned a logit during the prediction. The user can set a threshold for the labels to be considered using `thr_transformers`(-1 by default) and a maximum number of labels for each keyword using `n` (1 by default). An example is shown below:"
   ]
  },
  {
   "cell_type": "code",
   "execution_count": 9,
   "id": "8aa0278e-d847-4620-b60f-783609a5295b",
   "metadata": {},
   "outputs": [
    {
     "name": "stdout",
     "output_type": "stream",
     "text": [
      "Using extractor8:\n",
      " [<Keyword(text='patrón permeativo', span='[89, 105]', extraction method='textrank', score='0.14330738384796365', categorization method='transformers', class='['SINTOMA']')>, <Keyword(text='hueso esfenoides', span='[68, 83]', extraction method='textrank', score='0.133069733141935', categorization method='transformers', class='['ENFERMEDAD', 'SINTOMA']')>, <Keyword(text='cara', span='[125, 128]', extraction method='textrank', score='0.11500542137973947', categorization method='transformers', class='['NO_CATEGORY']')>, <Keyword(text='hiperostosis', span='[109, 120]', extraction method='textrank', score='0.11224054915569068', categorization method='transformers', class='['ENFERMEDAD']')>, <Keyword(text='próstata transrrectal', span='[157, 177]', extraction method='textrank', score='0.1019655834216719', categorization method='transformers', class='['PROCEDIMIENTO', 'SINTOMA']')>, <Keyword(text='tamaño', span='[57, 62]', extraction method='textrank', score='0.09254697360809935', categorization method='transformers', class='['NO_CATEGORY']')>, <Keyword(text='TAC orbitario', span='[18, 30]', extraction method='textrank', score='0.09000887138639452', categorization method='transformers', class='['PROCEDIMIENTO']')>, <Keyword(text='aumento', span='[46, 52]', extraction method='textrank', score='0.08692114268225452', categorization method='transformers', class='['SINTOMA']')>, <Keyword(text='Gleason 4', span='[206, 214]', extraction method='textrank', score='0.07057088300650986', categorization method='transformers', class='['MORFOLOGIA_NEOPLASIA']')>, <Keyword(text='ambos lóbulos', span='[246, 258]', extraction method='textrank', score='0.06895010182737314', categorization method='transformers', class='['NO_CATEGORY', 'SINTOMA']')>, <Keyword(text='adenocarcinoma prostático', span='[180, 204]', extraction method='textrank', score='0.06348272869294272', categorization method='transformers', class='['ENFERMEDAD']')>, <Keyword(text='Biopsia', span='[146, 152]', extraction method='textrank', score='0.06317971624653136', categorization method='transformers', class='['PROCEDIMIENTO']')>]\n"
     ]
    }
   ],
   "source": [
    "#allowing a multilabel output (up to 2 labels over -2)\n",
    "extractor8 = TermExtractor(categorization_method=\"transformers\", thr_transformers=-2, n=2)\n",
    "\n",
    "extractor8(text)\n",
    "print(\"Using extractor8:\\n\", extractor8.keywords)"
   ]
  },
  {
   "cell_type": "markdown",
   "id": "6b1c9685-1ae7-4b06-8e4f-dd34102ca9e9",
   "metadata": {},
   "source": [
    "#### Clustering with KMeans\n",
    "The KMeans Clustering model of the Transformers library is selected by setting the parameter `categorization_method` to \"clustering\". The default pretrained model is obtained from \"cambridgeltl/SapBERT-from-PubMedBERT-fulltext\" and is later trained on the data that it is provided for prediction (generates the clusters directly from it). Another pretrained model can be specified in the parameter `clustering_model` and later trained on the given data. In both these cases the trained model is stored in a directory specified by the parameter `output_path`, which by default is \"./trained_model\". Additionally, any time a KMeans model is trained, up to  mentions of each cluster are printed to showcase the semantical meaning of each cluster.\n",
    "\n",
    "On the other hand, if the user has a completely trained model that they want to use it can be specified in the parameter `categorizer_model_path`, and no later training will be needed, so no example mentions of the clusters will be printed nor will the model be saved. \n",
    "\n",
    "The clustering only assigns one label to each mention, and the number of clusters to perform the clustering has to be specified in the variable `n_clusters`. Some examples are shown below:"
   ]
  },
  {
   "cell_type": "code",
   "execution_count": 10,
   "id": "be43ef84-edce-4b20-8e9a-8fd4994ad145",
   "metadata": {},
   "outputs": [
    {
     "name": "stderr",
     "output_type": "stream",
     "text": [
      "Asking to truncate to max_length but no maximum length is provided and the model has no predefined maximum length. Default to no truncation.\n"
     ]
    },
    {
     "name": "stdout",
     "output_type": "stream",
     "text": [
      "{'Class 0': ['patrón permeativo', 'hueso esfenoides', 'TAC orbitario', 'ambos lóbulos'], 'Class 1': ['Gleason 4'], 'Class 2': ['hiperostosis', 'próstata transrrectal', 'adenocarcinoma prostático'], 'Class 3': ['Biopsia'], 'Class 4': ['cara', 'tamaño', 'aumento']}\n",
      "Using extractor9:\n",
      " [<Keyword(text='patrón permeativo', span='[89, 105]', extraction method='textrank', score='0.14330738384796365', categorization method='clustering', class='0')>, <Keyword(text='hueso esfenoides', span='[68, 83]', extraction method='textrank', score='0.133069733141935', categorization method='clustering', class='0')>, <Keyword(text='cara', span='[125, 128]', extraction method='textrank', score='0.11500542137973947', categorization method='clustering', class='4')>, <Keyword(text='hiperostosis', span='[109, 120]', extraction method='textrank', score='0.11224054915569068', categorization method='clustering', class='2')>, <Keyword(text='próstata transrrectal', span='[157, 177]', extraction method='textrank', score='0.1019655834216719', categorization method='clustering', class='2')>, <Keyword(text='tamaño', span='[57, 62]', extraction method='textrank', score='0.09254697360809935', categorization method='clustering', class='4')>, <Keyword(text='TAC orbitario', span='[18, 30]', extraction method='textrank', score='0.09000887138639452', categorization method='clustering', class='0')>, <Keyword(text='aumento', span='[46, 52]', extraction method='textrank', score='0.08692114268225452', categorization method='clustering', class='4')>, <Keyword(text='Gleason 4', span='[206, 214]', extraction method='textrank', score='0.07057088300650986', categorization method='clustering', class='1')>, <Keyword(text='ambos lóbulos', span='[246, 258]', extraction method='textrank', score='0.06895010182737314', categorization method='clustering', class='0')>, <Keyword(text='adenocarcinoma prostático', span='[180, 204]', extraction method='textrank', score='0.06348272869294272', categorization method='clustering', class='2')>, <Keyword(text='Biopsia', span='[146, 152]', extraction method='textrank', score='0.06317971624653136', categorization method='clustering', class='3')>]\n"
     ]
    }
   ],
   "source": [
    "#default parameters (default model trained on the text) and 5 clusters\n",
    "extractor9 = TermExtractor(categorization_method=\"clustering\", n_clusters=5)\n",
    "\n",
    "extractor9(text)\n",
    "print(\"Using extractor9:\\n\", extractor9.keywords)"
   ]
  },
  {
   "cell_type": "code",
   "execution_count": 11,
   "id": "310d1fb4-24a4-418b-a206-980bd44f08e8",
   "metadata": {},
   "outputs": [
    {
     "name": "stdout",
     "output_type": "stream",
     "text": [
      "{'Class 0': ['hueso esfenoides', 'cara', 'TAC orbitario'], 'Class 1': ['patrón permeativo', 'próstata transrrectal', 'Gleason 4', 'adenocarcinoma prostático', 'Biopsia'], 'Class 2': ['hiperostosis', 'tamaño', 'aumento', 'ambos lóbulos']}\n",
      "Using extractor10:\n",
      " [<Keyword(text='patrón permeativo', span='[89, 105]', extraction method='textrank', score='0.14330738384796365', categorization method='clustering', class='1')>, <Keyword(text='hueso esfenoides', span='[68, 83]', extraction method='textrank', score='0.133069733141935', categorization method='clustering', class='0')>, <Keyword(text='cara', span='[125, 128]', extraction method='textrank', score='0.11500542137973947', categorization method='clustering', class='0')>, <Keyword(text='hiperostosis', span='[109, 120]', extraction method='textrank', score='0.11224054915569068', categorization method='clustering', class='2')>, <Keyword(text='próstata transrrectal', span='[157, 177]', extraction method='textrank', score='0.1019655834216719', categorization method='clustering', class='1')>, <Keyword(text='tamaño', span='[57, 62]', extraction method='textrank', score='0.09254697360809935', categorization method='clustering', class='2')>, <Keyword(text='TAC orbitario', span='[18, 30]', extraction method='textrank', score='0.09000887138639452', categorization method='clustering', class='0')>, <Keyword(text='aumento', span='[46, 52]', extraction method='textrank', score='0.08692114268225452', categorization method='clustering', class='2')>, <Keyword(text='Gleason 4', span='[206, 214]', extraction method='textrank', score='0.07057088300650986', categorization method='clustering', class='1')>, <Keyword(text='ambos lóbulos', span='[246, 258]', extraction method='textrank', score='0.06895010182737314', categorization method='clustering', class='2')>, <Keyword(text='adenocarcinoma prostático', span='[180, 204]', extraction method='textrank', score='0.06348272869294272', categorization method='clustering', class='1')>, <Keyword(text='Biopsia', span='[146, 152]', extraction method='textrank', score='0.06317971624653136', categorization method='clustering', class='1')>]\n"
     ]
    }
   ],
   "source": [
    "#specified pretrained model trained on the text and 3 clusters\n",
    "extractor10 = TermExtractor(categorization_method=\"clustering\", clustering_model=\"/mnt/c/Users/Sergi/Desktop/BSC/spanish_sapbert_models/sapbert_15_noparents_1epoch\", n_clusters=3)\n",
    "\n",
    "extractor10(text)\n",
    "print(\"Using extractor10:\\n\", extractor10.keywords)"
   ]
  },
  {
   "cell_type": "code",
   "execution_count": 12,
   "id": "dda96bf7-5f03-4049-a14d-332cc0c5d982",
   "metadata": {},
   "outputs": [
    {
     "name": "stderr",
     "output_type": "stream",
     "text": [
      "Asking to truncate to max_length but no maximum length is provided and the model has no predefined maximum length. Default to no truncation.\n"
     ]
    },
    {
     "name": "stdout",
     "output_type": "stream",
     "text": [
      "Using extractor11:\n",
      " [<Keyword(text='patrón permeativo', span='[89, 105]', extraction method='textrank', score='0.14330738384796365', categorization method='clustering', class='1')>, <Keyword(text='hueso esfenoides', span='[68, 83]', extraction method='textrank', score='0.133069733141935', categorization method='clustering', class='1')>, <Keyword(text='cara', span='[125, 128]', extraction method='textrank', score='0.11500542137973947', categorization method='clustering', class='1')>, <Keyword(text='hiperostosis', span='[109, 120]', extraction method='textrank', score='0.11224054915569068', categorization method='clustering', class='1')>, <Keyword(text='próstata transrrectal', span='[157, 177]', extraction method='textrank', score='0.1019655834216719', categorization method='clustering', class='2')>, <Keyword(text='tamaño', span='[57, 62]', extraction method='textrank', score='0.09254697360809935', categorization method='clustering', class='1')>, <Keyword(text='TAC orbitario', span='[18, 30]', extraction method='textrank', score='0.09000887138639452', categorization method='clustering', class='1')>, <Keyword(text='aumento', span='[46, 52]', extraction method='textrank', score='0.08692114268225452', categorization method='clustering', class='1')>, <Keyword(text='Gleason 4', span='[206, 214]', extraction method='textrank', score='0.07057088300650986', categorization method='clustering', class='1')>, <Keyword(text='ambos lóbulos', span='[246, 258]', extraction method='textrank', score='0.06895010182737314', categorization method='clustering', class='2')>, <Keyword(text='adenocarcinoma prostático', span='[180, 204]', extraction method='textrank', score='0.06348272869294272', categorization method='clustering', class='1')>, <Keyword(text='Biopsia', span='[146, 152]', extraction method='textrank', score='0.06317971624653136', categorization method='clustering', class='1')>]\n"
     ]
    }
   ],
   "source": [
    "#already trained model (trained in extractor10) and 3 clusters\n",
    "extractor11 = TermExtractor(categorization_method=\"clustering\", categorizer_model_path=\"./trained_model\", n_clusters=3)\n",
    "\n",
    "extractor11(text)\n",
    "print(\"Using extractor11:\\n\", extractor11.keywords)"
   ]
  },
  {
   "cell_type": "markdown",
   "id": "b157df2a-cba4-480a-a2f7-9babf6d83e1b",
   "metadata": {},
   "source": [
    "Extractors 10 and 11 yield exactly the same results, since both of them us exactly the same model. Whereas extractor10 trains the model and stores it a local directory, extractor11 retrieves it and predicts the clusters with it.\n",
    "#### Training the categorizers\n",
    "Up until now, the shown categorizers (both the classifiers and the clustering model) have used pretrained models. However, there is also the option to train these categorizers with the user's own data to achieve a more personalized result.\n",
    "\n",
    "For that purpose, some sample data is first imported:"
   ]
  },
  {
   "cell_type": "code",
   "execution_count": 6,
   "id": "b0244558-43d5-4057-a65b-b7c9222dff7a",
   "metadata": {},
   "outputs": [],
   "source": [
    "import pandas as pd\n",
    "\n",
    "file_path = '/mnt/c/Users/Sergi/Desktop/BSC/traindata_classification.tsv'\n",
    "traindata = pd.read_csv(file_path, sep='\\t')\n",
    "traindata = traindata.sample(frac=1, random_state=42)\n",
    "traindata_head = traindata.head(50)\n",
    "traindata_head = traindata_head[traindata_head[\"label\"].isin([\"SINTOMA\",\"ENFERMEDAD\",\"PROCEDIMIENTO\"])]\n",
    "\n",
    "file_path = '/mnt/c/Users/Sergi/Desktop/BSC/testdata_classification.tsv'\n",
    "testdata = pd.read_csv(file_path, sep='\\t')\n",
    "testdata = testdata.sample(frac=1, random_state=42)\n",
    "testdata_head = testdata.head(20)\n",
    "testdata_head = testdata_head[testdata_head[\"label\"].isin([\"SINTOMA\",\"ENFERMEDAD\",\"PROCEDIMIENTO\"])]\n",
    "\n",
    "trainX = traindata_head[\"text\"].values.tolist()\n",
    "trainY = traindata_head[\"label\"].values.tolist()\n",
    "testX = testdata_head[\"text\"].values.tolist()\n",
    "testY = testdata_head[\"label\"].values.tolist()"
   ]
  },
  {
   "cell_type": "markdown",
   "id": "21850143-b390-4592-9c71-562502db7970",
   "metadata": {},
   "source": [
    "##### Training the Classifiers\n",
    "Both SetFit and the AutoModelForSequenceClassification can be trained using the same commands. To do so, after the initialisation of the `TermExtractor` class object the `train_classifier` function can be called through dot indexing, which performs the training and evaluation of the model on the given data. This function accepts the following parameters:\n",
    "- `trainX` (list): List of training data (mentions).\n",
    "- `trainY` (list): List of training labels.\n",
    "- `testX` (list): List of test data (mentions).\n",
    "- `testY` (list): List of test labels.\n",
    "- `mcm` (bool): Whether to create a multi-label confusion matrix heatmap. Default value: `False`.\n",
    "- `classification_report` (bool): Whether to display a classification report. Default value: `False`.\n",
    "- `kwargs`: Additional keyword arguments.\n",
    "\n",
    "Of which `trainX`, `trainY`, `testX` and `testY` must be provided. In the case of training a classifier, the trained model will be saved to \"./trained_model\" unless otherwise specified in the paramter `output_path`.\n",
    "\n",
    "Some examples are shown below:"
   ]
  },
  {
   "cell_type": "code",
   "execution_count": 7,
   "id": "f761e1eb-a39a-4f57-baf2-f4295f1087ab",
   "metadata": {},
   "outputs": [
    {
     "name": "stderr",
     "output_type": "stream",
     "text": [
      "Some weights of RobertaForSequenceClassification were not initialized from the model checkpoint at /mnt/c/Users/Sergi/Desktop/BSC/spanish_sapbert_models/sapbert_15_noparents_1epoch and are newly initialized: ['classifier.dense.weight', 'classifier.out_proj.weight', 'classifier.dense.bias', 'classifier.out_proj.bias']\n",
      "You should probably TRAIN this model on a down-stream task to be able to use it for predictions and inference.\n"
     ]
    },
    {
     "data": {
      "text/html": [
       "\n",
       "    <div>\n",
       "      \n",
       "      <progress value='3' max='3' style='width:300px; height:20px; vertical-align: middle;'></progress>\n",
       "      [3/3 00:09, Epoch 3/3]\n",
       "    </div>\n",
       "    <table border=\"1\" class=\"dataframe\">\n",
       "  <thead>\n",
       " <tr style=\"text-align: left;\">\n",
       "      <th>Step</th>\n",
       "      <th>Training Loss</th>\n",
       "      <th>Validation Loss</th>\n",
       "    </tr>\n",
       "  </thead>\n",
       "  <tbody>\n",
       "  </tbody>\n",
       "</table><p>"
      ],
      "text/plain": [
       "<IPython.core.display.HTML object>"
      ]
     },
     "metadata": {},
     "output_type": "display_data"
    },
    {
     "data": {
      "text/html": [],
      "text/plain": [
       "<IPython.core.display.HTML object>"
      ]
     },
     "metadata": {},
     "output_type": "display_data"
    },
    {
     "name": "stderr",
     "output_type": "stream",
     "text": [
      "Provided path (./trained_model) should be a directory, not a file\n"
     ]
    },
    {
     "name": "stdout",
     "output_type": "stream",
     "text": [
      "{'f1': 0.3076923076923077, 'accuracy': 0.3076923076923077, 'Classes with no given label': {}}\n",
      "None\n",
      "Using extractor12:\n",
      " [<Keyword(text='patrón permeativo', span='[89, 105]', extraction method='textrank', score='0.14330738384796365', categorization method='transformers', class='['SINTOMA']')>, <Keyword(text='hueso esfenoides', span='[68, 83]', extraction method='textrank', score='0.133069733141935', categorization method='transformers', class='['ENFERMEDAD']')>, <Keyword(text='cara', span='[125, 128]', extraction method='textrank', score='0.11500542137973947', categorization method='transformers', class='['ENFERMEDAD']')>, <Keyword(text='hiperostosis', span='[109, 120]', extraction method='textrank', score='0.11224054915569068', categorization method='transformers', class='['ENFERMEDAD']')>, <Keyword(text='próstata transrrectal', span='[157, 177]', extraction method='textrank', score='0.1019655834216719', categorization method='transformers', class='['SINTOMA']')>, <Keyword(text='tamaño', span='[57, 62]', extraction method='textrank', score='0.09254697360809935', categorization method='transformers', class='['SINTOMA']')>, <Keyword(text='TAC orbitario', span='[18, 30]', extraction method='textrank', score='0.09000887138639452', categorization method='transformers', class='['ENFERMEDAD']')>, <Keyword(text='aumento', span='[46, 52]', extraction method='textrank', score='0.08692114268225452', categorization method='transformers', class='['SINTOMA']')>, <Keyword(text='Gleason 4', span='[206, 214]', extraction method='textrank', score='0.07057088300650986', categorization method='transformers', class='['PROCEDIMIENTO']')>, <Keyword(text='ambos lóbulos', span='[246, 258]', extraction method='textrank', score='0.06895010182737314', categorization method='transformers', class='['ENFERMEDAD']')>, <Keyword(text='adenocarcinoma prostático', span='[180, 204]', extraction method='textrank', score='0.06348272869294272', categorization method='transformers', class='['SINTOMA']')>, <Keyword(text='Biopsia', span='[146, 152]', extraction method='textrank', score='0.06317971624653136', categorization method='transformers', class='['PROCEDIMIENTO']')>]\n"
     ]
    }
   ],
   "source": [
    "#training transformers classifier with default parameters and no mcm or classification_report\n",
    "extractor12 = TermExtractor(extraction_methods=[\"textrank\"],categorization_method=\"transformers\")\n",
    "extractor12.train_classifier(trainX,trainY,testX,testY)\n",
    "extractor12(text)\n",
    "print(\"Using extractor12:\\n\", extractor12.keywords)"
   ]
  },
  {
   "cell_type": "code",
   "execution_count": 9,
   "id": "e9738202-43c5-4f16-9fee-2cf0ec5d5da7",
   "metadata": {},
   "outputs": [
    {
     "name": "stderr",
     "output_type": "stream",
     "text": [
      "/mnt/c/Users/Sergi/Documents/BioTermCategorizer/.env_biotermcategorizer/lib/python3.10/site-packages/sklearn/base.py:347: InconsistentVersionWarning: Trying to unpickle estimator LogisticRegression from version 1.2.2 when using version 1.3.0. This might lead to breaking code or invalid results. Use at your own risk. For more info please refer to:\n",
      "https://scikit-learn.org/stable/model_persistence.html#security-maintainability-limitations\n",
      "  warnings.warn(\n",
      "/mnt/c/Users/Sergi/Documents/BioTermCategorizer/.env_biotermcategorizer/lib/python3.10/site-packages/sklearn/base.py:347: InconsistentVersionWarning: Trying to unpickle estimator MultiOutputClassifier from version 1.2.2 when using version 1.3.0. This might lead to breaking code or invalid results. Use at your own risk. For more info please refer to:\n",
      "https://scikit-learn.org/stable/model_persistence.html#security-maintainability-limitations\n",
      "  warnings.warn(\n",
      "No sentence-transformers model found with name /mnt/c/Users/Sergi/Desktop/BSC/spanish_sapbert_models/sapbert_15_noparents_1epoch. Creating a new one with MEAN pooling.\n",
      "model_head.pkl not found in /mnt/c/Users/Sergi/Desktop/BSC/spanish_sapbert_models/sapbert_15_noparents_1epoch, initialising classification head with random weights. You should TRAIN this model on a downstream task to use it for predictions and inference.\n",
      "Generating Training Pairs: 100%|█████████████████████████████████████████████████████████| 5/5 [00:00<00:00, 351.78it/s]\n",
      "***** Running training *****\n",
      "  Num examples = 190\n",
      "  Num epochs = 1\n",
      "  Total optimization steps = 12\n",
      "  Total train batch size = 16\n",
      "Epoch:   0%|                                                                                      | 0/1 [00:00<?, ?it/s]\n",
      "Iteration:   0%|                                                                                 | 0/12 [00:00<?, ?it/s]\u001b[A\n",
      "Iteration:   8%|██████                                                                   | 1/12 [00:03<00:37,  3.43s/it]\u001b[A\n",
      "Iteration:  17%|████████████▏                                                            | 2/12 [00:08<00:44,  4.41s/it]\u001b[A\n",
      "Iteration:  25%|██████████████████▎                                                      | 3/12 [00:12<00:38,  4.25s/it]\u001b[A\n",
      "Iteration:  33%|████████████████████████▎                                                | 4/12 [00:17<00:34,  4.29s/it]\u001b[A\n",
      "Iteration:  42%|██████████████████████████████▍                                          | 5/12 [00:22<00:31,  4.57s/it]\u001b[A\n",
      "Iteration:  50%|████████████████████████████████████▌                                    | 6/12 [00:26<00:26,  4.39s/it]\u001b[A\n",
      "Iteration:  58%|██████████████████████████████████████████▌                              | 7/12 [00:30<00:21,  4.31s/it]\u001b[A\n",
      "Iteration:  67%|████████████████████████████████████████████████▋                        | 8/12 [00:33<00:16,  4.22s/it]\u001b[A\n",
      "Iteration:  75%|██████████████████████████████████████████████████████▊                  | 9/12 [00:37<00:12,  4.14s/it]\u001b[A\n",
      "Iteration:  83%|████████████████████████████████████████████████████████████            | 10/12 [00:41<00:08,  4.16s/it]\u001b[A\n",
      "Iteration:  92%|██████████████████████████████████████████████████████████████████      | 11/12 [00:45<00:04,  4.06s/it]\u001b[A\n",
      "Iteration: 100%|████████████████████████████████████████████████████████████████████████| 12/12 [00:48<00:00,  4.07s/it]\u001b[A\n",
      "Epoch: 100%|██████████████████████████████████████████████████████████████████████████████| 1/1 [00:48<00:00, 48.89s/it]\n",
      "***** Running evaluation *****\n",
      "/mnt/c/Users/Sergi/Documents/BioTermCategorizer/.env_biotermcategorizer/lib/python3.10/site-packages/sklearn/metrics/_classification.py:1469: UndefinedMetricWarning: Precision and F-score are ill-defined and being set to 0.0 in samples with no predicted labels. Use `zero_division` parameter to control this behavior.\n",
      "  _warn_prf(average, modifier, msg_start, len(result))\n"
     ]
    },
    {
     "name": "stdout",
     "output_type": "stream",
     "text": [
      "               precision    recall  f1-score   support\n",
      "\n",
      "   ENFERMEDAD       0.50      0.33      0.40         3\n",
      "PROCEDIMIENTO       1.00      0.75      0.86         4\n",
      "      SINTOMA       1.00      0.33      0.50         6\n",
      "\n",
      "    micro avg       0.86      0.46      0.60        13\n",
      "    macro avg       0.83      0.47      0.59        13\n",
      " weighted avg       0.88      0.46      0.59        13\n",
      "  samples avg       0.46      0.46      0.46        13\n",
      "\n"
     ]
    },
    {
     "data": {
      "image/png": "[encoded data removed]",
      "text/plain": [
       "<Figure size 1000x700 with 2 Axes>"
      ]
     },
     "metadata": {},
     "output_type": "display_data"
    },
    {
     "name": "stdout",
     "output_type": "stream",
     "text": [
      "{'f1': 0.6, 'accuracy': 0.46153846153846156, 'Classes with no given label': {'ENFERMEDAD': 2, 'PROCEDIMIENTO': 1, 'SINTOMA': 3}}\n",
      "Using extractor12:\n",
      " [<Keyword(text='patrón permeativo', span='[89, 105]', extraction method='textrank', score='0.14330738384796365', categorization method='setfit', class='[]')>, <Keyword(text='hueso esfenoides', span='[68, 83]', extraction method='textrank', score='0.133069733141935', categorization method='setfit', class='[]')>, <Keyword(text='cara', span='[125, 128]', extraction method='textrank', score='0.11500542137973947', categorization method='setfit', class='[]')>, <Keyword(text='hiperostosis', span='[109, 120]', extraction method='textrank', score='0.11224054915569068', categorization method='setfit', class='['ENFERMEDAD']')>, <Keyword(text='próstata transrrectal', span='[157, 177]', extraction method='textrank', score='0.1019655834216719', categorization method='setfit', class='[]')>, <Keyword(text='tamaño', span='[57, 62]', extraction method='textrank', score='0.09254697360809935', categorization method='setfit', class='['PROCEDIMIENTO']')>, <Keyword(text='TAC orbitario', span='[18, 30]', extraction method='textrank', score='0.09000887138639452', categorization method='setfit', class='['PROCEDIMIENTO']')>, <Keyword(text='aumento', span='[46, 52]', extraction method='textrank', score='0.08692114268225452', categorization method='setfit', class='[]')>, <Keyword(text='Gleason 4', span='[206, 214]', extraction method='textrank', score='0.07057088300650986', categorization method='setfit', class='[]')>, <Keyword(text='ambos lóbulos', span='[246, 258]', extraction method='textrank', score='0.06895010182737314', categorization method='setfit', class='[]')>, <Keyword(text='adenocarcinoma prostático', span='[180, 204]', extraction method='textrank', score='0.06348272869294272', categorization method='setfit', class='['ENFERMEDAD']')>, <Keyword(text='Biopsia', span='[146, 152]', extraction method='textrank', score='0.06317971624653136', categorization method='setfit', class='['PROCEDIMIENTO']')>]\n"
     ]
    }
   ],
   "source": [
    "#training setfit classifier printing mcm and classification_report during evaluation\n",
    "extractor13 = TermExtractor(extraction_methods=[\"textrank\"],categorization_method=\"setfit\")\n",
    "extractor13.train_classifier(trainX,trainY,testX,testY, mcm=True, classification_report=True)\n",
    "extractor13(text)\n",
    "print(\"Using extractor12:\\n\", extractor13.keywords)"
   ]
  },
  {
   "cell_type": "markdown",
   "id": "7370f06d-5eae-4a05-8817-21b45a1e46f7",
   "metadata": {},
   "source": [
    "##### Training the Clustering model\n",
    "As explained before, the clustering model is automatically trained with the data intended for prediction. However, the clustering model can also be trained with another set of data by calling the `train_clustering` function, which can be accessed by dot indexing after the initialization of the `TermExtractor` object. This function accepts the following parameters:\n",
    "- `trainX` (list): List of training data (mentions).\n",
    "- `kwargs`: Additional keyword arguments.\n",
    "\n",
    "Of which `trainX` must always be provided. In this case the trained model will also be saved to \"./trained_model\" (or the specified `output_path`) and up to 5 mentions of each clusters will be printed as examples.\n",
    "\n",
    "An example is shown below:"
   ]
  },
  {
   "cell_type": "code",
   "execution_count": 11,
   "id": "604ac0a5-b4bf-4313-afdc-75a6a480402c",
   "metadata": {},
   "outputs": [
    {
     "name": "stderr",
     "output_type": "stream",
     "text": [
      "Asking to truncate to max_length but no maximum length is provided and the model has no predefined maximum length. Default to no truncation.\n"
     ]
    },
    {
     "name": "stdout",
     "output_type": "stream",
     "text": [
      "{'Class 0': ['retinotoxicidad por vigabatrina', 'MAVD', 'sangrado', 'inestabilidad a la marcha', 'herida inguinal'], 'Class 1': ['exploración física', 'biopsia de médula ósea', 'lipoma paratesticular, se practicó una excisión inguinal izquierda'], 'Class 2': ['metástasis ganglionares retroperitoneales', 'ferritina y saturación de transferan normales', 'ganglios linfáticos, siendo los 25 negativos para células tumorales', 'poliartrosis', 'teste derecho de características normales'], 'Class 3': ['RM craneal', 'Doppler de arterias renales y el ecocardiograma no mostraron alteraciones', 'miopización e hipertensión ocular por cierre angular agudo secundarios al tratamiento con topiramato']}\n",
      "Using extractor14:\n",
      " [<Keyword(text='patrón permeativo', span='[89, 105]', extraction method='textrank', score='0.14330738384796365', categorization method='clustering', class='2')>, <Keyword(text='hueso esfenoides', span='[68, 83]', extraction method='textrank', score='0.133069733141935', categorization method='clustering', class='2')>, <Keyword(text='cara', span='[125, 128]', extraction method='textrank', score='0.11500542137973947', categorization method='clustering', class='0')>, <Keyword(text='hiperostosis', span='[109, 120]', extraction method='textrank', score='0.11224054915569068', categorization method='clustering', class='2')>, <Keyword(text='próstata transrrectal', span='[157, 177]', extraction method='textrank', score='0.1019655834216719', categorization method='clustering', class='2')>, <Keyword(text='tamaño', span='[57, 62]', extraction method='textrank', score='0.09254697360809935', categorization method='clustering', class='0')>, <Keyword(text='TAC orbitario', span='[18, 30]', extraction method='textrank', score='0.09000887138639452', categorization method='clustering', class='2')>, <Keyword(text='aumento', span='[46, 52]', extraction method='textrank', score='0.08692114268225452', categorization method='clustering', class='0')>, <Keyword(text='Gleason 4', span='[206, 214]', extraction method='textrank', score='0.07057088300650986', categorization method='clustering', class='2')>, <Keyword(text='ambos lóbulos', span='[246, 258]', extraction method='textrank', score='0.06895010182737314', categorization method='clustering', class='2')>, <Keyword(text='adenocarcinoma prostático', span='[180, 204]', extraction method='textrank', score='0.06348272869294272', categorization method='clustering', class='2')>, <Keyword(text='Biopsia', span='[146, 152]', extraction method='textrank', score='0.06317971624653136', categorization method='clustering', class='2')>]\n"
     ]
    }
   ],
   "source": [
    "#training clustering with default parameters and 4 clusters\n",
    "extractor14 = TermExtractor(extraction_methods=[\"textrank\"], categorization_method=\"clustering\", n_clusters=4)\n",
    "extractor14.train_clustering(trainX)\n",
    "extractor14(text)\n",
    "print(\"Using extractor14:\\n\", extractor14.keywords)"
   ]
  },
  {
   "cell_type": "markdown",
   "id": "050696bb-fc1f-4a0a-b184-e5e500efe48a",
   "metadata": {},
   "source": [
    "# REVISAR: ES UN TEXTO CON EL QUE LOS RESULTADOS SALEN MUY BIEN"
   ]
  },
  {
   "cell_type": "code",
   "execution_count": 24,
   "id": "5c541ded-8ab8-4c7b-af2d-47fd7e2ed86c",
   "metadata": {},
   "outputs": [
    {
     "name": "stderr",
     "output_type": "stream",
     "text": [
      "No sentence-transformers model found with name /mnt/c/Users/Sergi/Desktop/BSC/spanish_sapbert_models/sapbert_15_parents_1epoch. Creating a new one with MEAN pooling.\n",
      "/mnt/c/Users/Sergi/Documents/BioTermCategorizer/.env_biotermcategorizer/lib/python3.10/site-packages/sklearn/base.py:347: InconsistentVersionWarning: Trying to unpickle estimator LogisticRegression from version 1.2.2 when using version 1.3.0. This might lead to breaking code or invalid results. Use at your own risk. For more info please refer to:\n",
      "https://scikit-learn.org/stable/model_persistence.html#security-maintainability-limitations\n",
      "  warnings.warn(\n",
      "/mnt/c/Users/Sergi/Documents/BioTermCategorizer/.env_biotermcategorizer/lib/python3.10/site-packages/sklearn/base.py:347: InconsistentVersionWarning: Trying to unpickle estimator MultiOutputClassifier from version 1.2.2 when using version 1.3.0. This might lead to breaking code or invalid results. Use at your own risk. For more info please refer to:\n",
      "https://scikit-learn.org/stable/model_persistence.html#security-maintainability-limitations\n",
      "  warnings.warn(\n"
     ]
    }
   ],
   "source": [
    "extractor4 = TermExtractor(extraction_methods=[\"keybert\",\"textrank\"], join=True, pos=True, max_tokens=4)"
   ]
  },
  {
   "cell_type": "code",
   "execution_count": 25,
   "id": "2e2da10f-af88-4ef3-927f-5dbfd7365658",
   "metadata": {},
   "outputs": [
    {
     "name": "stdout",
     "output_type": "stream",
     "text": [
      "[<Keyword(text='iv/4 semanas', span='[208, 220]', extraction method='textrank', score='0.17250204821754367', categorization method='setfit', class='['PROCEDIMIENTO']')>, <Keyword(text='Gleason 4', span='[126, 135]', extraction method='textrank', score='0.07649540044329659', categorization method='setfit', class='['MORFOLOGIA_NEOPLASIA']')>, <Keyword(text='biopsia', span='[76, 83]', extraction method='textrank', score='0.06720187190233769', categorization method='setfit', class='['PROCEDIMIENTO']')>, <Keyword(text='Servicio de Urgencias', span='[9, 30]', extraction method='textrank', score='0.05751819773048713', categorization method='setfit', class='['DEPARTAMENTO']')>, <Keyword(text='Ácido Zoledrónico 4', span='[185, 204]', extraction method='textrank', score='0.05751819773048713', categorization method='setfit', class='['FARMACO']')>, <Keyword(text='Mediante', span='[67, 75]', extraction method='textrank', score='0.0', categorization method='setfit', class='['NO_CATEGORY']')>, <Keyword(text='cefalea frontoparietal derecha', span='[35, 65]', extraction method='keybert', score='0.5928', categorization method='setfit', class='['SINTOMA']')>, <Keyword(text='metástasis óseas múltiples', span='[144, 170]', extraction method='keybert', score='0.532', categorization method='setfit', class='['ENFERMEDAD']')>, <Keyword(text='adenocarcinoma de próstata', span='[99, 125]', extraction method='keybert', score='0.5172', categorization method='setfit', class='['ENFERMEDAD']')>]\n"
     ]
    }
   ],
   "source": [
    "text = \"\"\"Acude al Servicio de Urgencias por cefalea frontoparietal derecha.\n",
    "Mediante biopsia se diagnostica adenocarcinoma de próstata Gleason 4+4=8 con metástasis óseas múltiples.\n",
    "Se trata con Ácido Zoledrónico 4 mg iv/4 semanas.\n",
    "\"\"\"\n",
    "\n",
    "extractor4(text)\n",
    "print(extractor4.keywords)"
   ]
  },
  {
   "cell_type": "code",
   "execution_count": 35,
   "id": "b0705054-78a8-4927-ae25-dfc5f6c9be0f",
   "metadata": {},
   "outputs": [
    {
     "name": "stderr",
     "output_type": "stream",
     "text": [
      "/mnt/c/Users/Sergi/Documents/BioTermCategorizer/.env_biotermcategorizer/lib/python3.10/site-packages/sklearn/base.py:347: InconsistentVersionWarning: Trying to unpickle estimator LogisticRegression from version 1.2.2 when using version 1.3.0. This might lead to breaking code or invalid results. Use at your own risk. For more info please refer to:\n",
      "https://scikit-learn.org/stable/model_persistence.html#security-maintainability-limitations\n",
      "  warnings.warn(\n",
      "/mnt/c/Users/Sergi/Documents/BioTermCategorizer/.env_biotermcategorizer/lib/python3.10/site-packages/sklearn/base.py:347: InconsistentVersionWarning: Trying to unpickle estimator MultiOutputClassifier from version 1.2.2 when using version 1.3.0. This might lead to breaking code or invalid results. Use at your own risk. For more info please refer to:\n",
      "https://scikit-learn.org/stable/model_persistence.html#security-maintainability-limitations\n",
      "  warnings.warn(\n"
     ]
    }
   ],
   "source": [
    "extractor4 = TermExtractor(extraction_methods=[\"textrank\",\"rake\"], join=True, max_tokens=3)"
   ]
  },
  {
   "cell_type": "code",
   "execution_count": 36,
   "id": "203f56ca-c4f6-4c29-acfe-3a01a2e0b125",
   "metadata": {},
   "outputs": [
    {
     "name": "stdout",
     "output_type": "stream",
     "text": [
      "<Keyword(text='riñón tras sufrir', span='[114, 131]', extraction method='rake', score='9.0', categorization method='setfit', class='['ENFERMEDAD']')>\n",
      "<Keyword(text='denominado adenoma sebáceo', span='[223, 249]', extraction method='rake', score='9.0', categorization method='setfit', class='['ENFERMEDAD']')>\n",
      "<Keyword(text='lesiones fibróticas', span='[325, 344]', extraction method='rake', score='4.0', categorization method='setfit', class='['ENFERMEDAD']')>\n",
      "<Keyword(text='hamartomas retinianos', span='[282, 303]', extraction method='rake', score='4.0', categorization method='setfit', class='['ENFERMEDAD']')>\n",
      "<Keyword(text='angiomiolipoma renal', span='[155, 175]', extraction method='textrank', score='0.08534231556497231', categorization method='setfit', class='['ENFERMEDAD']')>\n",
      "<Keyword(text='esclerosis tuberosa', span='[53, 72]', extraction method='textrank', score='0.054441557760609355', categorization method='setfit', class='['ENFERMEDAD']')>\n",
      "<Keyword(text='enfermedad', span='[209, 219]', extraction method='textrank', score='0.02834956836746995', categorization method='setfit', class='['ENFERMEDAD']')>\n"
     ]
    }
   ],
   "source": [
    "text2 = \"\"\"Entre sus antecedentes médicos destacaba padecer una esclerosis tuberosa y haber sido sometido a un trasplante de riñón tras sufrir una nefrectomía por un angiomiolipoma renal. \n",
    "Presentaba como síntomas de la enfermedad el denominado adenoma sebáceo de Pringle a nivel nasogeniano, hamartomas retinianos en el fondo de ojo y lesiones fibróticas a nivel cervical posterior.\n",
    "\"\"\"\n",
    "\n",
    "extractor4(text2)\n",
    "for k in extractor4.keywords:\n",
    "    if \"ENFERMEDAD\" in k.label:\n",
    "        print(k)"
   ]
  }
 ],
 "metadata": {
  "kernelspec": {
   "display_name": "Python 3 (ipykernel)",
   "language": "python",
   "name": "python3"
  },
  "language_info": {
   "codemirror_mode": {
    "name": "ipython",
    "version": 3
   },
   "file_extension": ".py",
   "mimetype": "text/x-python",
   "name": "python",
   "nbconvert_exporter": "python",
   "pygments_lexer": "ipython3",
   "version": "3.10.12"
  }
 },
 "nbformat": 4,
 "nbformat_minor": 5
}
